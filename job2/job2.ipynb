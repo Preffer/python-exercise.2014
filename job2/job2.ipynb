{
 "metadata": {
  "name": ""
 },
 "nbformat": 3,
 "nbformat_minor": 0,
 "worksheets": [
  {
   "cells": [
    {
     "cell_type": "code",
     "collapsed": false,
     "input": [
      "#!/usr/bin/python3\n",
      "\n",
      "# -*- Mode: Python; coding: utf-8; indent-tabs-mode: t; c-basic-offset: 4; tab-width: 4 -*- \n",
      "#\n",
      "# main.py\n",
      "# Copyleft 2014 Yuzo(PillowSky) <Yuzo@pillowsky.org>\n",
      "# Compatible with python3 and pypy\n",
      "#\n",
      "# require PyQuery which depend on cssselect, so I pack it in the project to ensure running normally on other computers\n",
      "\n",
      "from pyquery import PyQuery as pyq\n",
      "import sqlite3\n",
      "\n",
      "class Spider(object):\n",
      "\n",
      "\tdef __init__(self, arg = ''):\n",
      "\t\tsuper(Spider, self).__init__()\n",
      "\t\t# data member initialize\n",
      "\t\tself.arg = arg\n",
      "\t\tself.baseUrl = 'http://acm.zju.edu.cn'\n",
      "\t\tself.indexPath = '/onlinejudge/showProblemsets.do'\n",
      "\t\tself.voluemPath = '/onlinejudge/showProblems.do?contestId=1&pageNumber='\n",
      "\t\tself.problemPath = '/onlinejudge/showProblem.do?problemCode='\n",
      "\n",
      "\t\t#connect to db and checks\n",
      "\t\tself.db = sqlite3.connect(\"data.db\", isolation_level = None)\n",
      "\t\tself.query = self.db.cursor()\n",
      "\t\t# use sqlite's FTS(Full Text Search) table to store the data and perform quick search\n",
      "\t\tself.query.execute(\"CREATE VIRTUAL TABLE IF NOT EXISTS problems USING fts4(id, title, body)\")\n",
      "\n",
      "\tdef getVolumeCount(self):\n",
      "\t\t# d here have the same meaning to $ in jQuery\n",
      "\t\td = pyq(url = self.baseUrl + self.indexPath)\n",
      "\t\tself.voluemCount = d('#content_body > form:nth-child(1) > a').length\n",
      "\t\treturn self.voluemCount\n",
      "\n",
      "\tdef getVoluemPathList(self):\n",
      "\t\t# this function is deprecated\n",
      "\t\t# because the problemID is continuous \n",
      "\t\t# and we don't have to access the problem from the voluem page\n",
      "\t\t# just use problemPath and problemCode to access the problem\n",
      "\t\tself.getVolumeCount()\n",
      "\n",
      "\t\td = pyq(url = self.baseUrl + self.indexPath)\n",
      "\t\treturn list(map(lambda i: d('#content_body > form:nth-child(1) > a:nth-child(%d)' % i).attr(\"href\"), range(1, self.voluemCount+1)))\n",
      "\n",
      "\tdef getProblemCount(self):\n",
      "\t\tself.getVolumeCount()\n",
      "\t\t\n",
      "\t\td = pyq(url = self.baseUrl + self.voluemPath + str(self.voluemCount))\n",
      "\t\tself.problemCount = int(d('#content_body > form:nth-child(1) > table > tr:last-child > td.problemId > a > font').text())\n",
      "\t\treturn self.problemCount\n",
      "\n",
      "\tdef storeProblemContent(self, id):\n",
      "\t\td = pyq(url = self.baseUrl + self.problemPath + str(id))\n",
      "\t\tcontent = {\n",
      "\t\t\t\"title\": d('#content_body > center:nth-child(1) > span').text(),\n",
      "\t\t\t\"body\": d('#content_body').text()\n",
      "\t\t}\n",
      "\t\tprint(\"Now fetching ProblemID: %s, Title: %s\" % (id, content['title']))\n",
      "\t\t# UPSERT in sqlite is INSERT OR REPLACE\n",
      "\t\t# rowid is a internal column in sqlite\n",
      "\t\tself.query.execute('INSERT OR REPLACE INTO problems (rowid, id, title, body) VALUES (?, ?, ?, ?)', (id-1000, id, content['title'], content['body']))\n",
      "\n",
      "\tdef fetchAllProblems(self):\n",
      "\t\tlist(map(lambda i: self.storeProblemContent(i), range(1001, self.getProblemCount()+1)))\n",
      "\n",
      "\tdef selectAllProblems(self):\n",
      "\t\tself.query.execute('SELECT * FROM problems')\n",
      "\t\treturn(self.query.fetchall())\n",
      "\n",
      "\tdef queryProblems(self, keyword):\n",
      "\t\tself.query.execute('SELECT id, title FROM problems WHERE body MATCH \"%s\"' % keyword)\n",
      "\t\treturn(self.query.fetchall())\n",
      "\n",
      "\tdef queryMatrixProblems(self):\n",
      "\t\t# use \"simple\" tokenizer by default in sqlite's FTS engine to lowercase the query string, so matrix and Matrix will get the same result\n",
      "\t\t# and use UNION in SQL to merge matrix and matrices's result\n",
      "\t\tself.query.execute('SELECT id, title FROM problems WHERE body MATCH \"%s\" UNION SELECT id, title FROM problems WHERE body MATCH \"%s\"' % (\"matrix\", \"matrices\"))\n",
      "\t\treturn(self.query.fetchall())\n",
      "\n",
      "\tdef getItemsCount(self):\n",
      "\t\tself.query.execute('SELECT COUNT(*) FROM problems')\n",
      "\t\treturn(self.query.fetchone())\n",
      "\n",
      "\tdef printProblems(self, problems):\n",
      "\t\tlist(map(lambda i: print(\"ProblemID: %s, Title: %s, Link: %s%s%s\" % (i[0], i[1], self.baseUrl, self.problemPath, i[0])), problems))\n",
      "\t\tprint(\"%s problems match your keyword\" % len(problems))"
     ],
     "language": "python",
     "metadata": {},
     "outputs": [],
     "prompt_number": 1
    },
    {
     "cell_type": "code",
     "collapsed": false,
     "input": [
      "#!/usr/bin/python3\n",
      "\n",
      "# -*- Mode: Python; coding: utf-8; indent-tabs-mode: t; c-basic-offset: 4; tab-width: 4 -*- \n",
      "#\n",
      "# main.py\n",
      "# Copyleft 2014 Yuzo(PillowSky) <Yuzo@pillowsky.org>\n",
      "# Compatible with python3 and pypy\n",
      "#\n",
      "# require PyQuery which depend on cssselect, so I pack it in the project to ensure running normally on other computers\n",
      "\n",
      "import os.path\n",
      "from datetime import datetime\n",
      "\n",
      "# comment out for display code in ipython\n",
      "# from Spider import Spider\n",
      "\n",
      "print(\"==Welcome to search engine for ZOJ==\")\n",
      "if(os.path.isfile(\"data.db\")):\n",
      "\tspider = Spider()\n",
      "\tprint(\"Local database is update on %s\" % datetime.fromtimestamp(os.path.getmtime(\"data.db\")))\n",
      "\tprint(\"Database have %s problems stored now\" % spider.getItemsCount())\n",
      "else:\n",
      "\tprint(\"Local database hasn't build\")\n",
      "\tspider = Spider()\n",
      "\n",
      "while True:\n",
      "\tprint(\"\\nUsage:\")\n",
      "\tprint(\"[1] update the local database(need a long time)\")\n",
      "\tprint(\"[2] search problems about Matrix\")\n",
      "\tprint(\"[3] search generic problems\")\n",
      "\t\n",
      "\tchoice = input()\n",
      "\tif(choice == str(1)) :\n",
      "\t\tspider.fetchAllProblems()\n",
      "\telse:\n",
      "\t\tif(choice == str(2)):\n",
      "\t\t\tspider.printProblems(spider.queryMatrixProblems())\n",
      "\t\telse:\n",
      "\t\t\tif(choice == str(3)):\n",
      "\t\t\t\tkeyword = input('Please enter the keyword: ')\n",
      "\t\t\t\tspider.printProblems(spider.queryProblems(keyword))\n",
      "\t\t\telse:\n",
      "\t\t\t\tprint(\">_< You typed something silly, byebye\")\n",
      "\t\t\t\texit()\n"
     ],
     "language": "python",
     "metadata": {},
     "outputs": [
      {
       "output_type": "stream",
       "stream": "stdout",
       "text": [
        "==Welcome to search engine for ZOJ==\n",
        "Local database hasn't build\n",
        "\n",
        "Usage:"
       ]
      },
      {
       "output_type": "stream",
       "stream": "stdout",
       "text": [
        "\n",
        "[1] update the local database(need a long time)\n",
        "[2] search problems about Matrix\n",
        "[3] search generic problems\n"
       ]
      },
      {
       "name": "stdout",
       "output_type": "stream",
       "stream": "stdout",
       "text": [
        "1\n"
       ]
      },
      {
       "output_type": "stream",
       "stream": "stdout",
       "text": [
        "Now fetching ProblemID: 1001, Title: A + B Problem\n",
        "Now fetching ProblemID: 1002, Title: Fire Net"
       ]
      },
      {
       "output_type": "stream",
       "stream": "stdout",
       "text": [
        "\n",
        "Now fetching ProblemID: 1003, Title: Crashing Balloon"
       ]
      },
      {
       "output_type": "stream",
       "stream": "stdout",
       "text": [
        "\n",
        "Now fetching ProblemID: 1004, Title: Anagrams by Stack"
       ]
      },
      {
       "output_type": "stream",
       "stream": "stdout",
       "text": [
        "\n",
        "Now fetching ProblemID: 1005, Title: Jugs"
       ]
      },
      {
       "output_type": "stream",
       "stream": "stdout",
       "text": [
        "\n",
        "Now fetching ProblemID: 1006, Title: Do the Untwist"
       ]
      },
      {
       "output_type": "stream",
       "stream": "stdout",
       "text": [
        "\n",
        "Now fetching ProblemID: 1007, Title: Numerical Summation of a Series"
       ]
      },
      {
       "output_type": "stream",
       "stream": "stdout",
       "text": [
        "\n",
        "Now fetching ProblemID: 1008, Title: Gnome Tetravex"
       ]
      },
      {
       "output_type": "stream",
       "stream": "stdout",
       "text": [
        "\n",
        "Now fetching ProblemID: 1009, Title: Enigma"
       ]
      },
      {
       "output_type": "stream",
       "stream": "stdout",
       "text": [
        "\n",
        "Now fetching ProblemID: 1010, Title: Area"
       ]
      },
      {
       "output_type": "stream",
       "stream": "stdout",
       "text": [
        "\n",
        "Now fetching ProblemID: 1011, Title: NTA"
       ]
      },
      {
       "output_type": "stream",
       "stream": "stdout",
       "text": [
        "\n",
        "Now fetching ProblemID: 1012, Title: Mainframe"
       ]
      },
      {
       "output_type": "stream",
       "stream": "stdout",
       "text": [
        "\n",
        "Now fetching ProblemID: 1013, Title: Great Equipment"
       ]
      },
      {
       "output_type": "stream",
       "stream": "stdout",
       "text": [
        "\n",
        "Now fetching ProblemID: 1014, Title: Operand"
       ]
      },
      {
       "output_type": "stream",
       "stream": "stdout",
       "text": [
        "\n",
        "Now fetching ProblemID: 1015, Title: Fishing Net"
       ]
      },
      {
       "output_type": "stream",
       "stream": "stdout",
       "text": [
        "\n",
        "Now fetching ProblemID: 1016, Title: Parencodings"
       ]
      },
      {
       "output_type": "stream",
       "stream": "stdout",
       "text": [
        "\n",
        "Now fetching ProblemID: 1017, Title: The Bermuda Triagle"
       ]
      },
      {
       "output_type": "stream",
       "stream": "stdout",
       "text": [
        "\n",
        "Now fetching ProblemID: 1018, Title: Deformed Wheel"
       ]
      },
      {
       "output_type": "stream",
       "stream": "stdout",
       "text": [
        "\n",
        "Now fetching ProblemID: 1019, Title: Illusive Chase"
       ]
      },
      {
       "output_type": "stream",
       "stream": "stdout",
       "text": [
        "\n",
        "Now fetching ProblemID: 1020, Title: Puzzle Out"
       ]
      },
      {
       "output_type": "stream",
       "stream": "stdout",
       "text": [
        "\n",
        "Now fetching ProblemID: 1021, Title: The Willy Memorial Program"
       ]
      },
      {
       "output_type": "stream",
       "stream": "stdout",
       "text": [
        "\n",
        "Now fetching ProblemID: 1022, Title: Parallel Expectations"
       ]
      },
      {
       "output_type": "stream",
       "stream": "stdout",
       "text": [
        "\n",
        "Now fetching ProblemID: 1023, Title: University Entrace Examination"
       ]
      },
      {
       "output_type": "stream",
       "stream": "stdout",
       "text": [
        "\n",
        "Now fetching ProblemID: 1024, Title: Calendar Game"
       ]
      },
      {
       "output_type": "stream",
       "stream": "stdout",
       "text": [
        "\n",
        "Now fetching ProblemID: 1025, Title: Wooden Sticks"
       ]
      },
      {
       "output_type": "stream",
       "stream": "stdout",
       "text": [
        "\n",
        "Now fetching ProblemID: 1026, Title: Modular multiplication of polynomials"
       ]
      },
      {
       "output_type": "stream",
       "stream": "stdout",
       "text": [
        "\n",
        "Now fetching ProblemID: 1027, Title: Human Gene Functions"
       ]
      },
      {
       "output_type": "stream",
       "stream": "stdout",
       "text": [
        "\n",
        "Now fetching ProblemID: 1028, Title: Flip and Shift"
       ]
      },
      {
       "output_type": "stream",
       "stream": "stdout",
       "text": [
        "\n",
        "Now fetching ProblemID: 1029, Title: Moving Tables"
       ]
      },
      {
       "output_type": "stream",
       "stream": "stdout",
       "text": [
        "\n",
        "Now fetching ProblemID: 1030, Title: Farmland"
       ]
      },
      {
       "output_type": "stream",
       "stream": "stdout",
       "text": [
        "\n",
        "Now fetching ProblemID: 1031, Title: Square Destroyer"
       ]
      },
      {
       "output_type": "stream",
       "stream": "stdout",
       "text": [
        "\n",
        "Now fetching ProblemID: 1032, Title: Area 2"
       ]
      },
      {
       "output_type": "stream",
       "stream": "stdout",
       "text": [
        "\n",
        "Now fetching ProblemID: 1033, Title: Ambiguous Dates"
       ]
      },
      {
       "output_type": "stream",
       "stream": "stdout",
       "text": [
        "\n",
        "Now fetching ProblemID: 1034, Title: Cog-Wheels"
       ]
      },
      {
       "output_type": "stream",
       "stream": "stdout",
       "text": [
        "\n",
        "Now fetching ProblemID: 1035, Title: Cube"
       ]
      },
      {
       "output_type": "stream",
       "stream": "stdout",
       "text": [
        "\n",
        "Now fetching ProblemID: 1036, Title: Enigma 2"
       ]
      },
      {
       "output_type": "stream",
       "stream": "stdout",
       "text": [
        "\n",
        "Now fetching ProblemID: 1037, Title: Gridland"
       ]
      },
      {
       "output_type": "stream",
       "stream": "stdout",
       "text": [
        "\n",
        "Now fetching ProblemID: 1038, Title: T9"
       ]
      },
      {
       "output_type": "stream",
       "stream": "stdout",
       "text": [
        "\n",
        "Now fetching ProblemID: 1039, Title: Number Game"
       ]
      },
      {
       "output_type": "stream",
       "stream": "stdout",
       "text": [
        "\n",
        "Now fetching ProblemID: 1040, Title: Signal Box"
       ]
      },
      {
       "output_type": "stream",
       "stream": "stdout",
       "text": [
        "\n",
        "Now fetching ProblemID: 1041, Title: Transmitters"
       ]
      },
      {
       "output_type": "stream",
       "stream": "stdout",
       "text": [
        "\n",
        "Now fetching ProblemID: 1042, Title: W's Cipher"
       ]
      },
      {
       "output_type": "stream",
       "stream": "stdout",
       "text": [
        "\n",
        "Now fetching ProblemID: 1043, Title: Split Windows"
       ]
      },
      {
       "output_type": "stream",
       "stream": "stdout",
       "text": [
        "\n",
        "Now fetching ProblemID: 1044, Title: Index Generation"
       ]
      },
      {
       "output_type": "stream",
       "stream": "stdout",
       "text": [
        "\n",
        "Now fetching ProblemID: 1045, Title: HangOver"
       ]
      },
      {
       "output_type": "stream",
       "stream": "stdout",
       "text": [
        "\n",
        "Now fetching ProblemID: 1046, Title: Double Vision"
       ]
      },
      {
       "output_type": "stream",
       "stream": "stdout",
       "text": [
        "\n",
        "Now fetching ProblemID: 1047, Title: Image Perimeters"
       ]
      },
      {
       "output_type": "stream",
       "stream": "stdout",
       "text": [
        "\n",
        "Now fetching ProblemID: 1048, Title: Financial Management"
       ]
      },
      {
       "output_type": "stream",
       "stream": "stdout",
       "text": [
        "\n",
        "Now fetching ProblemID: 1049, Title: I Think I Need a Houseboat"
       ]
      },
      {
       "output_type": "stream",
       "stream": "stdout",
       "text": [
        "\n",
        "Now fetching ProblemID: 1050, Title: Start Up the Startup"
       ]
      },
      {
       "output_type": "stream",
       "stream": "stdout",
       "text": [
        "\n",
        "Now fetching ProblemID: 1051, Title: A New Growth Industry"
       ]
      },
      {
       "output_type": "stream",
       "stream": "stdout",
       "text": [
        "\n",
        "Now fetching ProblemID: 1052, Title: Algernon's Noxious Emissions"
       ]
      },
      {
       "output_type": "stream",
       "stream": "stdout",
       "text": [
        "\n",
        "Now fetching ProblemID: 1053, Title: FDNY to the Rescue!"
       ]
      },
      {
       "output_type": "stream",
       "stream": "stdout",
       "text": [
        "\n",
        "Now fetching ProblemID: 1054, Title: For the Porsche"
       ]
      },
      {
       "output_type": "stream",
       "stream": "stdout",
       "text": [
        "\n",
        "Now fetching ProblemID: 1055, Title: Oh, Those Achin' Feet"
       ]
      },
      {
       "output_type": "stream",
       "stream": "stdout",
       "text": [
        "\n",
        "Now fetching ProblemID: 1056, Title: The Worm Turns"
       ]
      },
      {
       "output_type": "stream",
       "stream": "stdout",
       "text": [
        "\n",
        "Now fetching ProblemID: 1057, Title: Undercut"
       ]
      },
      {
       "output_type": "stream",
       "stream": "stdout",
       "text": [
        "\n",
        "Now fetching ProblemID: 1058, Title: Currency Exchange"
       ]
      },
      {
       "output_type": "stream",
       "stream": "stdout",
       "text": [
        "\n",
        "Now fetching ProblemID: 1059, Title: What's In a Name"
       ]
      },
      {
       "output_type": "stream",
       "stream": "stdout",
       "text": [
        "\n",
        "Now fetching ProblemID: 1060, Title: Sorting It All Out"
       ]
      },
      {
       "output_type": "stream",
       "stream": "stdout",
       "text": [
        "\n",
        "Now fetching ProblemID: 1061, Title: Web Navigation"
       ]
      },
      {
       "output_type": "stream",
       "stream": "stdout",
       "text": [
        "\n",
        "Now fetching ProblemID: 1062, Title: Trees Made to Order"
       ]
      },
      {
       "output_type": "stream",
       "stream": "stdout",
       "text": [
        "\n",
        "Now fetching ProblemID: 1063, Title: Space Station Shielding"
       ]
      },
      {
       "output_type": "stream",
       "stream": "stdout",
       "text": [
        "\n",
        "Now fetching ProblemID: 1064, Title: Roads Scholar"
       ]
      },
      {
       "output_type": "stream",
       "stream": "stdout",
       "text": [
        "\n",
        "Now fetching ProblemID: 1065, Title: Robots"
       ]
      },
      {
       "output_type": "stream",
       "stream": "stdout",
       "text": [
        "\n",
        "Now fetching ProblemID: 1066, Title: Square Ice"
       ]
      },
      {
       "output_type": "stream",
       "stream": "stdout",
       "text": [
        "\n",
        "Now fetching ProblemID: 1067, Title: Color Me Less"
       ]
      },
      {
       "output_type": "stream",
       "stream": "stdout",
       "text": [
        "\n",
        "Now fetching ProblemID: 1068, Title: P,MTHBGWB"
       ]
      },
      {
       "output_type": "stream",
       "stream": "stdout",
       "text": [
        "\n",
        "Now fetching ProblemID: 1069, Title: Plato's Blocks"
       ]
      },
      {
       "output_type": "stream",
       "stream": "stdout",
       "text": [
        "\n",
        "Now fetching ProblemID: 1070, Title: Bode Plot"
       ]
      },
      {
       "output_type": "stream",
       "stream": "stdout",
       "text": [
        "\n",
        "Now fetching ProblemID: 1071, Title: Follow My Logic"
       ]
      },
      {
       "output_type": "stream",
       "stream": "stdout",
       "text": [
        "\n",
        "Now fetching ProblemID: 1072, Title: Microprocessor Simulation"
       ]
      },
      {
       "output_type": "stream",
       "stream": "stdout",
       "text": [
        "\n",
        "Now fetching ProblemID: 1073, Title: Round and Round We Go"
       ]
      },
      {
       "output_type": "stream",
       "stream": "stdout",
       "text": [
        "\n",
        "Now fetching ProblemID: 1074, Title: To the Max"
       ]
      },
      {
       "output_type": "stream",
       "stream": "stdout",
       "text": [
        "\n",
        "Now fetching ProblemID: 1075, Title: Set Me"
       ]
      },
      {
       "output_type": "stream",
       "stream": "stdout",
       "text": [
        "\n",
        "Now fetching ProblemID: 1076, Title: Gene Assembly"
       ]
      },
      {
       "output_type": "stream",
       "stream": "stdout",
       "text": [
        "\n",
        "Now fetching ProblemID: 1077, Title: Genetic Combinations"
       ]
      },
      {
       "output_type": "stream",
       "stream": "stdout",
       "text": [
        "\n",
        "Now fetching ProblemID: 1078, Title: Palindrom Numbers"
       ]
      },
      {
       "output_type": "stream",
       "stream": "stdout",
       "text": [
        "\n",
        "Now fetching ProblemID: 1079, Title: Robotic Jigsaw"
       ]
      },
      {
       "output_type": "stream",
       "stream": "stdout",
       "text": [
        "\n",
        "Now fetching ProblemID: 1080, Title: Direct Subtraction"
       ]
      },
      {
       "output_type": "stream",
       "stream": "stdout",
       "text": [
        "\n",
        "Now fetching ProblemID: 1081, Title: Points Within"
       ]
      },
      {
       "output_type": "stream",
       "stream": "stdout",
       "text": [
        "\n",
        "Now fetching ProblemID: 1082, Title: Stockbroker Grapevine"
       ]
      },
      {
       "output_type": "stream",
       "stream": "stdout",
       "text": [
        "\n",
        "Now fetching ProblemID: 1083, Title: Frame Stacking"
       ]
      },
      {
       "output_type": "stream",
       "stream": "stdout",
       "text": [
        "\n",
        "Now fetching ProblemID: 1084, Title: Channel Allocation"
       ]
      },
      {
       "output_type": "stream",
       "stream": "stdout",
       "text": [
        "\n",
        "Now fetching ProblemID: 1085, Title: Alien Security"
       ]
      },
      {
       "output_type": "stream",
       "stream": "stdout",
       "text": [
        "\n",
        "Now fetching ProblemID: 1086, Title: Octal Fractions"
       ]
      },
      {
       "output_type": "stream",
       "stream": "stdout",
       "text": [
        "\n",
        "Now fetching ProblemID: 1087, Title: Cracking the Code"
       ]
      },
      {
       "output_type": "stream",
       "stream": "stdout",
       "text": [
        "\n",
        "Now fetching ProblemID: 1088, Title: System Overload"
       ]
      },
      {
       "output_type": "stream",
       "stream": "stdout",
       "text": [
        "\n",
        "Now fetching ProblemID: 1089, Title: Lotto"
       ]
      },
      {
       "output_type": "stream",
       "stream": "stdout",
       "text": [
        "\n",
        "Now fetching ProblemID: 1090, Title: The Circumference of the Circle"
       ]
      },
      {
       "output_type": "stream",
       "stream": "stdout",
       "text": [
        "\n",
        "Now fetching ProblemID: 1091, Title: Knight Moves"
       ]
      },
      {
       "output_type": "stream",
       "stream": "stdout",
       "text": [
        "\n",
        "Now fetching ProblemID: 1092, Title: Arbitrage"
       ]
      },
      {
       "output_type": "stream",
       "stream": "stdout",
       "text": [
        "\n",
        "Now fetching ProblemID: 1093, Title: Monkey and Banana"
       ]
      },
      {
       "output_type": "stream",
       "stream": "stdout",
       "text": [
        "\n",
        "Now fetching ProblemID: 1094, Title: Matrix Chain Multiplication"
       ]
      },
      {
       "output_type": "stream",
       "stream": "stdout",
       "text": [
        "\n",
        "Now fetching ProblemID: 1095, Title: Humble Numbers"
       ]
      },
      {
       "output_type": "stream",
       "stream": "stdout",
       "text": [
        "\n",
        "Now fetching ProblemID: 1096, Title: Subway"
       ]
      },
      {
       "output_type": "stream",
       "stream": "stdout",
       "text": [
        "\n",
        "Now fetching ProblemID: 1097, Title: Code the Tree"
       ]
      },
      {
       "output_type": "stream",
       "stream": "stdout",
       "text": [
        "\n",
        "Now fetching ProblemID: 1098, Title: Simple Computers"
       ]
      },
      {
       "output_type": "stream",
       "stream": "stdout",
       "text": [
        "\n",
        "Now fetching ProblemID: 1099, Title: HTML"
       ]
      },
      {
       "output_type": "stream",
       "stream": "stdout",
       "text": [
        "\n",
        "Now fetching ProblemID: 1100, Title: Mondriaan's Dream"
       ]
      },
      {
       "output_type": "stream",
       "stream": "stdout",
       "text": [
        "\n",
        "Now fetching ProblemID: 1101, Title: Gamblers"
       ]
      },
      {
       "output_type": "stream",
       "stream": "stdout",
       "text": [
        "\n",
        "Now fetching ProblemID: 1102, Title: Phylogenetic Trees Inherited"
       ]
      },
      {
       "output_type": "stream",
       "stream": "stdout",
       "text": [
        "\n",
        "Now fetching ProblemID: 1103, Title: Hike on a Graph"
       ]
      },
      {
       "output_type": "stream",
       "stream": "stdout",
       "text": [
        "\n",
        "Now fetching ProblemID: 1104, Title: Leaps Tall Buildings"
       ]
      },
      {
       "output_type": "stream",
       "stream": "stdout",
       "text": [
        "\n",
        "Now fetching ProblemID: 1105, Title: FatMouse's Tour"
       ]
      },
      {
       "output_type": "stream",
       "stream": "stdout",
       "text": [
        "\n",
        "Now fetching ProblemID: 1106, Title: FatMouse's Coffer"
       ]
      },
      {
       "output_type": "stream",
       "stream": "stdout",
       "text": [
        "\n",
        "Now fetching ProblemID: 1107, Title: FatMouse and Cheese"
       ]
      },
      {
       "output_type": "stream",
       "stream": "stdout",
       "text": [
        "\n",
        "Now fetching ProblemID: 1108, Title: FatMouse's Speed"
       ]
      },
      {
       "output_type": "stream",
       "stream": "stdout",
       "text": [
        "\n",
        "Now fetching ProblemID: 1109, Title: Language of FatMouse"
       ]
      },
      {
       "output_type": "stream",
       "stream": "stdout",
       "text": [
        "\n",
        "Now fetching ProblemID: 1110, Title: Dick and Jane"
       ]
      },
      {
       "output_type": "stream",
       "stream": "stdout",
       "text": [
        "\n",
        "Now fetching ProblemID: 1111, Title: Poker Hands"
       ]
      },
      {
       "output_type": "stream",
       "stream": "stdout",
       "text": [
        "\n",
        "Now fetching ProblemID: 1112, Title: Equidistance"
       ]
      },
      {
       "output_type": "stream",
       "stream": "stdout",
       "text": [
        "\n",
        "Now fetching ProblemID: 1113, Title: u Calculate e"
       ]
      },
      {
       "output_type": "stream",
       "stream": "stdout",
       "text": [
        "\n",
        "Now fetching ProblemID: 1114, Title: Problem Bee"
       ]
      },
      {
       "output_type": "stream",
       "stream": "stdout",
       "text": [
        "\n",
        "Now fetching ProblemID: 1115, Title: Digital Roots"
       ]
      },
      {
       "output_type": "stream",
       "stream": "stdout",
       "text": [
        "\n",
        "Now fetching ProblemID: 1116, Title: A Well-Formed Problem"
       ]
      },
      {
       "output_type": "stream",
       "stream": "stdout",
       "text": [
        "\n",
        "Now fetching ProblemID: 1117, Title: Entropy"
       ]
      },
      {
       "output_type": "stream",
       "stream": "stdout",
       "text": [
        "\n",
        "Now fetching ProblemID: 1118, Title: N-Credible Mazes"
       ]
      },
      {
       "output_type": "stream",
       "stream": "stdout",
       "text": [
        "\n",
        "Now fetching ProblemID: 1119, Title: SPF"
       ]
      },
      {
       "output_type": "stream",
       "stream": "stdout",
       "text": [
        "\n",
        "Now fetching ProblemID: 1120, Title: Chairlift"
       ]
      },
      {
       "output_type": "stream",
       "stream": "stdout",
       "text": [
        "\n",
        "Now fetching ProblemID: 1121, Title: Reserve Bookshelf"
       ]
      },
      {
       "output_type": "stream",
       "stream": "stdout",
       "text": [
        "\n",
        "Now fetching ProblemID: 1122, Title: Clock"
       ]
      },
      {
       "output_type": "stream",
       "stream": "stdout",
       "text": [
        "\n",
        "Now fetching ProblemID: 1123, Title: Triangle Encapsulation"
       ]
      },
      {
       "output_type": "stream",
       "stream": "stdout",
       "text": [
        "\n",
        "Now fetching ProblemID: 1124, Title: Tribal Legislation"
       ]
      },
      {
       "output_type": "stream",
       "stream": "stdout",
       "text": [
        "\n",
        "Now fetching ProblemID: 1125, Title: Floating Point Numbers"
       ]
      },
      {
       "output_type": "stream",
       "stream": "stdout",
       "text": [
        "\n",
        "Now fetching ProblemID: 1126, Title: Bio-Informatics"
       ]
      },
      {
       "output_type": "stream",
       "stream": "stdout",
       "text": [
        "\n",
        "Now fetching ProblemID: 1127, Title: Roman Forts"
       ]
      },
      {
       "output_type": "stream",
       "stream": "stdout",
       "text": [
        "\n",
        "Now fetching ProblemID: 1128, Title: Atlantis"
       ]
      },
      {
       "output_type": "stream",
       "stream": "stdout",
       "text": [
        "\n",
        "Now fetching ProblemID: 1129, Title: Erdos Numbers"
       ]
      },
      {
       "output_type": "stream",
       "stream": "stdout",
       "text": [
        "\n",
        "Now fetching ProblemID: 1130, Title: Ouroboros Snake"
       ]
      },
      {
       "output_type": "stream",
       "stream": "stdout",
       "text": [
        "\n",
        "Now fetching ProblemID: 1131, Title: Fold-up Patterns"
       ]
      },
      {
       "output_type": "stream",
       "stream": "stdout",
       "text": [
        "\n",
        "Now fetching ProblemID: 1132, Title: Railroad"
       ]
      },
      {
       "output_type": "stream",
       "stream": "stdout",
       "text": [
        "\n",
        "Now fetching ProblemID: 1133, Title: Smith Numbers"
       ]
      },
      {
       "output_type": "stream",
       "stream": "stdout",
       "text": [
        "\n",
        "Now fetching ProblemID: 1134, Title: Strategic Game"
       ]
      },
      {
       "output_type": "stream",
       "stream": "stdout",
       "text": [
        "\n",
        "Now fetching ProblemID: 1135, Title: Company"
       ]
      },
      {
       "output_type": "stream",
       "stream": "stdout",
       "text": [
        "\n",
        "Now fetching ProblemID: 1136, Title: Multiple"
       ]
      },
      {
       "output_type": "stream",
       "stream": "stdout",
       "text": [
        "\n",
        "Now fetching ProblemID: 1137, Title: Girls and Boys"
       ]
      },
      {
       "output_type": "stream",
       "stream": "stdout",
       "text": [
        "\n",
        "Now fetching ProblemID: 1138, Title: Symbolic Derivation"
       ]
      },
      {
       "output_type": "stream",
       "stream": "stdout",
       "text": [
        "\n",
        "Now fetching ProblemID: 1139, Title: Rectangles"
       ]
      },
      {
       "output_type": "stream",
       "stream": "stdout",
       "text": [
        "\n",
        "Now fetching ProblemID: 1140, Title: Courses"
       ]
      },
      {
       "output_type": "stream",
       "stream": "stdout",
       "text": [
        "\n",
        "Now fetching ProblemID: 1141, Title: Closest Common Ancestors"
       ]
      },
      {
       "output_type": "stream",
       "stream": "stdout",
       "text": [
        "\n",
        "Now fetching ProblemID: 1142, Title: Maze"
       ]
      },
      {
       "output_type": "stream",
       "stream": "stdout",
       "text": [
        "\n",
        "Now fetching ProblemID: 1143, Title: Date Bugs"
       ]
      },
      {
       "output_type": "stream",
       "stream": "stdout",
       "text": [
        "\n",
        "Now fetching ProblemID: 1144, Title: Robbery"
       ]
      },
      {
       "output_type": "stream",
       "stream": "stdout",
       "text": [
        "\n",
        "Now fetching ProblemID: 1145, Title: Dreisam Equations"
       ]
      },
      {
       "output_type": "stream",
       "stream": "stdout",
       "text": [
        "\n",
        "Now fetching ProblemID: 1146, Title: LC-Display"
       ]
      },
      {
       "output_type": "stream",
       "stream": "stdout",
       "text": [
        "\n",
        "Now fetching ProblemID: 1147, Title: Formatting Text"
       ]
      },
      {
       "output_type": "stream",
       "stream": "stdout",
       "text": [
        "\n",
        "Now fetching ProblemID: 1148, Title: The Game"
       ]
      },
      {
       "output_type": "stream",
       "stream": "stdout",
       "text": [
        "\n",
        "Now fetching ProblemID: 1149, Title: Dividing"
       ]
      },
      {
       "output_type": "stream",
       "stream": "stdout",
       "text": [
        "\n",
        "Now fetching ProblemID: 1150, Title: S-Trees"
       ]
      },
      {
       "output_type": "stream",
       "stream": "stdout",
       "text": [
        "\n",
        "Now fetching ProblemID: 1151, Title: Word Reversal"
       ]
      },
      {
       "output_type": "stream",
       "stream": "stdout",
       "text": [
        "\n",
        "Now fetching ProblemID: 1152, Title: A Mathematical Curiosity"
       ]
      },
      {
       "output_type": "stream",
       "stream": "stdout",
       "text": [
        "\n",
        "Now fetching ProblemID: 1153, Title: Tournament Seeding"
       ]
      },
      {
       "output_type": "stream",
       "stream": "stdout",
       "text": [
        "\n",
        "Now fetching ProblemID: 1154, Title: Niven Numbers"
       ]
      },
      {
       "output_type": "stream",
       "stream": "stdout",
       "text": [
        "\n",
        "Now fetching ProblemID: 1155, Title: Triangle War"
       ]
      },
      {
       "output_type": "stream",
       "stream": "stdout",
       "text": [
        "\n",
        "Now fetching ProblemID: 1156, Title: Unscrambling Images"
       ]
      },
      {
       "output_type": "stream",
       "stream": "stdout",
       "text": [
        "\n",
        "Now fetching ProblemID: 1157, Title: A Plug for UNIX"
       ]
      },
      {
       "output_type": "stream",
       "stream": "stdout",
       "text": [
        "\n",
        "Now fetching ProblemID: 1158, Title: Treasure Hunt"
       ]
      },
      {
       "output_type": "stream",
       "stream": "stdout",
       "text": [
        "\n",
        "Now fetching ProblemID: 1159, Title: 487-3279"
       ]
      },
      {
       "output_type": "stream",
       "stream": "stdout",
       "text": [
        "\n",
        "Now fetching ProblemID: 1160, Title: Biorhythms"
       ]
      },
      {
       "output_type": "stream",
       "stream": "stdout",
       "text": [
        "\n",
        "Now fetching ProblemID: 1161, Title: Gone Fishing"
       ]
      },
      {
       "output_type": "stream",
       "stream": "stdout",
       "text": [
        "\n",
        "Now fetching ProblemID: 1162, Title: The Same Game"
       ]
      },
      {
       "output_type": "stream",
       "stream": "stdout",
       "text": [
        "\n",
        "Now fetching ProblemID: 1163, Title: The Staircases"
       ]
      },
      {
       "output_type": "stream",
       "stream": "stdout",
       "text": [
        "\n",
        "Now fetching ProblemID: 1164, Title: Software CRC"
       ]
      },
      {
       "output_type": "stream",
       "stream": "stdout",
       "text": [
        "\n",
        "Now fetching ProblemID: 1165, Title: Laser Lines"
       ]
      },
      {
       "output_type": "stream",
       "stream": "stdout",
       "text": [
        "\n",
        "Now fetching ProblemID: 1166, Title: Anagram Checker"
       ]
      },
      {
       "output_type": "stream",
       "stream": "stdout",
       "text": [
        "\n",
        "Now fetching ProblemID: 1167, Title: Trees on the Level"
       ]
      },
      {
       "output_type": "stream",
       "stream": "stdout",
       "text": [
        "\n",
        "Now fetching ProblemID: 1168, Title: Function Run Fun"
       ]
      },
      {
       "output_type": "stream",
       "stream": "stdout",
       "text": [
        "\n",
        "Now fetching ProblemID: 1169, Title: Square Cipher"
       ]
      },
      {
       "output_type": "stream",
       "stream": "stdout",
       "text": [
        "\n",
        "Now fetching ProblemID: 1170, Title: String Matching"
       ]
      },
      {
       "output_type": "stream",
       "stream": "stdout",
       "text": [
        "\n",
        "Now fetching ProblemID: 1171, Title: Sorting the Photos"
       ]
      },
      {
       "output_type": "stream",
       "stream": "stdout",
       "text": [
        "\n",
        "Now fetching ProblemID: 1172, Title: Alternatives"
       ]
      },
      {
       "output_type": "stream",
       "stream": "stdout",
       "text": [
        "\n",
        "Now fetching ProblemID: 1173, Title: Water Glass"
       ]
      },
      {
       "output_type": "stream",
       "stream": "stdout",
       "text": [
        "\n",
        "Now fetching ProblemID: 1174, Title: Skip Letter Code"
       ]
      },
      {
       "output_type": "stream",
       "stream": "stdout",
       "text": [
        "\n",
        "Now fetching ProblemID: 1175, Title: Word Process Machine"
       ]
      },
      {
       "output_type": "stream",
       "stream": "stdout",
       "text": [
        "\n",
        "Now fetching ProblemID: 1176, Title: Die and Chessboard"
       ]
      },
      {
       "output_type": "stream",
       "stream": "stdout",
       "text": [
        "\n",
        "Now fetching ProblemID: 1177, Title: K-Magic Number"
       ]
      },
      {
       "output_type": "stream",
       "stream": "stdout",
       "text": [
        "\n",
        "Now fetching ProblemID: 1178, Title: Booklet Printing"
       ]
      },
      {
       "output_type": "stream",
       "stream": "stdout",
       "text": [
        "\n",
        "Now fetching ProblemID: 1179, Title: Finding Rectangles"
       ]
      },
      {
       "output_type": "stream",
       "stream": "stdout",
       "text": [
        "\n",
        "Now fetching ProblemID: 1180, Title: Self Numbers"
       ]
      },
      {
       "output_type": "stream",
       "stream": "stdout",
       "text": [
        "\n",
        "Now fetching ProblemID: 1181, Title: Word Amalgamation"
       ]
      },
      {
       "output_type": "stream",
       "stream": "stdout",
       "text": [
        "\n",
        "Now fetching ProblemID: 1182, Title: Keeps Going and Going and ..."
       ]
      },
      {
       "output_type": "stream",
       "stream": "stdout",
       "text": [
        "\n",
        "Now fetching ProblemID: 1183, Title: Scheduling Lectures"
       ]
      },
      {
       "output_type": "stream",
       "stream": "stdout",
       "text": [
        "\n",
        "Now fetching ProblemID: 1184, Title: Counterfeit Dollar"
       ]
      },
      {
       "output_type": "stream",
       "stream": "stdout",
       "text": [
        "\n",
        "Now fetching ProblemID: 1185, Title: Metal Cutting"
       ]
      },
      {
       "output_type": "stream",
       "stream": "stdout",
       "text": [
        "\n",
        "Now fetching ProblemID: 1186, Title: Street Directions"
       ]
      },
      {
       "output_type": "stream",
       "stream": "stdout",
       "text": [
        "\n",
        "Now fetching ProblemID: 1187, Title: Parallel Deadlock"
       ]
      },
      {
       "output_type": "stream",
       "stream": "stdout",
       "text": [
        "\n",
        "Now fetching ProblemID: 1188, Title: DNA Sorting"
       ]
      },
      {
       "output_type": "stream",
       "stream": "stdout",
       "text": [
        "\n",
        "Now fetching ProblemID: 1189, Title: Numbers That Count"
       ]
      },
      {
       "output_type": "stream",
       "stream": "stdout",
       "text": [
        "\n",
        "Now fetching ProblemID: 1190, Title: Optimal Programs"
       ]
      },
      {
       "output_type": "stream",
       "stream": "stdout",
       "text": [
        "\n",
        "Now fetching ProblemID: 1191, Title: The Die Is Cast"
       ]
      },
      {
       "output_type": "stream",
       "stream": "stdout",
       "text": [
        "\n",
        "Now fetching ProblemID: 1192, Title: It's not a Bug, It's a Feature!"
       ]
      },
      {
       "output_type": "stream",
       "stream": "stdout",
       "text": [
        "\n",
        "Now fetching ProblemID: 1193, Title: Reflections"
       ]
      },
      {
       "output_type": "stream",
       "stream": "stdout",
       "text": [
        "\n",
        "Now fetching ProblemID: 1194, Title: Going in Circles on Alpha Centauri"
       ]
      },
      {
       "output_type": "stream",
       "stream": "stdout",
       "text": [
        "\n",
        "Now fetching ProblemID: 1195, Title: Blowing Fuses"
       ]
      },
      {
       "output_type": "stream",
       "stream": "stdout",
       "text": [
        "\n",
        "Now fetching ProblemID: 1196, Title: Fast Food"
       ]
      },
      {
       "output_type": "stream",
       "stream": "stdout",
       "text": [
        "\n",
        "Now fetching ProblemID: 1197, Title: Sorting Slides"
       ]
      },
      {
       "output_type": "stream",
       "stream": "stdout",
       "text": [
        "\n",
        "Now fetching ProblemID: 1198, Title: Single-Player Games"
       ]
      },
      {
       "output_type": "stream",
       "stream": "stdout",
       "text": [
        "\n",
        "Now fetching ProblemID: 1199, Title: Point of Intersection"
       ]
      },
      {
       "output_type": "stream",
       "stream": "stdout",
       "text": [
        "\n",
        "Now fetching ProblemID: 1200, Title: Mining"
       ]
      },
      {
       "output_type": "stream",
       "stream": "stdout",
       "text": [
        "\n",
        "Now fetching ProblemID: 1201, Title: Inversion"
       ]
      },
      {
       "output_type": "stream",
       "stream": "stdout",
       "text": [
        "\n",
        "Now fetching ProblemID: 1202, Title: Divide and Count"
       ]
      },
      {
       "output_type": "stream",
       "stream": "stdout",
       "text": [
        "\n",
        "Now fetching ProblemID: 1203, Title: Swordfish"
       ]
      },
      {
       "output_type": "stream",
       "stream": "stdout",
       "text": [
        "\n",
        "Now fetching ProblemID: 1204, Title: Additive equations"
       ]
      },
      {
       "output_type": "stream",
       "stream": "stdout",
       "text": [
        "\n",
        "Now fetching ProblemID: 1205, Title: Martian Addition"
       ]
      },
      {
       "output_type": "stream",
       "stream": "stdout",
       "text": [
        "\n",
        "Now fetching ProblemID: 1206, Title: Win the Bonus"
       ]
      },
      {
       "output_type": "stream",
       "stream": "stdout",
       "text": [
        "\n",
        "Now fetching ProblemID: 1207, Title: The Knight, the Princess, and the Dragons"
       ]
      },
      {
       "output_type": "stream",
       "stream": "stdout",
       "text": [
        "\n",
        "Now fetching ProblemID: 1208, Title: Roll the Die!"
       ]
      },
      {
       "output_type": "stream",
       "stream": "stdout",
       "text": [
        "\n",
        "Now fetching ProblemID: 1209, Title: April Fool's Joke"
       ]
      },
      {
       "output_type": "stream",
       "stream": "stdout",
       "text": [
        "\n",
        "Now fetching ProblemID: 1210, Title: Reciprocals"
       ]
      },
      {
       "output_type": "stream",
       "stream": "stdout",
       "text": [
        "\n",
        "Now fetching ProblemID: 1211, Title: Subdirectories"
       ]
      },
      {
       "output_type": "stream",
       "stream": "stdout",
       "text": [
        "\n",
        "Now fetching ProblemID: 1212, Title: Mountain Landscape"
       ]
      },
      {
       "output_type": "stream",
       "stream": "stdout",
       "text": [
        "\n",
        "Now fetching ProblemID: 1213, Title: Lumber Cutting"
       ]
      },
      {
       "output_type": "stream",
       "stream": "stdout",
       "text": [
        "\n",
        "Now fetching ProblemID: 1214, Title: Millie's Restaurant"
       ]
      },
      {
       "output_type": "stream",
       "stream": "stdout",
       "text": [
        "\n",
        "Now fetching ProblemID: 1215, Title: Bowl"
       ]
      },
      {
       "output_type": "stream",
       "stream": "stdout",
       "text": [
        "\n",
        "Now fetching ProblemID: 1216, Title: Deck"
       ]
      },
      {
       "output_type": "stream",
       "stream": "stdout",
       "text": [
        "\n",
        "Now fetching ProblemID: 1217, Title: Eight"
       ]
      },
      {
       "output_type": "stream",
       "stream": "stdout",
       "text": [
        "\n",
        "Now fetching ProblemID: 1218, Title: Ratio"
       ]
      },
      {
       "output_type": "stream",
       "stream": "stdout",
       "text": [
        "\n",
        "Now fetching ProblemID: 1219, Title: Pizza Anyone?"
       ]
      },
      {
       "output_type": "stream",
       "stream": "stdout",
       "text": [
        "\n",
        "Now fetching ProblemID: 1220, Title: Adam's Genes"
       ]
      },
      {
       "output_type": "stream",
       "stream": "stdout",
       "text": [
        "\n",
        "Now fetching ProblemID: 1221, Title: Risk"
       ]
      },
      {
       "output_type": "stream",
       "stream": "stdout",
       "text": [
        "\n",
        "Now fetching ProblemID: 1222, Title: Just the Facts"
       ]
      },
      {
       "output_type": "stream",
       "stream": "stdout",
       "text": [
        "\n",
        "Now fetching ProblemID: 1223, Title: Horse Shoe Scoring"
       ]
      },
      {
       "output_type": "stream",
       "stream": "stdout",
       "text": [
        "\n",
        "Now fetching ProblemID: 1224, Title: Stats"
       ]
      },
      {
       "output_type": "stream",
       "stream": "stdout",
       "text": [
        "\n",
        "Now fetching ProblemID: 1225, Title: Scramble Sort"
       ]
      },
      {
       "output_type": "stream",
       "stream": "stdout",
       "text": [
        "\n",
        "Now fetching ProblemID: 1226, Title: Nice Milk"
       ]
      },
      {
       "output_type": "stream",
       "stream": "stdout",
       "text": [
        "\n",
        "Now fetching ProblemID: 1227, Title: Free Candies"
       ]
      },
      {
       "output_type": "stream",
       "stream": "stdout",
       "text": [
        "\n",
        "Now fetching ProblemID: 1228, Title: Farewell, My Friend"
       ]
      },
      {
       "output_type": "stream",
       "stream": "stdout",
       "text": [
        "\n",
        "Now fetching ProblemID: 1229, Title: Gift?!"
       ]
      },
      {
       "output_type": "stream",
       "stream": "stdout",
       "text": [
        "\n",
        "Now fetching ProblemID: 1230, Title: Legendary Pokemon"
       ]
      },
      {
       "output_type": "stream",
       "stream": "stdout",
       "text": [
        "\n",
        "Now fetching ProblemID: 1231, Title: Mysterious Mountain"
       ]
      },
      {
       "output_type": "stream",
       "stream": "stdout",
       "text": [
        "\n",
        "Now fetching ProblemID: 1232, Title: Adventure of Super Mario"
       ]
      },
      {
       "output_type": "stream",
       "stream": "stdout",
       "text": [
        "\n",
        "Now fetching ProblemID: 1233, Title: Bigger Square Please..."
       ]
      },
      {
       "output_type": "stream",
       "stream": "stdout",
       "text": [
        "\n",
        "Now fetching ProblemID: 1234, Title: Chopsticks"
       ]
      },
      {
       "output_type": "stream",
       "stream": "stdout",
       "text": [
        "\n",
        "Now fetching ProblemID: 1235, Title: DDR King"
       ]
      },
      {
       "output_type": "stream",
       "stream": "stdout",
       "text": [
        "\n",
        "Now fetching ProblemID: 1236, Title: Eat or Not to Eat?"
       ]
      },
      {
       "output_type": "stream",
       "stream": "stdout",
       "text": [
        "\n",
        "Now fetching ProblemID: 1237, Title: Fans and Gems"
       ]
      },
      {
       "output_type": "stream",
       "stream": "stdout",
       "text": [
        "\n",
        "Now fetching ProblemID: 1238, Title: Guess the Number"
       ]
      },
      {
       "output_type": "stream",
       "stream": "stdout",
       "text": [
        "\n",
        "Now fetching ProblemID: 1239, Title: Hanoi Tower Troubles Again!"
       ]
      },
      {
       "output_type": "stream",
       "stream": "stdout",
       "text": [
        "\n",
        "Now fetching ProblemID: 1240, Title: IBM Minus One"
       ]
      },
      {
       "output_type": "stream",
       "stream": "stdout",
       "text": [
        "\n",
        "Now fetching ProblemID: 1241, Title: Geometry Made Simple"
       ]
      },
      {
       "output_type": "stream",
       "stream": "stdout",
       "text": [
        "\n",
        "Now fetching ProblemID: 1242, Title: Carbon Dating"
       ]
      },
      {
       "output_type": "stream",
       "stream": "stdout",
       "text": [
        "\n",
        "Now fetching ProblemID: 1243, Title: URLs"
       ]
      },
      {
       "output_type": "stream",
       "stream": "stdout",
       "text": [
        "\n",
        "Now fetching ProblemID: 1244, Title: Definite Values"
       ]
      },
      {
       "output_type": "stream",
       "stream": "stdout",
       "text": [
        "\n",
        "Now fetching ProblemID: 1245, Title: Triangles"
       ]
      },
      {
       "output_type": "stream",
       "stream": "stdout",
       "text": [
        "\n",
        "Now fetching ProblemID: 1246, Title: Instant Complexity"
       ]
      },
      {
       "output_type": "stream",
       "stream": "stdout",
       "text": [
        "\n",
        "Now fetching ProblemID: 1247, Title: There's Treasure Everywhere!"
       ]
      },
      {
       "output_type": "stream",
       "stream": "stdout",
       "text": [
        "\n",
        "Now fetching ProblemID: 1248, Title: Video Surveillance"
       ]
      },
      {
       "output_type": "stream",
       "stream": "stdout",
       "text": [
        "\n",
        "Now fetching ProblemID: 1249, Title: Pushing Boxes"
       ]
      },
      {
       "output_type": "stream",
       "stream": "stdout",
       "text": [
        "\n",
        "Now fetching ProblemID: 1250, Title: Always On the Run"
       ]
      },
      {
       "output_type": "stream",
       "stream": "stdout",
       "text": [
        "\n",
        "Now fetching ProblemID: 1251, Title: Box of Bricks"
       ]
      },
      {
       "output_type": "stream",
       "stream": "stdout",
       "text": [
        "\n",
        "Now fetching ProblemID: 1252, Title: Island of Logic"
       ]
      },
      {
       "output_type": "stream",
       "stream": "stdout",
       "text": [
        "\n",
        "Now fetching ProblemID: 1253, Title: MBone"
       ]
      },
      {
       "output_type": "stream",
       "stream": "stdout",
       "text": [
        "\n",
        "Now fetching ProblemID: 1254, Title: A Duckpin Tournament"
       ]
      },
      {
       "output_type": "stream",
       "stream": "stdout",
       "text": [
        "\n",
        "Now fetching ProblemID: 1255, Title: The Path"
       ]
      },
      {
       "output_type": "stream",
       "stream": "stdout",
       "text": [
        "\n",
        "Now fetching ProblemID: 1256, Title: What Day Is It?"
       ]
      },
      {
       "output_type": "stream",
       "stream": "stdout",
       "text": [
        "\n",
        "Now fetching ProblemID: 1257, Title: Parking Lot"
       ]
      },
      {
       "output_type": "stream",
       "stream": "stdout",
       "text": [
        "\n",
        "Now fetching ProblemID: 1258, Title: The Boggle Game"
       ]
      },
      {
       "output_type": "stream",
       "stream": "stdout",
       "text": [
        "\n",
        "Now fetching ProblemID: 1259, Title: Rails"
       ]
      },
      {
       "output_type": "stream",
       "stream": "stdout",
       "text": [
        "\n",
        "Now fetching ProblemID: 1260, Title: King"
       ]
      },
      {
       "output_type": "stream",
       "stream": "stdout",
       "text": [
        "\n",
        "Now fetching ProblemID: 1261, Title: Prime Land"
       ]
      },
      {
       "output_type": "stream",
       "stream": "stdout",
       "text": [
        "\n",
        "Now fetching ProblemID: 1262, Title: Word"
       ]
      },
      {
       "output_type": "stream",
       "stream": "stdout",
       "text": [
        "\n",
        "Now fetching ProblemID: 1263, Title: Time"
       ]
      },
      {
       "output_type": "stream",
       "stream": "stdout",
       "text": [
        "\n",
        "Now fetching ProblemID: 1264, Title: Puzzle"
       ]
      },
      {
       "output_type": "stream",
       "stream": "stdout",
       "text": [
        "\n",
        "Now fetching ProblemID: 1265, Title: Append"
       ]
      },
      {
       "output_type": "stream",
       "stream": "stdout",
       "text": [
        "\n",
        "Now fetching ProblemID: 1266, Title: Gossiping"
       ]
      },
      {
       "output_type": "stream",
       "stream": "stdout",
       "text": [
        "\n",
        "Now fetching ProblemID: 1267, Title: Mapping the Route"
       ]
      },
      {
       "output_type": "stream",
       "stream": "stdout",
       "text": [
        "\n",
        "Now fetching ProblemID: 1268, Title: Is It A Tree?"
       ]
      },
      {
       "output_type": "stream",
       "stream": "stdout",
       "text": [
        "\n",
        "Now fetching ProblemID: 1269, Title: Coconuts, Revisited"
       ]
      },
      {
       "output_type": "stream",
       "stream": "stdout",
       "text": [
        "\n",
        "Now fetching ProblemID: 1270, Title: Nonstop Travel"
       ]
      },
      {
       "output_type": "stream",
       "stream": "stdout",
       "text": [
        "\n",
        "Now fetching ProblemID: 1271, Title: Doing Windows"
       ]
      },
      {
       "output_type": "stream",
       "stream": "stdout",
       "text": [
        "\n",
        "Now fetching ProblemID: 1272, Title: Numerically Speaking"
       ]
      },
      {
       "output_type": "stream",
       "stream": "stdout",
       "text": [
        "\n",
        "Now fetching ProblemID: 1273, Title: It's Ir-Resist-Able!"
       ]
      },
      {
       "output_type": "stream",
       "stream": "stdout",
       "text": [
        "\n",
        "Now fetching ProblemID: 1274, Title: Getting Chorded"
       ]
      },
      {
       "output_type": "stream",
       "stream": "stdout",
       "text": [
        "\n",
        "Now fetching ProblemID: 1275, Title: Run, Run, Runaround Numbers"
       ]
      },
      {
       "output_type": "stream",
       "stream": "stdout",
       "text": [
        "\n",
        "Now fetching ProblemID: 1276, Title: Optimal Array Multiplication Sequence"
       ]
      },
      {
       "output_type": "stream",
       "stream": "stdout",
       "text": [
        "\n",
        "Now fetching ProblemID: 1277, Title: Transferable Voting"
       ]
      },
      {
       "output_type": "stream",
       "stream": "stdout",
       "text": [
        "\n",
        "Now fetching ProblemID: 1278, Title: Pseudo-Random Numbers"
       ]
      },
      {
       "output_type": "stream",
       "stream": "stdout",
       "text": [
        "\n",
        "Now fetching ProblemID: 1279, Title: Cowculations"
       ]
      },
      {
       "output_type": "stream",
       "stream": "stdout",
       "text": [
        "\n",
        "Now fetching ProblemID: 1280, Title: Intersecting Lines"
       ]
      },
      {
       "output_type": "stream",
       "stream": "stdout",
       "text": [
        "\n",
        "Now fetching ProblemID: 1281, Title: Hi-Q"
       ]
      },
      {
       "output_type": "stream",
       "stream": "stdout",
       "text": [
        "\n",
        "Now fetching ProblemID: 1282, Title: Call Forwarding"
       ]
      },
      {
       "output_type": "stream",
       "stream": "stdout",
       "text": [
        "\n",
        "Now fetching ProblemID: 1283, Title: Making the Grade"
       ]
      },
      {
       "output_type": "stream",
       "stream": "stdout",
       "text": [
        "\n",
        "Now fetching ProblemID: 1284, Title: Perfection"
       ]
      },
      {
       "output_type": "stream",
       "stream": "stdout",
       "text": [
        "\n",
        "Now fetching ProblemID: 1285, Title: Shipping Routes"
       ]
      },
      {
       "output_type": "stream",
       "stream": "stdout",
       "text": [
        "\n",
        "Now fetching ProblemID: 1286, Title: Slurpys"
       ]
      },
      {
       "output_type": "stream",
       "stream": "stdout",
       "text": [
        "\n",
        "Now fetching ProblemID: 1287, Title: Matching Meetings"
       ]
      },
      {
       "output_type": "stream",
       "stream": "stdout",
       "text": [
        "\n",
        "Now fetching ProblemID: 1288, Title: Supercomputer Selection, The Sequel"
       ]
      },
      {
       "output_type": "stream",
       "stream": "stdout",
       "text": [
        "\n",
        "Now fetching ProblemID: 1289, Title: Polygonal Puzzle"
       ]
      },
      {
       "output_type": "stream",
       "stream": "stdout",
       "text": [
        "\n",
        "Now fetching ProblemID: 1290, Title: Word-Search Wonder"
       ]
      },
      {
       "output_type": "stream",
       "stream": "stdout",
       "text": [
        "\n",
        "Now fetching ProblemID: 1291, Title: MPI Maelstrom"
       ]
      },
      {
       "output_type": "stream",
       "stream": "stdout",
       "text": [
        "\n",
        "Now fetching ProblemID: 1292, Title: Integer Inquiry"
       ]
      },
      {
       "output_type": "stream",
       "stream": "stdout",
       "text": [
        "\n",
        "Now fetching ProblemID: 1293, Title: Floppies"
       ]
      },
      {
       "output_type": "stream",
       "stream": "stdout",
       "text": [
        "\n",
        "Now fetching ProblemID: 1294, Title: Golf"
       ]
      },
      {
       "output_type": "stream",
       "stream": "stdout",
       "text": [
        "\n",
        "Now fetching ProblemID: 1295, Title: Reverse Text"
       ]
      },
      {
       "output_type": "stream",
       "stream": "stdout",
       "text": [
        "\n",
        "Now fetching ProblemID: 1296, Title: Stars"
       ]
      },
      {
       "output_type": "stream",
       "stream": "stdout",
       "text": [
        "\n",
        "Now fetching ProblemID: 1297, Title: Hexagon"
       ]
      },
      {
       "output_type": "stream",
       "stream": "stdout",
       "text": [
        "\n",
        "Now fetching ProblemID: 1298, Title: Domino Effect"
       ]
      },
      {
       "output_type": "stream",
       "stream": "stdout",
       "text": [
        "\n",
        "Now fetching ProblemID: 1299, Title: Pendulum"
       ]
      },
      {
       "output_type": "stream",
       "stream": "stdout",
       "text": [
        "\n",
        "Now fetching ProblemID: 1300, Title: Border"
       ]
      },
      {
       "output_type": "stream",
       "stream": "stdout",
       "text": [
        "\n",
        "Now fetching ProblemID: 1301, Title: The New Villa"
       ]
      },
      {
       "output_type": "stream",
       "stream": "stdout",
       "text": [
        "\n",
        "Now fetching ProblemID: 1302, Title: Ships"
       ]
      },
      {
       "output_type": "stream",
       "stream": "stdout",
       "text": [
        "\n",
        "Now fetching ProblemID: 1303, Title: Jury Compromise"
       ]
      },
      {
       "output_type": "stream",
       "stream": "stdout",
       "text": [
        "\n",
        "Now fetching ProblemID: 1304, Title: Tin Cutter"
       ]
      },
      {
       "output_type": "stream",
       "stream": "stdout",
       "text": [
        "\n",
        "Now fetching ProblemID: 1305, Title: FORCAL"
       ]
      },
      {
       "output_type": "stream",
       "stream": "stdout",
       "text": [
        "\n",
        "Now fetching ProblemID: 1306, Title: L-system"
       ]
      },
      {
       "output_type": "stream",
       "stream": "stdout",
       "text": [
        "\n",
        "Now fetching ProblemID: 1307, Title: Packets"
       ]
      },
      {
       "output_type": "stream",
       "stream": "stdout",
       "text": [
        "\n",
        "Now fetching ProblemID: 1308, Title: Crosswords"
       ]
      },
      {
       "output_type": "stream",
       "stream": "stdout",
       "text": [
        "\n",
        "Now fetching ProblemID: 1309, Title: Intervals"
       ]
      },
      {
       "output_type": "stream",
       "stream": "stdout",
       "text": [
        "\n",
        "Now fetching ProblemID: 1310, Title: Robot"
       ]
      },
      {
       "output_type": "stream",
       "stream": "stdout",
       "text": [
        "\n",
        "Now fetching ProblemID: 1311, Title: Network"
       ]
      },
      {
       "output_type": "stream",
       "stream": "stdout",
       "text": [
        "\n",
        "Now fetching ProblemID: 1312, Title: Prime Cuts"
       ]
      },
      {
       "output_type": "stream",
       "stream": "stdout",
       "text": [
        "\n",
        "Now fetching ProblemID: 1313, Title: Gears on a Board"
       ]
      },
      {
       "output_type": "stream",
       "stream": "stdout",
       "text": [
        "\n",
        "Now fetching ProblemID: 1314, Title: Uniform Generator"
       ]
      },
      {
       "output_type": "stream",
       "stream": "stdout",
       "text": [
        "\n",
        "Now fetching ProblemID: 1315, Title: Excuses, Excuses!"
       ]
      },
      {
       "output_type": "stream",
       "stream": "stdout",
       "text": [
        "\n",
        "Now fetching ProblemID: 1316, Title: Station Balance"
       ]
      },
      {
       "output_type": "stream",
       "stream": "stdout",
       "text": [
        "\n",
        "Now fetching ProblemID: 1317, Title: Centipede Collisions"
       ]
      },
      {
       "output_type": "stream",
       "stream": "stdout",
       "text": [
        "\n",
        "Now fetching ProblemID: 1318, Title: Table"
       ]
      },
      {
       "output_type": "stream",
       "stream": "stdout",
       "text": [
        "\n",
        "Now fetching ProblemID: 1319, Title: Black Box"
       ]
      },
      {
       "output_type": "stream",
       "stream": "stdout",
       "text": [
        "\n",
        "Now fetching ProblemID: 1320, Title: DEL Command"
       ]
      },
      {
       "output_type": "stream",
       "stream": "stdout",
       "text": [
        "\n",
        "Now fetching ProblemID: 1321, Title: Parallelepiped Walk"
       ]
      },
      {
       "output_type": "stream",
       "stream": "stdout",
       "text": [
        "\n",
        "Now fetching ProblemID: 1322, Title: Random Number"
       ]
      },
      {
       "output_type": "stream",
       "stream": "stdout",
       "text": [
        "\n",
        "Now fetching ProblemID: 1323, Title: Moscow Time"
       ]
      },
      {
       "output_type": "stream",
       "stream": "stdout",
       "text": [
        "\n",
        "Now fetching ProblemID: 1324, Title: Unix ls"
       ]
      },
      {
       "output_type": "stream",
       "stream": "stdout",
       "text": [
        "\n",
        "Now fetching ProblemID: 1325, Title: Palindromes"
       ]
      },
      {
       "output_type": "stream",
       "stream": "stdout",
       "text": [
        "\n",
        "Now fetching ProblemID: 1326, Title: M*A*S*H"
       ]
      },
      {
       "output_type": "stream",
       "stream": "stdout",
       "text": [
        "\n",
        "Now fetching ProblemID: 1327, Title: Postscript"
       ]
      },
      {
       "output_type": "stream",
       "stream": "stdout",
       "text": [
        "\n",
        "Now fetching ProblemID: 1328, Title: Radar Scopes"
       ]
      },
      {
       "output_type": "stream",
       "stream": "stdout",
       "text": [
        "\n",
        "Now fetching ProblemID: 1329, Title: Message Routing"
       ]
      },
      {
       "output_type": "stream",
       "stream": "stdout",
       "text": [
        "\n",
        "Now fetching ProblemID: 1330, Title: DNA Translation"
       ]
      },
      {
       "output_type": "stream",
       "stream": "stdout",
       "text": [
        "\n",
        "Now fetching ProblemID: 1331, Title: Perfect Cubes"
       ]
      },
      {
       "output_type": "stream",
       "stream": "stdout",
       "text": [
        "\n",
        "Now fetching ProblemID: 1332, Title: A Puzzling Problem"
       ]
      },
      {
       "output_type": "stream",
       "stream": "stdout",
       "text": [
        "\n",
        "Now fetching ProblemID: 1333, Title: Galactic Import"
       ]
      },
      {
       "output_type": "stream",
       "stream": "stdout",
       "text": [
        "\n",
        "Now fetching ProblemID: 1334, Title: Basically Speaking"
       ]
      },
      {
       "output_type": "stream",
       "stream": "stdout",
       "text": [
        "\n",
        "Now fetching ProblemID: 1335, Title: Letter Sequence Analysis"
       ]
      },
      {
       "output_type": "stream",
       "stream": "stdout",
       "text": [
        "\n",
        "Now fetching ProblemID: 1336, Title: Mark-up"
       ]
      },
      {
       "output_type": "stream",
       "stream": "stdout",
       "text": [
        "\n",
        "Now fetching ProblemID: 1337, Title: Pi"
       ]
      },
      {
       "output_type": "stream",
       "stream": "stdout",
       "text": [
        "\n",
        "Now fetching ProblemID: 1338, Title: Up and Down Sequences"
       ]
      },
      {
       "output_type": "stream",
       "stream": "stdout",
       "text": [
        "\n",
        "Now fetching ProblemID: 1339, Title: Machined Surfaces"
       ]
      },
      {
       "output_type": "stream",
       "stream": "stdout",
       "text": [
        "\n",
        "Now fetching ProblemID: 1340, Title: Sunrise"
       ]
      },
      {
       "output_type": "stream",
       "stream": "stdout",
       "text": [
        "\n",
        "Now fetching ProblemID: 1341, Title: LED Test"
       ]
      },
      {
       "output_type": "stream",
       "stream": "stdout",
       "text": [
        "\n",
        "Now fetching ProblemID: 1342, Title: Word Index"
       ]
      },
      {
       "output_type": "stream",
       "stream": "stdout",
       "text": [
        "\n",
        "Now fetching ProblemID: 1343, Title: Molecules"
       ]
      },
      {
       "output_type": "stream",
       "stream": "stdout",
       "text": [
        "\n",
        "Now fetching ProblemID: 1344, Title: A Mazing Problem"
       ]
      },
      {
       "output_type": "stream",
       "stream": "stdout",
       "text": [
        "\n",
        "Now fetching ProblemID: 1345, Title: Best Deal"
       ]
      },
      {
       "output_type": "stream",
       "stream": "stdout",
       "text": [
        "\n",
        "Now fetching ProblemID: 1346, Title: Comparing Your Heroes"
       ]
      },
      {
       "output_type": "stream",
       "stream": "stdout",
       "text": [
        "\n",
        "Now fetching ProblemID: 1347, Title: Determine the Price"
       ]
      },
      {
       "output_type": "stream",
       "stream": "stdout",
       "text": [
        "\n",
        "Now fetching ProblemID: 1348, Title: Enjoy Collisions"
       ]
      },
      {
       "output_type": "stream",
       "stream": "stdout",
       "text": [
        "\n",
        "Now fetching ProblemID: 1349, Title: Four Quarters"
       ]
      },
      {
       "output_type": "stream",
       "stream": "stdout",
       "text": [
        "\n",
        "Now fetching ProblemID: 1350, Title: The Drunk Jailer"
       ]
      },
      {
       "output_type": "stream",
       "stream": "stdout",
       "text": [
        "\n",
        "Now fetching ProblemID: 1351, Title: L-I-N-G-O: lingo"
       ]
      },
      {
       "output_type": "stream",
       "stream": "stdout",
       "text": [
        "\n",
        "Now fetching ProblemID: 1352, Title: Number Base Conversion"
       ]
      },
      {
       "output_type": "stream",
       "stream": "stdout",
       "text": [
        "\n",
        "Now fetching ProblemID: 1353, Title: Unimodal Palindromic Decompositions"
       ]
      },
      {
       "output_type": "stream",
       "stream": "stdout",
       "text": [
        "\n",
        "Now fetching ProblemID: 1354, Title: Extended Lights Out"
       ]
      },
      {
       "output_type": "stream",
       "stream": "stdout",
       "text": [
        "\n",
        "Now fetching ProblemID: 1355, Title: Dehuff"
       ]
      },
      {
       "output_type": "stream",
       "stream": "stdout",
       "text": [
        "\n",
        "Now fetching ProblemID: 1356, Title: Picture Puzzle"
       ]
      },
      {
       "output_type": "stream",
       "stream": "stdout",
       "text": [
        "\n",
        "Now fetching ProblemID: 1357, Title: Strictly Inscribed Similar Triangles"
       ]
      },
      {
       "output_type": "stream",
       "stream": "stdout",
       "text": [
        "\n",
        "Now fetching ProblemID: 1358, Title: Moving Object Recognition"
       ]
      },
      {
       "output_type": "stream",
       "stream": "stdout",
       "text": [
        "\n",
        "Now fetching ProblemID: 1359, Title: Random Walk"
       ]
      },
      {
       "output_type": "stream",
       "stream": "stdout",
       "text": [
        "\n",
        "Now fetching ProblemID: 1360, Title: Radar Installation"
       ]
      },
      {
       "output_type": "stream",
       "stream": "stdout",
       "text": [
        "\n",
        "Now fetching ProblemID: 1361, Title: Holedox Moving"
       ]
      },
      {
       "output_type": "stream",
       "stream": "stdout",
       "text": [
        "\n",
        "Now fetching ProblemID: 1362, Title: Game Prediction"
       ]
      },
      {
       "output_type": "stream",
       "stream": "stdout",
       "text": [
        "\n",
        "Now fetching ProblemID: 1363, Title: Chocolate"
       ]
      },
      {
       "output_type": "stream",
       "stream": "stdout",
       "text": [
        "\n",
        "Now fetching ProblemID: 1364, Title: Machine Schedule"
       ]
      },
      {
       "output_type": "stream",
       "stream": "stdout",
       "text": [
        "\n",
        "Now fetching ProblemID: 1365, Title: Mileage Bank"
       ]
      },
      {
       "output_type": "stream",
       "stream": "stdout",
       "text": [
        "\n",
        "Now fetching ProblemID: 1366, Title: Cash Machine"
       ]
      },
      {
       "output_type": "stream",
       "stream": "stdout",
       "text": [
        "\n",
        "Now fetching ProblemID: 1367, Title: Beer Land"
       ]
      },
      {
       "output_type": "stream",
       "stream": "stdout",
       "text": [
        "\n",
        "Now fetching ProblemID: 1368, Title: BOAT"
       ]
      },
      {
       "output_type": "stream",
       "stream": "stdout",
       "text": [
        "\n",
        "Now fetching ProblemID: 1369, Title: Art Gallery"
       ]
      },
      {
       "output_type": "stream",
       "stream": "stdout",
       "text": [
        "\n",
        "Now fetching ProblemID: 1370, Title: Game"
       ]
      },
      {
       "output_type": "stream",
       "stream": "stdout",
       "text": [
        "\n",
        "Now fetching ProblemID: 1371, Title: MANAGER"
       ]
      },
      {
       "output_type": "stream",
       "stream": "stdout",
       "text": [
        "\n",
        "Now fetching ProblemID: 1372, Title: Networking"
       ]
      },
      {
       "output_type": "stream",
       "stream": "stdout",
       "text": [
        "\n",
        "Now fetching ProblemID: 1373, Title: Sly Number"
       ]
      },
      {
       "output_type": "stream",
       "stream": "stdout",
       "text": [
        "\n",
        "Now fetching ProblemID: 1374, Title: Substrings"
       ]
      },
      {
       "output_type": "stream",
       "stream": "stdout",
       "text": [
        "\n",
        "Now fetching ProblemID: 1375, Title: Pass-Muraille"
       ]
      },
      {
       "output_type": "stream",
       "stream": "stdout",
       "text": [
        "\n",
        "Now fetching ProblemID: 1376, Title: RoboContest"
       ]
      },
      {
       "output_type": "stream",
       "stream": "stdout",
       "text": [
        "\n",
        "Now fetching ProblemID: 1377, Title: Grandpa's Estate"
       ]
      },
      {
       "output_type": "stream",
       "stream": "stdout",
       "text": [
        "\n",
        "Now fetching ProblemID: 1378, Title: The Alphabet Game"
       ]
      },
      {
       "output_type": "stream",
       "stream": "stdout",
       "text": [
        "\n",
        "Now fetching ProblemID: 1379, Title: Wild Domains"
       ]
      },
      {
       "output_type": "stream",
       "stream": "stdout",
       "text": [
        "\n",
        "Now fetching ProblemID: 1380, Title: Microfiches"
       ]
      },
      {
       "output_type": "stream",
       "stream": "stdout",
       "text": [
        "\n",
        "Now fetching ProblemID: 1381, Title: Street Crossing"
       ]
      },
      {
       "output_type": "stream",
       "stream": "stdout",
       "text": [
        "\n",
        "Now fetching ProblemID: 1382, Title: A Simple Task"
       ]
      },
      {
       "output_type": "stream",
       "stream": "stdout",
       "text": [
        "\n",
        "Now fetching ProblemID: 1383, Title: Binary Numbers"
       ]
      },
      {
       "output_type": "stream",
       "stream": "stdout",
       "text": [
        "\n",
        "Now fetching ProblemID: 1384, Title: Alice and Bob"
       ]
      },
      {
       "output_type": "stream",
       "stream": "stdout",
       "text": [
        "\n",
        "Now fetching ProblemID: 1385, Title: Binary Stirling Numbers"
       ]
      },
      {
       "output_type": "stream",
       "stream": "stdout",
       "text": [
        "\n",
        "Now fetching ProblemID: 1386, Title: Calendar of Maya"
       ]
      },
      {
       "output_type": "stream",
       "stream": "stdout",
       "text": [
        "\n",
        "Now fetching ProblemID: 1387, Title: Decoding Morse Sequences"
       ]
      },
      {
       "output_type": "stream",
       "stream": "stdout",
       "text": [
        "\n",
        "Now fetching ProblemID: 1388, Title: Exchanges"
       ]
      },
      {
       "output_type": "stream",
       "stream": "stdout",
       "text": [
        "\n",
        "Now fetching ProblemID: 1389, Title: Fill the Cisterns!"
       ]
      },
      {
       "output_type": "stream",
       "stream": "stdout",
       "text": [
        "\n",
        "Now fetching ProblemID: 1390, Title: Gates"
       ]
      },
      {
       "output_type": "stream",
       "stream": "stdout",
       "text": [
        "\n",
        "Now fetching ProblemID: 1391, Title: Horizontally Visible Segments"
       ]
      },
      {
       "output_type": "stream",
       "stream": "stdout",
       "text": [
        "\n",
        "Now fetching ProblemID: 1392, Title: The Hardest Problem Ever"
       ]
      },
      {
       "output_type": "stream",
       "stream": "stdout",
       "text": [
        "\n",
        "Now fetching ProblemID: 1393, Title: Rubik's Cube Solver"
       ]
      },
      {
       "output_type": "stream",
       "stream": "stdout",
       "text": [
        "\n",
        "Now fetching ProblemID: 1394, Title: Polar Explorer"
       ]
      },
      {
       "output_type": "stream",
       "stream": "stdout",
       "text": [
        "\n",
        "Now fetching ProblemID: 1395, Title: Door Man"
       ]
      },
      {
       "output_type": "stream",
       "stream": "stdout",
       "text": [
        "\n",
        "Now fetching ProblemID: 1396, Title: The Umbrella Problem: 2054"
       ]
      },
      {
       "output_type": "stream",
       "stream": "stdout",
       "text": [
        "\n",
        "Now fetching ProblemID: 1397, Title: Blue Gene, Jr."
       ]
      },
      {
       "output_type": "stream",
       "stream": "stdout",
       "text": [
        "\n",
        "Now fetching ProblemID: 1398, Title: Byte Me!"
       ]
      },
      {
       "output_type": "stream",
       "stream": "stdout",
       "text": [
        "\n",
        "Now fetching ProblemID: 1399, Title: World's Worst Bus Schedule"
       ]
      },
      {
       "output_type": "stream",
       "stream": "stdout",
       "text": [
        "\n",
        "Now fetching ProblemID: 1400, Title: Programmer, Rank Thyself"
       ]
      },
      {
       "output_type": "stream",
       "stream": "stdout",
       "text": [
        "\n",
        "Now fetching ProblemID: 1401, Title: Hilbert Curve Intersections"
       ]
      },
      {
       "output_type": "stream",
       "stream": "stdout",
       "text": [
        "\n",
        "Now fetching ProblemID: 1402, Title: Magnificent Meatballs"
       ]
      },
      {
       "output_type": "stream",
       "stream": "stdout",
       "text": [
        "\n",
        "Now fetching ProblemID: 1403, Title: Safecracker"
       ]
      },
      {
       "output_type": "stream",
       "stream": "stdout",
       "text": [
        "\n",
        "Now fetching ProblemID: 1404, Title: Oil Pipeline"
       ]
      },
      {
       "output_type": "stream",
       "stream": "stdout",
       "text": [
        "\n",
        "Now fetching ProblemID: 1405, Title: Tanning Salon"
       ]
      },
      {
       "output_type": "stream",
       "stream": "stdout",
       "text": [
        "\n",
        "Now fetching ProblemID: 1406, Title: Jungle Roads"
       ]
      },
      {
       "output_type": "stream",
       "stream": "stdout",
       "text": [
        "\n",
        "Now fetching ProblemID: 1407, Title: Packing Unit 4D Cubes"
       ]
      },
      {
       "output_type": "stream",
       "stream": "stdout",
       "text": [
        "\n",
        "Now fetching ProblemID: 1408, Title: The Fun Number System"
       ]
      },
      {
       "output_type": "stream",
       "stream": "stdout",
       "text": [
        "\n",
        "Now fetching ProblemID: 1409, Title: Communication System"
       ]
      },
      {
       "output_type": "stream",
       "stream": "stdout",
       "text": [
        "\n",
        "Now fetching ProblemID: 1410, Title: Number Sequence"
       ]
      },
      {
       "output_type": "stream",
       "stream": "stdout",
       "text": [
        "\n",
        "Now fetching ProblemID: 1411, Title: Anniversary"
       ]
      },
      {
       "output_type": "stream",
       "stream": "stdout",
       "text": [
        "\n",
        "Now fetching ProblemID: 1412, Title: Tester Program"
       ]
      },
      {
       "output_type": "stream",
       "stream": "stdout",
       "text": [
        "\n",
        "Now fetching ProblemID: 1413, Title: 2D Nim"
       ]
      },
      {
       "output_type": "stream",
       "stream": "stdout",
       "text": [
        "\n",
        "Now fetching ProblemID: 1414, Title: Number Steps"
       ]
      },
      {
       "output_type": "stream",
       "stream": "stdout",
       "text": [
        "\n",
        "Now fetching ProblemID: 1415, Title: Puzzlestan"
       ]
      },
      {
       "output_type": "stream",
       "stream": "stdout",
       "text": [
        "\n",
        "Now fetching ProblemID: 1416, Title: Dynamic Declaration Language (DDL)"
       ]
      },
      {
       "output_type": "stream",
       "stream": "stdout",
       "text": [
        "\n",
        "Now fetching ProblemID: 1417, Title: Color Tunnels"
       ]
      },
      {
       "output_type": "stream",
       "stream": "stdout",
       "text": [
        "\n",
        "Now fetching ProblemID: 1418, Title: Lazy Math Instructor"
       ]
      },
      {
       "output_type": "stream",
       "stream": "stdout",
       "text": [
        "\n",
        "Now fetching ProblemID: 1419, Title: Buggy Sat"
       ]
      },
      {
       "output_type": "stream",
       "stream": "stdout",
       "text": [
        "\n",
        "Now fetching ProblemID: 1420, Title: Cashier Employment"
       ]
      },
      {
       "output_type": "stream",
       "stream": "stdout",
       "text": [
        "\n",
        "Now fetching ProblemID: 1421, Title: Dolphin Pool"
       ]
      },
      {
       "output_type": "stream",
       "stream": "stdout",
       "text": [
        "\n",
        "Now fetching ProblemID: 1422, Title: 3002 Rubbery"
       ]
      },
      {
       "output_type": "stream",
       "stream": "stdout",
       "text": [
        "\n",
        "Now fetching ProblemID: 1423, Title: (Your)((Term)((Project)))"
       ]
      },
      {
       "output_type": "stream",
       "stream": "stdout",
       "text": [
        "\n",
        "Now fetching ProblemID: 1424, Title: Painting A Board"
       ]
      },
      {
       "output_type": "stream",
       "stream": "stdout",
       "text": [
        "\n",
        "Now fetching ProblemID: 1425, Title: Crossed Matchings"
       ]
      },
      {
       "output_type": "stream",
       "stream": "stdout",
       "text": [
        "\n",
        "Now fetching ProblemID: 1426, Title: Counting Rectangles"
       ]
      },
      {
       "output_type": "stream",
       "stream": "stdout",
       "text": [
        "\n",
        "Now fetching ProblemID: 1427, Title: An Old Stone Game"
       ]
      },
      {
       "output_type": "stream",
       "stream": "stdout",
       "text": [
        "\n",
        "Now fetching ProblemID: 1428, Title: Magazine Delivery"
       ]
      },
      {
       "output_type": "stream",
       "stream": "stdout",
       "text": [
        "\n",
        "Now fetching ProblemID: 1429, Title: Space Ant"
       ]
      },
      {
       "output_type": "stream",
       "stream": "stdout",
       "text": [
        "\n",
        "Now fetching ProblemID: 1430, Title: The Erythea Campaign"
       ]
      },
      {
       "output_type": "stream",
       "stream": "stdout",
       "text": [
        "\n",
        "Now fetching ProblemID: 1431, Title: Does This Make Me Look Fat?"
       ]
      },
      {
       "output_type": "stream",
       "stream": "stdout",
       "text": [
        "\n",
        "Now fetching ProblemID: 1432, Title: Manifest Destiny"
       ]
      },
      {
       "output_type": "stream",
       "stream": "stdout",
       "text": [
        "\n",
        "Now fetching ProblemID: 1433, Title: Treasure Hunters"
       ]
      },
      {
       "output_type": "stream",
       "stream": "stdout",
       "text": [
        "\n",
        "Now fetching ProblemID: 1434, Title: Frogger's For Dinner"
       ]
      },
      {
       "output_type": "stream",
       "stream": "stdout",
       "text": [
        "\n",
        "Now fetching ProblemID: 1435, Title: Deeper Blue"
       ]
      },
      {
       "output_type": "stream",
       "stream": "stdout",
       "text": [
        "\n",
        "Now fetching ProblemID: 1436, Title: Get Out 'Da Way!"
       ]
      },
      {
       "output_type": "stream",
       "stream": "stdout",
       "text": [
        "\n",
        "Now fetching ProblemID: 1437, Title: Missing Piece 2001"
       ]
      },
      {
       "output_type": "stream",
       "stream": "stdout",
       "text": [
        "\n",
        "Now fetching ProblemID: 1438, Title: Asteroids!"
       ]
      },
      {
       "output_type": "stream",
       "stream": "stdout",
       "text": [
        "\n",
        "Now fetching ProblemID: 1439, Title: Area Ratio"
       ]
      },
      {
       "output_type": "stream",
       "stream": "stdout",
       "text": [
        "\n",
        "Now fetching ProblemID: 1440, Title: Bone Sort"
       ]
      },
      {
       "output_type": "stream",
       "stream": "stdout",
       "text": [
        "\n",
        "Now fetching ProblemID: 1441, Title: Curriculum Made Easy"
       ]
      },
      {
       "output_type": "stream",
       "stream": "stdout",
       "text": [
        "\n",
        "Now fetching ProblemID: 1442, Title: Dinner Is Ready"
       ]
      },
      {
       "output_type": "stream",
       "stream": "stdout",
       "text": [
        "\n",
        "Now fetching ProblemID: 1443, Title: E-Puzzle Is Fun"
       ]
      },
      {
       "output_type": "stream",
       "stream": "stdout",
       "text": [
        "\n",
        "Now fetching ProblemID: 1444, Title: Final Standings"
       ]
      },
      {
       "output_type": "stream",
       "stream": "stdout",
       "text": [
        "\n",
        "Now fetching ProblemID: 1445, Title: Game Of Logic"
       ]
      },
      {
       "output_type": "stream",
       "stream": "stdout",
       "text": [
        "\n",
        "Now fetching ProblemID: 1446, Title: Hyper-Prime Expression"
       ]
      },
      {
       "output_type": "stream",
       "stream": "stdout",
       "text": [
        "\n",
        "Now fetching ProblemID: 1447, Title: Identity Decode"
       ]
      },
      {
       "output_type": "stream",
       "stream": "stdout",
       "text": [
        "\n",
        "Now fetching ProblemID: 1448, Title: Pattern Matching Using Regular Expression"
       ]
      },
      {
       "output_type": "stream",
       "stream": "stdout",
       "text": [
        "\n",
        "Now fetching ProblemID: 1449, Title: Maximum Sum"
       ]
      },
      {
       "output_type": "stream",
       "stream": "stdout",
       "text": [
        "\n",
        "Now fetching ProblemID: 1450, Title: Minimal Circle"
       ]
      },
      {
       "output_type": "stream",
       "stream": "stdout",
       "text": [
        "\n",
        "Now fetching ProblemID: 1451, Title: Elevator Simulation"
       ]
      },
      {
       "output_type": "stream",
       "stream": "stdout",
       "text": [
        "\n",
        "Now fetching ProblemID: 1452, Title: Card Game - Kitty Fishing"
       ]
      },
      {
       "output_type": "stream",
       "stream": "stdout",
       "text": [
        "\n",
        "Now fetching ProblemID: 1453, Title: Surround the Trees"
       ]
      },
      {
       "output_type": "stream",
       "stream": "stdout",
       "text": [
        "\n",
        "Now fetching ProblemID: 1454, Title: Employment Planning"
       ]
      },
      {
       "output_type": "stream",
       "stream": "stdout",
       "text": [
        "\n",
        "Now fetching ProblemID: 1455, Title: Schedule Problem"
       ]
      },
      {
       "output_type": "stream",
       "stream": "stdout",
       "text": [
        "\n",
        "Now fetching ProblemID: 1456, Title: Minimum Transport Cost"
       ]
      },
      {
       "output_type": "stream",
       "stream": "stdout",
       "text": [
        "\n",
        "Now fetching ProblemID: 1457, Title: Prime Ring Problem"
       ]
      },
      {
       "output_type": "stream",
       "stream": "stdout",
       "text": [
        "\n",
        "Now fetching ProblemID: 1458, Title: Milk Bottle Data"
       ]
      },
      {
       "output_type": "stream",
       "stream": "stdout",
       "text": [
        "\n",
        "Now fetching ProblemID: 1459, Title: String Distance and Transform Process"
       ]
      },
      {
       "output_type": "stream",
       "stream": "stdout",
       "text": [
        "\n",
        "Now fetching ProblemID: 1460, Title: The Partition of a Cake"
       ]
      },
      {
       "output_type": "stream",
       "stream": "stdout",
       "text": [
        "\n",
        "Now fetching ProblemID: 1461, Title: The Problem of Train Setout"
       ]
      },
      {
       "output_type": "stream",
       "stream": "stdout",
       "text": [
        "\n",
        "Now fetching ProblemID: 1462, Title: Team Them Up!"
       ]
      },
      {
       "output_type": "stream",
       "stream": "stdout",
       "text": [
        "\n",
        "Now fetching ProblemID: 1463, Title: Brackets Sequence"
       ]
      },
      {
       "output_type": "stream",
       "stream": "stdout",
       "text": [
        "\n",
        "Now fetching ProblemID: 1464, Title: Cable Master"
       ]
      },
      {
       "output_type": "stream",
       "stream": "stdout",
       "text": [
        "\n",
        "Now fetching ProblemID: 1465, Title: Wall"
       ]
      },
      {
       "output_type": "stream",
       "stream": "stdout",
       "text": [
        "\n",
        "Now fetching ProblemID: 1466, Title: Chemical Reactions"
       ]
      },
      {
       "output_type": "stream",
       "stream": "stdout",
       "text": [
        "\n",
        "Now fetching ProblemID: 1467, Title: Statistical Trouble"
       ]
      },
      {
       "output_type": "stream",
       "stream": "stdout",
       "text": [
        "\n",
        "Now fetching ProblemID: 1468, Title: Library"
       ]
      },
      {
       "output_type": "stream",
       "stream": "stdout",
       "text": [
        "\n",
        "Now fetching ProblemID: 1469, Title: Pairs of Integers"
       ]
      },
      {
       "output_type": "stream",
       "stream": "stdout",
       "text": [
        "\n",
        "Now fetching ProblemID: 1470, Title: How Many Trees?"
       ]
      },
      {
       "output_type": "stream",
       "stream": "stdout",
       "text": [
        "\n",
        "Now fetching ProblemID: 1471, Title: Triangle Construction"
       ]
      },
      {
       "output_type": "stream",
       "stream": "stdout",
       "text": [
        "\n",
        "Now fetching ProblemID: 1472, Title: Overlapping Shapes"
       ]
      },
      {
       "output_type": "stream",
       "stream": "stdout",
       "text": [
        "\n",
        "Now fetching ProblemID: 1473, Title: Guess The Number"
       ]
      },
      {
       "output_type": "stream",
       "stream": "stdout",
       "text": [
        "\n",
        "Now fetching ProblemID: 1474, Title: Counter Strike"
       ]
      },
      {
       "output_type": "stream",
       "stream": "stdout",
       "text": [
        "\n",
        "Now fetching ProblemID: 1475, Title: Ranklist"
       ]
      },
      {
       "output_type": "stream",
       "stream": "stdout",
       "text": [
        "\n",
        "Now fetching ProblemID: 1476, Title: Weird Clock"
       ]
      },
      {
       "output_type": "stream",
       "stream": "stdout",
       "text": [
        "\n",
        "Now fetching ProblemID: 1477, Title: File Compression"
       ]
      },
      {
       "output_type": "stream",
       "stream": "stdout",
       "text": [
        "\n",
        "Now fetching ProblemID: 1478, Title: Polynomial Summation"
       ]
      },
      {
       "output_type": "stream",
       "stream": "stdout",
       "text": [
        "\n",
        "Now fetching ProblemID: 1479, Title: Dweep"
       ]
      },
      {
       "output_type": "stream",
       "stream": "stdout",
       "text": [
        "\n",
        "Now fetching ProblemID: 1480, Title: ppAnt's Journey"
       ]
      },
      {
       "output_type": "stream",
       "stream": "stdout",
       "text": [
        "\n",
        "Now fetching ProblemID: 1481, Title: Namenum"
       ]
      },
      {
       "output_type": "stream",
       "stream": "stdout",
       "text": [
        "\n",
        "Now fetching ProblemID: 1482, Title: Partitions"
       ]
      },
      {
       "output_type": "stream",
       "stream": "stdout",
       "text": [
        "\n",
        "Now fetching ProblemID: 1483, Title: Robots"
       ]
      },
      {
       "output_type": "stream",
       "stream": "stdout",
       "text": [
        "\n",
        "Now fetching ProblemID: 1484, Title: Minimum Inversion Number"
       ]
      },
      {
       "output_type": "stream",
       "stream": "stdout",
       "text": [
        "\n",
        "Now fetching ProblemID: 1485, Title: Messy Matrix"
       ]
      },
      {
       "output_type": "stream",
       "stream": "stdout",
       "text": [
        "\n",
        "Now fetching ProblemID: 1486, Title: Color the Tree"
       ]
      },
      {
       "output_type": "stream",
       "stream": "stdout",
       "text": [
        "\n",
        "Now fetching ProblemID: 1487, Title: Playing Cards"
       ]
      },
      {
       "output_type": "stream",
       "stream": "stdout",
       "text": [
        "\n",
        "Now fetching ProblemID: 1488, Title: Navigation"
       ]
      },
      {
       "output_type": "stream",
       "stream": "stdout",
       "text": [
        "\n",
        "Now fetching ProblemID: 1489, Title: 2^x mod n = 1"
       ]
      },
      {
       "output_type": "stream",
       "stream": "stdout",
       "text": [
        "\n",
        "Now fetching ProblemID: 1490, Title: Satellite Antenna"
       ]
      },
      {
       "output_type": "stream",
       "stream": "stdout",
       "text": [
        "\n",
        "Now fetching ProblemID: 1491, Title: Toy Bricks"
       ]
      },
      {
       "output_type": "stream",
       "stream": "stdout",
       "text": [
        "\n",
        "Now fetching ProblemID: 1492, Title: Maximum Clique"
       ]
      },
      {
       "output_type": "stream",
       "stream": "stdout",
       "text": [
        "\n",
        "Now fetching ProblemID: 1493, Title: DPCM Encoding"
       ]
      },
      {
       "output_type": "stream",
       "stream": "stdout",
       "text": [
        "\n",
        "Now fetching ProblemID: 1494, Title: Climbing Worm"
       ]
      },
      {
       "output_type": "stream",
       "stream": "stdout",
       "text": [
        "\n",
        "Now fetching ProblemID: 1495, Title: Stacking Tower"
       ]
      },
      {
       "output_type": "stream",
       "stream": "stdout",
       "text": [
        "\n",
        "Now fetching ProblemID: 1496, Title: Best Fit"
       ]
      },
      {
       "output_type": "stream",
       "stream": "stdout",
       "text": [
        "\n",
        "Now fetching ProblemID: 1497, Title: Ball Toss"
       ]
      },
      {
       "output_type": "stream",
       "stream": "stdout",
       "text": [
        "\n",
        "Now fetching ProblemID: 1498, Title: Galactic Breakup"
       ]
      },
      {
       "output_type": "stream",
       "stream": "stdout",
       "text": [
        "\n",
        "Now fetching ProblemID: 1499, Title: Increasing Sequences"
       ]
      },
      {
       "output_type": "stream",
       "stream": "stdout",
       "text": [
        "\n",
        "Now fetching ProblemID: 1500, Title: Pre-Post-erous!"
       ]
      },
      {
       "output_type": "stream",
       "stream": "stdout",
       "text": [
        "\n",
        "Now fetching ProblemID: 1501, Title: Knockout Tournament"
       ]
      },
      {
       "output_type": "stream",
       "stream": "stdout",
       "text": [
        "\n",
        "Now fetching ProblemID: 1502, Title: Plugged In"
       ]
      },
      {
       "output_type": "stream",
       "stream": "stdout",
       "text": [
        "\n",
        "Now fetching ProblemID: 1503, Title: One Person \"The Price is Right\""
       ]
      },
      {
       "output_type": "stream",
       "stream": "stdout",
       "text": [
        "\n",
        "Now fetching ProblemID: 1504, Title: Slots of Fun"
       ]
      },
      {
       "output_type": "stream",
       "stream": "stdout",
       "text": [
        "\n",
        "Now fetching ProblemID: 1505, Title: Solitaire"
       ]
      },
      {
       "output_type": "stream",
       "stream": "stdout",
       "text": [
        "\n",
        "Now fetching ProblemID: 1506, Title: Left labyrinths"
       ]
      },
      {
       "output_type": "stream",
       "stream": "stdout",
       "text": [
        "\n",
        "Now fetching ProblemID: 1507, Title: Crazy Search"
       ]
      },
      {
       "output_type": "stream",
       "stream": "stdout",
       "text": [
        "\n",
        "Now fetching ProblemID: 1508, Title: Intervals"
       ]
      },
      {
       "output_type": "stream",
       "stream": "stdout",
       "text": [
        "\n",
        "Now fetching ProblemID: 1509, Title: Family"
       ]
      },
      {
       "output_type": "stream",
       "stream": "stdout",
       "text": [
        "\n",
        "Now fetching ProblemID: 1510, Title: Timetable"
       ]
      },
      {
       "output_type": "stream",
       "stream": "stdout",
       "text": [
        "\n",
        "Now fetching ProblemID: 1511, Title: Word Puzzles"
       ]
      },
      {
       "output_type": "stream",
       "stream": "stdout",
       "text": [
        "\n",
        "Now fetching ProblemID: 1512, Title: Water Treatment Plants"
       ]
      },
      {
       "output_type": "stream",
       "stream": "stdout",
       "text": [
        "\n",
        "Now fetching ProblemID: 1513, Title: Servers"
       ]
      },
      {
       "output_type": "stream",
       "stream": "stdout",
       "text": [
        "\n",
        "Now fetching ProblemID: 1514, Title: Fake Tickets"
       ]
      },
      {
       "output_type": "stream",
       "stream": "stdout",
       "text": [
        "\n",
        "Now fetching ProblemID: 1515, Title: Square Lottery"
       ]
      },
      {
       "output_type": "stream",
       "stream": "stdout",
       "text": [
        "\n",
        "Now fetching ProblemID: 1516, Title: Uncle Tom's Inherited Land"
       ]
      },
      {
       "output_type": "stream",
       "stream": "stdout",
       "text": [
        "\n",
        "Now fetching ProblemID: 1517, Title: Grandpa's Rubik Cube"
       ]
      },
      {
       "output_type": "stream",
       "stream": "stdout",
       "text": [
        "\n",
        "Now fetching ProblemID: 1518, Title: This Sentence is False"
       ]
      },
      {
       "output_type": "stream",
       "stream": "stdout",
       "text": [
        "\n",
        "Now fetching ProblemID: 1519, Title: Will Indiana Jones Get There?"
       ]
      },
      {
       "output_type": "stream",
       "stream": "stdout",
       "text": [
        "\n",
        "Now fetching ProblemID: 1520, Title: Duty Free Shop"
       ]
      },
      {
       "output_type": "stream",
       "stream": "stdout",
       "text": [
        "\n",
        "Now fetching ProblemID: 1521, Title: Not Too Convex Hull"
       ]
      },
      {
       "output_type": "stream",
       "stream": "stdout",
       "text": [
        "\n",
        "Now fetching ProblemID: 1522, Title: I hate SPAM, but some people love it"
       ]
      },
      {
       "output_type": "stream",
       "stream": "stdout",
       "text": [
        "\n",
        "Now fetching ProblemID: 1523, Title: Noise Effect"
       ]
      },
      {
       "output_type": "stream",
       "stream": "stdout",
       "text": [
        "\n",
        "Now fetching ProblemID: 1524, Title: Supermarket"
       ]
      },
      {
       "output_type": "stream",
       "stream": "stdout",
       "text": [
        "\n",
        "Now fetching ProblemID: 1525, Title: Air Raid"
       ]
      },
      {
       "output_type": "stream",
       "stream": "stdout",
       "text": [
        "\n",
        "Now fetching ProblemID: 1526, Title: Big Number"
       ]
      },
      {
       "output_type": "stream",
       "stream": "stdout",
       "text": [
        "\n",
        "Now fetching ProblemID: 1527, Title: Chat Rooms"
       ]
      },
      {
       "output_type": "stream",
       "stream": "stdout",
       "text": [
        "\n",
        "Now fetching ProblemID: 1528, Title: Diamonds"
       ]
      },
      {
       "output_type": "stream",
       "stream": "stdout",
       "text": [
        "\n",
        "Now fetching ProblemID: 1529, Title: Enigmatic Travel"
       ]
      },
      {
       "output_type": "stream",
       "stream": "stdout",
       "text": [
        "\n",
        "Now fetching ProblemID: 1530, Title: Find The Multiple"
       ]
      },
      {
       "output_type": "stream",
       "stream": "stdout",
       "text": [
        "\n",
        "Now fetching ProblemID: 1531, Title: Get Them All"
       ]
      },
      {
       "output_type": "stream",
       "stream": "stdout",
       "text": [
        "\n",
        "Now fetching ProblemID: 1532, Title: Hermes' Colony"
       ]
      },
      {
       "output_type": "stream",
       "stream": "stdout",
       "text": [
        "\n",
        "Now fetching ProblemID: 1533, Title: Triangle"
       ]
      },
      {
       "output_type": "stream",
       "stream": "stdout",
       "text": [
        "\n",
        "Now fetching ProblemID: 1534, Title: Finding a Word in a Text"
       ]
      },
      {
       "output_type": "stream",
       "stream": "stdout",
       "text": [
        "\n",
        "Now fetching ProblemID: 1535, Title: Lucky Ticket"
       ]
      },
      {
       "output_type": "stream",
       "stream": "stdout",
       "text": [
        "\n",
        "Now fetching ProblemID: 1536, Title: Labyrinth"
       ]
      },
      {
       "output_type": "stream",
       "stream": "stdout",
       "text": [
        "\n",
        "Now fetching ProblemID: 1537, Title: Playing with a Calculator"
       ]
      },
      {
       "output_type": "stream",
       "stream": "stdout",
       "text": [
        "\n",
        "Now fetching ProblemID: 1538, Title: Cipher"
       ]
      },
      {
       "output_type": "stream",
       "stream": "stdout",
       "text": [
        "\n",
        "Now fetching ProblemID: 1539, Title: Lot"
       ]
      },
      {
       "output_type": "stream",
       "stream": "stdout",
       "text": [
        "\n",
        "Now fetching ProblemID: 1540, Title: Censored!"
       ]
      },
      {
       "output_type": "stream",
       "stream": "stdout",
       "text": [
        "\n",
        "Now fetching ProblemID: 1541, Title: Fence"
       ]
      },
      {
       "output_type": "stream",
       "stream": "stdout",
       "text": [
        "\n",
        "Now fetching ProblemID: 1542, Title: Network"
       ]
      },
      {
       "output_type": "stream",
       "stream": "stdout",
       "text": [
        "\n",
        "Now fetching ProblemID: 1543, Title: Stripies"
       ]
      },
      {
       "output_type": "stream",
       "stream": "stdout",
       "text": [
        "\n",
        "Now fetching ProblemID: 1544, Title: Currency Exchange"
       ]
      },
      {
       "output_type": "stream",
       "stream": "stdout",
       "text": [
        "\n",
        "Now fetching ProblemID: 1545, Title: Chapayev"
       ]
      },
      {
       "output_type": "stream",
       "stream": "stdout",
       "text": [
        "\n",
        "Now fetching ProblemID: 1546, Title: Fillword"
       ]
      },
      {
       "output_type": "stream",
       "stream": "stdout",
       "text": [
        "\n",
        "Now fetching ProblemID: 1547, Title: Subnumber"
       ]
      },
      {
       "output_type": "stream",
       "stream": "stdout",
       "text": [
        "\n",
        "Now fetching ProblemID: 1548, Title: Funny Card Game"
       ]
      },
      {
       "output_type": "stream",
       "stream": "stdout",
       "text": [
        "\n",
        "Now fetching ProblemID: 1549, Title: Amusing Numbers"
       ]
      },
      {
       "output_type": "stream",
       "stream": "stdout",
       "text": [
        "\n",
        "Now fetching ProblemID: 1550, Title: Bricks"
       ]
      },
      {
       "output_type": "stream",
       "stream": "stdout",
       "text": [
        "\n",
        "Now fetching ProblemID: 1551, Title: Cricket Field"
       ]
      },
      {
       "output_type": "stream",
       "stream": "stdout",
       "text": [
        "\n",
        "Now fetching ProblemID: 1552, Title: Decoding Task"
       ]
      },
      {
       "output_type": "stream",
       "stream": "stdout",
       "text": [
        "\n",
        "Now fetching ProblemID: 1553, Title: Evacuation Plan"
       ]
      },
      {
       "output_type": "stream",
       "stream": "stdout",
       "text": [
        "\n",
        "Now fetching ProblemID: 1554, Title: Folding"
       ]
      },
      {
       "output_type": "stream",
       "stream": "stdout",
       "text": [
        "\n",
        "Now fetching ProblemID: 1555, Title: Ghost Busters"
       ]
      },
      {
       "output_type": "stream",
       "stream": "stdout",
       "text": [
        "\n",
        "Now fetching ProblemID: 1556, Title: Heroes Of Might And Magic"
       ]
      },
      {
       "output_type": "stream",
       "stream": "stdout",
       "text": [
        "\n",
        "Now fetching ProblemID: 1557, Title: Inlay Cutters"
       ]
      },
      {
       "output_type": "stream",
       "stream": "stdout",
       "text": [
        "\n",
        "Now fetching ProblemID: 1558, Title: Euro Efficiency"
       ]
      },
      {
       "output_type": "stream",
       "stream": "stdout",
       "text": [
        "\n",
        "Now fetching ProblemID: 1559, Title: Markov Trains"
       ]
      },
      {
       "output_type": "stream",
       "stream": "stdout",
       "text": [
        "\n",
        "Now fetching ProblemID: 1560, Title: Hansel and Grethel"
       ]
      },
      {
       "output_type": "stream",
       "stream": "stdout",
       "text": [
        "\n",
        "Now fetching ProblemID: 1561, Title: Floors"
       ]
      },
      {
       "output_type": "stream",
       "stream": "stdout",
       "text": [
        "\n",
        "Now fetching ProblemID: 1562, Title: The Picnic"
       ]
      },
      {
       "output_type": "stream",
       "stream": "stdout",
       "text": [
        "\n",
        "Now fetching ProblemID: 1563, Title: Pearls"
       ]
      },
      {
       "output_type": "stream",
       "stream": "stdout",
       "text": [
        "\n",
        "Now fetching ProblemID: 1564, Title: Huffman Trees"
       ]
      },
      {
       "output_type": "stream",
       "stream": "stdout",
       "text": [
        "\n",
        "Now fetching ProblemID: 1565, Title: Input"
       ]
      },
      {
       "output_type": "stream",
       "stream": "stdout",
       "text": [
        "\n",
        "Now fetching ProblemID: 1566, Title: Too Lazy To Move"
       ]
      },
      {
       "output_type": "stream",
       "stream": "stdout",
       "text": [
        "\n",
        "Now fetching ProblemID: 1567, Title: Restaurant"
       ]
      },
      {
       "output_type": "stream",
       "stream": "stdout",
       "text": [
        "\n",
        "Now fetching ProblemID: 1568, Title: WishingBone's Room Plan"
       ]
      },
      {
       "output_type": "stream",
       "stream": "stdout",
       "text": [
        "\n",
        "Now fetching ProblemID: 1569, Title: Partial Sums"
       ]
      },
      {
       "output_type": "stream",
       "stream": "stdout",
       "text": [
        "\n",
        "Now fetching ProblemID: 1570, Title: Search For Fun"
       ]
      },
      {
       "output_type": "stream",
       "stream": "stdout",
       "text": [
        "\n",
        "Now fetching ProblemID: 1571, Title: Hexagon Mystery"
       ]
      },
      {
       "output_type": "stream",
       "stream": "stdout",
       "text": [
        "\n",
        "Now fetching ProblemID: 1572, Title: Bracelet"
       ]
      },
      {
       "output_type": "stream",
       "stream": "stdout",
       "text": [
        "\n",
        "Now fetching ProblemID: 1573, Title: Chocobo World"
       ]
      },
      {
       "output_type": "stream",
       "stream": "stdout",
       "text": [
        "\n",
        "Now fetching ProblemID: 1574, Title: Pythagorean Triples"
       ]
      },
      {
       "output_type": "stream",
       "stream": "stdout",
       "text": [
        "\n",
        "Now fetching ProblemID: 1575, Title: Koch Curve"
       ]
      },
      {
       "output_type": "stream",
       "stream": "stdout",
       "text": [
        "\n",
        "Now fetching ProblemID: 1576, Title: Marriage is Stable"
       ]
      },
      {
       "output_type": "stream",
       "stream": "stdout",
       "text": [
        "\n",
        "Now fetching ProblemID: 1577, Title: GCD & LCM"
       ]
      },
      {
       "output_type": "stream",
       "stream": "stdout",
       "text": [
        "\n",
        "Now fetching ProblemID: 1578, Title: Let's Share"
       ]
      },
      {
       "output_type": "stream",
       "stream": "stdout",
       "text": [
        "\n",
        "Now fetching ProblemID: 1579, Title: Bridge"
       ]
      },
      {
       "output_type": "stream",
       "stream": "stdout",
       "text": [
        "\n",
        "Now fetching ProblemID: 1580, Title: Triangle"
       ]
      },
      {
       "output_type": "stream",
       "stream": "stdout",
       "text": [
        "\n",
        "Now fetching ProblemID: 1581, Title: Predict the Motion"
       ]
      },
      {
       "output_type": "stream",
       "stream": "stdout",
       "text": [
        "\n",
        "Now fetching ProblemID: 1582, Title: Careless Tony"
       ]
      },
      {
       "output_type": "stream",
       "stream": "stdout",
       "text": [
        "\n",
        "Now fetching ProblemID: 1583, Title: Binomial Filter"
       ]
      },
      {
       "output_type": "stream",
       "stream": "stdout",
       "text": [
        "\n",
        "Now fetching ProblemID: 1584, Title: Crack Me"
       ]
      },
      {
       "output_type": "stream",
       "stream": "stdout",
       "text": [
        "\n",
        "Now fetching ProblemID: 1585, Title: Virus"
       ]
      },
      {
       "output_type": "stream",
       "stream": "stdout",
       "text": [
        "\n",
        "Now fetching ProblemID: 1586, Title: QS Network"
       ]
      },
      {
       "output_type": "stream",
       "stream": "stdout",
       "text": [
        "\n",
        "Now fetching ProblemID: 1587, Title: UP 100"
       ]
      },
      {
       "output_type": "stream",
       "stream": "stdout",
       "text": [
        "\n",
        "Now fetching ProblemID: 1588, Title: Gear Set"
       ]
      },
      {
       "output_type": "stream",
       "stream": "stdout",
       "text": [
        "\n",
        "Now fetching ProblemID: 1589, Title: Professor John"
       ]
      },
      {
       "output_type": "stream",
       "stream": "stdout",
       "text": [
        "\n",
        "Now fetching ProblemID: 1590, Title: The Maze Explorer"
       ]
      },
      {
       "output_type": "stream",
       "stream": "stdout",
       "text": [
        "\n",
        "Now fetching ProblemID: 1591, Title: Winlinez"
       ]
      },
      {
       "output_type": "stream",
       "stream": "stdout",
       "text": [
        "\n",
        "Now fetching ProblemID: 1592, Title: Binary Witch"
       ]
      },
      {
       "output_type": "stream",
       "stream": "stdout",
       "text": [
        "\n",
        "Now fetching ProblemID: 1593, Title: Fool Game"
       ]
      },
      {
       "output_type": "stream",
       "stream": "stdout",
       "text": [
        "\n",
        "Now fetching ProblemID: 1594, Title: Spreadsheet"
       ]
      },
      {
       "output_type": "stream",
       "stream": "stdout",
       "text": [
        "\n",
        "Now fetching ProblemID: 1595, Title: PreQueL"
       ]
      },
      {
       "output_type": "stream",
       "stream": "stdout",
       "text": [
        "\n",
        "Now fetching ProblemID: 1596, Title: Hamming Problem"
       ]
      },
      {
       "output_type": "stream",
       "stream": "stdout",
       "text": [
        "\n",
        "Now fetching ProblemID: 1597, Title: Circular Area"
       ]
      },
      {
       "output_type": "stream",
       "stream": "stdout",
       "text": [
        "\n",
        "Now fetching ProblemID: 1598, Title: One-move Checkmate"
       ]
      },
      {
       "output_type": "stream",
       "stream": "stdout",
       "text": [
        "\n",
        "Now fetching ProblemID: 1599, Title: Countryside Highway"
       ]
      },
      {
       "output_type": "stream",
       "stream": "stdout",
       "text": [
        "\n",
        "Now fetching ProblemID: 1600, Title: Market Place"
       ]
      },
      {
       "output_type": "stream",
       "stream": "stdout",
       "text": [
        "\n",
        "Now fetching ProblemID: 1601, Title: Integer Approximation"
       ]
      },
      {
       "output_type": "stream",
       "stream": "stdout",
       "text": [
        "\n",
        "Now fetching ProblemID: 1602, Title: Multiplication Puzzle"
       ]
      },
      {
       "output_type": "stream",
       "stream": "stdout",
       "text": [
        "\n",
        "Now fetching ProblemID: 1603, Title: Holey Cloth"
       ]
      },
      {
       "output_type": "stream",
       "stream": "stdout",
       "text": [
        "\n",
        "Now fetching ProblemID: 1604, Title: Compacting Stickers"
       ]
      },
      {
       "output_type": "stream",
       "stream": "stdout",
       "text": [
        "\n",
        "Now fetching ProblemID: 1605, Title: One-way Traffic"
       ]
      },
      {
       "output_type": "stream",
       "stream": "stdout",
       "text": [
        "\n",
        "Now fetching ProblemID: 1606, Title: Rhombs"
       ]
      },
      {
       "output_type": "stream",
       "stream": "stdout",
       "text": [
        "\n",
        "Now fetching ProblemID: 1607, Title: Varacious Steve"
       ]
      },
      {
       "output_type": "stream",
       "stream": "stdout",
       "text": [
        "\n",
        "Now fetching ProblemID: 1608, Title: Two Circles and a Rectangle"
       ]
      },
      {
       "output_type": "stream",
       "stream": "stdout",
       "text": [
        "\n",
        "Now fetching ProblemID: 1609, Title: Equivalence"
       ]
      },
      {
       "output_type": "stream",
       "stream": "stdout",
       "text": [
        "\n",
        "Now fetching ProblemID: 1610, Title: Count the Colors"
       ]
      },
      {
       "output_type": "stream",
       "stream": "stdout",
       "text": [
        "\n",
        "Now fetching ProblemID: 1611, Title: Traveling in Solar System"
       ]
      },
      {
       "output_type": "stream",
       "stream": "stdout",
       "text": [
        "\n",
        "Now fetching ProblemID: 1612, Title: Classroom Scheduling"
       ]
      },
      {
       "output_type": "stream",
       "stream": "stdout",
       "text": [
        "\n",
        "Now fetching ProblemID: 1613, Title: Bookshelf Demo"
       ]
      },
      {
       "output_type": "stream",
       "stream": "stdout",
       "text": [
        "\n",
        "Now fetching ProblemID: 1614, Title: Calculate the Integral"
       ]
      },
      {
       "output_type": "stream",
       "stream": "stdout",
       "text": [
        "\n",
        "Now fetching ProblemID: 1615, Title: Fix the Lines"
       ]
      },
      {
       "output_type": "stream",
       "stream": "stdout",
       "text": [
        "\n",
        "Now fetching ProblemID: 1616, Title: Be the Winner"
       ]
      },
      {
       "output_type": "stream",
       "stream": "stdout",
       "text": [
        "\n",
        "Now fetching ProblemID: 1617, Title: Domain Name"
       ]
      },
      {
       "output_type": "stream",
       "stream": "stdout",
       "text": [
        "\n",
        "Now fetching ProblemID: 1618, Title: Helicopter"
       ]
      },
      {
       "output_type": "stream",
       "stream": "stdout",
       "text": [
        "\n",
        "Now fetching ProblemID: 1619, Title: Present"
       ]
      },
      {
       "output_type": "stream",
       "stream": "stdout",
       "text": [
        "\n",
        "Now fetching ProblemID: 1620, Title: Platform"
       ]
      },
      {
       "output_type": "stream",
       "stream": "stdout",
       "text": [
        "\n",
        "Now fetching ProblemID: 1621, Title: QS Parliament"
       ]
      },
      {
       "output_type": "stream",
       "stream": "stdout",
       "text": [
        "\n",
        "Now fetching ProblemID: 1622, Title: Switch"
       ]
      },
      {
       "output_type": "stream",
       "stream": "stdout",
       "text": [
        "\n",
        "Now fetching ProblemID: 1623, Title: Deal with C++ Comments"
       ]
      },
      {
       "output_type": "stream",
       "stream": "stdout",
       "text": [
        "\n",
        "Now fetching ProblemID: 1624, Title: Hearsay"
       ]
      },
      {
       "output_type": "stream",
       "stream": "stdout",
       "text": [
        "\n",
        "Now fetching ProblemID: 1625, Title: Life on a Ring"
       ]
      },
      {
       "output_type": "stream",
       "stream": "stdout",
       "text": [
        "\n",
        "Now fetching ProblemID: 1626, Title: Save These Poor Trees"
       ]
      },
      {
       "output_type": "stream",
       "stream": "stdout",
       "text": [
        "\n",
        "Now fetching ProblemID: 1627, Title: Disk"
       ]
      },
      {
       "output_type": "stream",
       "stream": "stdout",
       "text": [
        "\n",
        "Now fetching ProblemID: 1628, Title: Diamond"
       ]
      },
      {
       "output_type": "stream",
       "stream": "stdout",
       "text": [
        "\n",
        "Now fetching ProblemID: 1629, Title: Counting Triangles"
       ]
      },
      {
       "output_type": "stream",
       "stream": "stdout",
       "text": [
        "\n",
        "Now fetching ProblemID: 1630, Title: Die"
       ]
      },
      {
       "output_type": "stream",
       "stream": "stdout",
       "text": [
        "\n",
        "Now fetching ProblemID: 1631, Title: The King of the Survives"
       ]
      },
      {
       "output_type": "stream",
       "stream": "stdout",
       "text": [
        "\n",
        "Now fetching ProblemID: 1632, Title: Advanced Regular Expression"
       ]
      },
      {
       "output_type": "stream",
       "stream": "stdout",
       "text": [
        "\n",
        "Now fetching ProblemID: 1633, Title: Big String"
       ]
      },
      {
       "output_type": "stream",
       "stream": "stdout",
       "text": [
        "\n",
        "Now fetching ProblemID: 1634, Title: Challenge 3D Tetris"
       ]
      },
      {
       "output_type": "stream",
       "stream": "stdout",
       "text": [
        "\n",
        "Now fetching ProblemID: 1635, Title: Directory Listing"
       ]
      },
      {
       "output_type": "stream",
       "stream": "stdout",
       "text": [
        "\n",
        "Now fetching ProblemID: 1636, Title: Evaluate Matrix Sum"
       ]
      },
      {
       "output_type": "stream",
       "stream": "stdout",
       "text": [
        "\n",
        "Now fetching ProblemID: 1637, Title: Fast Image Match"
       ]
      },
      {
       "output_type": "stream",
       "stream": "stdout",
       "text": [
        "\n",
        "Now fetching ProblemID: 1638, Title: Greedy Island"
       ]
      },
      {
       "output_type": "stream",
       "stream": "stdout",
       "text": [
        "\n",
        "Now fetching ProblemID: 1639, Title: Hang Up the System"
       ]
      },
      {
       "output_type": "stream",
       "stream": "stdout",
       "text": [
        "\n",
        "Now fetching ProblemID: 1640, Title: Integer Roots of a Polynomial"
       ]
      },
      {
       "output_type": "stream",
       "stream": "stdout",
       "text": [
        "\n",
        "Now fetching ProblemID: 1641, Title: Analyse the Bridge Note"
       ]
      },
      {
       "output_type": "stream",
       "stream": "stdout",
       "text": [
        "\n",
        "Now fetching ProblemID: 1642, Title: Match for Bonus"
       ]
      },
      {
       "output_type": "stream",
       "stream": "stdout",
       "text": [
        "\n",
        "Now fetching ProblemID: 1643, Title: Disassembly Direction"
       ]
      },
      {
       "output_type": "stream",
       "stream": "stdout",
       "text": [
        "\n",
        "Now fetching ProblemID: 1644, Title: Mean of Means"
       ]
      },
      {
       "output_type": "stream",
       "stream": "stdout",
       "text": [
        "\n",
        "Now fetching ProblemID: 1645, Title: Cut Down the Trees"
       ]
      },
      {
       "output_type": "stream",
       "stream": "stdout",
       "text": [
        "\n",
        "Now fetching ProblemID: 1646, Title: What Is the Time Now"
       ]
      },
      {
       "output_type": "stream",
       "stream": "stdout",
       "text": [
        "\n",
        "Now fetching ProblemID: 1647, Title: #define"
       ]
      },
      {
       "output_type": "stream",
       "stream": "stdout",
       "text": [
        "\n",
        "Now fetching ProblemID: 1648, Title: Circuit Board"
       ]
      },
      {
       "output_type": "stream",
       "stream": "stdout",
       "text": [
        "\n",
        "Now fetching ProblemID: 1649, Title: Rescue"
       ]
      },
      {
       "output_type": "stream",
       "stream": "stdout",
       "text": [
        "\n",
        "Now fetching ProblemID: 1650, Title: Enclose It"
       ]
      },
      {
       "output_type": "stream",
       "stream": "stdout",
       "text": [
        "\n",
        "Now fetching ProblemID: 1651, Title: Parts Process"
       ]
      },
      {
       "output_type": "stream",
       "stream": "stdout",
       "text": [
        "\n",
        "Now fetching ProblemID: 1652, Title: Count the Regions"
       ]
      },
      {
       "output_type": "stream",
       "stream": "stdout",
       "text": [
        "\n",
        "Now fetching ProblemID: 1653, Title: Need for Pipes"
       ]
      },
      {
       "output_type": "stream",
       "stream": "stdout",
       "text": [
        "\n",
        "Now fetching ProblemID: 1654, Title: Place the Robots"
       ]
      },
      {
       "output_type": "stream",
       "stream": "stdout",
       "text": [
        "\n",
        "Now fetching ProblemID: 1655, Title: Transport Goods"
       ]
      },
      {
       "output_type": "stream",
       "stream": "stdout",
       "text": [
        "\n",
        "Now fetching ProblemID: 1656, Title: To Win the Honor"
       ]
      },
      {
       "output_type": "stream",
       "stream": "stdout",
       "text": [
        "\n",
        "Now fetching ProblemID: 1657, Title: Goldbach's Conjecture"
       ]
      },
      {
       "output_type": "stream",
       "stream": "stdout",
       "text": [
        "\n",
        "Now fetching ProblemID: 1658, Title: Lattice Practices"
       ]
      },
      {
       "output_type": "stream",
       "stream": "stdout",
       "text": [
        "\n",
        "Now fetching ProblemID: 1659, Title: Mobile Phone Coverage"
       ]
      },
      {
       "output_type": "stream",
       "stream": "stdout",
       "text": [
        "\n",
        "Now fetching ProblemID: 1660, Title: Napoleon's Grumble"
       ]
      },
      {
       "output_type": "stream",
       "stream": "stdout",
       "text": [
        "\n",
        "Now fetching ProblemID: 1661, Title: Pipeline Scheduling"
       ]
      },
      {
       "output_type": "stream",
       "stream": "stdout",
       "text": [
        "\n",
        "Now fetching ProblemID: 1662, Title: Triangle Partition"
       ]
      },
      {
       "output_type": "stream",
       "stream": "stdout",
       "text": [
        "\n",
        "Now fetching ProblemID: 1663, Title: BUT We Need a Diagram"
       ]
      },
      {
       "output_type": "stream",
       "stream": "stdout",
       "text": [
        "\n",
        "Now fetching ProblemID: 1664, Title: Digital Racing Circuit"
       ]
      },
      {
       "output_type": "stream",
       "stream": "stdout",
       "text": [
        "\n",
        "Now fetching ProblemID: 1665, Title: Rational Irrationals"
       ]
      },
      {
       "output_type": "stream",
       "stream": "stdout",
       "text": [
        "\n",
        "Now fetching ProblemID: 1666, Title: Square Coins"
       ]
      },
      {
       "output_type": "stream",
       "stream": "stdout",
       "text": [
        "\n",
        "Now fetching ProblemID: 1667, Title: Die Game"
       ]
      },
      {
       "output_type": "stream",
       "stream": "stdout",
       "text": [
        "\n",
        "Now fetching ProblemID: 1668, Title: Trapezoids"
       ]
      },
      {
       "output_type": "stream",
       "stream": "stdout",
       "text": [
        "\n",
        "Now fetching ProblemID: 1669, Title: Mirror Illusion"
       ]
      },
      {
       "output_type": "stream",
       "stream": "stdout",
       "text": [
        "\n",
        "Now fetching ProblemID: 1670, Title: Heavenly Jewels"
       ]
      },
      {
       "output_type": "stream",
       "stream": "stdout",
       "text": [
        "\n",
        "Now fetching ProblemID: 1671, Title: Walking Ant"
       ]
      },
      {
       "output_type": "stream",
       "stream": "stdout",
       "text": [
        "\n",
        "Now fetching ProblemID: 1672, Title: Co-occurrence Search"
       ]
      },
      {
       "output_type": "stream",
       "stream": "stdout",
       "text": [
        "\n",
        "Now fetching ProblemID: 1673, Title: Lost in Space"
       ]
      },
      {
       "output_type": "stream",
       "stream": "stdout",
       "text": [
        "\n",
        "Now fetching ProblemID: 1674, Title: Family Tree"
       ]
      },
      {
       "output_type": "stream",
       "stream": "stdout",
       "text": [
        "\n",
        "Now fetching ProblemID: 1675, Title: Push!!"
       ]
      },
      {
       "output_type": "stream",
       "stream": "stdout",
       "text": [
        "\n",
        "Now fetching ProblemID: 1676, Title: Pump up Batteries"
       ]
      },
      {
       "output_type": "stream",
       "stream": "stdout",
       "text": [
        "\n",
        "Now fetching ProblemID: 1677, Title: The Devil of Gravity"
       ]
      },
      {
       "output_type": "stream",
       "stream": "stdout",
       "text": [
        "\n",
        "Now fetching ProblemID: 1678, Title: Numoeba"
       ]
      },
      {
       "output_type": "stream",
       "stream": "stdout",
       "text": [
        "\n",
        "Now fetching ProblemID: 1679, Title: Telescope"
       ]
      },
      {
       "output_type": "stream",
       "stream": "stdout",
       "text": [
        "\n",
        "Now fetching ProblemID: 1680, Title: Ether Geometry"
       ]
      },
      {
       "output_type": "stream",
       "stream": "stdout",
       "text": [
        "\n",
        "Now fetching ProblemID: 1681, Title: Starship Hakodate-maru"
       ]
      },
      {
       "output_type": "stream",
       "stream": "stdout",
       "text": [
        "\n",
        "Now fetching ProblemID: 1682, Title: e-Market"
       ]
      },
      {
       "output_type": "stream",
       "stream": "stdout",
       "text": [
        "\n",
        "Now fetching ProblemID: 1683, Title: Fishnet"
       ]
      },
      {
       "output_type": "stream",
       "stream": "stdout",
       "text": [
        "\n",
        "Now fetching ProblemID: 1684, Title: 77377"
       ]
      },
      {
       "output_type": "stream",
       "stream": "stdout",
       "text": [
        "\n",
        "Now fetching ProblemID: 1685, Title: Beehives"
       ]
      },
      {
       "output_type": "stream",
       "stream": "stdout",
       "text": [
        "\n",
        "Now fetching ProblemID: 1686, Title: Young, Poor and Busy"
       ]
      },
      {
       "output_type": "stream",
       "stream": "stdout",
       "text": [
        "\n",
        "Now fetching ProblemID: 1687, Title: Nim"
       ]
      },
      {
       "output_type": "stream",
       "stream": "stdout",
       "text": [
        "\n",
        "Now fetching ProblemID: 1688, Title: Super Star"
       ]
      },
      {
       "output_type": "stream",
       "stream": "stdout",
       "text": [
        "\n",
        "Now fetching ProblemID: 1689, Title: Calling Extraterrestrial Intelligence Again"
       ]
      },
      {
       "output_type": "stream",
       "stream": "stdout",
       "text": [
        "\n",
        "Now fetching ProblemID: 1690, Title: Equals are Equals"
       ]
      },
      {
       "output_type": "stream",
       "stream": "stdout",
       "text": [
        "\n",
        "Now fetching ProblemID: 1691, Title: GIGA Universe Cup"
       ]
      },
      {
       "output_type": "stream",
       "stream": "stdout",
       "text": [
        "\n",
        "Now fetching ProblemID: 1692, Title: Life Line"
       ]
      },
      {
       "output_type": "stream",
       "stream": "stdout",
       "text": [
        "\n",
        "Now fetching ProblemID: 1693, Title: Map of Ninja House"
       ]
      },
      {
       "output_type": "stream",
       "stream": "stdout",
       "text": [
        "\n",
        "Now fetching ProblemID: 1694, Title: Shredding Company"
       ]
      },
      {
       "output_type": "stream",
       "stream": "stdout",
       "text": [
        "\n",
        "Now fetching ProblemID: 1695, Title: True Liars"
       ]
      },
      {
       "output_type": "stream",
       "stream": "stdout",
       "text": [
        "\n",
        "Now fetching ProblemID: 1696, Title: Viva Confetti"
       ]
      },
      {
       "output_type": "stream",
       "stream": "stdout",
       "text": [
        "\n",
        "Now fetching ProblemID: 1697, Title: The Triangle Game"
       ]
      },
      {
       "output_type": "stream",
       "stream": "stdout",
       "text": [
        "\n",
        "Now fetching ProblemID: 1698, Title: Easier Done Than Said?"
       ]
      },
      {
       "output_type": "stream",
       "stream": "stdout",
       "text": [
        "\n",
        "Now fetching ProblemID: 1699, Title: Colorville"
       ]
      },
      {
       "output_type": "stream",
       "stream": "stdout",
       "text": [
        "\n",
        "Now fetching ProblemID: 1700, Title: Falling Leaves"
       ]
      },
      {
       "output_type": "stream",
       "stream": "stdout",
       "text": [
        "\n",
        "Now fetching ProblemID: 1701, Title: Edge Detection"
       ]
      },
      {
       "output_type": "stream",
       "stream": "stdout",
       "text": [
        "\n",
        "Now fetching ProblemID: 1702, Title: Instruens Fabulam"
       ]
      },
      {
       "output_type": "stream",
       "stream": "stdout",
       "text": [
        "\n",
        "Now fetching ProblemID: 1703, Title: Find the Winning Move"
       ]
      },
      {
       "output_type": "stream",
       "stream": "stdout",
       "text": [
        "\n",
        "Now fetching ProblemID: 1704, Title: Myacm Triangles"
       ]
      },
      {
       "output_type": "stream",
       "stream": "stdout",
       "text": [
        "\n",
        "Now fetching ProblemID: 1705, Title: Exchange Rates"
       ]
      },
      {
       "output_type": "stream",
       "stream": "stdout",
       "text": [
        "\n",
        "Now fetching ProblemID: 1706, Title: Loansome Car Buyer"
       ]
      },
      {
       "output_type": "stream",
       "stream": "stdout",
       "text": [
        "\n",
        "Now fetching ProblemID: 1707, Title: Automatic Editing"
       ]
      },
      {
       "output_type": "stream",
       "stream": "stdout",
       "text": [
        "\n",
        "Now fetching ProblemID: 1708, Title: Robot Motion"
       ]
      },
      {
       "output_type": "stream",
       "stream": "stdout",
       "text": [
        "\n",
        "Now fetching ProblemID: 1709, Title: Oil Deposits"
       ]
      },
      {
       "output_type": "stream",
       "stream": "stdout",
       "text": [
        "\n",
        "Now fetching ProblemID: 1710, Title: The Snail"
       ]
      },
      {
       "output_type": "stream",
       "stream": "stdout",
       "text": [
        "\n",
        "Now fetching ProblemID: 1711, Title: Sum It Up"
       ]
      },
      {
       "output_type": "stream",
       "stream": "stdout",
       "text": [
        "\n",
        "Now fetching ProblemID: 1712, Title: Skew Binary"
       ]
      },
      {
       "output_type": "stream",
       "stream": "stdout",
       "text": [
        "\n",
        "Now fetching ProblemID: 1713, Title: Haiku Review"
       ]
      },
      {
       "output_type": "stream",
       "stream": "stdout",
       "text": [
        "\n",
        "Now fetching ProblemID: 1714, Title: WIMP"
       ]
      },
      {
       "output_type": "stream",
       "stream": "stdout",
       "text": [
        "\n",
        "Now fetching ProblemID: 1715, Title: When Can We Meet?"
       ]
      },
      {
       "output_type": "stream",
       "stream": "stdout",
       "text": [
        "\n",
        "Now fetching ProblemID: 1716, Title: Get Many Persimmon Trees"
       ]
      },
      {
       "output_type": "stream",
       "stream": "stdout",
       "text": [
        "\n",
        "Now fetching ProblemID: 1717, Title: The Secret Number"
       ]
      },
      {
       "output_type": "stream",
       "stream": "stdout",
       "text": [
        "\n",
        "Now fetching ProblemID: 1718, Title: Building a Space Station"
       ]
      },
      {
       "output_type": "stream",
       "stream": "stdout",
       "text": [
        "\n",
        "Now fetching ProblemID: 1719, Title: Square Carpets"
       ]
      },
      {
       "output_type": "stream",
       "stream": "stdout",
       "text": [
        "\n",
        "Now fetching ProblemID: 1720, Title: Polynomial Showdown"
       ]
      },
      {
       "output_type": "stream",
       "stream": "stdout",
       "text": [
        "\n",
        "Now fetching ProblemID: 1721, Title: The Doors"
       ]
      },
      {
       "output_type": "stream",
       "stream": "stdout",
       "text": [
        "\n",
        "Now fetching ProblemID: 1722, Title: Mapmaker"
       ]
      },
      {
       "output_type": "stream",
       "stream": "stdout",
       "text": [
        "\n",
        "Now fetching ProblemID: 1723, Title: Board Silly"
       ]
      },
      {
       "output_type": "stream",
       "stream": "stdout",
       "text": [
        "\n",
        "Now fetching ProblemID: 1724, Title: Top Dog"
       ]
      },
      {
       "output_type": "stream",
       "stream": "stdout",
       "text": [
        "\n",
        "Now fetching ProblemID: 1725, Title: Equation Elation"
       ]
      },
      {
       "output_type": "stream",
       "stream": "stdout",
       "text": [
        "\n",
        "Now fetching ProblemID: 1726, Title: 18 Wheeler Caravans (aka Semigroups)"
       ]
      },
      {
       "output_type": "stream",
       "stream": "stdout",
       "text": [
        "\n",
        "Now fetching ProblemID: 1727, Title: Another Puzzling Problem"
       ]
      },
      {
       "output_type": "stream",
       "stream": "stdout",
       "text": [
        "\n",
        "Now fetching ProblemID: 1728, Title: Delta Encoding and Decoding"
       ]
      },
      {
       "output_type": "stream",
       "stream": "stdout",
       "text": [
        "\n",
        "Now fetching ProblemID: 1729, Title: Hidden Password"
       ]
      },
      {
       "output_type": "stream",
       "stream": "stdout",
       "text": [
        "\n",
        "Now fetching ProblemID: 1730, Title: Crazy Tea Party"
       ]
      },
      {
       "output_type": "stream",
       "stream": "stdout",
       "text": [
        "\n",
        "Now fetching ProblemID: 1731, Title: Supermarket"
       ]
      },
      {
       "output_type": "stream",
       "stream": "stdout",
       "text": [
        "\n",
        "Now fetching ProblemID: 1732, Title: Lord of the Ring"
       ]
      },
      {
       "output_type": "stream",
       "stream": "stdout",
       "text": [
        "\n",
        "Now fetching ProblemID: 1733, Title: Common Subsequence"
       ]
      },
      {
       "output_type": "stream",
       "stream": "stdout",
       "text": [
        "\n",
        "Now fetching ProblemID: 1734, Title: Power Network"
       ]
      },
      {
       "output_type": "stream",
       "stream": "stdout",
       "text": [
        "\n",
        "Now fetching ProblemID: 1735, Title: Firefighters"
       ]
      },
      {
       "output_type": "stream",
       "stream": "stdout",
       "text": [
        "\n",
        "Now fetching ProblemID: 1736, Title: Binary Polynomials"
       ]
      },
      {
       "output_type": "stream",
       "stream": "stdout",
       "text": [
        "\n",
        "Now fetching ProblemID: 1737, Title: Unreliable Message"
       ]
      },
      {
       "output_type": "stream",
       "stream": "stdout",
       "text": [
        "\n",
        "Now fetching ProblemID: 1738, Title: Lagrange's Four-Square Theorem"
       ]
      },
      {
       "output_type": "stream",
       "stream": "stdout",
       "text": [
        "\n",
        "Now fetching ProblemID: 1739, Title: Area of Polygons"
       ]
      },
      {
       "output_type": "stream",
       "stream": "stdout",
       "text": [
        "\n",
        "Now fetching ProblemID: 1740, Title: Weather Forecast"
       ]
      },
      {
       "output_type": "stream",
       "stream": "stdout",
       "text": [
        "\n",
        "Now fetching ProblemID: 1741, Title: Molecular Formula"
       ]
      },
      {
       "output_type": "stream",
       "stream": "stdout",
       "text": [
        "\n",
        "Now fetching ProblemID: 1742, Title: Gap"
       ]
      },
      {
       "output_type": "stream",
       "stream": "stdout",
       "text": [
        "\n",
        "Now fetching ProblemID: 1743, Title: Concert Hall Scheduling"
       ]
      },
      {
       "output_type": "stream",
       "stream": "stdout",
       "text": [
        "\n",
        "Now fetching ProblemID: 1744, Title: Monster Trap"
       ]
      },
      {
       "output_type": "stream",
       "stream": "stdout",
       "text": [
        "\n",
        "Now fetching ProblemID: 1745, Title: Are We There Yet?"
       ]
      },
      {
       "output_type": "stream",
       "stream": "stdout",
       "text": [
        "\n",
        "Now fetching ProblemID: 1746, Title: Bob's Bingo Bonanza"
       ]
      },
      {
       "output_type": "stream",
       "stream": "stdout",
       "text": [
        "\n",
        "Now fetching ProblemID: 1747, Title: Charity Begins at Home-page"
       ]
      },
      {
       "output_type": "stream",
       "stream": "stdout",
       "text": [
        "\n",
        "Now fetching ProblemID: 1748, Title: Hey, You're Not Marion Jones!"
       ]
      },
      {
       "output_type": "stream",
       "stream": "stdout",
       "text": [
        "\n",
        "Now fetching ProblemID: 1749, Title: If it's a Javelin, Duck!"
       ]
      },
      {
       "output_type": "stream",
       "stream": "stdout",
       "text": [
        "\n",
        "Now fetching ProblemID: 1750, Title: The Party's in Dolores's Driveway"
       ]
      },
      {
       "output_type": "stream",
       "stream": "stdout",
       "text": [
        "\n",
        "Now fetching ProblemID: 1751, Title: Programming Olympiad"
       ]
      },
      {
       "output_type": "stream",
       "stream": "stdout",
       "text": [
        "\n",
        "Now fetching ProblemID: 1752, Title: Rectangular Rectitude"
       ]
      },
      {
       "output_type": "stream",
       "stream": "stdout",
       "text": [
        "\n",
        "Now fetching ProblemID: 1753, Title: The Plane Problem"
       ]
      },
      {
       "output_type": "stream",
       "stream": "stdout",
       "text": [
        "\n",
        "Now fetching ProblemID: 1754, Title: Who Wants to Have the Fastest Fingers?"
       ]
      },
      {
       "output_type": "stream",
       "stream": "stdout",
       "text": [
        "\n",
        "Now fetching ProblemID: 1755, Title: Clay Bully"
       ]
      },
      {
       "output_type": "stream",
       "stream": "stdout",
       "text": [
        "\n",
        "Now fetching ProblemID: 1756, Title: Robots"
       ]
      },
      {
       "output_type": "stream",
       "stream": "stdout",
       "text": [
        "\n",
        "Now fetching ProblemID: 1757, Title: Bright Bracelet"
       ]
      },
      {
       "output_type": "stream",
       "stream": "stdout",
       "text": [
        "\n",
        "Now fetching ProblemID: 1758, Title: Treadmill"
       ]
      },
      {
       "output_type": "stream",
       "stream": "stdout",
       "text": [
        "\n",
        "Now fetching ProblemID: 1759, Title: Data Mining?"
       ]
      },
      {
       "output_type": "stream",
       "stream": "stdout",
       "text": [
        "\n",
        "Now fetching ProblemID: 1760, Title: Doubles"
       ]
      },
      {
       "output_type": "stream",
       "stream": "stdout",
       "text": [
        "\n",
        "Now fetching ProblemID: 1761, Title: Fax Regions"
       ]
      },
      {
       "output_type": "stream",
       "stream": "stdout",
       "text": [
        "\n",
        "Now fetching ProblemID: 1762, Title: Tournament Brackets"
       ]
      },
      {
       "output_type": "stream",
       "stream": "stdout",
       "text": [
        "\n",
        "Now fetching ProblemID: 1763, Title: A Simple Question of Chemistry"
       ]
      },
      {
       "output_type": "stream",
       "stream": "stdout",
       "text": [
        "\n",
        "Now fetching ProblemID: 1764, Title: A Contesting Decision"
       ]
      },
      {
       "output_type": "stream",
       "stream": "stdout",
       "text": [
        "\n",
        "Now fetching ProblemID: 1765, Title: Which Way Do I Go?"
       ]
      },
      {
       "output_type": "stream",
       "stream": "stdout",
       "text": [
        "\n",
        "Now fetching ProblemID: 1766, Title: Choose Your Words Carefully"
       ]
      },
      {
       "output_type": "stream",
       "stream": "stdout",
       "text": [
        "\n",
        "Now fetching ProblemID: 1767, Title: A Round Peg in a Ground Hole"
       ]
      },
      {
       "output_type": "stream",
       "stream": "stdout",
       "text": [
        "\n",
        "Now fetching ProblemID: 1768, Title: Helping Florida"
       ]
      },
      {
       "output_type": "stream",
       "stream": "stdout",
       "text": [
        "\n",
        "Now fetching ProblemID: 1769, Title: Three Sides Make a Triangle"
       ]
      },
      {
       "output_type": "stream",
       "stream": "stdout",
       "text": [
        "\n",
        "Now fetching ProblemID: 1770, Title: High and Dry"
       ]
      },
      {
       "output_type": "stream",
       "stream": "stdout",
       "text": [
        "\n",
        "Now fetching ProblemID: 1771, Title: Reserve Roman Notation"
       ]
      },
      {
       "output_type": "stream",
       "stream": "stdout",
       "text": [
        "\n",
        "Now fetching ProblemID: 1772, Title: Baby Huey's Coins and Trays"
       ]
      },
      {
       "output_type": "stream",
       "stream": "stdout",
       "text": [
        "\n",
        "Now fetching ProblemID: 1773, Title: Carbon Copies"
       ]
      },
      {
       "output_type": "stream",
       "stream": "stdout",
       "text": [
        "\n",
        "Now fetching ProblemID: 1774, Title: Somebody Save the Prince"
       ]
      },
      {
       "output_type": "stream",
       "stream": "stdout",
       "text": [
        "\n",
        "Now fetching ProblemID: 1775, Title: Generating the Subgroups of a Finite Group"
       ]
      },
      {
       "output_type": "stream",
       "stream": "stdout",
       "text": [
        "\n",
        "Now fetching ProblemID: 1776, Title: Study Group"
       ]
      },
      {
       "output_type": "stream",
       "stream": "stdout",
       "text": [
        "\n",
        "Now fetching ProblemID: 1777, Title: Data, Data, Everywhere"
       ]
      },
      {
       "output_type": "stream",
       "stream": "stdout",
       "text": [
        "\n",
        "Now fetching ProblemID: 1778, Title: The Elusive Dimaquha"
       ]
      },
      {
       "output_type": "stream",
       "stream": "stdout",
       "text": [
        "\n",
        "Now fetching ProblemID: 1779, Title: Dominatrix"
       ]
      },
      {
       "output_type": "stream",
       "stream": "stdout",
       "text": [
        "\n",
        "Now fetching ProblemID: 1780, Title: Grandpa's Other Estate"
       ]
      },
      {
       "output_type": "stream",
       "stream": "stdout",
       "text": [
        "\n",
        "Now fetching ProblemID: 1781, Title: Afshung Pizza Delivery"
       ]
      },
      {
       "output_type": "stream",
       "stream": "stdout",
       "text": [
        "\n",
        "Now fetching ProblemID: 1782, Title: Housing Complexes"
       ]
      },
      {
       "output_type": "stream",
       "stream": "stdout",
       "text": [
        "\n",
        "Now fetching ProblemID: 1783, Title: Spacecraft Malfunction"
       ]
      },
      {
       "output_type": "stream",
       "stream": "stdout",
       "text": [
        "\n",
        "Now fetching ProblemID: 1784, Title: Blue x Red = Bang"
       ]
      },
      {
       "output_type": "stream",
       "stream": "stdout",
       "text": [
        "\n",
        "Now fetching ProblemID: 1785, Title: JaWs"
       ]
      },
      {
       "output_type": "stream",
       "stream": "stdout",
       "text": [
        "\n",
        "Now fetching ProblemID: 1786, Title: Skew Binary"
       ]
      },
      {
       "output_type": "stream",
       "stream": "stdout",
       "text": [
        "\n",
        "Now fetching ProblemID: 1787, Title: Tiling Up Blocks"
       ]
      },
      {
       "output_type": "stream",
       "stream": "stdout",
       "text": [
        "\n",
        "Now fetching ProblemID: 1788, Title: Quad Trees"
       ]
      },
      {
       "output_type": "stream",
       "stream": "stdout",
       "text": [
        "\n",
        "Now fetching ProblemID: 1789, Title: The Suspects"
       ]
      },
      {
       "output_type": "stream",
       "stream": "stdout",
       "text": [
        "\n",
        "Now fetching ProblemID: 1790, Title: The Geodetic Set Problem"
       ]
      },
      {
       "output_type": "stream",
       "stream": "stdout",
       "text": [
        "\n",
        "Now fetching ProblemID: 1791, Title: Cave Raider"
       ]
      },
      {
       "output_type": "stream",
       "stream": "stdout",
       "text": [
        "\n",
        "Now fetching ProblemID: 1792, Title: Gap Punishment Aligment Problem"
       ]
      },
      {
       "output_type": "stream",
       "stream": "stdout",
       "text": [
        "\n",
        "Now fetching ProblemID: 1793, Title: Space AI Bombs"
       ]
      },
      {
       "output_type": "stream",
       "stream": "stdout",
       "text": [
        "\n",
        "Now fetching ProblemID: 1794, Title: Merging Sequences Problem"
       ]
      },
      {
       "output_type": "stream",
       "stream": "stdout",
       "text": [
        "\n",
        "Now fetching ProblemID: 1795, Title: Harmonic Periods"
       ]
      },
      {
       "output_type": "stream",
       "stream": "stdout",
       "text": [
        "\n",
        "Now fetching ProblemID: 1796, Title: Euchre Results"
       ]
      },
      {
       "output_type": "stream",
       "stream": "stdout",
       "text": [
        "\n",
        "Now fetching ProblemID: 1797, Title: Least Common Multiple"
       ]
      },
      {
       "output_type": "stream",
       "stream": "stdout",
       "text": [
        "\n",
        "Now fetching ProblemID: 1798, Title: Granny's Bike"
       ]
      },
      {
       "output_type": "stream",
       "stream": "stdout",
       "text": [
        "\n",
        "Now fetching ProblemID: 1799, Title: Crypto Columns"
       ]
      },
      {
       "output_type": "stream",
       "stream": "stdout",
       "text": [
        "\n",
        "Now fetching ProblemID: 1800, Title: Decorations"
       ]
      },
      {
       "output_type": "stream",
       "stream": "stdout",
       "text": [
        "\n",
        "Now fetching ProblemID: 1801, Title: EKG Sequence"
       ]
      },
      {
       "output_type": "stream",
       "stream": "stdout",
       "text": [
        "\n",
        "Now fetching ProblemID: 1802, Title: Phone Home"
       ]
      },
      {
       "output_type": "stream",
       "stream": "stdout",
       "text": [
        "\n",
        "Now fetching ProblemID: 1803, Title: Polly Nomials"
       ]
      },
      {
       "output_type": "stream",
       "stream": "stdout",
       "text": [
        "\n",
        "Now fetching ProblemID: 1804, Title: Pushing Boxes"
       ]
      },
      {
       "output_type": "stream",
       "stream": "stdout",
       "text": [
        "\n",
        "Now fetching ProblemID: 1805, Title: Squadtrees"
       ]
      },
      {
       "output_type": "stream",
       "stream": "stdout",
       "text": [
        "\n",
        "Now fetching ProblemID: 1806, Title: This Takes the Cake"
       ]
      },
      {
       "output_type": "stream",
       "stream": "stdout",
       "text": [
        "\n",
        "Now fetching ProblemID: 1807, Title: Bulk Mailing"
       ]
      },
      {
       "output_type": "stream",
       "stream": "stdout",
       "text": [
        "\n",
        "Now fetching ProblemID: 1808, Title: Immediate Decodability"
       ]
      },
      {
       "output_type": "stream",
       "stream": "stdout",
       "text": [
        "\n",
        "Now fetching ProblemID: 1809, Title: File Mapping"
       ]
      },
      {
       "output_type": "stream",
       "stream": "stdout",
       "text": [
        "\n",
        "Now fetching ProblemID: 1810, Title: The Gourmet Club"
       ]
      },
      {
       "output_type": "stream",
       "stream": "stdout",
       "text": [
        "\n",
        "Now fetching ProblemID: 1811, Title: Chutes and Ladders"
       ]
      },
      {
       "output_type": "stream",
       "stream": "stdout",
       "text": [
        "\n",
        "Now fetching ProblemID: 1812, Title: Stamps"
       ]
      },
      {
       "output_type": "stream",
       "stream": "stdout",
       "text": [
        "\n",
        "Now fetching ProblemID: 1813, Title: Biker's Trip Odometer"
       ]
      },
      {
       "output_type": "stream",
       "stream": "stdout",
       "text": [
        "\n",
        "Now fetching ProblemID: 1814, Title: Candy Sharing Game"
       ]
      },
      {
       "output_type": "stream",
       "stream": "stdout",
       "text": [
        "\n",
        "Now fetching ProblemID: 1815, Title: Peg Game"
       ]
      },
      {
       "output_type": "stream",
       "stream": "stdout",
       "text": [
        "\n",
        "Now fetching ProblemID: 1816, Title: Taxation With Representation Overdone"
       ]
      },
      {
       "output_type": "stream",
       "stream": "stdout",
       "text": [
        "\n",
        "Now fetching ProblemID: 1817, Title: It's Logical"
       ]
      },
      {
       "output_type": "stream",
       "stream": "stdout",
       "text": [
        "\n",
        "Now fetching ProblemID: 1818, Title: Obstructed Rook Circuits"
       ]
      },
      {
       "output_type": "stream",
       "stream": "stdout",
       "text": [
        "\n",
        "Now fetching ProblemID: 1819, Title: Rhyme Schemes"
       ]
      },
      {
       "output_type": "stream",
       "stream": "stdout",
       "text": [
        "\n",
        "Now fetching ProblemID: 1820, Title: Fully Diversified Sequences of Sets"
       ]
      },
      {
       "output_type": "stream",
       "stream": "stdout",
       "text": [
        "\n",
        "Now fetching ProblemID: 1821, Title: Exocenter of a Triangle"
       ]
      },
      {
       "output_type": "stream",
       "stream": "stdout",
       "text": [
        "\n",
        "Now fetching ProblemID: 1822, Title: Bean Counting"
       ]
      },
      {
       "output_type": "stream",
       "stream": "stdout",
       "text": [
        "\n",
        "Now fetching ProblemID: 1823, Title: Factoring Large Numbers"
       ]
      },
      {
       "output_type": "stream",
       "stream": "stdout",
       "text": [
        "\n",
        "Now fetching ProblemID: 1824, Title: Maze Traversal"
       ]
      },
      {
       "output_type": "stream",
       "stream": "stdout",
       "text": [
        "\n",
        "Now fetching ProblemID: 1825, Title: Compound Words"
       ]
      },
      {
       "output_type": "stream",
       "stream": "stdout",
       "text": [
        "\n",
        "Now fetching ProblemID: 1826, Title: Pit Stop Strategy"
       ]
      },
      {
       "output_type": "stream",
       "stream": "stdout",
       "text": [
        "\n",
        "Now fetching ProblemID: 1827, Title: The Game of 31"
       ]
      },
      {
       "output_type": "stream",
       "stream": "stdout",
       "text": [
        "\n",
        "Now fetching ProblemID: 1828, Title: Fibonacci Numbers"
       ]
      },
      {
       "output_type": "stream",
       "stream": "stdout",
       "text": [
        "\n",
        "Now fetching ProblemID: 1829, Title: Ransom Note"
       ]
      },
      {
       "output_type": "stream",
       "stream": "stdout",
       "text": [
        "\n",
        "Now fetching ProblemID: 1830, Title: Scheme Pretty-Printing"
       ]
      },
      {
       "output_type": "stream",
       "stream": "stdout",
       "text": [
        "\n",
        "Now fetching ProblemID: 1831, Title: Substitution Cypher"
       ]
      },
      {
       "output_type": "stream",
       "stream": "stdout",
       "text": [
        "\n",
        "Now fetching ProblemID: 1832, Title: File Fragmentation"
       ]
      },
      {
       "output_type": "stream",
       "stream": "stdout",
       "text": [
        "\n",
        "Now fetching ProblemID: 1833, Title: Audubon's Stormy Arctic Trip"
       ]
      },
      {
       "output_type": "stream",
       "stream": "stdout",
       "text": [
        "\n",
        "Now fetching ProblemID: 1834, Title: AutoFish"
       ]
      },
      {
       "output_type": "stream",
       "stream": "stdout",
       "text": [
        "\n",
        "Now fetching ProblemID: 1835, Title: Herding Frosh"
       ]
      },
      {
       "output_type": "stream",
       "stream": "stdout",
       "text": [
        "\n",
        "Now fetching ProblemID: 1836, Title: Crypt Kicker"
       ]
      },
      {
       "output_type": "stream",
       "stream": "stdout",
       "text": [
        "\n",
        "Now fetching ProblemID: 1837, Title: Contest Scoreboard"
       ]
      },
      {
       "output_type": "stream",
       "stream": "stdout",
       "text": [
        "\n",
        "Now fetching ProblemID: 1838, Title: Crypt Kicker II"
       ]
      },
      {
       "output_type": "stream",
       "stream": "stdout",
       "text": [
        "\n",
        "Now fetching ProblemID: 1839, Title: Watching Watches"
       ]
      },
      {
       "output_type": "stream",
       "stream": "stdout",
       "text": [
        "\n",
        "Now fetching ProblemID: 1840, Title: Pousse"
       ]
      },
      {
       "output_type": "stream",
       "stream": "stdout",
       "text": [
        "\n",
        "Now fetching ProblemID: 1841, Title: Polylops"
       ]
      },
      {
       "output_type": "stream",
       "stream": "stdout",
       "text": [
        "\n",
        "Now fetching ProblemID: 1842, Title: Prime Distance"
       ]
      },
      {
       "output_type": "stream",
       "stream": "stdout",
       "text": [
        "\n",
        "Now fetching ProblemID: 1843, Title: Yahtzee"
       ]
      },
      {
       "output_type": "stream",
       "stream": "stdout",
       "text": [
        "\n",
        "Now fetching ProblemID: 1844, Title: Request for Proposal"
       ]
      },
      {
       "output_type": "stream",
       "stream": "stdout",
       "text": [
        "\n",
        "Now fetching ProblemID: 1845, Title: Australian Voting"
       ]
      },
      {
       "output_type": "stream",
       "stream": "stdout",
       "text": [
        "\n",
        "Now fetching ProblemID: 1846, Title: Chocolate Chip Cookies"
       ]
      },
      {
       "output_type": "stream",
       "stream": "stdout",
       "text": [
        "\n",
        "Now fetching ProblemID: 1847, Title: The Trip"
       ]
      },
      {
       "output_type": "stream",
       "stream": "stdout",
       "text": [
        "\n",
        "Now fetching ProblemID: 1848, Title: Doublets"
       ]
      },
      {
       "output_type": "stream",
       "stream": "stdout",
       "text": [
        "\n",
        "Now fetching ProblemID: 1849, Title: CDVII"
       ]
      },
      {
       "output_type": "stream",
       "stream": "stdout",
       "text": [
        "\n",
        "Now fetching ProblemID: 1850, Title: Factovisors"
       ]
      },
      {
       "output_type": "stream",
       "stream": "stdout",
       "text": [
        "\n",
        "Now fetching ProblemID: 1851, Title: Spaghetti"
       ]
      },
      {
       "output_type": "stream",
       "stream": "stdout",
       "text": [
        "\n",
        "Now fetching ProblemID: 1852, Title: Billiard"
       ]
      },
      {
       "output_type": "stream",
       "stream": "stdout",
       "text": [
        "\n",
        "Now fetching ProblemID: 1853, Title: The Brick Stops Here"
       ]
      },
      {
       "output_type": "stream",
       "stream": "stdout",
       "text": [
        "\n",
        "Now fetching ProblemID: 1854, Title: Election"
       ]
      },
      {
       "output_type": "stream",
       "stream": "stdout",
       "text": [
        "\n",
        "Now fetching ProblemID: 1855, Title: Maze"
       ]
      },
      {
       "output_type": "stream",
       "stream": "stdout",
       "text": [
        "\n",
        "Now fetching ProblemID: 1856, Title: Boastin' Red Socks"
       ]
      },
      {
       "output_type": "stream",
       "stream": "stdout",
       "text": [
        "\n",
        "Now fetching ProblemID: 1857, Title: Fire Station"
       ]
      },
      {
       "output_type": "stream",
       "stream": "stdout",
       "text": [
        "\n",
        "Now fetching ProblemID: 1858, Title: Soundex"
       ]
      },
      {
       "output_type": "stream",
       "stream": "stdout",
       "text": [
        "\n",
        "Now fetching ProblemID: 1859, Title: Ferry Loading"
       ]
      },
      {
       "output_type": "stream",
       "stream": "stdout",
       "text": [
        "\n",
        "Now fetching ProblemID: 1860, Title: Dog & Gopher"
       ]
      },
      {
       "output_type": "stream",
       "stream": "stdout",
       "text": [
        "\n",
        "Now fetching ProblemID: 1861, Title: Gas Station Numbers"
       ]
      },
      {
       "output_type": "stream",
       "stream": "stdout",
       "text": [
        "\n",
        "Now fetching ProblemID: 1862, Title: Mine Sweeper"
       ]
      },
      {
       "output_type": "stream",
       "stream": "stdout",
       "text": [
        "\n",
        "Now fetching ProblemID: 1863, Title: Choose and Divide"
       ]
      },
      {
       "output_type": "stream",
       "stream": "stdout",
       "text": [
        "\n",
        "Now fetching ProblemID: 1864, Title: Old Wine Into New Bottles"
       ]
      },
      {
       "output_type": "stream",
       "stream": "stdout",
       "text": [
        "\n",
        "Now fetching ProblemID: 1865, Title: Suffidromes"
       ]
      },
      {
       "output_type": "stream",
       "stream": "stdout",
       "text": [
        "\n",
        "Now fetching ProblemID: 1866, Title: Origami"
       ]
      },
      {
       "output_type": "stream",
       "stream": "stdout",
       "text": [
        "\n",
        "Now fetching ProblemID: 1867, Title: Y2K Accounting Bug"
       ]
      },
      {
       "output_type": "stream",
       "stream": "stdout",
       "text": [
        "\n",
        "Now fetching ProblemID: 1868, Title: Airline Hub"
       ]
      },
      {
       "output_type": "stream",
       "stream": "stdout",
       "text": [
        "\n",
        "Now fetching ProblemID: 1869, Title: Snakes"
       ]
      },
      {
       "output_type": "stream",
       "stream": "stdout",
       "text": [
        "\n",
        "Now fetching ProblemID: 1870, Title: Snap"
       ]
      },
      {
       "output_type": "stream",
       "stream": "stdout",
       "text": [
        "\n",
        "Now fetching ProblemID: 1871, Title: Steps"
       ]
      },
      {
       "output_type": "stream",
       "stream": "stdout",
       "text": [
        "\n",
        "Now fetching ProblemID: 1872, Title: Freckles"
       ]
      },
      {
       "output_type": "stream",
       "stream": "stdout",
       "text": [
        "\n",
        "Now fetching ProblemID: 1873, Title: Language Cardinality"
       ]
      },
      {
       "output_type": "stream",
       "stream": "stdout",
       "text": [
        "\n",
        "Now fetching ProblemID: 1874, Title: Primary Arithmetic"
       ]
      },
      {
       "output_type": "stream",
       "stream": "stdout",
       "text": [
        "\n",
        "Now fetching ProblemID: 1875, Title: Demerit Points"
       ]
      },
      {
       "output_type": "stream",
       "stream": "stdout",
       "text": [
        "\n",
        "Now fetching ProblemID: 1876, Title: Edit Step Ladders"
       ]
      },
      {
       "output_type": "stream",
       "stream": "stdout",
       "text": [
        "\n",
        "Now fetching ProblemID: 1877, Title: Bridge"
       ]
      },
      {
       "output_type": "stream",
       "stream": "stdout",
       "text": [
        "\n",
        "Now fetching ProblemID: 1878, Title: Saskatchewan"
       ]
      },
      {
       "output_type": "stream",
       "stream": "stdout",
       "text": [
        "\n",
        "Now fetching ProblemID: 1879, Title: Jolly Jumpers"
       ]
      },
      {
       "output_type": "stream",
       "stream": "stdout",
       "text": [
        "\n",
        "Now fetching ProblemID: 1880, Title: Tug of War"
       ]
      },
      {
       "output_type": "stream",
       "stream": "stdout",
       "text": [
        "\n",
        "Now fetching ProblemID: 1881, Title: Interpreter"
       ]
      },
      {
       "output_type": "stream",
       "stream": "stdout",
       "text": [
        "\n",
        "Now fetching ProblemID: 1882, Title: Gopher II"
       ]
      },
      {
       "output_type": "stream",
       "stream": "stdout",
       "text": [
        "\n",
        "Now fetching ProblemID: 1883, Title: Tight Words"
       ]
      },
      {
       "output_type": "stream",
       "stream": "stdout",
       "text": [
        "\n",
        "Now fetching ProblemID: 1884, Title: WERTYU"
       ]
      },
      {
       "output_type": "stream",
       "stream": "stdout",
       "text": [
        "\n",
        "Now fetching ProblemID: 1885, Title: Division"
       ]
      },
      {
       "output_type": "stream",
       "stream": "stdout",
       "text": [
        "\n",
        "Now fetching ProblemID: 1886, Title: Hotter Colder"
       ]
      },
      {
       "output_type": "stream",
       "stream": "stdout",
       "text": [
        "\n",
        "Now fetching ProblemID: 1887, Title: No Tipping"
       ]
      },
      {
       "output_type": "stream",
       "stream": "stdout",
       "text": [
        "\n",
        "Now fetching ProblemID: 1888, Title: Zipf's Law"
       ]
      },
      {
       "output_type": "stream",
       "stream": "stdout",
       "text": [
        "\n",
        "Now fetching ProblemID: 1889, Title: Ones"
       ]
      },
      {
       "output_type": "stream",
       "stream": "stdout",
       "text": [
        "\n",
        "Now fetching ProblemID: 1890, Title: Average Speed"
       ]
      },
      {
       "output_type": "stream",
       "stream": "stdout",
       "text": [
        "\n",
        "Now fetching ProblemID: 1891, Title: Subway"
       ]
      },
      {
       "output_type": "stream",
       "stream": "stdout",
       "text": [
        "\n",
        "Now fetching ProblemID: 1892, Title: Bounding Box"
       ]
      },
      {
       "output_type": "stream",
       "stream": "stdout",
       "text": [
        "\n",
        "Now fetching ProblemID: 1893, Title: A Multiplication Game"
       ]
      },
      {
       "output_type": "stream",
       "stream": "stdout",
       "text": [
        "\n",
        "Now fetching ProblemID: 1894, Title: Adventures in Moving - Part IV"
       ]
      },
      {
       "output_type": "stream",
       "stream": "stdout",
       "text": [
        "\n",
        "Now fetching ProblemID: 1895, Title: Pairsumonious Numbers"
       ]
      },
      {
       "output_type": "stream",
       "stream": "stdout",
       "text": [
        "\n",
        "Now fetching ProblemID: 1896, Title: Stack 'em Up"
       ]
      },
      {
       "output_type": "stream",
       "stream": "stdout",
       "text": [
        "\n",
        "Now fetching ProblemID: 1897, Title: Return of the Jedi"
       ]
      },
      {
       "output_type": "stream",
       "stream": "stdout",
       "text": [
        "\n",
        "Now fetching ProblemID: 1898, Title: Discrete Logging"
       ]
      },
      {
       "output_type": "stream",
       "stream": "stdout",
       "text": [
        "\n",
        "Now fetching ProblemID: 1899, Title: Hardwood Species"
       ]
      },
      {
       "output_type": "stream",
       "stream": "stdout",
       "text": [
        "\n",
        "Now fetching ProblemID: 1900, Title: Forests"
       ]
      },
      {
       "output_type": "stream",
       "stream": "stdout",
       "text": [
        "\n",
        "Now fetching ProblemID: 1901, Title: A Star not a Tree?"
       ]
      },
      {
       "output_type": "stream",
       "stream": "stdout",
       "text": [
        "\n",
        "Now fetching ProblemID: 1902, Title: Hay Points"
       ]
      },
      {
       "output_type": "stream",
       "stream": "stdout",
       "text": [
        "\n",
        "Now fetching ProblemID: 1903, Title: Jogging Trails"
       ]
      },
      {
       "output_type": "stream",
       "stream": "stdout",
       "text": [
        "\n",
        "Now fetching ProblemID: 1904, Title: Beavergnaw"
       ]
      },
      {
       "output_type": "stream",
       "stream": "stdout",
       "text": [
        "\n",
        "Now fetching ProblemID: 1905, Title: Power Strings"
       ]
      },
      {
       "output_type": "stream",
       "stream": "stdout",
       "text": [
        "\n",
        "Now fetching ProblemID: 1906, Title: Relatives"
       ]
      },
      {
       "output_type": "stream",
       "stream": "stdout",
       "text": [
        "\n",
        "Now fetching ProblemID: 1907, Title: Trains"
       ]
      },
      {
       "output_type": "stream",
       "stream": "stdout",
       "text": [
        "\n",
        "Now fetching ProblemID: 1908, Title: Tic Tac Toe"
       ]
      },
      {
       "output_type": "stream",
       "stream": "stdout",
       "text": [
        "\n",
        "Now fetching ProblemID: 1909, Title: Square"
       ]
      },
      {
       "output_type": "stream",
       "stream": "stdout",
       "text": [
        "\n",
        "Now fetching ProblemID: 1910, Title: Blocks"
       ]
      },
      {
       "output_type": "stream",
       "stream": "stdout",
       "text": [
        "\n",
        "Now fetching ProblemID: 1911, Title: Faucet Flow"
       ]
      },
      {
       "output_type": "stream",
       "stream": "stdout",
       "text": [
        "\n",
        "Now fetching ProblemID: 1912, Title: Equations"
       ]
      },
      {
       "output_type": "stream",
       "stream": "stdout",
       "text": [
        "\n",
        "Now fetching ProblemID: 1913, Title: Euclid's Game"
       ]
      },
      {
       "output_type": "stream",
       "stream": "stdout",
       "text": [
        "\n",
        "Now fetching ProblemID: 1914, Title: Arctic Network"
       ]
      },
      {
       "output_type": "stream",
       "stream": "stdout",
       "text": [
        "\n",
        "Now fetching ProblemID: 1915, Title: Above Average"
       ]
      },
      {
       "output_type": "stream",
       "stream": "stdout",
       "text": [
        "\n",
        "Now fetching ProblemID: 1916, Title: Time Zones"
       ]
      },
      {
       "output_type": "stream",
       "stream": "stdout",
       "text": [
        "\n",
        "Now fetching ProblemID: 1917, Title: Temple of Dune"
       ]
      },
      {
       "output_type": "stream",
       "stream": "stdout",
       "text": [
        "\n",
        "Now fetching ProblemID: 1918, Title: Ferry Loading II"
       ]
      },
      {
       "output_type": "stream",
       "stream": "stdout",
       "text": [
        "\n",
        "Now fetching ProblemID: 1919, Title: Catenyms"
       ]
      },
      {
       "output_type": "stream",
       "stream": "stdout",
       "text": [
        "\n",
        "Now fetching ProblemID: 1920, Title: Basic"
       ]
      },
      {
       "output_type": "stream",
       "stream": "stdout",
       "text": [
        "\n",
        "Now fetching ProblemID: 1921, Title: Rock, Scissors, Paper"
       ]
      },
      {
       "output_type": "stream",
       "stream": "stdout",
       "text": [
        "\n",
        "Now fetching ProblemID: 1922, Title: Intellectual Property"
       ]
      },
      {
       "output_type": "stream",
       "stream": "stdout",
       "text": [
        "\n",
        "Now fetching ProblemID: 1923, Title: Persistent Numbers"
       ]
      },
      {
       "output_type": "stream",
       "stream": "stdout",
       "text": [
        "\n",
        "Now fetching ProblemID: 1924, Title: Major Scales"
       ]
      },
      {
       "output_type": "stream",
       "stream": "stdout",
       "text": [
        "\n",
        "Now fetching ProblemID: 1925, Title: Dumb Bones"
       ]
      },
      {
       "output_type": "stream",
       "stream": "stdout",
       "text": [
        "\n",
        "Now fetching ProblemID: 1926, Title: Guessing Game"
       ]
      },
      {
       "output_type": "stream",
       "stream": "stdout",
       "text": [
        "\n",
        "Now fetching ProblemID: 1927, Title: Russian Dolls"
       ]
      },
      {
       "output_type": "stream",
       "stream": "stdout",
       "text": [
        "\n",
        "Now fetching ProblemID: 1928, Title: Combination Lock"
       ]
      },
      {
       "output_type": "stream",
       "stream": "stdout",
       "text": [
        "\n",
        "Now fetching ProblemID: 1929, Title: Basic Remains"
       ]
      },
      {
       "output_type": "stream",
       "stream": "stdout",
       "text": [
        "\n",
        "Now fetching ProblemID: 1930, Title: Genealogical Research"
       ]
      },
      {
       "output_type": "stream",
       "stream": "stdout",
       "text": [
        "\n",
        "Now fetching ProblemID: 1931, Title: Treasure Map"
       ]
      },
      {
       "output_type": "stream",
       "stream": "stdout",
       "text": [
        "\n",
        "Now fetching ProblemID: 1932, Title: Calories from Fat"
       ]
      },
      {
       "output_type": "stream",
       "stream": "stdout",
       "text": [
        "\n",
        "Now fetching ProblemID: 1933, Title: Dead Fraction"
       ]
      },
      {
       "output_type": "stream",
       "stream": "stdout",
       "text": [
        "\n",
        "Now fetching ProblemID: 1934, Title: Biometrics"
       ]
      },
      {
       "output_type": "stream",
       "stream": "stdout",
       "text": [
        "\n",
        "Now fetching ProblemID: 1935, Title: XYZZY"
       ]
      },
      {
       "output_type": "stream",
       "stream": "stdout",
       "text": [
        "\n",
        "Now fetching ProblemID: 1936, Title: A Brief Gerrymander"
       ]
      },
      {
       "output_type": "stream",
       "stream": "stdout",
       "text": [
        "\n",
        "Now fetching ProblemID: 1937, Title: Addition Chains"
       ]
      },
      {
       "output_type": "stream",
       "stream": "stdout",
       "text": [
        "\n",
        "Now fetching ProblemID: 1938, Title: Binomial Showdown"
       ]
      },
      {
       "output_type": "stream",
       "stream": "stdout",
       "text": [
        "\n",
        "Now fetching ProblemID: 1939, Title: Compromise"
       ]
      },
      {
       "output_type": "stream",
       "stream": "stdout",
       "text": [
        "\n",
        "Now fetching ProblemID: 1940, Title: Dungeon Master"
       ]
      },
      {
       "output_type": "stream",
       "stream": "stdout",
       "text": [
        "\n",
        "Now fetching ProblemID: 1941, Title: Equation Solver"
       ]
      },
      {
       "output_type": "stream",
       "stream": "stdout",
       "text": [
        "\n",
        "Now fetching ProblemID: 1942, Title: Frogger"
       ]
      },
      {
       "output_type": "stream",
       "stream": "stdout",
       "text": [
        "\n",
        "Now fetching ProblemID: 1943, Title: Globetrotter"
       ]
      },
      {
       "output_type": "stream",
       "stream": "stdout",
       "text": [
        "\n",
        "Now fetching ProblemID: 1944, Title: Tree Recovery"
       ]
      },
      {
       "output_type": "stream",
       "stream": "stdout",
       "text": [
        "\n",
        "Now fetching ProblemID: 1945, Title: Artificial Intelligence?"
       ]
      },
      {
       "output_type": "stream",
       "stream": "stdout",
       "text": [
        "\n",
        "Now fetching ProblemID: 1946, Title: Balancing Bank Accounts"
       ]
      },
      {
       "output_type": "stream",
       "stream": "stdout",
       "text": [
        "\n",
        "Now fetching ProblemID: 1947, Title: The Settlers of Catan"
       ]
      },
      {
       "output_type": "stream",
       "stream": "stdout",
       "text": [
        "\n",
        "Now fetching ProblemID: 1948, Title: Team Queue"
       ]
      },
      {
       "output_type": "stream",
       "stream": "stdout",
       "text": [
        "\n",
        "Now fetching ProblemID: 1949, Title: Error Correction"
       ]
      },
      {
       "output_type": "stream",
       "stream": "stdout",
       "text": [
        "\n",
        "Now fetching ProblemID: 1950, Title: France '98"
       ]
      },
      {
       "output_type": "stream",
       "stream": "stdout",
       "text": [
        "\n",
        "Now fetching ProblemID: 1951, Title: Goldbach's Conjecture"
       ]
      },
      {
       "output_type": "stream",
       "stream": "stdout",
       "text": [
        "\n",
        "Now fetching ProblemID: 1952, Title: Heavy Cargo"
       ]
      },
      {
       "output_type": "stream",
       "stream": "stdout",
       "text": [
        "\n",
        "Now fetching ProblemID: 1953, Title: Advanced Fruits"
       ]
      },
      {
       "output_type": "stream",
       "stream": "stdout",
       "text": [
        "\n",
        "Now fetching ProblemID: 1954, Title: Bee Maja"
       ]
      },
      {
       "output_type": "stream",
       "stream": "stdout",
       "text": [
        "\n",
        "Now fetching ProblemID: 1955, Title: Quadtree"
       ]
      },
      {
       "output_type": "stream",
       "stream": "stdout",
       "text": [
        "\n",
        "Now fetching ProblemID: 1956, Title: From Dusk Till Dawn"
       ]
      },
      {
       "output_type": "stream",
       "stream": "stdout",
       "text": [
        "\n",
        "Now fetching ProblemID: 1957, Title: Euro Cup 2000"
       ]
      },
      {
       "output_type": "stream",
       "stream": "stdout",
       "text": [
        "\n",
        "Now fetching ProblemID: 1958, Title: Friends"
       ]
      },
      {
       "output_type": "stream",
       "stream": "stdout",
       "text": [
        "\n",
        "Now fetching ProblemID: 1959, Title: Quadtree II"
       ]
      },
      {
       "output_type": "stream",
       "stream": "stdout",
       "text": [
        "\n",
        "Now fetching ProblemID: 1960, Title: Anagram Groups"
       ]
      },
      {
       "output_type": "stream",
       "stream": "stdout",
       "text": [
        "\n",
        "Now fetching ProblemID: 1961, Title: Let it Bead"
       ]
      },
      {
       "output_type": "stream",
       "stream": "stdout",
       "text": [
        "\n",
        "Now fetching ProblemID: 1962, Title: How Many Fibs?"
       ]
      },
      {
       "output_type": "stream",
       "stream": "stdout",
       "text": [
        "\n",
        "Now fetching ProblemID: 1963, Title: Average is not Fast Enough!"
       ]
      },
      {
       "output_type": "stream",
       "stream": "stdout",
       "text": [
        "\n",
        "Now fetching ProblemID: 1964, Title: Bound Found"
       ]
      },
      {
       "output_type": "stream",
       "stream": "stdout",
       "text": [
        "\n",
        "Now fetching ProblemID: 1965, Title: Decode the Tree"
       ]
      },
      {
       "output_type": "stream",
       "stream": "stdout",
       "text": [
        "\n",
        "Now fetching ProblemID: 1966, Title: Etaoin Shrdlu"
       ]
      },
      {
       "output_type": "stream",
       "stream": "stdout",
       "text": [
        "\n",
        "Now fetching ProblemID: 1967, Title: Fiber Network"
       ]
      },
      {
       "output_type": "stream",
       "stream": "stdout",
       "text": [
        "\n",
        "Now fetching ProblemID: 1968, Title: Global Roaming"
       ]
      },
      {
       "output_type": "stream",
       "stream": "stdout",
       "text": [
        "\n",
        "Now fetching ProblemID: 1969, Title: Hard to Believe, but True!"
       ]
      },
      {
       "output_type": "stream",
       "stream": "stdout",
       "text": [
        "\n",
        "Now fetching ProblemID: 1970, Title: All in All"
       ]
      },
      {
       "output_type": "stream",
       "stream": "stdout",
       "text": [
        "\n",
        "Now fetching ProblemID: 1971, Title: Balanced Food"
       ]
      },
      {
       "output_type": "stream",
       "stream": "stdout",
       "text": [
        "\n",
        "Now fetching ProblemID: 1972, Title: California Jones and the Gate to Freedom"
       ]
      },
      {
       "output_type": "stream",
       "stream": "stdout",
       "text": [
        "\n",
        "Now fetching ProblemID: 1973, Title: Diplomatic License"
       ]
      },
      {
       "output_type": "stream",
       "stream": "stdout",
       "text": [
        "\n",
        "Now fetching ProblemID: 1974, Title: Polygon Programming with Ease"
       ]
      },
      {
       "output_type": "stream",
       "stream": "stdout",
       "text": [
        "\n",
        "Now fetching ProblemID: 1975, Title: The Sierpinski Fractal"
       ]
      },
      {
       "output_type": "stream",
       "stream": "stdout",
       "text": [
        "\n",
        "Now fetching ProblemID: 1976, Title: Paths on a Grid"
       ]
      },
      {
       "output_type": "stream",
       "stream": "stdout",
       "text": [
        "\n",
        "Now fetching ProblemID: 1977, Title: Hall of Fountains"
       ]
      },
      {
       "output_type": "stream",
       "stream": "stdout",
       "text": [
        "\n",
        "Now fetching ProblemID: 1978, Title: Assistance Required"
       ]
      },
      {
       "output_type": "stream",
       "stream": "stdout",
       "text": [
        "\n",
        "Now fetching ProblemID: 1979, Title: The Bottom of a Graph"
       ]
      },
      {
       "output_type": "stream",
       "stream": "stdout",
       "text": [
        "\n",
        "Now fetching ProblemID: 1980, Title: Fixed Partition Contest Management"
       ]
      },
      {
       "output_type": "stream",
       "stream": "stdout",
       "text": [
        "\n",
        "Now fetching ProblemID: 1981, Title: Drink, on Ice"
       ]
      },
      {
       "output_type": "stream",
       "stream": "stdout",
       "text": [
        "\n",
        "Now fetching ProblemID: 1982, Title: Edge"
       ]
      },
      {
       "output_type": "stream",
       "stream": "stdout",
       "text": [
        "\n",
        "Now fetching ProblemID: 1983, Title: Fold"
       ]
      },
      {
       "output_type": "stream",
       "stream": "stdout",
       "text": [
        "\n",
        "Now fetching ProblemID: 1984, Title: Genetic Code"
       ]
      },
      {
       "output_type": "stream",
       "stream": "stdout",
       "text": [
        "\n",
        "Now fetching ProblemID: 1985, Title: Largest Rectangle in a Histogram"
       ]
      },
      {
       "output_type": "stream",
       "stream": "stdout",
       "text": [
        "\n",
        "Now fetching ProblemID: 1986, Title: Bridging Signals"
       ]
      },
      {
       "output_type": "stream",
       "stream": "stdout",
       "text": [
        "\n",
        "Now fetching ProblemID: 1987, Title: Vase Collection"
       ]
      },
      {
       "output_type": "stream",
       "stream": "stdout",
       "text": [
        "\n",
        "Now fetching ProblemID: 1988, Title: Gladiators"
       ]
      },
      {
       "output_type": "stream",
       "stream": "stdout",
       "text": [
        "\n",
        "Now fetching ProblemID: 1989, Title: Who's the Boss"
       ]
      },
      {
       "output_type": "stream",
       "stream": "stdout",
       "text": [
        "\n",
        "Now fetching ProblemID: 1990, Title: Subway Tree Systems"
       ]
      },
      {
       "output_type": "stream",
       "stream": "stdout",
       "text": [
        "\n",
        "Now fetching ProblemID: 1991, Title: Prison Rearrangement"
       ]
      },
      {
       "output_type": "stream",
       "stream": "stdout",
       "text": [
        "\n",
        "Now fetching ProblemID: 1992, Title: Sightseeing Tour"
       ]
      },
      {
       "output_type": "stream",
       "stream": "stdout",
       "text": [
        "\n",
        "Now fetching ProblemID: 1993, Title: A Number Game"
       ]
      },
      {
       "output_type": "stream",
       "stream": "stdout",
       "text": [
        "\n",
        "Now fetching ProblemID: 1994, Title: Budget"
       ]
      },
      {
       "output_type": "stream",
       "stream": "stdout",
       "text": [
        "\n",
        "Now fetching ProblemID: 1995, Title: Spiderman"
       ]
      },
      {
       "output_type": "stream",
       "stream": "stdout",
       "text": [
        "\n",
        "Now fetching ProblemID: 1996, Title: Toy Storage"
       ]
      },
      {
       "output_type": "stream",
       "stream": "stdout",
       "text": [
        "\n",
        "Now fetching ProblemID: 1997, Title: A Mayor Problem"
       ]
      },
      {
       "output_type": "stream",
       "stream": "stdout",
       "text": [
        "\n",
        "Now fetching ProblemID: 1998, Title: Supervisor, Supervisee"
       ]
      },
      {
       "output_type": "stream",
       "stream": "stdout",
       "text": [
        "\n",
        "Now fetching ProblemID: 1999, Title: Street Polygon"
       ]
      },
      {
       "output_type": "stream",
       "stream": "stdout",
       "text": [
        "\n",
        "Now fetching ProblemID: 2000, Title: Palindrome Numbers"
       ]
      },
      {
       "output_type": "stream",
       "stream": "stdout",
       "text": [
        "\n",
        "Now fetching ProblemID: 2001, Title: Adding Reversed Numbers"
       ]
      },
      {
       "output_type": "stream",
       "stream": "stdout",
       "text": [
        "\n",
        "Now fetching ProblemID: 2002, Title: Copying Books"
       ]
      },
      {
       "output_type": "stream",
       "stream": "stdout",
       "text": [
        "\n",
        "Now fetching ProblemID: 2003, Title: Substitution Cipher"
       ]
      },
      {
       "output_type": "stream",
       "stream": "stdout",
       "text": [
        "\n",
        "Now fetching ProblemID: 2004, Title: Commedia dell'arte"
       ]
      },
      {
       "output_type": "stream",
       "stream": "stdout",
       "text": [
        "\n",
        "Now fetching ProblemID: 2005, Title: Skyscraper Floors"
       ]
      },
      {
       "output_type": "stream",
       "stream": "stdout",
       "text": [
        "\n",
        "Now fetching ProblemID: 2006, Title: Glass Beads"
       ]
      },
      {
       "output_type": "stream",
       "stream": "stdout",
       "text": [
        "\n",
        "Now fetching ProblemID: 2007, Title: Hares and Foxes"
       ]
      },
      {
       "output_type": "stream",
       "stream": "stdout",
       "text": [
        "\n",
        "Now fetching ProblemID: 2008, Title: Invitation Cards"
       ]
      },
      {
       "output_type": "stream",
       "stream": "stdout",
       "text": [
        "\n",
        "Now fetching ProblemID: 2009, Title: Run Away"
       ]
      },
      {
       "output_type": "stream",
       "stream": "stdout",
       "text": [
        "\n",
        "Now fetching ProblemID: 2010, Title: Equipment Box"
       ]
      },
      {
       "output_type": "stream",
       "stream": "stdout",
       "text": [
        "\n",
        "Now fetching ProblemID: 2011, Title: Secret Code"
       ]
      },
      {
       "output_type": "stream",
       "stream": "stdout",
       "text": [
        "\n",
        "Now fetching ProblemID: 2012, Title: The Proper Key"
       ]
      },
      {
       "output_type": "stream",
       "stream": "stdout",
       "text": [
        "\n",
        "Now fetching ProblemID: 2013, Title: Labyrinth"
       ]
      },
      {
       "output_type": "stream",
       "stream": "stdout",
       "text": [
        "\n",
        "Now fetching ProblemID: 2014, Title: Piggy-Bank"
       ]
      },
      {
       "output_type": "stream",
       "stream": "stdout",
       "text": [
        "\n",
        "Now fetching ProblemID: 2015, Title: Lifting the Stone"
       ]
      },
      {
       "output_type": "stream",
       "stream": "stdout",
       "text": [
        "\n",
        "Now fetching ProblemID: 2016, Title: Play on Words"
       ]
      },
      {
       "output_type": "stream",
       "stream": "stdout",
       "text": [
        "\n",
        "Now fetching ProblemID: 2017, Title: Simple Arithmetics"
       ]
      },
      {
       "output_type": "stream",
       "stream": "stdout",
       "text": [
        "\n",
        "Now fetching ProblemID: 2018, Title: The Bulk"
       ]
      },
      {
       "output_type": "stream",
       "stream": "stdout",
       "text": [
        "\n",
        "Now fetching ProblemID: 2019, Title: Complete the Sequence"
       ]
      },
      {
       "output_type": "stream",
       "stream": "stdout",
       "text": [
        "\n",
        "Now fetching ProblemID: 2020, Title: Direct Visibility"
       ]
      },
      {
       "output_type": "stream",
       "stream": "stdout",
       "text": [
        "\n",
        "Now fetching ProblemID: 2021, Title: Complicated Expressions"
       ]
      },
      {
       "output_type": "stream",
       "stream": "stdout",
       "text": [
        "\n",
        "Now fetching ProblemID: 2022, Title: Factorial"
       ]
      },
      {
       "output_type": "stream",
       "stream": "stdout",
       "text": [
        "\n",
        "Now fetching ProblemID: 2023, Title: The Game of Master-Mind"
       ]
      },
      {
       "output_type": "stream",
       "stream": "stdout",
       "text": [
        "\n",
        "Now fetching ProblemID: 2024, Title: Hotline"
       ]
      },
      {
       "output_type": "stream",
       "stream": "stdout",
       "text": [
        "\n",
        "Now fetching ProblemID: 2025, Title: I-Keyboard"
       ]
      },
      {
       "output_type": "stream",
       "stream": "stdout",
       "text": [
        "\n",
        "Now fetching ProblemID: 2026, Title: Archaeologist's Trouble"
       ]
      },
      {
       "output_type": "stream",
       "stream": "stdout",
       "text": [
        "\n",
        "Now fetching ProblemID: 2027, Title: Travelling Fee"
       ]
      },
      {
       "output_type": "stream",
       "stream": "stdout",
       "text": [
        "\n",
        "Now fetching ProblemID: 2028, Title: How Many Left"
       ]
      },
      {
       "output_type": "stream",
       "stream": "stdout",
       "text": [
        "\n",
        "Now fetching ProblemID: 2029, Title: The Intervals"
       ]
      },
      {
       "output_type": "stream",
       "stream": "stdout",
       "text": [
        "\n",
        "Now fetching ProblemID: 2030, Title: Othello"
       ]
      },
      {
       "output_type": "stream",
       "stream": "stdout",
       "text": [
        "\n",
        "Now fetching ProblemID: 2031, Title: Song List"
       ]
      },
      {
       "output_type": "stream",
       "stream": "stdout",
       "text": [
        "\n",
        "Now fetching ProblemID: 2032, Title: Overlapping Objects"
       ]
      },
      {
       "output_type": "stream",
       "stream": "stdout",
       "text": [
        "\n",
        "Now fetching ProblemID: 2033, Title: The Jewelry Is Gone"
       ]
      },
      {
       "output_type": "stream",
       "stream": "stdout",
       "text": [
        "\n",
        "Now fetching ProblemID: 2034, Title: False Coin"
       ]
      },
      {
       "output_type": "stream",
       "stream": "stdout",
       "text": [
        "\n",
        "Now fetching ProblemID: 2035, Title: Rating"
       ]
      },
      {
       "output_type": "stream",
       "stream": "stdout",
       "text": [
        "\n",
        "Now fetching ProblemID: 2036, Title: Fence"
       ]
      },
      {
       "output_type": "stream",
       "stream": "stdout",
       "text": [
        "\n",
        "Now fetching ProblemID: 2037, Title: Parliament"
       ]
      },
      {
       "output_type": "stream",
       "stream": "stdout",
       "text": [
        "\n",
        "Now fetching ProblemID: 2038, Title: Defragment"
       ]
      },
      {
       "output_type": "stream",
       "stream": "stdout",
       "text": [
        "\n",
        "Now fetching ProblemID: 2039, Title: The Dog Task"
       ]
      },
      {
       "output_type": "stream",
       "stream": "stdout",
       "text": [
        "\n",
        "Now fetching ProblemID: 2040, Title: Spell Checker"
       ]
      },
      {
       "output_type": "stream",
       "stream": "stdout",
       "text": [
        "\n",
        "Now fetching ProblemID: 2041, Title: Gangsters"
       ]
      },
      {
       "output_type": "stream",
       "stream": "stdout",
       "text": [
        "\n",
        "Now fetching ProblemID: 2042, Title: Divisibility"
       ]
      },
      {
       "output_type": "stream",
       "stream": "stdout",
       "text": [
        "\n",
        "Now fetching ProblemID: 2043, Title: Loan"
       ]
      },
      {
       "output_type": "stream",
       "stream": "stdout",
       "text": [
        "\n",
        "Now fetching ProblemID: 2044, Title: Expression"
       ]
      },
      {
       "output_type": "stream",
       "stream": "stdout",
       "text": [
        "\n",
        "Now fetching ProblemID: 2045, Title: Computer Dialogue"
       ]
      },
      {
       "output_type": "stream",
       "stream": "stdout",
       "text": [
        "\n",
        "Now fetching ProblemID: 2046, Title: Lock Manager"
       ]
      },
      {
       "output_type": "stream",
       "stream": "stdout",
       "text": [
        "\n",
        "Now fetching ProblemID: 2047, Title: Dictionary"
       ]
      },
      {
       "output_type": "stream",
       "stream": "stdout",
       "text": [
        "\n",
        "Now fetching ProblemID: 2048, Title: Highways"
       ]
      },
      {
       "output_type": "stream",
       "stream": "stdout",
       "text": [
        "\n",
        "Now fetching ProblemID: 2049, Title: Advertisement"
       ]
      },
      {
       "output_type": "stream",
       "stream": "stdout",
       "text": [
        "\n",
        "Now fetching ProblemID: 2050, Title: Flip Game"
       ]
      },
      {
       "output_type": "stream",
       "stream": "stdout",
       "text": [
        "\n",
        "Now fetching ProblemID: 2051, Title: Buffer Manager"
       ]
      },
      {
       "output_type": "stream",
       "stream": "stdout",
       "text": [
        "\n",
        "Now fetching ProblemID: 2052, Title: Triathlon"
       ]
      },
      {
       "output_type": "stream",
       "stream": "stdout",
       "text": [
        "\n",
        "Now fetching ProblemID: 2053, Title: Domino Puzzle"
       ]
      },
      {
       "output_type": "stream",
       "stream": "stdout",
       "text": [
        "\n",
        "Now fetching ProblemID: 2054, Title: Binary Search"
       ]
      },
      {
       "output_type": "stream",
       "stream": "stdout",
       "text": [
        "\n",
        "Now fetching ProblemID: 2055, Title: Frontier"
       ]
      },
      {
       "output_type": "stream",
       "stream": "stdout",
       "text": [
        "\n",
        "Now fetching ProblemID: 2056, Title: Garland"
       ]
      },
      {
       "output_type": "stream",
       "stream": "stdout",
       "text": [
        "\n",
        "Now fetching ProblemID: 2057, Title: Disk Tree"
       ]
      },
      {
       "output_type": "stream",
       "stream": "stdout",
       "text": [
        "\n",
        "Now fetching ProblemID: 2058, Title: The Archaeologist's Trouble II"
       ]
      },
      {
       "output_type": "stream",
       "stream": "stdout",
       "text": [
        "\n",
        "Now fetching ProblemID: 2059, Title: The Twin Towers"
       ]
      },
      {
       "output_type": "stream",
       "stream": "stdout",
       "text": [
        "\n",
        "Now fetching ProblemID: 2060, Title: Fibonacci Again"
       ]
      },
      {
       "output_type": "stream",
       "stream": "stdout",
       "text": [
        "\n",
        "Now fetching ProblemID: 2061, Title: Buy the Ticket"
       ]
      },
      {
       "output_type": "stream",
       "stream": "stdout",
       "text": [
        "\n",
        "Now fetching ProblemID: 2062, Title: Radial and Polygon"
       ]
      },
      {
       "output_type": "stream",
       "stream": "stdout",
       "text": [
        "\n",
        "Now fetching ProblemID: 2063, Title: Power Management"
       ]
      },
      {
       "output_type": "stream",
       "stream": "stdout",
       "text": [
        "\n",
        "Now fetching ProblemID: 2064, Title: Bomberman - Just Search!"
       ]
      },
      {
       "output_type": "stream",
       "stream": "stdout",
       "text": [
        "\n",
        "Now fetching ProblemID: 2065, Title: Jump the Chess"
       ]
      },
      {
       "output_type": "stream",
       "stream": "stdout",
       "text": [
        "\n",
        "Now fetching ProblemID: 2066, Title: Selective Course"
       ]
      },
      {
       "output_type": "stream",
       "stream": "stdout",
       "text": [
        "\n",
        "Now fetching ProblemID: 2067, Title: White Rectangles"
       ]
      },
      {
       "output_type": "stream",
       "stream": "stdout",
       "text": [
        "\n",
        "Now fetching ProblemID: 2068, Title: Chopsticks"
       ]
      },
      {
       "output_type": "stream",
       "stream": "stdout",
       "text": [
        "\n",
        "Now fetching ProblemID: 2069, Title: Greatest Least Common Multiple"
       ]
      },
      {
       "output_type": "stream",
       "stream": "stdout",
       "text": [
        "\n",
        "Now fetching ProblemID: 2070, Title: FatMouse and JavaBean"
       ]
      },
      {
       "output_type": "stream",
       "stream": "stdout",
       "text": [
        "\n",
        "Now fetching ProblemID: 2071, Title: Technology Trader"
       ]
      },
      {
       "output_type": "stream",
       "stream": "stdout",
       "text": [
        "\n",
        "Now fetching ProblemID: 2072, Title: Recursive Survival"
       ]
      },
      {
       "output_type": "stream",
       "stream": "stdout",
       "text": [
        "\n",
        "Now fetching ProblemID: 2073, Title: The Archaeologist's Trouble III"
       ]
      },
      {
       "output_type": "stream",
       "stream": "stdout",
       "text": [
        "\n",
        "Now fetching ProblemID: 2074, Title: Trip"
       ]
      },
      {
       "output_type": "stream",
       "stream": "stdout",
       "text": [
        "\n",
        "Now fetching ProblemID: 2075, Title: Ellipsoid Volume"
       ]
      },
      {
       "output_type": "stream",
       "stream": "stdout",
       "text": [
        "\n",
        "Now fetching ProblemID: 2076, Title: Bomber"
       ]
      },
      {
       "output_type": "stream",
       "stream": "stdout",
       "text": [
        "\n",
        "Now fetching ProblemID: 2077, Title: Equation Game"
       ]
      },
      {
       "output_type": "stream",
       "stream": "stdout",
       "text": [
        "\n",
        "Now fetching ProblemID: 2078, Title: Cutting Cake"
       ]
      },
      {
       "output_type": "stream",
       "stream": "stdout",
       "text": [
        "\n",
        "Now fetching ProblemID: 2079, Title: Souvenirs of Love"
       ]
      },
      {
       "output_type": "stream",
       "stream": "stdout",
       "text": [
        "\n",
        "Now fetching ProblemID: 2080, Title: Chess War"
       ]
      },
      {
       "output_type": "stream",
       "stream": "stdout",
       "text": [
        "\n",
        "Now fetching ProblemID: 2081, Title: Mission Impossible"
       ]
      },
      {
       "output_type": "stream",
       "stream": "stdout",
       "text": [
        "\n",
        "Now fetching ProblemID: 2082, Title: Icecream"
       ]
      },
      {
       "output_type": "stream",
       "stream": "stdout",
       "text": [
        "\n",
        "Now fetching ProblemID: 2083, Title: Win the Game"
       ]
      },
      {
       "output_type": "stream",
       "stream": "stdout",
       "text": [
        "\n",
        "Now fetching ProblemID: 2084, Title: Dining Time"
       ]
      },
      {
       "output_type": "stream",
       "stream": "stdout",
       "text": [
        "\n",
        "Now fetching ProblemID: 2085, Title: Wishingbone's Victory"
       ]
      },
      {
       "output_type": "stream",
       "stream": "stdout",
       "text": [
        "\n",
        "Now fetching ProblemID: 2086, Title: Pressure Calculation"
       ]
      },
      {
       "output_type": "stream",
       "stream": "stdout",
       "text": [
        "\n",
        "Now fetching ProblemID: 2087, Title: The Archaeologist's Trouble IV"
       ]
      },
      {
       "output_type": "stream",
       "stream": "stdout",
       "text": [
        "\n",
        "Now fetching ProblemID: 2088, Title: Goods Transportation"
       ]
      },
      {
       "output_type": "stream",
       "stream": "stdout",
       "text": [
        "\n",
        "Now fetching ProblemID: 2089, Title: Learn to Write"
       ]
      },
      {
       "output_type": "stream",
       "stream": "stdout",
       "text": [
        "\n",
        "Now fetching ProblemID: 2090, Title: Find the Pairs"
       ]
      },
      {
       "output_type": "stream",
       "stream": "stdout",
       "text": [
        "\n",
        "Now fetching ProblemID: 2091, Title: Mean of Subsequence"
       ]
      },
      {
       "output_type": "stream",
       "stream": "stdout",
       "text": [
        "\n",
        "Now fetching ProblemID: 2092, Title: Fastest Drop"
       ]
      },
      {
       "output_type": "stream",
       "stream": "stdout",
       "text": [
        "\n",
        "Now fetching ProblemID: 2093, Title: Volcano"
       ]
      },
      {
       "output_type": "stream",
       "stream": "stdout",
       "text": [
        "\n",
        "Now fetching ProblemID: 2094, Title: Max Angle"
       ]
      },
      {
       "output_type": "stream",
       "stream": "stdout",
       "text": [
        "\n",
        "Now fetching ProblemID: 2095, Title: Divisor Summation"
       ]
      },
      {
       "output_type": "stream",
       "stream": "stdout",
       "text": [
        "\n",
        "Now fetching ProblemID: 2096, Title: Door to Secret"
       ]
      },
      {
       "output_type": "stream",
       "stream": "stdout",
       "text": [
        "\n",
        "Now fetching ProblemID: 2097, Title: Walking on a Chessboard"
       ]
      },
      {
       "output_type": "stream",
       "stream": "stdout",
       "text": [
        "\n",
        "Now fetching ProblemID: 2098, Title: Picking Balls"
       ]
      },
      {
       "output_type": "stream",
       "stream": "stdout",
       "text": [
        "\n",
        "Now fetching ProblemID: 2099, Title: Frame Polygonal Line"
       ]
      },
      {
       "output_type": "stream",
       "stream": "stdout",
       "text": [
        "\n",
        "Now fetching ProblemID: 2100, Title: Seeding"
       ]
      },
      {
       "output_type": "stream",
       "stream": "stdout",
       "text": [
        "\n",
        "Now fetching ProblemID: 2101, Title: Virtual Keyboard"
       ]
      },
      {
       "output_type": "stream",
       "stream": "stdout",
       "text": [
        "\n",
        "Now fetching ProblemID: 2102, Title: Tables"
       ]
      },
      {
       "output_type": "stream",
       "stream": "stdout",
       "text": [
        "\n",
        "Now fetching ProblemID: 2103, Title: Marco Popo the Traveler"
       ]
      },
      {
       "output_type": "stream",
       "stream": "stdout",
       "text": [
        "\n",
        "Now fetching ProblemID: 2104, Title: Let the Balloon Rise"
       ]
      },
      {
       "output_type": "stream",
       "stream": "stdout",
       "text": [
        "\n",
        "Now fetching ProblemID: 2105, Title: Number Sequence"
       ]
      },
      {
       "output_type": "stream",
       "stream": "stdout",
       "text": [
        "\n",
        "Now fetching ProblemID: 2106, Title: Tick and Tick"
       ]
      },
      {
       "output_type": "stream",
       "stream": "stdout",
       "text": [
        "\n",
        "Now fetching ProblemID: 2107, Title: Quoit Design"
       ]
      },
      {
       "output_type": "stream",
       "stream": "stdout",
       "text": [
        "\n",
        "Now fetching ProblemID: 2108, Title: Elevator"
       ]
      },
      {
       "output_type": "stream",
       "stream": "stdout",
       "text": [
        "\n",
        "Now fetching ProblemID: 2109, Title: FatMouse' Trade"
       ]
      },
      {
       "output_type": "stream",
       "stream": "stdout",
       "text": [
        "\n",
        "Now fetching ProblemID: 2110, Title: Tempter of the Bone"
       ]
      },
      {
       "output_type": "stream",
       "stream": "stdout",
       "text": [
        "\n",
        "Now fetching ProblemID: 2111, Title: Starship Troopers"
       ]
      },
      {
       "output_type": "stream",
       "stream": "stdout",
       "text": [
        "\n",
        "Now fetching ProblemID: 2112, Title: Dynamic Rankings"
       ]
      },
      {
       "output_type": "stream",
       "stream": "stdout",
       "text": [
        "\n",
        "Now fetching ProblemID: 2113, Title: XX Language"
       ]
      },
      {
       "output_type": "stream",
       "stream": "stdout",
       "text": [
        "\n",
        "Now fetching ProblemID: 2114, Title: Transportation Network"
       ]
      },
      {
       "output_type": "stream",
       "stream": "stdout",
       "text": [
        "\n",
        "Now fetching ProblemID: 2115, Title: Dangerous Pattern"
       ]
      },
      {
       "output_type": "stream",
       "stream": "stdout",
       "text": [
        "\n",
        "Now fetching ProblemID: 2116, Title: Christopher's Christmas Letter"
       ]
      },
      {
       "output_type": "stream",
       "stream": "stdout",
       "text": [
        "\n",
        "Now fetching ProblemID: 2117, Title: Christopher's Key Ring"
       ]
      },
      {
       "output_type": "stream",
       "stream": "stdout",
       "text": [
        "\n",
        "Now fetching ProblemID: 2118, Title: Christopher's Rainy Day"
       ]
      },
      {
       "output_type": "stream",
       "stream": "stdout",
       "text": [
        "\n",
        "Now fetching ProblemID: 2119, Title: Christopher's \"Wedding\""
       ]
      },
      {
       "output_type": "stream",
       "stream": "stdout",
       "text": [
        "\n",
        "Now fetching ProblemID: 2120, Title: Tango Tango Insurrection"
       ]
      },
      {
       "output_type": "stream",
       "stream": "stdout",
       "text": [
        "\n",
        "Now fetching ProblemID: 2121, Title: Advanced Causal Measurements"
       ]
      },
      {
       "output_type": "stream",
       "stream": "stdout",
       "text": [
        "\n",
        "Now fetching ProblemID: 2122, Title: A Flea on a Chessboard"
       ]
      },
      {
       "output_type": "stream",
       "stream": "stdout",
       "text": [
        "\n",
        "Now fetching ProblemID: 2123, Title: Jack and Jill"
       ]
      },
      {
       "output_type": "stream",
       "stream": "stdout",
       "text": [
        "\n",
        "Now fetching ProblemID: 2124, Title: Perfect Pth Powers"
       ]
      },
      {
       "output_type": "stream",
       "stream": "stdout",
       "text": [
        "\n",
        "Now fetching ProblemID: 2125, Title: Rocket Mania"
       ]
      },
      {
       "output_type": "stream",
       "stream": "stdout",
       "text": [
        "\n",
        "Now fetching ProblemID: 2126, Title: Rocket Mania Plus"
       ]
      },
      {
       "output_type": "stream",
       "stream": "stdout",
       "text": [
        "\n",
        "Now fetching ProblemID: 2127, Title: Zuma"
       ]
      },
      {
       "output_type": "stream",
       "stream": "stdout",
       "text": [
        "\n",
        "Now fetching ProblemID: 2128, Title: Seven Seas"
       ]
      },
      {
       "output_type": "stream",
       "stream": "stdout",
       "text": [
        "\n",
        "Now fetching ProblemID: 2129, Title: Mummy Maze"
       ]
      },
      {
       "output_type": "stream",
       "stream": "stdout",
       "text": [
        "\n",
        "Now fetching ProblemID: 2130, Title: 5 Spots"
       ]
      },
      {
       "output_type": "stream",
       "stream": "stdout",
       "text": [
        "\n",
        "Now fetching ProblemID: 2131, Title: Bejewlled"
       ]
      },
      {
       "output_type": "stream",
       "stream": "stdout",
       "text": [
        "\n",
        "Now fetching ProblemID: 2132, Title: The Most Frequent Number"
       ]
      },
      {
       "output_type": "stream",
       "stream": "stdout",
       "text": [
        "\n",
        "Now fetching ProblemID: 2133, Title: Tetris Alphabet"
       ]
      },
      {
       "output_type": "stream",
       "stream": "stdout",
       "text": [
        "\n",
        "Now fetching ProblemID: 2134, Title: Network Saboteur"
       ]
      },
      {
       "output_type": "stream",
       "stream": "stdout",
       "text": [
        "\n",
        "Now fetching ProblemID: 2135, Title: Burned Calendar"
       ]
      },
      {
       "output_type": "stream",
       "stream": "stdout",
       "text": [
        "\n",
        "Now fetching ProblemID: 2136, Title: Longest Ordered Subsequence"
       ]
      },
      {
       "output_type": "stream",
       "stream": "stdout",
       "text": [
        "\n",
        "Now fetching ProblemID: 2137, Title: Falling Cards"
       ]
      },
      {
       "output_type": "stream",
       "stream": "stdout",
       "text": [
        "\n",
        "Now fetching ProblemID: 2138, Title: Very Simple Problem"
       ]
      },
      {
       "output_type": "stream",
       "stream": "stdout",
       "text": [
        "\n",
        "Now fetching ProblemID: 2139, Title: ACM"
       ]
      },
      {
       "output_type": "stream",
       "stream": "stdout",
       "text": [
        "\n",
        "Now fetching ProblemID: 2140, Title: Ball"
       ]
      },
      {
       "output_type": "stream",
       "stream": "stdout",
       "text": [
        "\n",
        "Now fetching ProblemID: 2141, Title: Distance and Speed Testing"
       ]
      },
      {
       "output_type": "stream",
       "stream": "stdout",
       "text": [
        "\n",
        "Now fetching ProblemID: 2142, Title: Light The Square"
       ]
      },
      {
       "output_type": "stream",
       "stream": "stdout",
       "text": [
        "\n",
        "Now fetching ProblemID: 2143, Title: Number Base Conversion"
       ]
      },
      {
       "output_type": "stream",
       "stream": "stdout",
       "text": [
        "\n",
        "Now fetching ProblemID: 2144, Title: Sending Gift"
       ]
      },
      {
       "output_type": "stream",
       "stream": "stdout",
       "text": [
        "\n",
        "Now fetching ProblemID: 2145, Title: An Assemble Language Simulator"
       ]
      },
      {
       "output_type": "stream",
       "stream": "stdout",
       "text": [
        "\n",
        "Now fetching ProblemID: 2146, Title: Greenhound Web Service"
       ]
      },
      {
       "output_type": "stream",
       "stream": "stdout",
       "text": [
        "\n",
        "Now fetching ProblemID: 2147, Title: Jack"
       ]
      },
      {
       "output_type": "stream",
       "stream": "stdout",
       "text": [
        "\n",
        "Now fetching ProblemID: 2148, Title: Caleidoscope"
       ]
      },
      {
       "output_type": "stream",
       "stream": "stdout",
       "text": [
        "\n",
        "Now fetching ProblemID: 2149, Title: Logic"
       ]
      },
      {
       "output_type": "stream",
       "stream": "stdout",
       "text": [
        "\n",
        "Now fetching ProblemID: 2150, Title: Raising Modulo Numbers"
       ]
      },
      {
       "output_type": "stream",
       "stream": "stdout",
       "text": [
        "\n",
        "Now fetching ProblemID: 2151, Title: The Highest Profits"
       ]
      },
      {
       "output_type": "stream",
       "stream": "stdout",
       "text": [
        "\n",
        "Now fetching ProblemID: 2152, Title: Word Puzzle"
       ]
      },
      {
       "output_type": "stream",
       "stream": "stdout",
       "text": [
        "\n",
        "Now fetching ProblemID: 2153, Title: Lloyd Fifteen Puzzle"
       ]
      },
      {
       "output_type": "stream",
       "stream": "stdout",
       "text": [
        "\n",
        "Now fetching ProblemID: 2154, Title: Quorf"
       ]
      },
      {
       "output_type": "stream",
       "stream": "stdout",
       "text": [
        "\n",
        "Now fetching ProblemID: 2155, Title: Bridge Hands"
       ]
      },
      {
       "output_type": "stream",
       "stream": "stdout",
       "text": [
        "\n",
        "Now fetching ProblemID: 2156, Title: Charlie's Change"
       ]
      },
      {
       "output_type": "stream",
       "stream": "stdout",
       "text": [
        "\n",
        "Now fetching ProblemID: 2157, Title: Building a New Depot"
       ]
      },
      {
       "output_type": "stream",
       "stream": "stdout",
       "text": [
        "\n",
        "Now fetching ProblemID: 2158, Title: Truck History"
       ]
      },
      {
       "output_type": "stream",
       "stream": "stdout",
       "text": [
        "\n",
        "Now fetching ProblemID: 2159, Title: Base Numbers"
       ]
      },
      {
       "output_type": "stream",
       "stream": "stdout",
       "text": [
        "\n",
        "Now fetching ProblemID: 2160, Title: Paper Cutting"
       ]
      },
      {
       "output_type": "stream",
       "stream": "stdout",
       "text": [
        "\n",
        "Now fetching ProblemID: 2161, Title: Hexagonal Routes"
       ]
      },
      {
       "output_type": "stream",
       "stream": "stdout",
       "text": [
        "\n",
        "Now fetching ProblemID: 2162, Title: Storehouse"
       ]
      },
      {
       "output_type": "stream",
       "stream": "stdout",
       "text": [
        "\n",
        "Now fetching ProblemID: 2163, Title: Traffic Jam"
       ]
      },
      {
       "output_type": "stream",
       "stream": "stdout",
       "text": [
        "\n",
        "Now fetching ProblemID: 2164, Title: Hanafuda Shuffle"
       ]
      },
      {
       "output_type": "stream",
       "stream": "stdout",
       "text": [
        "\n",
        "Now fetching ProblemID: 2165, Title: Red and Black"
       ]
      },
      {
       "output_type": "stream",
       "stream": "stdout",
       "text": [
        "\n",
        "Now fetching ProblemID: 2166, Title: Unit Fraction Partition"
       ]
      },
      {
       "output_type": "stream",
       "stream": "stdout",
       "text": [
        "\n",
        "Now fetching ProblemID: 2167, Title: Circle and Points"
       ]
      },
      {
       "output_type": "stream",
       "stream": "stdout",
       "text": [
        "\n",
        "Now fetching ProblemID: 2168, Title: Water Tank"
       ]
      },
      {
       "output_type": "stream",
       "stream": "stdout",
       "text": [
        "\n",
        "Now fetching ProblemID: 2169, Title: Name the Crossing"
       ]
      },
      {
       "output_type": "stream",
       "stream": "stdout",
       "text": [
        "\n",
        "Now fetching ProblemID: 2170, Title: Primary X-Subfactor Series"
       ]
      },
      {
       "output_type": "stream",
       "stream": "stdout",
       "text": [
        "\n",
        "Now fetching ProblemID: 2171, Title: Triangle Cuts"
       ]
      },
      {
       "output_type": "stream",
       "stream": "stdout",
       "text": [
        "\n",
        "Now fetching ProblemID: 2172, Title: Symmetric Order"
       ]
      },
      {
       "output_type": "stream",
       "stream": "stdout",
       "text": [
        "\n",
        "Now fetching ProblemID: 2173, Title: Flow Layout"
       ]
      },
      {
       "output_type": "stream",
       "stream": "stdout",
       "text": [
        "\n",
        "Now fetching ProblemID: 2174, Title: Permutation Code"
       ]
      },
      {
       "output_type": "stream",
       "stream": "stdout",
       "text": [
        "\n",
        "Now fetching ProblemID: 2175, Title: Ink Blots"
       ]
      },
      {
       "output_type": "stream",
       "stream": "stdout",
       "text": [
        "\n",
        "Now fetching ProblemID: 2176, Title: Speed Limit"
       ]
      },
      {
       "output_type": "stream",
       "stream": "stdout",
       "text": [
        "\n",
        "Now fetching ProblemID: 2177, Title: Period"
       ]
      },
      {
       "output_type": "stream",
       "stream": "stdout",
       "text": [
        "\n",
        "Now fetching ProblemID: 2178, Title: Corporative Network"
       ]
      },
      {
       "output_type": "stream",
       "stream": "stdout",
       "text": [
        "\n",
        "Now fetching ProblemID: 2179, Title: Cave Exploration"
       ]
      },
      {
       "output_type": "stream",
       "stream": "stdout",
       "text": [
        "\n",
        "Now fetching ProblemID: 2180, Title: City Game"
       ]
      },
      {
       "output_type": "stream",
       "stream": "stdout",
       "text": [
        "\n",
        "Now fetching ProblemID: 2181, Title: Cube Root"
       ]
      },
      {
       "output_type": "stream",
       "stream": "stdout",
       "text": [
        "\n",
        "Now fetching ProblemID: 2182, Title: Cable TV Network"
       ]
      },
      {
       "output_type": "stream",
       "stream": "stdout",
       "text": [
        "\n",
        "Now fetching ProblemID: 2183, Title: Alibaba"
       ]
      },
      {
       "output_type": "stream",
       "stream": "stdout",
       "text": [
        "\n",
        "Now fetching ProblemID: 2184, Title: Booklets"
       ]
      },
      {
       "output_type": "stream",
       "stream": "stdout",
       "text": [
        "\n",
        "Now fetching ProblemID: 2185, Title: Count on Canton"
       ]
      },
      {
       "output_type": "stream",
       "stream": "stdout",
       "text": [
        "\n",
        "Now fetching ProblemID: 2186, Title: Keep on Truckin'"
       ]
      },
      {
       "output_type": "stream",
       "stream": "stdout",
       "text": [
        "\n",
        "Now fetching ProblemID: 2187, Title: Blurred Vision"
       ]
      },
      {
       "output_type": "stream",
       "stream": "stdout",
       "text": [
        "\n",
        "Now fetching ProblemID: 2188, Title: The Door/Key Problem"
       ]
      },
      {
       "output_type": "stream",
       "stream": "stdout",
       "text": [
        "\n",
        "Now fetching ProblemID: 2189, Title: Exact Change Only"
       ]
      },
      {
       "output_type": "stream",
       "stream": "stdout",
       "text": [
        "\n",
        "Now fetching ProblemID: 2190, Title: Finding Nemo"
       ]
      },
      {
       "output_type": "stream",
       "stream": "stdout",
       "text": [
        "\n",
        "Now fetching ProblemID: 2191, Title: Series Determination"
       ]
      },
      {
       "output_type": "stream",
       "stream": "stdout",
       "text": [
        "\n",
        "Now fetching ProblemID: 2192, Title: T-Shirt Gumbo"
       ]
      },
      {
       "output_type": "stream",
       "stream": "stdout",
       "text": [
        "\n",
        "Now fetching ProblemID: 2193, Title: Window Pains"
       ]
      },
      {
       "output_type": "stream",
       "stream": "stdout",
       "text": [
        "\n",
        "Now fetching ProblemID: 2194, Title: MisLED"
       ]
      },
      {
       "output_type": "stream",
       "stream": "stdout",
       "text": [
        "\n",
        "Now fetching ProblemID: 2195, Title: Relative Relatives"
       ]
      },
      {
       "output_type": "stream",
       "stream": "stdout",
       "text": [
        "\n",
        "Now fetching ProblemID: 2196, Title: Syntax Included"
       ]
      },
      {
       "output_type": "stream",
       "stream": "stdout",
       "text": [
        "\n",
        "Now fetching ProblemID: 2197, Title: Choose Your Own Adventure"
       ]
      },
      {
       "output_type": "stream",
       "stream": "stdout",
       "text": [
        "\n",
        "Now fetching ProblemID: 2198, Title: Know When to Hold 'em"
       ]
      },
      {
       "output_type": "stream",
       "stream": "stdout",
       "text": [
        "\n",
        "Now fetching ProblemID: 2199, Title: Cubic Rube"
       ]
      },
      {
       "output_type": "stream",
       "stream": "stdout",
       "text": [
        "\n",
        "Now fetching ProblemID: 2200, Title: As the Crow Flies"
       ]
      },
      {
       "output_type": "stream",
       "stream": "stdout",
       "text": [
        "\n",
        "Now fetching ProblemID: 2201, Title: No Brainer"
       ]
      },
      {
       "output_type": "stream",
       "stream": "stdout",
       "text": [
        "\n",
        "Now fetching ProblemID: 2202, Title: Alphacode"
       ]
      },
      {
       "output_type": "stream",
       "stream": "stdout",
       "text": [
        "\n",
        "Now fetching ProblemID: 2203, Title: Anti-prime Sequences"
       ]
      },
      {
       "output_type": "stream",
       "stream": "stdout",
       "text": [
        "\n",
        "Now fetching ProblemID: 2204, Title: Hit or Miss"
       ]
      },
      {
       "output_type": "stream",
       "stream": "stdout",
       "text": [
        "\n",
        "Now fetching ProblemID: 2205, Title: I Conduit!"
       ]
      },
      {
       "output_type": "stream",
       "stream": "stdout",
       "text": [
        "\n",
        "Now fetching ProblemID: 2206, Title: Roll Playing Games"
       ]
      },
      {
       "output_type": "stream",
       "stream": "stdout",
       "text": [
        "\n",
        "Now fetching ProblemID: 2207, Title: Team Rankings"
       ]
      },
      {
       "output_type": "stream",
       "stream": "stdout",
       "text": [
        "\n",
        "Now fetching ProblemID: 2208, Title: To and Fro"
       ]
      },
      {
       "output_type": "stream",
       "stream": "stdout",
       "text": [
        "\n",
        "Now fetching ProblemID: 2209, Title: Translations"
       ]
      },
      {
       "output_type": "stream",
       "stream": "stdout",
       "text": [
        "\n",
        "Now fetching ProblemID: 2210, Title: Finding Nemo"
       ]
      },
      {
       "output_type": "stream",
       "stream": "stdout",
       "text": [
        "\n",
        "Now fetching ProblemID: 2211, Title: Searching the Web"
       ]
      },
      {
       "output_type": "stream",
       "stream": "stdout",
       "text": [
        "\n",
        "Now fetching ProblemID: 2212, Title: Argus"
       ]
      },
      {
       "output_type": "stream",
       "stream": "stdout",
       "text": [
        "\n",
        "Now fetching ProblemID: 2213, Title: Fun Game"
       ]
      },
      {
       "output_type": "stream",
       "stream": "stdout",
       "text": [
        "\n",
        "Now fetching ProblemID: 2214, Title: Square"
       ]
      },
      {
       "output_type": "stream",
       "stream": "stdout",
       "text": [
        "\n",
        "Now fetching ProblemID: 2215, Title: Color a Tree"
       ]
      },
      {
       "output_type": "stream",
       "stream": "stdout",
       "text": [
        "\n",
        "Now fetching ProblemID: 2216, Title: Kid's Problem"
       ]
      },
      {
       "output_type": "stream",
       "stream": "stdout",
       "text": [
        "\n",
        "Now fetching ProblemID: 2217, Title: The Separator in Grid"
       ]
      },
      {
       "output_type": "stream",
       "stream": "stdout",
       "text": [
        "\n",
        "Now fetching ProblemID: 2218, Title: The Lost House"
       ]
      },
      {
       "output_type": "stream",
       "stream": "stdout",
       "text": [
        "\n",
        "Now fetching ProblemID: 2219, Title: Word Encoding"
       ]
      },
      {
       "output_type": "stream",
       "stream": "stdout",
       "text": [
        "\n",
        "Now fetching ProblemID: 2220, Title: Watchdog"
       ]
      },
      {
       "output_type": "stream",
       "stream": "stdout",
       "text": [
        "\n",
        "Now fetching ProblemID: 2221, Title: Taxi Cab Scheme"
       ]
      },
      {
       "output_type": "stream",
       "stream": "stdout",
       "text": [
        "\n",
        "Now fetching ProblemID: 2222, Title: Pseudo-random Numbers"
       ]
      },
      {
       "output_type": "stream",
       "stream": "stdout",
       "text": [
        "\n",
        "Now fetching ProblemID: 2223, Title: Card Game Cheater"
       ]
      },
      {
       "output_type": "stream",
       "stream": "stdout",
       "text": [
        "\n",
        "Now fetching ProblemID: 2224, Title: Investment"
       ]
      },
      {
       "output_type": "stream",
       "stream": "stdout",
       "text": [
        "\n",
        "Now fetching ProblemID: 2225, Title: Pipes"
       ]
      },
      {
       "output_type": "stream",
       "stream": "stdout",
       "text": [
        "\n",
        "Now fetching ProblemID: 2226, Title: SETI"
       ]
      },
      {
       "output_type": "stream",
       "stream": "stdout",
       "text": [
        "\n",
        "Now fetching ProblemID: 2227, Title: Minimax Triangulation"
       ]
      },
      {
       "output_type": "stream",
       "stream": "stdout",
       "text": [
        "\n",
        "Now fetching ProblemID: 2228, Title: Paper Cut"
       ]
      },
      {
       "output_type": "stream",
       "stream": "stdout",
       "text": [
        "\n",
        "Now fetching ProblemID: 2229, Title: Ride to School"
       ]
      },
      {
       "output_type": "stream",
       "stream": "stdout",
       "text": [
        "\n",
        "Now fetching ProblemID: 2230, Title: Fourier's Lines"
       ]
      },
      {
       "output_type": "stream",
       "stream": "stdout",
       "text": [
        "\n",
        "Now fetching ProblemID: 2231, Title: The Treasure"
       ]
      },
      {
       "output_type": "stream",
       "stream": "stdout",
       "text": [
        "\n",
        "Now fetching ProblemID: 2232, Title: Spiderman"
       ]
      },
      {
       "output_type": "stream",
       "stream": "stdout",
       "text": [
        "\n",
        "Now fetching ProblemID: 2233, Title: Pollution"
       ]
      },
      {
       "output_type": "stream",
       "stream": "stdout",
       "text": [
        "\n",
        "Now fetching ProblemID: 2234, Title: Area in Triangle"
       ]
      },
      {
       "output_type": "stream",
       "stream": "stdout",
       "text": [
        "\n",
        "Now fetching ProblemID: 2235, Title: The Peanuts"
       ]
      },
      {
       "output_type": "stream",
       "stream": "stdout",
       "text": [
        "\n",
        "Now fetching ProblemID: 2236, Title: All Discs Considered"
       ]
      },
      {
       "output_type": "stream",
       "stream": "stdout",
       "text": [
        "\n",
        "Now fetching ProblemID: 2237, Title: Boolean Logic"
       ]
      },
      {
       "output_type": "stream",
       "stream": "stdout",
       "text": [
        "\n",
        "Now fetching ProblemID: 2238, Title: Code"
       ]
      },
      {
       "output_type": "stream",
       "stream": "stdout",
       "text": [
        "\n",
        "Now fetching ProblemID: 2239, Title: In Danger"
       ]
      },
      {
       "output_type": "stream",
       "stream": "stdout",
       "text": [
        "\n",
        "Now fetching ProblemID: 2240, Title: Run Length Encoding"
       ]
      },
      {
       "output_type": "stream",
       "stream": "stdout",
       "text": [
        "\n",
        "Now fetching ProblemID: 2241, Title: Fractran"
       ]
      },
      {
       "output_type": "stream",
       "stream": "stdout",
       "text": [
        "\n",
        "Now fetching ProblemID: 2242, Title: Huffman's Greed"
       ]
      },
      {
       "output_type": "stream",
       "stream": "stdout",
       "text": [
        "\n",
        "Now fetching ProblemID: 2243, Title: Binary Search Heap Construction"
       ]
      },
      {
       "output_type": "stream",
       "stream": "stdout",
       "text": [
        "\n",
        "Now fetching ProblemID: 2244, Title: Land Division Tax"
       ]
      },
      {
       "output_type": "stream",
       "stream": "stdout",
       "text": [
        "\n",
        "Now fetching ProblemID: 2245, Title: Petanque"
       ]
      },
      {
       "output_type": "stream",
       "stream": "stdout",
       "text": [
        "\n",
        "Now fetching ProblemID: 2246, Title: Long Night of Museums"
       ]
      },
      {
       "output_type": "stream",
       "stream": "stdout",
       "text": [
        "\n",
        "Now fetching ProblemID: 2247, Title: Magic Trick"
       ]
      },
      {
       "output_type": "stream",
       "stream": "stdout",
       "text": [
        "\n",
        "Now fetching ProblemID: 2248, Title: Two-Stacks Solitaire"
       ]
      },
      {
       "output_type": "stream",
       "stream": "stdout",
       "text": [
        "\n",
        "Now fetching ProblemID: 2249, Title: Zing Zhu's Oyster Farm"
       ]
      },
      {
       "output_type": "stream",
       "stream": "stdout",
       "text": [
        "\n",
        "Now fetching ProblemID: 2250, Title: Grandpa is Famous"
       ]
      },
      {
       "output_type": "stream",
       "stream": "stdout",
       "text": [
        "\n",
        "Now fetching ProblemID: 2251, Title: Cutting Edge"
       ]
      },
      {
       "output_type": "stream",
       "stream": "stdout",
       "text": [
        "\n",
        "Now fetching ProblemID: 2252, Title: Fly Flies"
       ]
      },
      {
       "output_type": "stream",
       "stream": "stdout",
       "text": [
        "\n",
        "Now fetching ProblemID: 2253, Title: Fill the Grid"
       ]
      },
      {
       "output_type": "stream",
       "stream": "stdout",
       "text": [
        "\n",
        "Now fetching ProblemID: 2254, Title: Island Country"
       ]
      },
      {
       "output_type": "stream",
       "stream": "stdout",
       "text": [
        "\n",
        "Now fetching ProblemID: 2255, Title: Best Editor"
       ]
      },
      {
       "output_type": "stream",
       "stream": "stdout",
       "text": [
        "\n",
        "Now fetching ProblemID: 2256, Title: Mincost"
       ]
      },
      {
       "output_type": "stream",
       "stream": "stdout",
       "text": [
        "\n",
        "Now fetching ProblemID: 2257, Title: Ball Again"
       ]
      },
      {
       "output_type": "stream",
       "stream": "stdout",
       "text": [
        "\n",
        "Now fetching ProblemID: 2258, Title: Number Sequence II"
       ]
      },
      {
       "output_type": "stream",
       "stream": "stdout",
       "text": [
        "\n",
        "Now fetching ProblemID: 2259, Title: Square in Circle"
       ]
      },
      {
       "output_type": "stream",
       "stream": "stdout",
       "text": [
        "\n",
        "Now fetching ProblemID: 2260, Title: The Balance"
       ]
      },
      {
       "output_type": "stream",
       "stream": "stdout",
       "text": [
        "\n",
        "Now fetching ProblemID: 2261, Title: Make a Sequence"
       ]
      },
      {
       "output_type": "stream",
       "stream": "stdout",
       "text": [
        "\n",
        "Now fetching ProblemID: 2262, Title: Leaky Cryptography"
       ]
      },
      {
       "output_type": "stream",
       "stream": "stdout",
       "text": [
        "\n",
        "Now fetching ProblemID: 2263, Title: Pathological Paths"
       ]
      },
      {
       "output_type": "stream",
       "stream": "stdout",
       "text": [
        "\n",
        "Now fetching ProblemID: 2264, Title: Confusing Login Names"
       ]
      },
      {
       "output_type": "stream",
       "stream": "stdout",
       "text": [
        "\n",
        "Now fetching ProblemID: 2265, Title: Dice Puzzle"
       ]
      },
      {
       "output_type": "stream",
       "stream": "stdout",
       "text": [
        "\n",
        "Now fetching ProblemID: 2266, Title: Color the Map"
       ]
      },
      {
       "output_type": "stream",
       "stream": "stdout",
       "text": [
        "\n",
        "Now fetching ProblemID: 2267, Title: Inherit the Spheres"
       ]
      },
      {
       "output_type": "stream",
       "stream": "stdout",
       "text": [
        "\n",
        "Now fetching ProblemID: 2268, Title: Crossing Prisms"
       ]
      },
      {
       "output_type": "stream",
       "stream": "stdout",
       "text": [
        "\n",
        "Now fetching ProblemID: 2269, Title: Self Card-game"
       ]
      },
      {
       "output_type": "stream",
       "stream": "stdout",
       "text": [
        "\n",
        "Now fetching ProblemID: 2270, Title: Shamans"
       ]
      },
      {
       "output_type": "stream",
       "stream": "stdout",
       "text": [
        "\n",
        "Now fetching ProblemID: 2271, Title: Chance to Encounter a Girl"
       ]
      },
      {
       "output_type": "stream",
       "stream": "stdout",
       "text": [
        "\n",
        "Now fetching ProblemID: 2272, Title: Finding Normal"
       ]
      },
      {
       "output_type": "stream",
       "stream": "stdout",
       "text": [
        "\n",
        "Now fetching ProblemID: 2273, Title: Number Sequence III"
       ]
      },
      {
       "output_type": "stream",
       "stream": "stdout",
       "text": [
        "\n",
        "Now fetching ProblemID: 2274, Title: Triples"
       ]
      },
      {
       "output_type": "stream",
       "stream": "stdout",
       "text": [
        "\n",
        "Now fetching ProblemID: 2275, Title: Magic Laser: Light the lights!"
       ]
      },
      {
       "output_type": "stream",
       "stream": "stdout",
       "text": [
        "\n",
        "Now fetching ProblemID: 2276, Title: Lara Croft"
       ]
      },
      {
       "output_type": "stream",
       "stream": "stdout",
       "text": [
        "\n",
        "Now fetching ProblemID: 2277, Title: The Gate to Freedom"
       ]
      },
      {
       "output_type": "stream",
       "stream": "stdout",
       "text": [
        "\n",
        "Now fetching ProblemID: 2278, Title: Fight for Food"
       ]
      },
      {
       "output_type": "stream",
       "stream": "stdout",
       "text": [
        "\n",
        "Now fetching ProblemID: 2279, Title: In the Mirror"
       ]
      },
      {
       "output_type": "stream",
       "stream": "stdout",
       "text": [
        "\n",
        "Now fetching ProblemID: 2280, Title: Key to Freedom"
       ]
      },
      {
       "output_type": "stream",
       "stream": "stdout",
       "text": [
        "\n",
        "Now fetching ProblemID: 2281, Title: Way to Freedom"
       ]
      },
      {
       "output_type": "stream",
       "stream": "stdout",
       "text": [
        "\n",
        "Now fetching ProblemID: 2282, Title: Challenge of Bravery"
       ]
      },
      {
       "output_type": "stream",
       "stream": "stdout",
       "text": [
        "\n",
        "Now fetching ProblemID: 2283, Title: Challenge of Wisdom"
       ]
      },
      {
       "output_type": "stream",
       "stream": "stdout",
       "text": [
        "\n",
        "Now fetching ProblemID: 2284, Title: Inversion Number"
       ]
      },
      {
       "output_type": "stream",
       "stream": "stdout",
       "text": [
        "\n",
        "Now fetching ProblemID: 2285, Title: Building Highways"
       ]
      },
      {
       "output_type": "stream",
       "stream": "stdout",
       "text": [
        "\n",
        "Now fetching ProblemID: 2286, Title: Sum of Divisors"
       ]
      },
      {
       "output_type": "stream",
       "stream": "stdout",
       "text": [
        "\n",
        "Now fetching ProblemID: 2287, Title: Shuttlecock"
       ]
      },
      {
       "output_type": "stream",
       "stream": "stdout",
       "text": [
        "\n",
        "Now fetching ProblemID: 2288, Title: Across the River"
       ]
      },
      {
       "output_type": "stream",
       "stream": "stdout",
       "text": [
        "\n",
        "Now fetching ProblemID: 2289, Title: Special Billiards"
       ]
      },
      {
       "output_type": "stream",
       "stream": "stdout",
       "text": [
        "\n",
        "Now fetching ProblemID: 2290, Title: Game"
       ]
      },
      {
       "output_type": "stream",
       "stream": "stdout",
       "text": [
        "\n",
        "Now fetching ProblemID: 2291, Title: Maze"
       ]
      },
      {
       "output_type": "stream",
       "stream": "stdout",
       "text": [
        "\n",
        "Now fetching ProblemID: 2292, Title: Anti-bug before Chinese Valentine's Day"
       ]
      },
      {
       "output_type": "stream",
       "stream": "stdout",
       "text": [
        "\n",
        "Now fetching ProblemID: 2293, Title: Iraq War"
       ]
      },
      {
       "output_type": "stream",
       "stream": "stdout",
       "text": [
        "\n",
        "Now fetching ProblemID: 2294, Title: Chess with WishingBone"
       ]
      },
      {
       "output_type": "stream",
       "stream": "stdout",
       "text": [
        "\n",
        "Now fetching ProblemID: 2295, Title: Catch the Criminals"
       ]
      },
      {
       "output_type": "stream",
       "stream": "stdout",
       "text": [
        "\n",
        "Now fetching ProblemID: 2296, Title: Bricole"
       ]
      },
      {
       "output_type": "stream",
       "stream": "stdout",
       "text": [
        "\n",
        "Now fetching ProblemID: 2297, Title: Survival"
       ]
      },
      {
       "output_type": "stream",
       "stream": "stdout",
       "text": [
        "\n",
        "Now fetching ProblemID: 2298, Title: Rescue the Princess"
       ]
      },
      {
       "output_type": "stream",
       "stream": "stdout",
       "text": [
        "\n",
        "Now fetching ProblemID: 2299, Title: Hexagonal Game"
       ]
      },
      {
       "output_type": "stream",
       "stream": "stdout",
       "text": [
        "\n",
        "Now fetching ProblemID: 2300, Title: How Many Cubes"
       ]
      },
      {
       "output_type": "stream",
       "stream": "stdout",
       "text": [
        "\n",
        "Now fetching ProblemID: 2301, Title: Color the Ball"
       ]
      },
      {
       "output_type": "stream",
       "stream": "stdout",
       "text": [
        "\n",
        "Now fetching ProblemID: 2302, Title: Elevator"
       ]
      },
      {
       "output_type": "stream",
       "stream": "stdout",
       "text": [
        "\n",
        "Now fetching ProblemID: 2303, Title: Agent"
       ]
      },
      {
       "output_type": "stream",
       "stream": "stdout",
       "text": [
        "\n",
        "Now fetching ProblemID: 2304, Title: Boatherds"
       ]
      },
      {
       "output_type": "stream",
       "stream": "stdout",
       "text": [
        "\n",
        "Now fetching ProblemID: 2305, Title: C Looooops"
       ]
      },
      {
       "output_type": "stream",
       "stream": "stdout",
       "text": [
        "\n",
        "Now fetching ProblemID: 2306, Title: Death to Binary?"
       ]
      },
      {
       "output_type": "stream",
       "stream": "stdout",
       "text": [
        "\n",
        "Now fetching ProblemID: 2307, Title: Electricity"
       ]
      },
      {
       "output_type": "stream",
       "stream": "stdout",
       "text": [
        "\n",
        "Now fetching ProblemID: 2308, Title: Firepersons"
       ]
      },
      {
       "output_type": "stream",
       "stream": "stdout",
       "text": [
        "\n",
        "Now fetching ProblemID: 2309, Title: God of the Vile Baskers"
       ]
      },
      {
       "output_type": "stream",
       "stream": "stdout",
       "text": [
        "\n",
        "Now fetching ProblemID: 2310, Title: Herbalists"
       ]
      },
      {
       "output_type": "stream",
       "stream": "stdout",
       "text": [
        "\n",
        "Now fetching ProblemID: 2311, Title: Inglish-Number Translator"
       ]
      },
      {
       "output_type": "stream",
       "stream": "stdout",
       "text": [
        "\n",
        "Now fetching ProblemID: 2312, Title: Japan Plotter Driver"
       ]
      },
      {
       "output_type": "stream",
       "stream": "stdout",
       "text": [
        "\n",
        "Now fetching ProblemID: 2313, Title: Chinese Girls' Amusement"
       ]
      },
      {
       "output_type": "stream",
       "stream": "stdout",
       "text": [
        "\n",
        "Now fetching ProblemID: 2314, Title: Reactor Cooling"
       ]
      },
      {
       "output_type": "stream",
       "stream": "stdout",
       "text": [
        "\n",
        "Now fetching ProblemID: 2315, Title: New Year Bonus Grant"
       ]
      },
      {
       "output_type": "stream",
       "stream": "stdout",
       "text": [
        "\n",
        "Now fetching ProblemID: 2316, Title: Matrix Multiplication"
       ]
      },
      {
       "output_type": "stream",
       "stream": "stdout",
       "text": [
        "\n",
        "Now fetching ProblemID: 2317, Title: Nice Patterns Strike Back"
       ]
      },
      {
       "output_type": "stream",
       "stream": "stdout",
       "text": [
        "\n",
        "Now fetching ProblemID: 2318, Title: Get Out!"
       ]
      },
      {
       "output_type": "stream",
       "stream": "stdout",
       "text": [
        "\n",
        "Now fetching ProblemID: 2319, Title: Beautiful People"
       ]
      },
      {
       "output_type": "stream",
       "stream": "stdout",
       "text": [
        "\n",
        "Now fetching ProblemID: 2320, Title: Cracking' RSA"
       ]
      },
      {
       "output_type": "stream",
       "stream": "stdout",
       "text": [
        "\n",
        "Now fetching ProblemID: 2321, Title: Filling Out the Team"
       ]
      },
      {
       "output_type": "stream",
       "stream": "stdout",
       "text": [
        "\n",
        "Now fetching ProblemID: 2322, Title: Auctions R Us"
       ]
      },
      {
       "output_type": "stream",
       "stream": "stdout",
       "text": [
        "\n",
        "Now fetching ProblemID: 2323, Title: GHOST"
       ]
      },
      {
       "output_type": "stream",
       "stream": "stdout",
       "text": [
        "\n",
        "Now fetching ProblemID: 2324, Title: Doggone Moles"
       ]
      },
      {
       "output_type": "stream",
       "stream": "stdout",
       "text": [
        "\n",
        "Now fetching ProblemID: 2325, Title: Line of Sight"
       ]
      },
      {
       "output_type": "stream",
       "stream": "stdout",
       "text": [
        "\n",
        "Now fetching ProblemID: 2326, Title: Tangled in Cables"
       ]
      },
      {
       "output_type": "stream",
       "stream": "stdout",
       "text": [
        "\n",
        "Now fetching ProblemID: 2327, Title: All Roads Lead to Albuquerque, er, Rome"
       ]
      },
      {
       "output_type": "stream",
       "stream": "stdout",
       "text": [
        "\n",
        "Now fetching ProblemID: 2328, Title: Balanced Budget Initiative"
       ]
      },
      {
       "output_type": "stream",
       "stream": "stdout",
       "text": [
        "\n",
        "Now fetching ProblemID: 2329, Title: AB Circle"
       ]
      },
      {
       "output_type": "stream",
       "stream": "stdout",
       "text": [
        "\n",
        "Now fetching ProblemID: 2330, Title: A^B == B^A?"
       ]
      },
      {
       "output_type": "stream",
       "stream": "stdout",
       "text": [
        "\n",
        "Now fetching ProblemID: 2331, Title: Brick Game"
       ]
      },
      {
       "output_type": "stream",
       "stream": "stdout",
       "text": [
        "\n",
        "Now fetching ProblemID: 2332, Title: Gems"
       ]
      },
      {
       "output_type": "stream",
       "stream": "stdout",
       "text": [
        "\n",
        "Now fetching ProblemID: 2333, Title: MatScan"
       ]
      },
      {
       "output_type": "stream",
       "stream": "stdout",
       "text": [
        "\n",
        "Now fetching ProblemID: 2334, Title: Monkey King"
       ]
      },
      {
       "output_type": "stream",
       "stream": "stdout",
       "text": [
        "\n",
        "Now fetching ProblemID: 2335, Title: Three Circles"
       ]
      },
      {
       "output_type": "stream",
       "stream": "stdout",
       "text": [
        "\n",
        "Now fetching ProblemID: 2336, Title: WinMine"
       ]
      },
      {
       "output_type": "stream",
       "stream": "stdout",
       "text": [
        "\n",
        "Now fetching ProblemID: 2337, Title: Non Absorbing DFA"
       ]
      },
      {
       "output_type": "stream",
       "stream": "stdout",
       "text": [
        "\n",
        "Now fetching ProblemID: 2338, Title: The Towers of Hanoi Revisited"
       ]
      },
      {
       "output_type": "stream",
       "stream": "stdout",
       "text": [
        "\n",
        "Now fetching ProblemID: 2339, Title: Hyperhuffman"
       ]
      },
      {
       "output_type": "stream",
       "stream": "stdout",
       "text": [
        "\n",
        "Now fetching ProblemID: 2340, Title: Little Jumper"
       ]
      },
      {
       "output_type": "stream",
       "stream": "stdout",
       "text": [
        "\n",
        "Now fetching ProblemID: 2341, Title: Quantization Problem"
       ]
      },
      {
       "output_type": "stream",
       "stream": "stdout",
       "text": [
        "\n",
        "Now fetching ProblemID: 2342, Title: Roads"
       ]
      },
      {
       "output_type": "stream",
       "stream": "stdout",
       "text": [
        "\n",
        "Now fetching ProblemID: 2343, Title: Robbers"
       ]
      },
      {
       "output_type": "stream",
       "stream": "stdout",
       "text": [
        "\n",
        "Now fetching ProblemID: 2344, Title: Toral Tickets"
       ]
      },
      {
       "output_type": "stream",
       "stream": "stdout",
       "text": [
        "\n",
        "Now fetching ProblemID: 2345, Title: Gold Coins"
       ]
      },
      {
       "output_type": "stream",
       "stream": "stdout",
       "text": [
        "\n",
        "Now fetching ProblemID: 2346, Title: Shortest Prefixes"
       ]
      },
      {
       "output_type": "stream",
       "stream": "stdout",
       "text": [
        "\n",
        "Now fetching ProblemID: 2347, Title: Squares"
       ]
      },
      {
       "output_type": "stream",
       "stream": "stdout",
       "text": [
        "\n",
        "Now fetching ProblemID: 2348, Title: Hire and Fire"
       ]
      },
      {
       "output_type": "stream",
       "stream": "stdout",
       "text": [
        "\n",
        "Now fetching ProblemID: 2349, Title: Mix and Build"
       ]
      },
      {
       "output_type": "stream",
       "stream": "stdout",
       "text": [
        "\n",
        "Now fetching ProblemID: 2350, Title: Blackjack"
       ]
      },
      {
       "output_type": "stream",
       "stream": "stdout",
       "text": [
        "\n",
        "Now fetching ProblemID: 2351, Title: Litmus Test"
       ]
      },
      {
       "output_type": "stream",
       "stream": "stdout",
       "text": [
        "\n",
        "Now fetching ProblemID: 2352, Title: Scrambled Polygon"
       ]
      },
      {
       "output_type": "stream",
       "stream": "stdout",
       "text": [
        "\n",
        "Now fetching ProblemID: 2353, Title: Special Experiment"
       ]
      },
      {
       "output_type": "stream",
       "stream": "stdout",
       "text": [
        "\n",
        "Now fetching ProblemID: 2354, Title: Elevator Stopping Plan"
       ]
      },
      {
       "output_type": "stream",
       "stream": "stdout",
       "text": [
        "\n",
        "Now fetching ProblemID: 2355, Title: New Go Game"
       ]
      },
      {
       "output_type": "stream",
       "stream": "stdout",
       "text": [
        "\n",
        "Now fetching ProblemID: 2356, Title: Outernet"
       ]
      },
      {
       "output_type": "stream",
       "stream": "stdout",
       "text": [
        "\n",
        "Now fetching ProblemID: 2357, Title: Fold Paper Strips"
       ]
      },
      {
       "output_type": "stream",
       "stream": "stdout",
       "text": [
        "\n",
        "Now fetching ProblemID: 2358, Title: Sum of Factorials"
       ]
      },
      {
       "output_type": "stream",
       "stream": "stdout",
       "text": [
        "\n",
        "Now fetching ProblemID: 2359, Title: Task Sequences"
       ]
      },
      {
       "output_type": "stream",
       "stream": "stdout",
       "text": [
        "\n",
        "Now fetching ProblemID: 2360, Title: Vivian's Problem"
       ]
      },
      {
       "output_type": "stream",
       "stream": "stdout",
       "text": [
        "\n",
        "Now fetching ProblemID: 2361, Title: Areas"
       ]
      },
      {
       "output_type": "stream",
       "stream": "stdout",
       "text": [
        "\n",
        "Now fetching ProblemID: 2362, Title: Beloved Sons"
       ]
      },
      {
       "output_type": "stream",
       "stream": "stdout",
       "text": [
        "\n",
        "Now fetching ProblemID: 2363, Title: Strange Counter"
       ]
      },
      {
       "output_type": "stream",
       "stream": "stdout",
       "text": [
        "\n",
        "Now fetching ProblemID: 2364, Title: Data Transmission"
       ]
      },
      {
       "output_type": "stream",
       "stream": "stdout",
       "text": [
        "\n",
        "Now fetching ProblemID: 2365, Title: Strong Defence"
       ]
      },
      {
       "output_type": "stream",
       "stream": "stdout",
       "text": [
        "\n",
        "Now fetching ProblemID: 2366, Title: Weird Dissimilarity"
       ]
      },
      {
       "output_type": "stream",
       "stream": "stdout",
       "text": [
        "\n",
        "Now fetching ProblemID: 2367, Title: PL/Cool"
       ]
      },
      {
       "output_type": "stream",
       "stream": "stdout",
       "text": [
        "\n",
        "Now fetching ProblemID: 2368, Title: Royal Federation"
       ]
      },
      {
       "output_type": "stream",
       "stream": "stdout",
       "text": [
        "\n",
        "Now fetching ProblemID: 2369, Title: Two Cylinders"
       ]
      },
      {
       "output_type": "stream",
       "stream": "stdout",
       "text": [
        "\n",
        "Now fetching ProblemID: 2370, Title: Expanding Rods"
       ]
      },
      {
       "output_type": "stream",
       "stream": "stdout",
       "text": [
        "\n",
        "Now fetching ProblemID: 2371, Title: Three powers"
       ]
      },
      {
       "output_type": "stream",
       "stream": "stdout",
       "text": [
        "\n",
        "Now fetching ProblemID: 2372, Title: Work Reduction"
       ]
      },
      {
       "output_type": "stream",
       "stream": "stdout",
       "text": [
        "\n",
        "Now fetching ProblemID: 2373, Title: Grid Speed"
       ]
      },
      {
       "output_type": "stream",
       "stream": "stdout",
       "text": [
        "\n",
        "Now fetching ProblemID: 2374, Title: Marbles on a tree"
       ]
      },
      {
       "output_type": "stream",
       "stream": "stdout",
       "text": [
        "\n",
        "Now fetching ProblemID: 2375, Title: Map"
       ]
      },
      {
       "output_type": "stream",
       "stream": "stdout",
       "text": [
        "\n",
        "Now fetching ProblemID: 2376, Title: Ants"
       ]
      },
      {
       "output_type": "stream",
       "stream": "stdout",
       "text": [
        "\n",
        "Now fetching ProblemID: 2377, Title: Cat"
       ]
      },
      {
       "output_type": "stream",
       "stream": "stdout",
       "text": [
        "\n",
        "Now fetching ProblemID: 2378, Title: Evil Straw Warts Live"
       ]
      },
      {
       "output_type": "stream",
       "stream": "stdout",
       "text": [
        "\n",
        "Now fetching ProblemID: 2379, Title: Mint"
       ]
      },
      {
       "output_type": "stream",
       "stream": "stdout",
       "text": [
        "\n",
        "Now fetching ProblemID: 2380, Title: Practice"
       ]
      },
      {
       "output_type": "stream",
       "stream": "stdout",
       "text": [
        "\n",
        "Now fetching ProblemID: 2381, Title: Help!"
       ]
      },
      {
       "output_type": "stream",
       "stream": "stdout",
       "text": [
        "\n",
        "Now fetching ProblemID: 2382, Title: Treequivalence"
       ]
      },
      {
       "output_type": "stream",
       "stream": "stdout",
       "text": [
        "\n",
        "Now fetching ProblemID: 2383, Title: Antiarithmetic?"
       ]
      },
      {
       "output_type": "stream",
       "stream": "stdout",
       "text": [
        "\n",
        "Now fetching ProblemID: 2384, Title: Test"
       ]
      },
      {
       "output_type": "stream",
       "stream": "stdout",
       "text": [
        "\n",
        "Now fetching ProblemID: 2385, Title: Great Circle"
       ]
      },
      {
       "output_type": "stream",
       "stream": "stdout",
       "text": [
        "\n",
        "Now fetching ProblemID: 2386, Title: Ultra-QuickSort"
       ]
      },
      {
       "output_type": "stream",
       "stream": "stdout",
       "text": [
        "\n",
        "Now fetching ProblemID: 2387, Title: Up the Ante"
       ]
      },
      {
       "output_type": "stream",
       "stream": "stdout",
       "text": [
        "\n",
        "Now fetching ProblemID: 2388, Title: Beat the Spread!"
       ]
      },
      {
       "output_type": "stream",
       "stream": "stdout",
       "text": [
        "\n",
        "Now fetching ProblemID: 2389, Title: Traditional BINGO"
       ]
      },
      {
       "output_type": "stream",
       "stream": "stdout",
       "text": [
        "\n",
        "Now fetching ProblemID: 2390, Title: Amphiphilic Carbon Molecules"
       ]
      },
      {
       "output_type": "stream",
       "stream": "stdout",
       "text": [
        "\n",
        "Now fetching ProblemID: 2391, Title: Link and Pop -- the Block Game"
       ]
      },
      {
       "output_type": "stream",
       "stream": "stdout",
       "text": [
        "\n",
        "Now fetching ProblemID: 2392, Title: The Counting Problem"
       ]
      },
      {
       "output_type": "stream",
       "stream": "stdout",
       "text": [
        "\n",
        "Now fetching ProblemID: 2393, Title: Different Digits"
       ]
      },
      {
       "output_type": "stream",
       "stream": "stdout",
       "text": [
        "\n",
        "Now fetching ProblemID: 2394, Title: That Nice Euler Circuit"
       ]
      },
      {
       "output_type": "stream",
       "stream": "stdout",
       "text": [
        "\n",
        "Now fetching ProblemID: 2395, Title: The Floor Bricks"
       ]
      },
      {
       "output_type": "stream",
       "stream": "stdout",
       "text": [
        "\n",
        "Now fetching ProblemID: 2396, Title: The Rotation Game"
       ]
      },
      {
       "output_type": "stream",
       "stream": "stdout",
       "text": [
        "\n",
        "Now fetching ProblemID: 2397, Title: Tian Ji -- The Horse Racing"
       ]
      },
      {
       "output_type": "stream",
       "stream": "stdout",
       "text": [
        "\n",
        "Now fetching ProblemID: 2398, Title: Islands and Bridges"
       ]
      },
      {
       "output_type": "stream",
       "stream": "stdout",
       "text": [
        "\n",
        "Now fetching ProblemID: 2399, Title: Jamie's Contact Groups"
       ]
      },
      {
       "output_type": "stream",
       "stream": "stdout",
       "text": [
        "\n",
        "Now fetching ProblemID: 2400, Title: Mersenne Composite Numbers"
       ]
      },
      {
       "output_type": "stream",
       "stream": "stdout",
       "text": [
        "\n",
        "Now fetching ProblemID: 2401, Title: Zipper"
       ]
      },
      {
       "output_type": "stream",
       "stream": "stdout",
       "text": [
        "\n",
        "Now fetching ProblemID: 2402, Title: Lenny's Lucky Lotto Lists"
       ]
      },
      {
       "output_type": "stream",
       "stream": "stdout",
       "text": [
        "\n",
        "Now fetching ProblemID: 2403, Title: Stacking Cylinders"
       ]
      },
      {
       "output_type": "stream",
       "stream": "stdout",
       "text": [
        "\n",
        "Now fetching ProblemID: 2404, Title: Going Home"
       ]
      },
      {
       "output_type": "stream",
       "stream": "stdout",
       "text": [
        "\n",
        "Now fetching ProblemID: 2405, Title: Specialized Four-Digit Numbers"
       ]
      },
      {
       "output_type": "stream",
       "stream": "stdout",
       "text": [
        "\n",
        "Now fetching ProblemID: 2406, Title: Jill's Tour Paths"
       ]
      },
      {
       "output_type": "stream",
       "stream": "stdout",
       "text": [
        "\n",
        "Now fetching ProblemID: 2407, Title: Boundaries on"
       ]
      },
      {
       "output_type": "stream",
       "stream": "stdout",
       "text": [
        "\n",
        "Now fetching ProblemID: 2408, Title: Rate of Return"
       ]
      },
      {
       "output_type": "stream",
       "stream": "stdout",
       "text": [
        "\n",
        "Now fetching ProblemID: 2409, Title: A Card Trick"
       ]
      },
      {
       "output_type": "stream",
       "stream": "stdout",
       "text": [
        "\n",
        "Now fetching ProblemID: 2410, Title: Partial Fraction Decomposition"
       ]
      },
      {
       "output_type": "stream",
       "stream": "stdout",
       "text": [
        "\n",
        "Now fetching ProblemID: 2411, Title: Link Link Look"
       ]
      },
      {
       "output_type": "stream",
       "stream": "stdout",
       "text": [
        "\n",
        "Now fetching ProblemID: 2412, Title: Farm Irrigation"
       ]
      },
      {
       "output_type": "stream",
       "stream": "stdout",
       "text": [
        "\n",
        "Now fetching ProblemID: 2413, Title: Jam's Store"
       ]
      },
      {
       "output_type": "stream",
       "stream": "stdout",
       "text": [
        "\n",
        "Now fetching ProblemID: 2414, Title: Index of Prime"
       ]
      },
      {
       "output_type": "stream",
       "stream": "stdout",
       "text": [
        "\n",
        "Now fetching ProblemID: 2415, Title: Ropes"
       ]
      },
      {
       "output_type": "stream",
       "stream": "stdout",
       "text": [
        "\n",
        "Now fetching ProblemID: 2416, Title: Open the Lock"
       ]
      },
      {
       "output_type": "stream",
       "stream": "stdout",
       "text": [
        "\n",
        "Now fetching ProblemID: 2417, Title: Lowest Bit"
       ]
      },
      {
       "output_type": "stream",
       "stream": "stdout",
       "text": [
        "\n",
        "Now fetching ProblemID: 2418, Title: Matrix"
       ]
      },
      {
       "output_type": "stream",
       "stream": "stdout",
       "text": [
        "\n",
        "Now fetching ProblemID: 2419, Title: Triangle"
       ]
      },
      {
       "output_type": "stream",
       "stream": "stdout",
       "text": [
        "\n",
        "Now fetching ProblemID: 2420, Title: Calendar"
       ]
      },
      {
       "output_type": "stream",
       "stream": "stdout",
       "text": [
        "\n",
        "Now fetching ProblemID: 2421, Title: Recaman's Sequence"
       ]
      },
      {
       "output_type": "stream",
       "stream": "stdout",
       "text": [
        "\n",
        "Now fetching ProblemID: 2422, Title: Terrible Sets"
       ]
      },
      {
       "output_type": "stream",
       "stream": "stdout",
       "text": [
        "\n",
        "Now fetching ProblemID: 2423, Title: Fractal"
       ]
      },
      {
       "output_type": "stream",
       "stream": "stdout",
       "text": [
        "\n",
        "Now fetching ProblemID: 2424, Title: Game of Connections"
       ]
      },
      {
       "output_type": "stream",
       "stream": "stdout",
       "text": [
        "\n",
        "Now fetching ProblemID: 2425, Title: Inversion"
       ]
      },
      {
       "output_type": "stream",
       "stream": "stdout",
       "text": [
        "\n",
        "Now fetching ProblemID: 2426, Title: Artinals"
       ]
      },
      {
       "output_type": "stream",
       "stream": "stdout",
       "text": [
        "\n",
        "Now fetching ProblemID: 2427, Title: Banal Tickets"
       ]
      },
      {
       "output_type": "stream",
       "stream": "stdout",
       "text": [
        "\n",
        "Now fetching ProblemID: 2428, Title: Crankshaft"
       ]
      },
      {
       "output_type": "stream",
       "stream": "stdout",
       "text": [
        "\n",
        "Now fetching ProblemID: 2429, Title: Destroying The Graph"
       ]
      },
      {
       "output_type": "stream",
       "stream": "stdout",
       "text": [
        "\n",
        "Now fetching ProblemID: 2430, Title: Experiment \"X\": Explosions Expected"
       ]
      },
      {
       "output_type": "stream",
       "stream": "stdout",
       "text": [
        "\n",
        "Now fetching ProblemID: 2431, Title: Factoring a Polynomial"
       ]
      },
      {
       "output_type": "stream",
       "stream": "stdout",
       "text": [
        "\n",
        "Now fetching ProblemID: 2432, Title: Greatest Common Increasing Subsequence"
       ]
      },
      {
       "output_type": "stream",
       "stream": "stdout",
       "text": [
        "\n",
        "Now fetching ProblemID: 2433, Title: Highways"
       ]
      },
      {
       "output_type": "stream",
       "stream": "stdout",
       "text": [
        "\n",
        "Now fetching ProblemID: 2434, Title: Invariant Polynomials"
       ]
      },
      {
       "output_type": "stream",
       "stream": "stdout",
       "text": [
        "\n",
        "Now fetching ProblemID: 2435, Title: Jogging"
       ]
      },
      {
       "output_type": "stream",
       "stream": "stdout",
       "text": [
        "\n",
        "Now fetching ProblemID: 2436, Title: Key Insertion"
       ]
      },
      {
       "output_type": "stream",
       "stream": "stdout",
       "text": [
        "\n",
        "Now fetching ProblemID: 2437, Title: Nearest number"
       ]
      },
      {
       "output_type": "stream",
       "stream": "stdout",
       "text": [
        "\n",
        "Now fetching ProblemID: 2438, Title: Advanced ASCII Cubes"
       ]
      },
      {
       "output_type": "stream",
       "stream": "stdout",
       "text": [
        "\n",
        "Now fetching ProblemID: 2439, Title: Water pipe"
       ]
      },
      {
       "output_type": "stream",
       "stream": "stdout",
       "text": [
        "\n",
        "Now fetching ProblemID: 2440, Title: One is good, but two is better"
       ]
      },
      {
       "output_type": "stream",
       "stream": "stdout",
       "text": [
        "\n",
        "Now fetching ProblemID: 2441, Title: Search Result"
       ]
      },
      {
       "output_type": "stream",
       "stream": "stdout",
       "text": [
        "\n",
        "Now fetching ProblemID: 2442, Title: Simple prefix compression"
       ]
      },
      {
       "output_type": "stream",
       "stream": "stdout",
       "text": [
        "\n",
        "Now fetching ProblemID: 2443, Title: Easy Task"
       ]
      },
      {
       "output_type": "stream",
       "stream": "stdout",
       "text": [
        "\n",
        "Now fetching ProblemID: 2444, Title: Bundling"
       ]
      },
      {
       "output_type": "stream",
       "stream": "stdout",
       "text": [
        "\n",
        "Now fetching ProblemID: 2445, Title: Shortcut"
       ]
      },
      {
       "output_type": "stream",
       "stream": "stdout",
       "text": [
        "\n",
        "Now fetching ProblemID: 2446, Title: Dice Contest"
       ]
      },
      {
       "output_type": "stream",
       "stream": "stdout",
       "text": [
        "\n",
        "Now fetching ProblemID: 2447, Title: November Rain"
       ]
      },
      {
       "output_type": "stream",
       "stream": "stdout",
       "text": [
        "\n",
        "Now fetching ProblemID: 2448, Title: Football"
       ]
      },
      {
       "output_type": "stream",
       "stream": "stdout",
       "text": [
        "\n",
        "Now fetching ProblemID: 2449, Title: Which is Next"
       ]
      },
      {
       "output_type": "stream",
       "stream": "stdout",
       "text": [
        "\n",
        "Now fetching ProblemID: 2450, Title: Hang or not to hang"
       ]
      },
      {
       "output_type": "stream",
       "stream": "stdout",
       "text": [
        "\n",
        "Now fetching ProblemID: 2451, Title: Minimizing maximizer"
       ]
      },
      {
       "output_type": "stream",
       "stream": "stdout",
       "text": [
        "\n",
        "Now fetching ProblemID: 2452, Title: Cartesian Tree"
       ]
      },
      {
       "output_type": "stream",
       "stream": "stdout",
       "text": [
        "\n",
        "Now fetching ProblemID: 2453, Title: Strange Graph"
       ]
      },
      {
       "output_type": "stream",
       "stream": "stdout",
       "text": [
        "\n",
        "Now fetching ProblemID: 2454, Title: Patience"
       ]
      },
      {
       "output_type": "stream",
       "stream": "stdout",
       "text": [
        "\n",
        "Now fetching ProblemID: 2455, Title: Commuter train"
       ]
      },
      {
       "output_type": "stream",
       "stream": "stdout",
       "text": [
        "\n",
        "Now fetching ProblemID: 2456, Title: Self-Replicating Numbers"
       ]
      },
      {
       "output_type": "stream",
       "stream": "stdout",
       "text": [
        "\n",
        "Now fetching ProblemID: 2457, Title: Magic Multiplying Machine"
       ]
      },
      {
       "output_type": "stream",
       "stream": "stdout",
       "text": [
        "\n",
        "Now fetching ProblemID: 2458, Title: Intuitionistic Logic"
       ]
      },
      {
       "output_type": "stream",
       "stream": "stdout",
       "text": [
        "\n",
        "Now fetching ProblemID: 2459, Title: Pyramids"
       ]
      },
      {
       "output_type": "stream",
       "stream": "stdout",
       "text": [
        "\n",
        "Now fetching ProblemID: 2460, Title: The King"
       ]
      },
      {
       "output_type": "stream",
       "stream": "stdout",
       "text": [
        "\n",
        "Now fetching ProblemID: 2461, Title: Alternative Scale of Notation"
       ]
      },
      {
       "output_type": "stream",
       "stream": "stdout",
       "text": [
        "\n",
        "Now fetching ProblemID: 2462, Title: Bring Them There"
       ]
      },
      {
       "output_type": "stream",
       "stream": "stdout",
       "text": [
        "\n",
        "Now fetching ProblemID: 2463, Title: Code Formatting"
       ]
      },
      {
       "output_type": "stream",
       "stream": "stdout",
       "text": [
        "\n",
        "Now fetching ProblemID: 2464, Title: Data Mining"
       ]
      },
      {
       "output_type": "stream",
       "stream": "stdout",
       "text": [
        "\n",
        "Now fetching ProblemID: 2465, Title: Entropy"
       ]
      },
      {
       "output_type": "stream",
       "stream": "stdout",
       "text": [
        "\n",
        "Now fetching ProblemID: 2466, Title: Farmer Bill's Problem"
       ]
      },
      {
       "output_type": "stream",
       "stream": "stdout",
       "text": [
        "\n",
        "Now fetching ProblemID: 2467, Title: Game"
       ]
      },
      {
       "output_type": "stream",
       "stream": "stdout",
       "text": [
        "\n",
        "Now fetching ProblemID: 2468, Title: Hypertransmission"
       ]
      },
      {
       "output_type": "stream",
       "stream": "stdout",
       "text": [
        "\n",
        "Now fetching ProblemID: 2469, Title: Jurassic Remains"
       ]
      },
      {
       "output_type": "stream",
       "stream": "stdout",
       "text": [
        "\n",
        "Now fetching ProblemID: 2470, Title: King's Quest"
       ]
      },
      {
       "output_type": "stream",
       "stream": "stdout",
       "text": [
        "\n",
        "Now fetching ProblemID: 2471, Title: Sea Battle"
       ]
      },
      {
       "output_type": "stream",
       "stream": "stdout",
       "text": [
        "\n",
        "Now fetching ProblemID: 2472, Title: Interesting Maze Game"
       ]
      },
      {
       "output_type": "stream",
       "stream": "stdout",
       "text": [
        "\n",
        "Now fetching ProblemID: 2473, Title: The Perfect Symmetry"
       ]
      },
      {
       "output_type": "stream",
       "stream": "stdout",
       "text": [
        "\n",
        "Now fetching ProblemID: 2474, Title: World Goes Round"
       ]
      },
      {
       "output_type": "stream",
       "stream": "stdout",
       "text": [
        "\n",
        "Now fetching ProblemID: 2475, Title: Benny's Compiler"
       ]
      },
      {
       "output_type": "stream",
       "stream": "stdout",
       "text": [
        "\n",
        "Now fetching ProblemID: 2476, Title: Total Amount"
       ]
      },
      {
       "output_type": "stream",
       "stream": "stdout",
       "text": [
        "\n",
        "Now fetching ProblemID: 2477, Title: Magic Cube"
       ]
      },
      {
       "output_type": "stream",
       "stream": "stdout",
       "text": [
        "\n",
        "Now fetching ProblemID: 2478, Title: Encoding"
       ]
      },
      {
       "output_type": "stream",
       "stream": "stdout",
       "text": [
        "\n",
        "Now fetching ProblemID: 2479, Title: Cover the Rectangular Ground"
       ]
      },
      {
       "output_type": "stream",
       "stream": "stdout",
       "text": [
        "\n",
        "Now fetching ProblemID: 2480, Title: Simplest Task in Windows"
       ]
      },
      {
       "output_type": "stream",
       "stream": "stdout",
       "text": [
        "\n",
        "Now fetching ProblemID: 2481, Title: Unique Ascending Array"
       ]
      },
      {
       "output_type": "stream",
       "stream": "stdout",
       "text": [
        "\n",
        "Now fetching ProblemID: 2482, Title: IP Address"
       ]
      },
      {
       "output_type": "stream",
       "stream": "stdout",
       "text": [
        "\n",
        "Now fetching ProblemID: 2483, Title: Boolean Expressions"
       ]
      },
      {
       "output_type": "stream",
       "stream": "stdout",
       "text": [
        "\n",
        "Now fetching ProblemID: 2484, Title: Gear Profiles"
       ]
      },
      {
       "output_type": "stream",
       "stream": "stdout",
       "text": [
        "\n",
        "Now fetching ProblemID: 2485, Title: Lazy Pianist"
       ]
      },
      {
       "output_type": "stream",
       "stream": "stdout",
       "text": [
        "\n",
        "Now fetching ProblemID: 2486, Title: Power of Cryptography"
       ]
      },
      {
       "output_type": "stream",
       "stream": "stdout",
       "text": [
        "\n",
        "Now fetching ProblemID: 2487, Title: House Numbers"
       ]
      },
      {
       "output_type": "stream",
       "stream": "stdout",
       "text": [
        "\n",
        "Now fetching ProblemID: 2488, Title: Rotten Ropes"
       ]
      },
      {
       "output_type": "stream",
       "stream": "stdout",
       "text": [
        "\n",
        "Now fetching ProblemID: 2489, Title: Optimal Keypad"
       ]
      },
      {
       "output_type": "stream",
       "stream": "stdout",
       "text": [
        "\n",
        "Now fetching ProblemID: 2490, Title: Hey, Pay Day!"
       ]
      },
      {
       "output_type": "stream",
       "stream": "stdout",
       "text": [
        "\n",
        "Now fetching ProblemID: 2491, Title: Unfoldung"
       ]
      },
      {
       "output_type": "stream",
       "stream": "stdout",
       "text": [
        "\n",
        "Now fetching ProblemID: 2492, Title: A DP Problem"
       ]
      },
      {
       "output_type": "stream",
       "stream": "stdout",
       "text": [
        "\n",
        "Now fetching ProblemID: 2493, Title: Map Labeler"
       ]
      },
      {
       "output_type": "stream",
       "stream": "stdout",
       "text": [
        "\n",
        "Now fetching ProblemID: 2494, Title: Balanced Chemical Equations"
       ]
      },
      {
       "output_type": "stream",
       "stream": "stdout",
       "text": [
        "\n",
        "Now fetching ProblemID: 2495, Title: The Game"
       ]
      },
      {
       "output_type": "stream",
       "stream": "stdout",
       "text": [
        "\n",
        "Now fetching ProblemID: 2496, Title: Parallelogram Counting"
       ]
      },
      {
       "output_type": "stream",
       "stream": "stdout",
       "text": [
        "\n",
        "Now fetching ProblemID: 2497, Title: Dice Stacking"
       ]
      },
      {
       "output_type": "stream",
       "stream": "stdout",
       "text": [
        "\n",
        "Now fetching ProblemID: 2498, Title: Software Company"
       ]
      },
      {
       "output_type": "stream",
       "stream": "stdout",
       "text": [
        "\n",
        "Now fetching ProblemID: 2499, Title: The Happy Worm"
       ]
      },
      {
       "output_type": "stream",
       "stream": "stdout",
       "text": [
        "\n",
        "Now fetching ProblemID: 2500, Title: Median Weight Bead"
       ]
      },
      {
       "output_type": "stream",
       "stream": "stdout",
       "text": [
        "\n",
        "Now fetching ProblemID: 2501, Title: A Mini Locomotive"
       ]
      },
      {
       "output_type": "stream",
       "stream": "stdout",
       "text": [
        "\n",
        "Now fetching ProblemID: 2502, Title: Odd Loving Bakers"
       ]
      },
      {
       "output_type": "stream",
       "stream": "stdout",
       "text": [
        "\n",
        "Now fetching ProblemID: 2503, Title: What is the Length?"
       ]
      },
      {
       "output_type": "stream",
       "stream": "stdout",
       "text": [
        "\n",
        "Now fetching ProblemID: 2504, Title: Help John!"
       ]
      },
      {
       "output_type": "stream",
       "stream": "stdout",
       "text": [
        "\n",
        "Now fetching ProblemID: 2505, Title: Sticks"
       ]
      },
      {
       "output_type": "stream",
       "stream": "stdout",
       "text": [
        "\n",
        "Now fetching ProblemID: 2506, Title: Fractions again"
       ]
      },
      {
       "output_type": "stream",
       "stream": "stdout",
       "text": [
        "\n",
        "Now fetching ProblemID: 2507, Title: Let's play a game"
       ]
      },
      {
       "output_type": "stream",
       "stream": "stdout",
       "text": [
        "\n",
        "Now fetching ProblemID: 2508, Title: A Less Simple Task in Windows"
       ]
      },
      {
       "output_type": "stream",
       "stream": "stdout",
       "text": [
        "\n",
        "Now fetching ProblemID: 2509, Title: Box Pushing"
       ]
      },
      {
       "output_type": "stream",
       "stream": "stdout",
       "text": [
        "\n",
        "Now fetching ProblemID: 2510, Title: Concentric Rings"
       ]
      },
      {
       "output_type": "stream",
       "stream": "stdout",
       "text": [
        "\n",
        "Now fetching ProblemID: 2511, Title: Design T-Shirt"
       ]
      },
      {
       "output_type": "stream",
       "stream": "stdout",
       "text": [
        "\n",
        "Now fetching ProblemID: 2512, Title: Exact Symmetry"
       ]
      },
      {
       "output_type": "stream",
       "stream": "stdout",
       "text": [
        "\n",
        "Now fetching ProblemID: 2513, Title: Final Ranklist"
       ]
      },
      {
       "output_type": "stream",
       "stream": "stdout",
       "text": [
        "\n",
        "Now fetching ProblemID: 2514, Title: Generate Passwords"
       ]
      },
      {
       "output_type": "stream",
       "stream": "stdout",
       "text": [
        "\n",
        "Now fetching ProblemID: 2515, Title: Height of Water Tower"
       ]
      },
      {
       "output_type": "stream",
       "stream": "stdout",
       "text": [
        "\n",
        "Now fetching ProblemID: 2516, Title: General Simple Partial Fraction Decomposition"
       ]
      },
      {
       "output_type": "stream",
       "stream": "stdout",
       "text": [
        "\n",
        "Now fetching ProblemID: 2517, Title: Painting Ellipses"
       ]
      },
      {
       "output_type": "stream",
       "stream": "stdout",
       "text": [
        "\n",
        "Now fetching ProblemID: 2518, Title: Wrapping Pillar"
       ]
      },
      {
       "output_type": "stream",
       "stream": "stdout",
       "text": [
        "\n",
        "Now fetching ProblemID: 2519, Title: Cutting a Cake"
       ]
      },
      {
       "output_type": "stream",
       "stream": "stdout",
       "text": [
        "\n",
        "Now fetching ProblemID: 2520, Title: Amicable Pairs"
       ]
      },
      {
       "output_type": "stream",
       "stream": "stdout",
       "text": [
        "\n",
        "Now fetching ProblemID: 2521, Title: LED Display"
       ]
      },
      {
       "output_type": "stream",
       "stream": "stdout",
       "text": [
        "\n",
        "Now fetching ProblemID: 2522, Title: Fellowship Activity"
       ]
      },
      {
       "output_type": "stream",
       "stream": "stdout",
       "text": [
        "\n",
        "Now fetching ProblemID: 2523, Title: Number of People"
       ]
      },
      {
       "output_type": "stream",
       "stream": "stdout",
       "text": [
        "\n",
        "Now fetching ProblemID: 2524, Title: Football Match"
       ]
      },
      {
       "output_type": "stream",
       "stream": "stdout",
       "text": [
        "\n",
        "Now fetching ProblemID: 2525, Title: Restore the Polygon"
       ]
      },
      {
       "output_type": "stream",
       "stream": "stdout",
       "text": [
        "\n",
        "Now fetching ProblemID: 2526, Title: FatMouse and JavaBean II"
       ]
      },
      {
       "output_type": "stream",
       "stream": "stdout",
       "text": [
        "\n",
        "Now fetching ProblemID: 2527, Title: Series"
       ]
      },
      {
       "output_type": "stream",
       "stream": "stdout",
       "text": [
        "\n",
        "Now fetching ProblemID: 2528, Title: Weather Forecast"
       ]
      },
      {
       "output_type": "stream",
       "stream": "stdout",
       "text": [
        "\n",
        "Now fetching ProblemID: 2529, Title: A+B in Hogwarts"
       ]
      },
      {
       "output_type": "stream",
       "stream": "stdout",
       "text": [
        "\n",
        "Now fetching ProblemID: 2530, Title: Kindergarten Day"
       ]
      },
      {
       "output_type": "stream",
       "stream": "stdout",
       "text": [
        "\n",
        "Now fetching ProblemID: 2531, Title: Traveller"
       ]
      },
      {
       "output_type": "stream",
       "stream": "stdout",
       "text": [
        "\n",
        "Now fetching ProblemID: 2532, Title: Internship"
       ]
      },
      {
       "output_type": "stream",
       "stream": "stdout",
       "text": [
        "\n",
        "Now fetching ProblemID: 2533, Title: FatMouse and JavaBean III"
       ]
      },
      {
       "output_type": "stream",
       "stream": "stdout",
       "text": [
        "\n",
        "Now fetching ProblemID: 2534, Title: Time Machine"
       ]
      },
      {
       "output_type": "stream",
       "stream": "stdout",
       "text": [
        "\n",
        "Now fetching ProblemID: 2535, Title: Ancient Relics"
       ]
      },
      {
       "output_type": "stream",
       "stream": "stdout",
       "text": [
        "\n",
        "Now fetching ProblemID: 2536, Title: Best Balance"
       ]
      },
      {
       "output_type": "stream",
       "stream": "stdout",
       "text": [
        "\n",
        "Now fetching ProblemID: 2537, Title: Collect More Jewels"
       ]
      },
      {
       "output_type": "stream",
       "stream": "stdout",
       "text": [
        "\n",
        "Now fetching ProblemID: 2538, Title: Dimensional Lookup"
       ]
      },
      {
       "output_type": "stream",
       "stream": "stdout",
       "text": [
        "\n",
        "Now fetching ProblemID: 2539, Title: Energy Minimization"
       ]
      },
      {
       "output_type": "stream",
       "stream": "stdout",
       "text": [
        "\n",
        "Now fetching ProblemID: 2540, Title: Form a Square"
       ]
      },
      {
       "output_type": "stream",
       "stream": "stdout",
       "text": [
        "\n",
        "Now fetching ProblemID: 2541, Title: Goods Transportation"
       ]
      },
      {
       "output_type": "stream",
       "stream": "stdout",
       "text": [
        "\n",
        "Now fetching ProblemID: 2542, Title: Html Link Resolver"
       ]
      },
      {
       "output_type": "stream",
       "stream": "stdout",
       "text": [
        "\n",
        "Now fetching ProblemID: 2543, Title: Image Deskew"
       ]
      },
      {
       "output_type": "stream",
       "stream": "stdout",
       "text": [
        "\n",
        "Now fetching ProblemID: 2544, Title: War on Weather"
       ]
      },
      {
       "output_type": "stream",
       "stream": "stdout",
       "text": [
        "\n",
        "Now fetching ProblemID: 2545, Title: Factstone Benchmark"
       ]
      },
      {
       "output_type": "stream",
       "stream": "stdout",
       "text": [
        "\n",
        "Now fetching ProblemID: 2546, Title: Walk Through the Forest"
       ]
      },
      {
       "output_type": "stream",
       "stream": "stdout",
       "text": [
        "\n",
        "Now fetching ProblemID: 2547, Title: Tri Tiling"
       ]
      },
      {
       "output_type": "stream",
       "stream": "stdout",
       "text": [
        "\n",
        "Now fetching ProblemID: 2548, Title: Prerequisites?"
       ]
      },
      {
       "output_type": "stream",
       "stream": "stdout",
       "text": [
        "\n",
        "Now fetching ProblemID: 2549, Title: So You Want to Be a (2^n)-Aire?"
       ]
      },
      {
       "output_type": "stream",
       "stream": "stdout",
       "text": [
        "\n",
        "Now fetching ProblemID: 2550, Title: Ferry Loading III"
       ]
      },
      {
       "output_type": "stream",
       "stream": "stdout",
       "text": [
        "\n",
        "Now fetching ProblemID: 2551, Title: Pick-up Sticks"
       ]
      },
      {
       "output_type": "stream",
       "stream": "stdout",
       "text": [
        "\n",
        "Now fetching ProblemID: 2552, Title: Rock-Paper-Scissors Tournament"
       ]
      },
      {
       "output_type": "stream",
       "stream": "stdout",
       "text": [
        "\n",
        "Now fetching ProblemID: 2553, Title: Structural Equivalence"
       ]
      },
      {
       "output_type": "stream",
       "stream": "stdout",
       "text": [
        "\n",
        "Now fetching ProblemID: 2554, Title: Brownie Points"
       ]
      },
      {
       "output_type": "stream",
       "stream": "stdout",
       "text": [
        "\n",
        "Now fetching ProblemID: 2555, Title: Magic Bitstrings"
       ]
      },
      {
       "output_type": "stream",
       "stream": "stdout",
       "text": [
        "\n",
        "Now fetching ProblemID: 2556, Title: Cutting a Polygon"
       ]
      },
      {
       "output_type": "stream",
       "stream": "stdout",
       "text": [
        "\n",
        "Now fetching ProblemID: 2557, Title: Bungee Jumping"
       ]
      },
      {
       "output_type": "stream",
       "stream": "stdout",
       "text": [
        "\n",
        "Now fetching ProblemID: 2558, Title: Brownie Points II"
       ]
      },
      {
       "output_type": "stream",
       "stream": "stdout",
       "text": [
        "\n",
        "Now fetching ProblemID: 2559, Title: The Smart Bomb"
       ]
      },
      {
       "output_type": "stream",
       "stream": "stdout",
       "text": [
        "\n",
        "Now fetching ProblemID: 2560, Title: I Just Called ..."
       ]
      },
      {
       "output_type": "stream",
       "stream": "stdout",
       "text": [
        "\n",
        "Now fetching ProblemID: 2561, Title: Order-Preserving Codes"
       ]
      },
      {
       "output_type": "stream",
       "stream": "stdout",
       "text": [
        "\n",
        "Now fetching ProblemID: 2562, Title: More Divisors"
       ]
      },
      {
       "output_type": "stream",
       "stream": "stdout",
       "text": [
        "\n",
        "Now fetching ProblemID: 2563, Title: Long Dominoes"
       ]
      },
      {
       "output_type": "stream",
       "stream": "stdout",
       "text": [
        "\n",
        "Now fetching ProblemID: 2564, Title: The Magic Wheel"
       ]
      },
      {
       "output_type": "stream",
       "stream": "stdout",
       "text": [
        "\n",
        "Now fetching ProblemID: 2565, Title: Cracking SSH"
       ]
      },
      {
       "output_type": "stream",
       "stream": "stdout",
       "text": [
        "\n",
        "Now fetching ProblemID: 2566, Title: Periodic Tilings"
       ]
      },
      {
       "output_type": "stream",
       "stream": "stdout",
       "text": [
        "\n",
        "Now fetching ProblemID: 2567, Title: Trade"
       ]
      },
      {
       "output_type": "stream",
       "stream": "stdout",
       "text": [
        "\n",
        "Now fetching ProblemID: 2568, Title: Counting Triangulations"
       ]
      },
      {
       "output_type": "stream",
       "stream": "stdout",
       "text": [
        "\n",
        "Now fetching ProblemID: 2569, Title: Unfair Contest"
       ]
      },
      {
       "output_type": "stream",
       "stream": "stdout",
       "text": [
        "\n",
        "Now fetching ProblemID: 2570, Title: Arena"
       ]
      },
      {
       "output_type": "stream",
       "stream": "stdout",
       "text": [
        "\n",
        "Now fetching ProblemID: 2571, Title: Big String Outspread"
       ]
      },
      {
       "output_type": "stream",
       "stream": "stdout",
       "text": [
        "\n",
        "Now fetching ProblemID: 2572, Title: Color ASCII Characters"
       ]
      },
      {
       "output_type": "stream",
       "stream": "stdout",
       "text": [
        "\n",
        "Now fetching ProblemID: 2573, Title: DNA Problem"
       ]
      },
      {
       "output_type": "stream",
       "stream": "stdout",
       "text": [
        "\n",
        "Now fetching ProblemID: 2574, Title: Elaborate Short Messages"
       ]
      },
      {
       "output_type": "stream",
       "stream": "stdout",
       "text": [
        "\n",
        "Now fetching ProblemID: 2575, Title: Full of Painting"
       ]
      },
      {
       "output_type": "stream",
       "stream": "stdout",
       "text": [
        "\n",
        "Now fetching ProblemID: 2576, Title: Graphical Partition"
       ]
      },
      {
       "output_type": "stream",
       "stream": "stdout",
       "text": [
        "\n",
        "Now fetching ProblemID: 2577, Title: How Many Leaves Left?"
       ]
      },
      {
       "output_type": "stream",
       "stream": "stdout",
       "text": [
        "\n",
        "Now fetching ProblemID: 2578, Title: Linear World"
       ]
      },
      {
       "output_type": "stream",
       "stream": "stdout",
       "text": [
        "\n",
        "Now fetching ProblemID: 2579, Title: Songs"
       ]
      },
      {
       "output_type": "stream",
       "stream": "stdout",
       "text": [
        "\n",
        "Now fetching ProblemID: 2580, Title: Sudoku"
       ]
      },
      {
       "output_type": "stream",
       "stream": "stdout",
       "text": [
        "\n",
        "Now fetching ProblemID: 2581, Title: Tour"
       ]
      },
      {
       "output_type": "stream",
       "stream": "stdout",
       "text": [
        "\n",
        "Now fetching ProblemID: 2582, Title: Mothy"
       ]
      },
      {
       "output_type": "stream",
       "stream": "stdout",
       "text": [
        "\n",
        "Now fetching ProblemID: 2583, Title: Adventurous Driving"
       ]
      },
      {
       "output_type": "stream",
       "stream": "stdout",
       "text": [
        "\n",
        "Now fetching ProblemID: 2584, Title: Computer Transformation"
       ]
      },
      {
       "output_type": "stream",
       "stream": "stdout",
       "text": [
        "\n",
        "Now fetching ProblemID: 2585, Title: Anagrammatic Distance"
       ]
      },
      {
       "output_type": "stream",
       "stream": "stdout",
       "text": [
        "\n",
        "Now fetching ProblemID: 2586, Title: Tomato Automata"
       ]
      },
      {
       "output_type": "stream",
       "stream": "stdout",
       "text": [
        "\n",
        "Now fetching ProblemID: 2587, Title: Unique Attack"
       ]
      },
      {
       "output_type": "stream",
       "stream": "stdout",
       "text": [
        "\n",
        "Now fetching ProblemID: 2588, Title: Burning Bridges"
       ]
      },
      {
       "output_type": "stream",
       "stream": "stdout",
       "text": [
        "\n",
        "Now fetching ProblemID: 2589, Title: Circles"
       ]
      },
      {
       "output_type": "stream",
       "stream": "stdout",
       "text": [
        "\n",
        "Now fetching ProblemID: 2590, Title: Linear Programming Dual"
       ]
      },
      {
       "output_type": "stream",
       "stream": "stdout",
       "text": [
        "\n",
        "Now fetching ProblemID: 2591, Title: DVD"
       ]
      },
      {
       "output_type": "stream",
       "stream": "stdout",
       "text": [
        "\n",
        "Now fetching ProblemID: 2592, Title: Think Positive"
       ]
      },
      {
       "output_type": "stream",
       "stream": "stdout",
       "text": [
        "\n",
        "Now fetching ProblemID: 2593, Title: Ranking"
       ]
      },
      {
       "output_type": "stream",
       "stream": "stdout",
       "text": [
        "\n",
        "Now fetching ProblemID: 2594, Title: Driving Straight"
       ]
      },
      {
       "output_type": "stream",
       "stream": "stdout",
       "text": [
        "\n",
        "Now fetching ProblemID: 2595, Title: Ackerman's Function"
       ]
      },
      {
       "output_type": "stream",
       "stream": "stdout",
       "text": [
        "\n",
        "Now fetching ProblemID: 2596, Title: The Minimal Angle"
       ]
      },
      {
       "output_type": "stream",
       "stream": "stdout",
       "text": [
        "\n",
        "Now fetching ProblemID: 2597, Title: Yellow Code"
       ]
      },
      {
       "output_type": "stream",
       "stream": "stdout",
       "text": [
        "\n",
        "Now fetching ProblemID: 2598, Title: Yet Another Digit"
       ]
      },
      {
       "output_type": "stream",
       "stream": "stdout",
       "text": [
        "\n",
        "Now fetching ProblemID: 2599, Title: Graduated Lexicographical Ordering"
       ]
      },
      {
       "output_type": "stream",
       "stream": "stdout",
       "text": [
        "\n",
        "Now fetching ProblemID: 2600, Title: GSM"
       ]
      },
      {
       "output_type": "stream",
       "stream": "stdout",
       "text": [
        "\n",
        "Now fetching ProblemID: 2601, Title: Warehouse Keeper"
       ]
      },
      {
       "output_type": "stream",
       "stream": "stdout",
       "text": [
        "\n",
        "Now fetching ProblemID: 2602, Title: Don't Go Left"
       ]
      },
      {
       "output_type": "stream",
       "stream": "stdout",
       "text": [
        "\n",
        "Now fetching ProblemID: 2603, Title: Railroad Sort"
       ]
      },
      {
       "output_type": "stream",
       "stream": "stdout",
       "text": [
        "\n",
        "Now fetching ProblemID: 2604, Title: Little Brackets"
       ]
      },
      {
       "output_type": "stream",
       "stream": "stdout",
       "text": [
        "\n",
        "Now fetching ProblemID: 2605, Title: Under Control"
       ]
      },
      {
       "output_type": "stream",
       "stream": "stdout",
       "text": [
        "\n",
        "Now fetching ProblemID: 2606, Title: Holidays"
       ]
      },
      {
       "output_type": "stream",
       "stream": "stdout",
       "text": [
        "\n",
        "Now fetching ProblemID: 2607, Title: Laboratory"
       ]
      },
      {
       "output_type": "stream",
       "stream": "stdout",
       "text": [
        "\n",
        "Now fetching ProblemID: 2608, Title: Maps"
       ]
      },
      {
       "output_type": "stream",
       "stream": "stdout",
       "text": [
        "\n",
        "Now fetching ProblemID: 2609, Title: Crazy Painter"
       ]
      },
      {
       "output_type": "stream",
       "stream": "stdout",
       "text": [
        "\n",
        "Now fetching ProblemID: 2610, Title: Puzzle"
       ]
      },
      {
       "output_type": "stream",
       "stream": "stdout",
       "text": [
        "\n",
        "Now fetching ProblemID: 2611, Title: Quest"
       ]
      },
      {
       "output_type": "stream",
       "stream": "stdout",
       "text": [
        "\n",
        "Now fetching ProblemID: 2612, Title: Stable Sets"
       ]
      },
      {
       "output_type": "stream",
       "stream": "stdout",
       "text": [
        "\n",
        "Now fetching ProblemID: 2613, Title: Auction"
       ]
      },
      {
       "output_type": "stream",
       "stream": "stdout",
       "text": [
        "\n",
        "Now fetching ProblemID: 2614, Title: Bridge"
       ]
      },
      {
       "output_type": "stream",
       "stream": "stdout",
       "text": [
        "\n",
        "Now fetching ProblemID: 2615, Title: Cells"
       ]
      },
      {
       "output_type": "stream",
       "stream": "stdout",
       "text": [
        "\n",
        "Now fetching ProblemID: 2616, Title: Duopoly"
       ]
      },
      {
       "output_type": "stream",
       "stream": "stdout",
       "text": [
        "\n",
        "Now fetching ProblemID: 2617, Title: Edison"
       ]
      },
      {
       "output_type": "stream",
       "stream": "stdout",
       "text": [
        "\n",
        "Now fetching ProblemID: 2618, Title: Forwards"
       ]
      },
      {
       "output_type": "stream",
       "stream": "stdout",
       "text": [
        "\n",
        "Now fetching ProblemID: 2619, Title: Generator"
       ]
      },
      {
       "output_type": "stream",
       "stream": "stdout",
       "text": [
        "\n",
        "Now fetching ProblemID: 2620, Title: Hills"
       ]
      },
      {
       "output_type": "stream",
       "stream": "stdout",
       "text": [
        "\n",
        "Now fetching ProblemID: 2621, Title: Instructions"
       ]
      },
      {
       "output_type": "stream",
       "stream": "stdout",
       "text": [
        "\n",
        "Now fetching ProblemID: 2622, Title: Floating Number Validation"
       ]
      },
      {
       "output_type": "stream",
       "stream": "stdout",
       "text": [
        "\n",
        "Now fetching ProblemID: 2623, Title: Area"
       ]
      },
      {
       "output_type": "stream",
       "stream": "stdout",
       "text": [
        "\n",
        "Now fetching ProblemID: 2624, Title: Popo's Lamps"
       ]
      },
      {
       "output_type": "stream",
       "stream": "stdout",
       "text": [
        "\n",
        "Now fetching ProblemID: 2625, Title: Rearrange Them"
       ]
      },
      {
       "output_type": "stream",
       "stream": "stdout",
       "text": [
        "\n",
        "Now fetching ProblemID: 2626, Title: Polygon Game"
       ]
      },
      {
       "output_type": "stream",
       "stream": "stdout",
       "text": [
        "\n",
        "Now fetching ProblemID: 2627, Title: Gobang"
       ]
      },
      {
       "output_type": "stream",
       "stream": "stdout",
       "text": [
        "\n",
        "Now fetching ProblemID: 2628, Title: Bessel Function"
       ]
      },
      {
       "output_type": "stream",
       "stream": "stdout",
       "text": [
        "\n",
        "Now fetching ProblemID: 2629, Title: Cover More Circles"
       ]
      },
      {
       "output_type": "stream",
       "stream": "stdout",
       "text": [
        "\n",
        "Now fetching ProblemID: 2630, Title: Plane Partition"
       ]
      },
      {
       "output_type": "stream",
       "stream": "stdout",
       "text": [
        "\n",
        "Now fetching ProblemID: 2631, Title: Chemfrog's Fairy Tale"
       ]
      },
      {
       "output_type": "stream",
       "stream": "stdout",
       "text": [
        "\n",
        "Now fetching ProblemID: 2632, Title: Knight in Corridor"
       ]
      },
      {
       "output_type": "stream",
       "stream": "stdout",
       "text": [
        "\n",
        "Now fetching ProblemID: 2633, Title: Full of Painting II"
       ]
      },
      {
       "output_type": "stream",
       "stream": "stdout",
       "text": [
        "\n",
        "Now fetching ProblemID: 2634, Title: Collecting Stones"
       ]
      },
      {
       "output_type": "stream",
       "stream": "stdout",
       "text": [
        "\n",
        "Now fetching ProblemID: 2635, Title: Transposition Cipher"
       ]
      },
      {
       "output_type": "stream",
       "stream": "stdout",
       "text": [
        "\n",
        "Now fetching ProblemID: 2636, Title: Repair the Roof"
       ]
      },
      {
       "output_type": "stream",
       "stream": "stdout",
       "text": [
        "\n",
        "Now fetching ProblemID: 2637, Title: Area 51"
       ]
      },
      {
       "output_type": "stream",
       "stream": "stdout",
       "text": [
        "\n",
        "Now fetching ProblemID: 2638, Title: Brackets Removal"
       ]
      },
      {
       "output_type": "stream",
       "stream": "stdout",
       "text": [
        "\n",
        "Now fetching ProblemID: 2639, Title: Cactus"
       ]
      },
      {
       "output_type": "stream",
       "stream": "stdout",
       "text": [
        "\n",
        "Now fetching ProblemID: 2640, Title: Double Patience"
       ]
      },
      {
       "output_type": "stream",
       "stream": "stdout",
       "text": [
        "\n",
        "Now fetching ProblemID: 2641, Title: Exploring Pyramids"
       ]
      },
      {
       "output_type": "stream",
       "stream": "stdout",
       "text": [
        "\n",
        "Now fetching ProblemID: 2642, Title: Feel Good"
       ]
      },
      {
       "output_type": "stream",
       "stream": "stdout",
       "text": [
        "\n",
        "Now fetching ProblemID: 2643, Title: Guards"
       ]
      },
      {
       "output_type": "stream",
       "stream": "stdout",
       "text": [
        "\n",
        "Now fetching ProblemID: 2644, Title: Hardwood Cutting"
       ]
      },
      {
       "output_type": "stream",
       "stream": "stdout",
       "text": [
        "\n",
        "Now fetching ProblemID: 2645, Title: IP Networks"
       ]
      },
      {
       "output_type": "stream",
       "stream": "stdout",
       "text": [
        "\n",
        "Now fetching ProblemID: 2646, Title: Joseph's Problem"
       ]
      },
      {
       "output_type": "stream",
       "stream": "stdout",
       "text": [
        "\n",
        "Now fetching ProblemID: 2647, Title: Knockdown"
       ]
      },
      {
       "output_type": "stream",
       "stream": "stdout",
       "text": [
        "\n",
        "Now fetching ProblemID: 2648, Title: Bowl"
       ]
      },
      {
       "output_type": "stream",
       "stream": "stdout",
       "text": [
        "\n",
        "Now fetching ProblemID: 2649, Title: The Brave Tankman"
       ]
      },
      {
       "output_type": "stream",
       "stream": "stdout",
       "text": [
        "\n",
        "Now fetching ProblemID: 2650, Title: ACM Lotteryneed"
       ]
      },
      {
       "output_type": "stream",
       "stream": "stdout",
       "text": [
        "\n",
        "Now fetching ProblemID: 2651, Title: The Death Corrider"
       ]
      },
      {
       "output_type": "stream",
       "stream": "stdout",
       "text": [
        "\n",
        "Now fetching ProblemID: 2652, Title: Clever's Problem"
       ]
      },
      {
       "output_type": "stream",
       "stream": "stdout",
       "text": [
        "\n",
        "Now fetching ProblemID: 2653, Title: Military Game"
       ]
      },
      {
       "output_type": "stream",
       "stream": "stdout",
       "text": [
        "\n",
        "Now fetching ProblemID: 2654, Title: Tower Defense"
       ]
      },
      {
       "output_type": "stream",
       "stream": "stdout",
       "text": [
        "\n",
        "Now fetching ProblemID: 2655, Title: Water Pipe"
       ]
      },
      {
       "output_type": "stream",
       "stream": "stdout",
       "text": [
        "\n",
        "Now fetching ProblemID: 2656, Title: Travel Around Country"
       ]
      },
      {
       "output_type": "stream",
       "stream": "stdout",
       "text": [
        "\n",
        "Now fetching ProblemID: 2657, Title: Appointment"
       ]
      },
      {
       "output_type": "stream",
       "stream": "stdout",
       "text": [
        "\n",
        "Now fetching ProblemID: 2658, Title: Ancient Cipher"
       ]
      },
      {
       "output_type": "stream",
       "stream": "stdout",
       "text": [
        "\n",
        "Now fetching ProblemID: 2659, Title: Box"
       ]
      },
      {
       "output_type": "stream",
       "stream": "stdout",
       "text": [
        "\n",
        "Now fetching ProblemID: 2660, Title: Chandelier"
       ]
      },
      {
       "output_type": "stream",
       "stream": "stdout",
       "text": [
        "\n",
        "Now fetching ProblemID: 2661, Title: Document Indexing"
       ]
      },
      {
       "output_type": "stream",
       "stream": "stdout",
       "text": [
        "\n",
        "Now fetching ProblemID: 2662, Title: Easy Trading"
       ]
      },
      {
       "output_type": "stream",
       "stream": "stdout",
       "text": [
        "\n",
        "Now fetching ProblemID: 2663, Title: Find the Border"
       ]
      },
      {
       "output_type": "stream",
       "stream": "stdout",
       "text": [
        "\n",
        "Now fetching ProblemID: 2664, Title: Gunman"
       ]
      },
      {
       "output_type": "stream",
       "stream": "stdout",
       "text": [
        "\n",
        "Now fetching ProblemID: 2665, Title: Heapsort"
       ]
      },
      {
       "output_type": "stream",
       "stream": "stdout",
       "text": [
        "\n",
        "Now fetching ProblemID: 2666, Title: Irrelevant Elements"
       ]
      },
      {
       "output_type": "stream",
       "stream": "stdout",
       "text": [
        "\n",
        "Now fetching ProblemID: 2667, Title: Joke with Turtles"
       ]
      },
      {
       "output_type": "stream",
       "stream": "stdout",
       "text": [
        "\n",
        "Now fetching ProblemID: 2668, Title: Kingdom of Magic"
       ]
      },
      {
       "output_type": "stream",
       "stream": "stdout",
       "text": [
        "\n",
        "Now fetching ProblemID: 2669, Title: Lattice Animals"
       ]
      },
      {
       "output_type": "stream",
       "stream": "stdout",
       "text": [
        "\n",
        "Now fetching ProblemID: 2670, Title: Nonoptimal Assignments"
       ]
      },
      {
       "output_type": "stream",
       "stream": "stdout",
       "text": [
        "\n",
        "Now fetching ProblemID: 2671, Title: Cryptography"
       ]
      },
      {
       "output_type": "stream",
       "stream": "stdout",
       "text": [
        "\n",
        "Now fetching ProblemID: 2672, Title: Fibonacci Subsequence"
       ]
      },
      {
       "output_type": "stream",
       "stream": "stdout",
       "text": [
        "\n",
        "Now fetching ProblemID: 2673, Title: Hexagon and Rhombic Dominoes"
       ]
      },
      {
       "output_type": "stream",
       "stream": "stdout",
       "text": [
        "\n",
        "Now fetching ProblemID: 2674, Title: Strange Limit"
       ]
      },
      {
       "output_type": "stream",
       "stream": "stdout",
       "text": [
        "\n",
        "Now fetching ProblemID: 2675, Title: Little Mammoth"
       ]
      },
      {
       "output_type": "stream",
       "stream": "stdout",
       "text": [
        "\n",
        "Now fetching ProblemID: 2676, Title: Network Wars"
       ]
      },
      {
       "output_type": "stream",
       "stream": "stdout",
       "text": [
        "\n",
        "Now fetching ProblemID: 2677, Title: Oil Deal"
       ]
      },
      {
       "output_type": "stream",
       "stream": "stdout",
       "text": [
        "\n",
        "Now fetching ProblemID: 2678, Title: Bishops on a Toral Board"
       ]
      },
      {
       "output_type": "stream",
       "stream": "stdout",
       "text": [
        "\n",
        "Now fetching ProblemID: 2679, Title: Old Bill"
       ]
      },
      {
       "output_type": "stream",
       "stream": "stdout",
       "text": [
        "\n",
        "Now fetching ProblemID: 2680, Title: Clock"
       ]
      },
      {
       "output_type": "stream",
       "stream": "stdout",
       "text": [
        "\n",
        "Now fetching ProblemID: 2681, Title: Pocket Ball"
       ]
      },
      {
       "output_type": "stream",
       "stream": "stdout",
       "text": [
        "\n",
        "Now fetching ProblemID: 2682, Title: People like People"
       ]
      },
      {
       "output_type": "stream",
       "stream": "stdout",
       "text": [
        "\n",
        "Now fetching ProblemID: 2683, Title: Marathon"
       ]
      },
      {
       "output_type": "stream",
       "stream": "stdout",
       "text": [
        "\n",
        "Now fetching ProblemID: 2684, Title: ChonSu"
       ]
      },
      {
       "output_type": "stream",
       "stream": "stdout",
       "text": [
        "\n",
        "Now fetching ProblemID: 2685, Title: UNISON"
       ]
      },
      {
       "output_type": "stream",
       "stream": "stdout",
       "text": [
        "\n",
        "Now fetching ProblemID: 2686, Title: Cycle Game"
       ]
      },
      {
       "output_type": "stream",
       "stream": "stdout",
       "text": [
        "\n",
        "Now fetching ProblemID: 2687, Title: Robots"
       ]
      },
      {
       "output_type": "stream",
       "stream": "stdout",
       "text": [
        "\n",
        "Now fetching ProblemID: 2688, Title: Requirements"
       ]
      },
      {
       "output_type": "stream",
       "stream": "stdout",
       "text": [
        "\n",
        "Now fetching ProblemID: 2689, Title: Constructing Roads"
       ]
      },
      {
       "output_type": "stream",
       "stream": "stdout",
       "text": [
        "\n",
        "Now fetching ProblemID: 2690, Title: A City of Skyscrapers"
       ]
      },
      {
       "output_type": "stream",
       "stream": "stdout",
       "text": [
        "\n",
        "Now fetching ProblemID: 2691, Title: The Traveling Salesman"
       ]
      },
      {
       "output_type": "stream",
       "stream": "stdout",
       "text": [
        "\n",
        "Now fetching ProblemID: 2692, Title: Dialing Dice"
       ]
      },
      {
       "output_type": "stream",
       "stream": "stdout",
       "text": [
        "\n",
        "Now fetching ProblemID: 2693, Title: Procrastination"
       ]
      },
      {
       "output_type": "stream",
       "stream": "stdout",
       "text": [
        "\n",
        "Now fetching ProblemID: 2694, Title: Coneology"
       ]
      },
      {
       "output_type": "stream",
       "stream": "stdout",
       "text": [
        "\n",
        "Now fetching ProblemID: 2695, Title: Explaining the Stock Market"
       ]
      },
      {
       "output_type": "stream",
       "stream": "stdout",
       "text": [
        "\n",
        "Now fetching ProblemID: 2696, Title: Chip Designing"
       ]
      },
      {
       "output_type": "stream",
       "stream": "stdout",
       "text": [
        "\n",
        "Now fetching ProblemID: 2697, Title: Electricity"
       ]
      },
      {
       "output_type": "stream",
       "stream": "stdout",
       "text": [
        "\n",
        "Now fetching ProblemID: 2698, Title: Numbers to Numbers"
       ]
      },
      {
       "output_type": "stream",
       "stream": "stdout",
       "text": [
        "\n",
        "Now fetching ProblemID: 2699, Title: Police Cities"
       ]
      },
      {
       "output_type": "stream",
       "stream": "stdout",
       "text": [
        "\n",
        "Now fetching ProblemID: 2700, Title: Quadratic Equation"
       ]
      },
      {
       "output_type": "stream",
       "stream": "stdout",
       "text": [
        "\n",
        "Now fetching ProblemID: 2701, Title: Restore the Tree"
       ]
      },
      {
       "output_type": "stream",
       "stream": "stdout",
       "text": [
        "\n",
        "Now fetching ProblemID: 2702, Title: Unrhymable Rhymes"
       ]
      },
      {
       "output_type": "stream",
       "stream": "stdout",
       "text": [
        "\n",
        "Now fetching ProblemID: 2703, Title: Selling Tickets"
       ]
      },
      {
       "output_type": "stream",
       "stream": "stdout",
       "text": [
        "\n",
        "Now fetching ProblemID: 2704, Title: Brackets"
       ]
      },
      {
       "output_type": "stream",
       "stream": "stdout",
       "text": [
        "\n",
        "Now fetching ProblemID: 2705, Title: Dividing a Chocolate"
       ]
      },
      {
       "output_type": "stream",
       "stream": "stdout",
       "text": [
        "\n",
        "Now fetching ProblemID: 2706, Title: Thermal Death of the Universe"
       ]
      },
      {
       "output_type": "stream",
       "stream": "stdout",
       "text": [
        "\n",
        "Now fetching ProblemID: 2707, Title: Equations System"
       ]
      },
      {
       "output_type": "stream",
       "stream": "stdout",
       "text": [
        "\n",
        "Now fetching ProblemID: 2708, Title: Fool's Game"
       ]
      },
      {
       "output_type": "stream",
       "stream": "stdout",
       "text": [
        "\n",
        "Now fetching ProblemID: 2709, Title: Lottery"
       ]
      },
      {
       "output_type": "stream",
       "stream": "stdout",
       "text": [
        "\n",
        "Now fetching ProblemID: 2710, Title: Two Pipelines"
       ]
      },
      {
       "output_type": "stream",
       "stream": "stdout",
       "text": [
        "\n",
        "Now fetching ProblemID: 2711, Title: Regular Words"
       ]
      },
      {
       "output_type": "stream",
       "stream": "stdout",
       "text": [
        "\n",
        "Now fetching ProblemID: 2712, Title: Carl the Ant"
       ]
      },
      {
       "output_type": "stream",
       "stream": "stdout",
       "text": [
        "\n",
        "Now fetching ProblemID: 2713, Title: Heliport"
       ]
      },
      {
       "output_type": "stream",
       "stream": "stdout",
       "text": [
        "\n",
        "Now fetching ProblemID: 2714, Title: Image is Everything"
       ]
      },
      {
       "output_type": "stream",
       "stream": "stdout",
       "text": [
        "\n",
        "Now fetching ProblemID: 2715, Title: Insecure in Prague"
       ]
      },
      {
       "output_type": "stream",
       "stream": "stdout",
       "text": [
        "\n",
        "Now fetching ProblemID: 2716, Title: Intersection Dates"
       ]
      },
      {
       "output_type": "stream",
       "stream": "stdout",
       "text": [
        "\n",
        "Now fetching ProblemID: 2717, Title: Merging Maps"
       ]
      },
      {
       "output_type": "stream",
       "stream": "stdout",
       "text": [
        "\n",
        "Now fetching ProblemID: 2718, Title: Navigation"
       ]
      },
      {
       "output_type": "stream",
       "stream": "stdout",
       "text": [
        "\n",
        "Now fetching ProblemID: 2719, Title: Tree-Lined Streets"
       ]
      },
      {
       "output_type": "stream",
       "stream": "stdout",
       "text": [
        "\n",
        "Now fetching ProblemID: 2720, Title: Suspense!"
       ]
      },
      {
       "output_type": "stream",
       "stream": "stdout",
       "text": [
        "\n",
        "Now fetching ProblemID: 2721, Title: Air Traffic Control"
       ]
      },
      {
       "output_type": "stream",
       "stream": "stdout",
       "text": [
        "\n",
        "Now fetching ProblemID: 2722, Title: Head-to-Head Match"
       ]
      },
      {
       "output_type": "stream",
       "stream": "stdout",
       "text": [
        "\n",
        "Now fetching ProblemID: 2723, Title: Semi-Prime"
       ]
      },
      {
       "output_type": "stream",
       "stream": "stdout",
       "text": [
        "\n",
        "Now fetching ProblemID: 2724, Title: Windows Message Queue"
       ]
      },
      {
       "output_type": "stream",
       "stream": "stdout",
       "text": [
        "\n",
        "Now fetching ProblemID: 2725, Title: Digital Deletions"
       ]
      },
      {
       "output_type": "stream",
       "stream": "stdout",
       "text": [
        "\n",
        "Now fetching ProblemID: 2726, Title: Constellation"
       ]
      },
      {
       "output_type": "stream",
       "stream": "stdout",
       "text": [
        "\n",
        "Now fetching ProblemID: 2727, Title: List the Books"
       ]
      },
      {
       "output_type": "stream",
       "stream": "stdout",
       "text": [
        "\n",
        "Now fetching ProblemID: 2728, Title: Fighting against the Overlord"
       ]
      },
      {
       "output_type": "stream",
       "stream": "stdout",
       "text": [
        "\n",
        "Now fetching ProblemID: 2729, Title: Sum Up"
       ]
      },
      {
       "output_type": "stream",
       "stream": "stdout",
       "text": [
        "\n",
        "Now fetching ProblemID: 2730, Title: Necklace"
       ]
      },
      {
       "output_type": "stream",
       "stream": "stdout",
       "text": [
        "\n",
        "Now fetching ProblemID: 2731, Title: Yet Another Josephus Problem"
       ]
      },
      {
       "output_type": "stream",
       "stream": "stdout",
       "text": [
        "\n",
        "Now fetching ProblemID: 2732, Title: Board Manager Simulation"
       ]
      },
      {
       "output_type": "stream",
       "stream": "stdout",
       "text": [
        "\n",
        "Now fetching ProblemID: 2733, Title: The Communication Network"
       ]
      },
      {
       "output_type": "stream",
       "stream": "stdout",
       "text": [
        "\n",
        "Now fetching ProblemID: 2734, Title: Exchange Cards"
       ]
      },
      {
       "output_type": "stream",
       "stream": "stdout",
       "text": [
        "\n",
        "Now fetching ProblemID: 2735, Title: Special Judge"
       ]
      },
      {
       "output_type": "stream",
       "stream": "stdout",
       "text": [
        "\n",
        "Now fetching ProblemID: 2736, Title: Daffodil number"
       ]
      },
      {
       "output_type": "stream",
       "stream": "stdout",
       "text": [
        "\n",
        "Now fetching ProblemID: 2737, Title: Occurrence"
       ]
      },
      {
       "output_type": "stream",
       "stream": "stdout",
       "text": [
        "\n",
        "Now fetching ProblemID: 2738, Title: The Kth BST"
       ]
      },
      {
       "output_type": "stream",
       "stream": "stdout",
       "text": [
        "\n",
        "Now fetching ProblemID: 2739, Title: Color Quantization"
       ]
      },
      {
       "output_type": "stream",
       "stream": "stdout",
       "text": [
        "\n",
        "Now fetching ProblemID: 2740, Title: Message System"
       ]
      },
      {
       "output_type": "stream",
       "stream": "stdout",
       "text": [
        "\n",
        "Now fetching ProblemID: 2741, Title: Offside"
       ]
      },
      {
       "output_type": "stream",
       "stream": "stdout",
       "text": [
        "\n",
        "Now fetching ProblemID: 2742, Title: Toy Bricks"
       ]
      },
      {
       "output_type": "stream",
       "stream": "stdout",
       "text": [
        "\n",
        "Now fetching ProblemID: 2743, Title: Bubble Shooter"
       ]
      },
      {
       "output_type": "stream",
       "stream": "stdout",
       "text": [
        "\n",
        "Now fetching ProblemID: 2744, Title: Palindromes"
       ]
      },
      {
       "output_type": "stream",
       "stream": "stdout",
       "text": [
        "\n",
        "Now fetching ProblemID: 2745, Title: 01-K Code"
       ]
      },
      {
       "output_type": "stream",
       "stream": "stdout",
       "text": [
        "\n",
        "Now fetching ProblemID: 2746, Title: Rank the Teams"
       ]
      },
      {
       "output_type": "stream",
       "stream": "stdout",
       "text": [
        "\n",
        "Now fetching ProblemID: 2747, Title: Paint the Wall"
       ]
      },
      {
       "output_type": "stream",
       "stream": "stdout",
       "text": [
        "\n",
        "Now fetching ProblemID: 2748, Title: Free Kick"
       ]
      },
      {
       "output_type": "stream",
       "stream": "stdout",
       "text": [
        "\n",
        "Now fetching ProblemID: 2749, Title: Polarium"
       ]
      },
      {
       "output_type": "stream",
       "stream": "stdout",
       "text": [
        "\n",
        "Now fetching ProblemID: 2750, Title: Idiomatic Phrases Game"
       ]
      },
      {
       "output_type": "stream",
       "stream": "stdout",
       "text": [
        "\n",
        "Now fetching ProblemID: 2751, Title: Rochambeau"
       ]
      },
      {
       "output_type": "stream",
       "stream": "stdout",
       "text": [
        "\n",
        "Now fetching ProblemID: 2752, Title: Fly Monkey"
       ]
      },
      {
       "output_type": "stream",
       "stream": "stdout",
       "text": [
        "\n",
        "Now fetching ProblemID: 2753, Title: Min Cut (Destroy Trade Net)"
       ]
      },
      {
       "output_type": "stream",
       "stream": "stdout",
       "text": [
        "\n",
        "Now fetching ProblemID: 2754, Title: The Wolves and the Sheep Plus (Catching Game)"
       ]
      },
      {
       "output_type": "stream",
       "stream": "stdout",
       "text": [
        "\n",
        "Now fetching ProblemID: 2755, Title: Zuma Plus (Color Balls)"
       ]
      },
      {
       "output_type": "stream",
       "stream": "stdout",
       "text": [
        "\n",
        "Now fetching ProblemID: 2756, Title: Tennis Scorer"
       ]
      },
      {
       "output_type": "stream",
       "stream": "stdout",
       "text": [
        "\n",
        "Now fetching ProblemID: 2757, Title: Sum of Continuous Subsequences"
       ]
      },
      {
       "output_type": "stream",
       "stream": "stdout",
       "text": [
        "\n",
        "Now fetching ProblemID: 2758, Title: Subtitle"
       ]
      },
      {
       "output_type": "stream",
       "stream": "stdout",
       "text": [
        "\n",
        "Now fetching ProblemID: 2759, Title: Perfect Weighing Skill"
       ]
      },
      {
       "output_type": "stream",
       "stream": "stdout",
       "text": [
        "\n",
        "Now fetching ProblemID: 2760, Title: How Many Shortest Path"
       ]
      },
      {
       "output_type": "stream",
       "stream": "stdout",
       "text": [
        "\n",
        "Now fetching ProblemID: 2761, Title: Help Lin to walk less"
       ]
      },
      {
       "output_type": "stream",
       "stream": "stdout",
       "text": [
        "\n",
        "Now fetching ProblemID: 2762, Title: New Diamond"
       ]
      },
      {
       "output_type": "stream",
       "stream": "stdout",
       "text": [
        "\n",
        "Now fetching ProblemID: 2763, Title: Prison Break"
       ]
      },
      {
       "output_type": "stream",
       "stream": "stdout",
       "text": [
        "\n",
        "Now fetching ProblemID: 2764, Title: RPG"
       ]
      },
      {
       "output_type": "stream",
       "stream": "stdout",
       "text": [
        "\n",
        "Now fetching ProblemID: 2765, Title: Rotate and Connect"
       ]
      },
      {
       "output_type": "stream",
       "stream": "stdout",
       "text": [
        "\n",
        "Now fetching ProblemID: 2766, Title: Local Maxima"
       ]
      },
      {
       "output_type": "stream",
       "stream": "stdout",
       "text": [
        "\n",
        "Now fetching ProblemID: 2767, Title: 88's function"
       ]
      },
      {
       "output_type": "stream",
       "stream": "stdout",
       "text": [
        "\n",
        "Now fetching ProblemID: 2768, Title: To Know the Secrets"
       ]
      },
      {
       "output_type": "stream",
       "stream": "stdout",
       "text": [
        "\n",
        "Now fetching ProblemID: 2769, Title: Get The Treasure"
       ]
      },
      {
       "output_type": "stream",
       "stream": "stdout",
       "text": [
        "\n",
        "Now fetching ProblemID: 2770, Title: Burn the Linked Camp"
       ]
      },
      {
       "output_type": "stream",
       "stream": "stdout",
       "text": [
        "\n",
        "Now fetching ProblemID: 2771, Title: Get Out of the Glass"
       ]
      },
      {
       "output_type": "stream",
       "stream": "stdout",
       "text": [
        "\n",
        "Now fetching ProblemID: 2772, Title: Quick Change"
       ]
      },
      {
       "output_type": "stream",
       "stream": "stdout",
       "text": [
        "\n",
        "Now fetching ProblemID: 2773, Title: Triangular Sums"
       ]
      },
      {
       "output_type": "stream",
       "stream": "stdout",
       "text": [
        "\n",
        "Now fetching ProblemID: 2774, Title: Shuffle'm Up"
       ]
      },
      {
       "output_type": "stream",
       "stream": "stdout",
       "text": [
        "\n",
        "Now fetching ProblemID: 2775, Title: Push Button Lock"
       ]
      },
      {
       "output_type": "stream",
       "stream": "stdout",
       "text": [
        "\n",
        "Now fetching ProblemID: 2776, Title: Sign Message Formatting"
       ]
      },
      {
       "output_type": "stream",
       "stream": "stdout",
       "text": [
        "\n",
        "Now fetching ProblemID: 2777, Title: Visible Lattice Points"
       ]
      },
      {
       "output_type": "stream",
       "stream": "stdout",
       "text": [
        "\n",
        "Now fetching ProblemID: 2778, Title: Triangular N-Queens Problem"
       ]
      },
      {
       "output_type": "stream",
       "stream": "stdout",
       "text": [
        "\n",
        "Now fetching ProblemID: 2779, Title: Non-divisible 2-3 Power Sums"
       ]
      },
      {
       "output_type": "stream",
       "stream": "stdout",
       "text": [
        "\n",
        "Now fetching ProblemID: 2780, Title: Margaritas on the River Walk"
       ]
      },
      {
       "output_type": "stream",
       "stream": "stdout",
       "text": [
        "\n",
        "Now fetching ProblemID: 2781, Title: Rounders"
       ]
      },
      {
       "output_type": "stream",
       "stream": "stdout",
       "text": [
        "\n",
        "Now fetching ProblemID: 2782, Title: Q"
       ]
      },
      {
       "output_type": "stream",
       "stream": "stdout",
       "text": [
        "\n",
        "Now fetching ProblemID: 2783, Title: Enigmatologically Cruciverbalistic"
       ]
      },
      {
       "output_type": "stream",
       "stream": "stdout",
       "text": [
        "\n",
        "Now fetching ProblemID: 2784, Title: Blue Jeans"
       ]
      },
      {
       "output_type": "stream",
       "stream": "stdout",
       "text": [
        "\n",
        "Now fetching ProblemID: 2785, Title: Core Wars"
       ]
      },
      {
       "output_type": "stream",
       "stream": "stdout",
       "text": [
        "\n",
        "Now fetching ProblemID: 2786, Title: Roid Rage"
       ]
      },
      {
       "output_type": "stream",
       "stream": "stdout",
       "text": [
        "\n",
        "Now fetching ProblemID: 2787, Title: Children of the Candy Corn"
       ]
      },
      {
       "output_type": "stream",
       "stream": "stdout",
       "text": [
        "\n",
        "Now fetching ProblemID: 2788, Title: Panic Room"
       ]
      },
      {
       "output_type": "stream",
       "stream": "stdout",
       "text": [
        "\n",
        "Now fetching ProblemID: 2789, Title: Ohgas' Fortune"
       ]
      },
      {
       "output_type": "stream",
       "stream": "stdout",
       "text": [
        "\n",
        "Now fetching ProblemID: 2790, Title: Polygonal Line Search"
       ]
      },
      {
       "output_type": "stream",
       "stream": "stdout",
       "text": [
        "\n",
        "Now fetching ProblemID: 2791, Title: Numeral System"
       ]
      },
      {
       "output_type": "stream",
       "stream": "stdout",
       "text": [
        "\n",
        "Now fetching ProblemID: 2792, Title: Traveling by Stagecoach"
       ]
      },
      {
       "output_type": "stream",
       "stream": "stdout",
       "text": [
        "\n",
        "Now fetching ProblemID: 2793, Title: Earth Observation with a Mobile Robot Team"
       ]
      },
      {
       "output_type": "stream",
       "stream": "stdout",
       "text": [
        "\n",
        "Now fetching ProblemID: 2794, Title: Cleaning Robot"
       ]
      },
      {
       "output_type": "stream",
       "stream": "stdout",
       "text": [
        "\n",
        "Now fetching ProblemID: 2795, Title: Ambiguous permutations"
       ]
      },
      {
       "output_type": "stream",
       "stream": "stdout",
       "text": [
        "\n",
        "Now fetching ProblemID: 2796, Title: Bullshit Bingo"
       ]
      },
      {
       "output_type": "stream",
       "stream": "stdout",
       "text": [
        "\n",
        "Now fetching ProblemID: 2797, Title: 106 miles to Chicago"
       ]
      },
      {
       "output_type": "stream",
       "stream": "stdout",
       "text": [
        "\n",
        "Now fetching ProblemID: 2798, Title: Decorate the wall"
       ]
      },
      {
       "output_type": "stream",
       "stream": "stdout",
       "text": [
        "\n",
        "Now fetching ProblemID: 2799, Title: European railroad tracks"
       ]
      },
      {
       "output_type": "stream",
       "stream": "stdout",
       "text": [
        "\n",
        "Now fetching ProblemID: 2800, Title: Any fool can do it"
       ]
      },
      {
       "output_type": "stream",
       "stream": "stdout",
       "text": [
        "\n",
        "Now fetching ProblemID: 2801, Title: Game schedule required"
       ]
      },
      {
       "output_type": "stream",
       "stream": "stdout",
       "text": [
        "\n",
        "Now fetching ProblemID: 2802, Title: Help the problem setter"
       ]
      },
      {
       "output_type": "stream",
       "stream": "stdout",
       "text": [
        "\n",
        "Now fetching ProblemID: 2803, Title: Crashing Robots"
       ]
      },
      {
       "output_type": "stream",
       "stream": "stdout",
       "text": [
        "\n",
        "Now fetching ProblemID: 2804, Title: Funny Games"
       ]
      },
      {
       "output_type": "stream",
       "stream": "stdout",
       "text": [
        "\n",
        "Now fetching ProblemID: 2805, Title: Nullary Computer"
       ]
      },
      {
       "output_type": "stream",
       "stream": "stdout",
       "text": [
        "\n",
        "Now fetching ProblemID: 2806, Title: The Embarrassed Cryptographer"
       ]
      },
      {
       "output_type": "stream",
       "stream": "stdout",
       "text": [
        "\n",
        "Now fetching ProblemID: 2807, Title: Electrical Outlets"
       ]
      },
      {
       "output_type": "stream",
       "stream": "stdout",
       "text": [
        "\n",
        "Now fetching ProblemID: 2808, Title: WorstWeather Ever"
       ]
      },
      {
       "output_type": "stream",
       "stream": "stdout",
       "text": [
        "\n",
        "Now fetching ProblemID: 2809, Title: Kingdom"
       ]
      },
      {
       "output_type": "stream",
       "stream": "stdout",
       "text": [
        "\n",
        "Now fetching ProblemID: 2810, Title: Necklace Decomposition"
       ]
      },
      {
       "output_type": "stream",
       "stream": "stdout",
       "text": [
        "\n",
        "Now fetching ProblemID: 2811, Title: Playground"
       ]
      },
      {
       "output_type": "stream",
       "stream": "stdout",
       "text": [
        "\n",
        "Now fetching ProblemID: 2812, Title: Quicksum"
       ]
      },
      {
       "output_type": "stream",
       "stream": "stdout",
       "text": [
        "\n",
        "Now fetching ProblemID: 2813, Title: Linear Pachinko"
       ]
      },
      {
       "output_type": "stream",
       "stream": "stdout",
       "text": [
        "\n",
        "Now fetching ProblemID: 2814, Title: Surprising Strings"
       ]
      },
      {
       "output_type": "stream",
       "stream": "stdout",
       "text": [
        "\n",
        "Now fetching ProblemID: 2815, Title: Falling Ice"
       ]
      },
      {
       "output_type": "stream",
       "stream": "stdout",
       "text": [
        "\n",
        "Now fetching ProblemID: 2816, Title: Frugal Search"
       ]
      },
      {
       "output_type": "stream",
       "stream": "stdout",
       "text": [
        "\n",
        "Now fetching ProblemID: 2817, Title: Go Go Gorelians"
       ]
      },
      {
       "output_type": "stream",
       "stream": "stdout",
       "text": [
        "\n",
        "Now fetching ProblemID: 2818, Title: Root of the Problem"
       ]
      },
      {
       "output_type": "stream",
       "stream": "stdout",
       "text": [
        "\n",
        "Now fetching ProblemID: 2819, Title: How I Wonder What You Are!"
       ]
      },
      {
       "output_type": "stream",
       "stream": "stdout",
       "text": [
        "\n",
        "Now fetching ProblemID: 2820, Title: How I Mathematician Wonder What You Are!"
       ]
      },
      {
       "output_type": "stream",
       "stream": "stdout",
       "text": [
        "\n",
        "Now fetching ProblemID: 2821, Title: Cubic Eight-Puzzle"
       ]
      },
      {
       "output_type": "stream",
       "stream": "stdout",
       "text": [
        "\n",
        "Now fetching ProblemID: 2822, Title: Sum of Different Primes"
       ]
      },
      {
       "output_type": "stream",
       "stream": "stdout",
       "text": [
        "\n",
        "Now fetching ProblemID: 2823, Title: Manhattan Wiring"
       ]
      },
      {
       "output_type": "stream",
       "stream": "stdout",
       "text": [
        "\n",
        "Now fetching ProblemID: 2824, Title: Power Calculus"
       ]
      },
      {
       "output_type": "stream",
       "stream": "stdout",
       "text": [
        "\n",
        "Now fetching ProblemID: 2825, Title: Polygons on the Grid"
       ]
      },
      {
       "output_type": "stream",
       "stream": "stdout",
       "text": [
        "\n",
        "Now fetching ProblemID: 2826, Title: The Best Name for Your Baby"
       ]
      },
      {
       "output_type": "stream",
       "stream": "stdout",
       "text": [
        "\n",
        "Now fetching ProblemID: 2827, Title: Enjoyable Commutation"
       ]
      },
      {
       "output_type": "stream",
       "stream": "stdout",
       "text": [
        "\n",
        "Now fetching ProblemID: 2828, Title: Auto Spell Corrector"
       ]
      },
      {
       "output_type": "stream",
       "stream": "stdout",
       "text": [
        "\n",
        "Now fetching ProblemID: 2829, Title: Beautiful Number"
       ]
      },
      {
       "output_type": "stream",
       "stream": "stdout",
       "text": [
        "\n",
        "Now fetching ProblemID: 2830, Title: Champion of the Swordsmanship"
       ]
      },
      {
       "output_type": "stream",
       "stream": "stdout",
       "text": [
        "\n",
        "Now fetching ProblemID: 2831, Title: Decorated A+B"
       ]
      },
      {
       "output_type": "stream",
       "stream": "stdout",
       "text": [
        "\n",
        "Now fetching ProblemID: 2832, Title: Efficient Codes"
       ]
      },
      {
       "output_type": "stream",
       "stream": "stdout",
       "text": [
        "\n",
        "Now fetching ProblemID: 2833, Title: Friendship"
       ]
      },
      {
       "output_type": "stream",
       "stream": "stdout",
       "text": [
        "\n",
        "Now fetching ProblemID: 2834, Title: Maximize Game Time"
       ]
      },
      {
       "output_type": "stream",
       "stream": "stdout",
       "text": [
        "\n",
        "Now fetching ProblemID: 2835, Title: Magic Square"
       ]
      },
      {
       "output_type": "stream",
       "stream": "stdout",
       "text": [
        "\n",
        "Now fetching ProblemID: 2836, Title: Number Puzzle"
       ]
      },
      {
       "output_type": "stream",
       "stream": "stdout",
       "text": [
        "\n",
        "Now fetching ProblemID: 2837, Title: Left Library Lift"
       ]
      },
      {
       "output_type": "stream",
       "stream": "stdout",
       "text": [
        "\n",
        "Now fetching ProblemID: 2838, Title: Utopia"
       ]
      },
      {
       "output_type": "stream",
       "stream": "stdout",
       "text": [
        "\n",
        "Now fetching ProblemID: 2839, Title: Find the Sequences"
       ]
      },
      {
       "output_type": "stream",
       "stream": "stdout",
       "text": [
        "\n",
        "Now fetching ProblemID: 2840, Title: File Searching"
       ]
      },
      {
       "output_type": "stream",
       "stream": "stdout",
       "text": [
        "\n",
        "Now fetching ProblemID: 2841, Title: Galaxy War"
       ]
      },
      {
       "output_type": "stream",
       "stream": "stdout",
       "text": [
        "\n",
        "Now fetching ProblemID: 2842, Title: String's Puzzle"
       ]
      },
      {
       "output_type": "stream",
       "stream": "stdout",
       "text": [
        "\n",
        "Now fetching ProblemID: 2843, Title: Mountains"
       ]
      },
      {
       "output_type": "stream",
       "stream": "stdout",
       "text": [
        "\n",
        "Now fetching ProblemID: 2844, Title: Gold Transportation"
       ]
      },
      {
       "output_type": "stream",
       "stream": "stdout",
       "text": [
        "\n",
        "Now fetching ProblemID: 2845, Title: The Best Travel Design"
       ]
      },
      {
       "output_type": "stream",
       "stream": "stdout",
       "text": [
        "\n",
        "Now fetching ProblemID: 2846, Title: Travel"
       ]
      },
      {
       "output_type": "stream",
       "stream": "stdout",
       "text": [
        "\n",
        "Now fetching ProblemID: 2847, Title: FlashGet"
       ]
      },
      {
       "output_type": "stream",
       "stream": "stdout",
       "text": [
        "\n",
        "Now fetching ProblemID: 2848, Title: Accelerator"
       ]
      },
      {
       "output_type": "stream",
       "stream": "stdout",
       "text": [
        "\n",
        "Now fetching ProblemID: 2849, Title: Attack of Panda Virus"
       ]
      },
      {
       "output_type": "stream",
       "stream": "stdout",
       "text": [
        "\n",
        "Now fetching ProblemID: 2850, Title: Beautiful Meadow"
       ]
      },
      {
       "output_type": "stream",
       "stream": "stdout",
       "text": [
        "\n",
        "Now fetching ProblemID: 2851, Title: Code Formatter"
       ]
      },
      {
       "output_type": "stream",
       "stream": "stdout",
       "text": [
        "\n",
        "Now fetching ProblemID: 2852, Title: Deck of Cards"
       ]
      },
      {
       "output_type": "stream",
       "stream": "stdout",
       "text": [
        "\n",
        "Now fetching ProblemID: 2853, Title: Evolution"
       ]
      },
      {
       "output_type": "stream",
       "stream": "stdout",
       "text": [
        "\n",
        "Now fetching ProblemID: 2854, Title: Fish and Her Bowl"
       ]
      },
      {
       "output_type": "stream",
       "stream": "stdout",
       "text": [
        "\n",
        "Now fetching ProblemID: 2855, Title: Google Map"
       ]
      },
      {
       "output_type": "stream",
       "stream": "stdout",
       "text": [
        "\n",
        "Now fetching ProblemID: 2856, Title: Happy Life"
       ]
      },
      {
       "output_type": "stream",
       "stream": "stdout",
       "text": [
        "\n",
        "Now fetching ProblemID: 2857, Title: Image Transformation"
       ]
      },
      {
       "output_type": "stream",
       "stream": "stdout",
       "text": [
        "\n",
        "Now fetching ProblemID: 2858, Title: A+B=C"
       ]
      },
      {
       "output_type": "stream",
       "stream": "stdout",
       "text": [
        "\n",
        "Now fetching ProblemID: 2859, Title: Matrix Searching"
       ]
      },
      {
       "output_type": "stream",
       "stream": "stdout",
       "text": [
        "\n",
        "Now fetching ProblemID: 2860, Title: Breaking Strings"
       ]
      },
      {
       "output_type": "stream",
       "stream": "stdout",
       "text": [
        "\n",
        "Now fetching ProblemID: 2861, Title: Food combination"
       ]
      },
      {
       "output_type": "stream",
       "stream": "stdout",
       "text": [
        "\n",
        "Now fetching ProblemID: 2862, Title: Polymorphism"
       ]
      },
      {
       "output_type": "stream",
       "stream": "stdout",
       "text": [
        "\n",
        "Now fetching ProblemID: 2863, Title: Gobang Replaying"
       ]
      },
      {
       "output_type": "stream",
       "stream": "stdout",
       "text": [
        "\n",
        "Now fetching ProblemID: 2864, Title: Catch the thief"
       ]
      },
      {
       "output_type": "stream",
       "stream": "stdout",
       "text": [
        "\n",
        "Now fetching ProblemID: 2865, Title: A very easy task"
       ]
      },
      {
       "output_type": "stream",
       "stream": "stdout",
       "text": [
        "\n",
        "Now fetching ProblemID: 2866, Title: Overstaffed Company"
       ]
      },
      {
       "output_type": "stream",
       "stream": "stdout",
       "text": [
        "\n",
        "Now fetching ProblemID: 2867, Title: "
       ]
      },
      {
       "output_type": "stream",
       "stream": "stdout",
       "text": [
        "\n",
        "Now fetching ProblemID: 2868, Title: Incredible Cows"
       ]
      },
      {
       "output_type": "stream",
       "stream": "stdout",
       "text": [
        "\n",
        "Now fetching ProblemID: 2869, Title: Halls"
       ]
      },
      {
       "output_type": "stream",
       "stream": "stdout",
       "text": [
        "\n",
        "Now fetching ProblemID: 2870, Title: Segments"
       ]
      },
      {
       "output_type": "stream",
       "stream": "stdout",
       "text": [
        "\n",
        "Now fetching ProblemID: 2871, Title: Surveillance"
       ]
      },
      {
       "output_type": "stream",
       "stream": "stdout",
       "text": [
        "\n",
        "Now fetching ProblemID: 2872, Title: Binary Partitions"
       ]
      },
      {
       "output_type": "stream",
       "stream": "stdout",
       "text": [
        "\n",
        "Now fetching ProblemID: 2873, Title: Smart Sister"
       ]
      },
      {
       "output_type": "stream",
       "stream": "stdout",
       "text": [
        "\n",
        "Now fetching ProblemID: 2874, Title: Paratroopers"
       ]
      },
      {
       "output_type": "stream",
       "stream": "stdout",
       "text": [
        "\n",
        "Now fetching ProblemID: 2875, Title: Unlucky Luke!"
       ]
      },
      {
       "output_type": "stream",
       "stream": "stdout",
       "text": [
        "\n",
        "Now fetching ProblemID: 2876, Title: Phone List"
       ]
      },
      {
       "output_type": "stream",
       "stream": "stdout",
       "text": [
        "\n",
        "Now fetching ProblemID: 2877, Title: Cuckoo Hashing"
       ]
      },
      {
       "output_type": "stream",
       "stream": "stdout",
       "text": [
        "\n",
        "Now fetching ProblemID: 2878, Title: Parking"
       ]
      },
      {
       "output_type": "stream",
       "stream": "stdout",
       "text": [
        "\n",
        "Now fetching ProblemID: 2879, Title: Copying DNA"
       ]
      },
      {
       "output_type": "stream",
       "stream": "stdout",
       "text": [
        "\n",
        "Now fetching ProblemID: 2880, Title: Circle of Debt"
       ]
      },
      {
       "output_type": "stream",
       "stream": "stdout",
       "text": [
        "\n",
        "Now fetching ProblemID: 2881, Title: Full Tank?"
       ]
      },
      {
       "output_type": "stream",
       "stream": "stdout",
       "text": [
        "\n",
        "Now fetching ProblemID: 2882, Title: Nested Dolls"
       ]
      },
      {
       "output_type": "stream",
       "stream": "stdout",
       "text": [
        "\n",
        "Now fetching ProblemID: 2883, Title: Shopaholic"
       ]
      },
      {
       "output_type": "stream",
       "stream": "stdout",
       "text": [
        "\n",
        "Now fetching ProblemID: 2884, Title: Moogle"
       ]
      },
      {
       "output_type": "stream",
       "stream": "stdout",
       "text": [
        "\n",
        "Now fetching ProblemID: 2885, Title: Tree Grafting"
       ]
      },
      {
       "output_type": "stream",
       "stream": "stdout",
       "text": [
        "\n",
        "Now fetching ProblemID: 2886, Title: Look and Say"
       ]
      },
      {
       "output_type": "stream",
       "stream": "stdout",
       "text": [
        "\n",
        "Now fetching ProblemID: 2887, Title: Server Relocation"
       ]
      },
      {
       "output_type": "stream",
       "stream": "stdout",
       "text": [
        "\n",
        "Now fetching ProblemID: 2888, Title: Coin Toss"
       ]
      },
      {
       "output_type": "stream",
       "stream": "stdout",
       "text": [
        "\n",
        "Now fetching ProblemID: 2889, Title: Vacation Rentals"
       ]
      },
      {
       "output_type": "stream",
       "stream": "stdout",
       "text": [
        "\n",
        "Now fetching ProblemID: 2890, Title: Baseball"
       ]
      },
      {
       "output_type": "stream",
       "stream": "stdout",
       "text": [
        "\n",
        "Now fetching ProblemID: 2891, Title: Team Work"
       ]
      },
      {
       "output_type": "stream",
       "stream": "stdout",
       "text": [
        "\n",
        "Now fetching ProblemID: 2892, Title: Wavelet Compression"
       ]
      },
      {
       "output_type": "stream",
       "stream": "stdout",
       "text": [
        "\n",
        "Now fetching ProblemID: 2893, Title: Elementary Additions"
       ]
      },
      {
       "output_type": "stream",
       "stream": "stdout",
       "text": [
        "\n",
        "Now fetching ProblemID: 2894, Title: Arrange the Problem Set"
       ]
      },
      {
       "output_type": "stream",
       "stream": "stdout",
       "text": [
        "\n",
        "Now fetching ProblemID: 2895, Title: Cache"
       ]
      },
      {
       "output_type": "stream",
       "stream": "stdout",
       "text": [
        "\n",
        "Now fetching ProblemID: 2896, Title: Common Factor"
       ]
      },
      {
       "output_type": "stream",
       "stream": "stdout",
       "text": [
        "\n",
        "Now fetching ProblemID: 2897, Title: Desmond's Ambition"
       ]
      },
      {
       "output_type": "stream",
       "stream": "stdout",
       "text": [
        "\n",
        "Now fetching ProblemID: 2898, Title: Greedy Grave Robber"
       ]
      },
      {
       "output_type": "stream",
       "stream": "stdout",
       "text": [
        "\n",
        "Now fetching ProblemID: 2899, Title: Hangzhou Tour"
       ]
      },
      {
       "output_type": "stream",
       "stream": "stdout",
       "text": [
        "\n",
        "Now fetching ProblemID: 2900, Title: Icecream"
       ]
      },
      {
       "output_type": "stream",
       "stream": "stdout",
       "text": [
        "\n",
        "Now fetching ProblemID: 2901, Title: MV Maker"
       ]
      },
      {
       "output_type": "stream",
       "stream": "stdout",
       "text": [
        "\n",
        "Now fetching ProblemID: 2902, Title: Ten drops"
       ]
      },
      {
       "output_type": "stream",
       "stream": "stdout",
       "text": [
        "\n",
        "Now fetching ProblemID: 2903, Title: Catch the Bus!"
       ]
      },
      {
       "output_type": "stream",
       "stream": "stdout",
       "text": [
        "\n",
        "Now fetching ProblemID: 2904, Title: Calendar of Events"
       ]
      },
      {
       "output_type": "stream",
       "stream": "stdout",
       "text": [
        "\n",
        "Now fetching ProblemID: 2905, Title: Roman Expressions"
       ]
      },
      {
       "output_type": "stream",
       "stream": "stdout",
       "text": [
        "\n",
        "Now fetching ProblemID: 2906, Title: Geometric Shapes"
       ]
      },
      {
       "output_type": "stream",
       "stream": "stdout",
       "text": [
        "\n",
        "Now fetching ProblemID: 2907, Title: Corporate Identity"
       ]
      },
      {
       "output_type": "stream",
       "stream": "stdout",
       "text": [
        "\n",
        "Now fetching ProblemID: 2908, Title: Money Money Money,Must Be Funny"
       ]
      },
      {
       "output_type": "stream",
       "stream": "stdout",
       "text": [
        "\n",
        "Now fetching ProblemID: 2909, Title: Railway Transportation"
       ]
      },
      {
       "output_type": "stream",
       "stream": "stdout",
       "text": [
        "\n",
        "Now fetching ProblemID: 2910, Title: Soccer Tournament"
       ]
      },
      {
       "output_type": "stream",
       "stream": "stdout",
       "text": [
        "\n",
        "Now fetching ProblemID: 2911, Title: Hypertheseus"
       ]
      },
      {
       "output_type": "stream",
       "stream": "stdout",
       "text": [
        "\n",
        "Now fetching ProblemID: 2912, Title: Average distance"
       ]
      },
      {
       "output_type": "stream",
       "stream": "stdout",
       "text": [
        "\n",
        "Now fetching ProblemID: 2913, Title: Bus Pass"
       ]
      },
      {
       "output_type": "stream",
       "stream": "stdout",
       "text": [
        "\n",
        "Now fetching ProblemID: 2914, Title: Cutting Banknotes"
       ]
      },
      {
       "output_type": "stream",
       "stream": "stdout",
       "text": [
        "\n",
        "Now fetching ProblemID: 2915, Title: Dice Password Security"
       ]
      },
      {
       "output_type": "stream",
       "stream": "stdout",
       "text": [
        "\n",
        "Now fetching ProblemID: 2916, Title: Lingo"
       ]
      },
      {
       "output_type": "stream",
       "stream": "stdout",
       "text": [
        "\n",
        "Now fetching ProblemID: 2917, Title: Splitting the Loot"
       ]
      },
      {
       "output_type": "stream",
       "stream": "stdout",
       "text": [
        "\n",
        "Now fetching ProblemID: 2918, Title: Pachinko"
       ]
      },
      {
       "output_type": "stream",
       "stream": "stdout",
       "text": [
        "\n",
        "Now fetching ProblemID: 2919, Title: Hiking"
       ]
      },
      {
       "output_type": "stream",
       "stream": "stdout",
       "text": [
        "\n",
        "Now fetching ProblemID: 2920, Title: Ranking"
       ]
      },
      {
       "output_type": "stream",
       "stream": "stdout",
       "text": [
        "\n",
        "Now fetching ProblemID: 2921, Title: Stock"
       ]
      },
      {
       "output_type": "stream",
       "stream": "stdout",
       "text": [
        "\n",
        "Now fetching ProblemID: 2922, Title: Bombs"
       ]
      },
      {
       "output_type": "stream",
       "stream": "stdout",
       "text": [
        "\n",
        "Now fetching ProblemID: 2923, Title: Calculate Roads"
       ]
      },
      {
       "output_type": "stream",
       "stream": "stdout",
       "text": [
        "\n",
        "Now fetching ProblemID: 2924, Title: Cowmunication"
       ]
      },
      {
       "output_type": "stream",
       "stream": "stdout",
       "text": [
        "\n",
        "Now fetching ProblemID: 2925, Title: DomiNo Grid"
       ]
      },
      {
       "output_type": "stream",
       "stream": "stdout",
       "text": [
        "\n",
        "Now fetching ProblemID: 2926, Title: Hacker in TopCoder"
       ]
      },
      {
       "output_type": "stream",
       "stream": "stdout",
       "text": [
        "\n",
        "Now fetching ProblemID: 2927, Title: Legendary Pokemon II"
       ]
      },
      {
       "output_type": "stream",
       "stream": "stdout",
       "text": [
        "\n",
        "Now fetching ProblemID: 2928, Title: Mathematical contest in modeling"
       ]
      },
      {
       "output_type": "stream",
       "stream": "stdout",
       "text": [
        "\n",
        "Now fetching ProblemID: 2929, Title: Penalty Kick"
       ]
      },
      {
       "output_type": "stream",
       "stream": "stdout",
       "text": [
        "\n",
        "Now fetching ProblemID: 2930, Title: The Worst Schedule"
       ]
      },
      {
       "output_type": "stream",
       "stream": "stdout",
       "text": [
        "\n",
        "Now fetching ProblemID: 2931, Title: Typesetting"
       ]
      },
      {
       "output_type": "stream",
       "stream": "stdout",
       "text": [
        "\n",
        "Now fetching ProblemID: 2932, Title: The Seven Percent Solution"
       ]
      },
      {
       "output_type": "stream",
       "stream": "stdout",
       "text": [
        "\n",
        "Now fetching ProblemID: 2933, Title: Slink"
       ]
      },
      {
       "output_type": "stream",
       "stream": "stdout",
       "text": [
        "\n",
        "Now fetching ProblemID: 2934, Title: Persistent Bits"
       ]
      },
      {
       "output_type": "stream",
       "stream": "stdout",
       "text": [
        "\n",
        "Now fetching ProblemID: 2935, Title: Here We Go(relians) Again"
       ]
      },
      {
       "output_type": "stream",
       "stream": "stdout",
       "text": [
        "\n",
        "Now fetching ProblemID: 2936, Title: Electronic Document Security"
       ]
      },
      {
       "output_type": "stream",
       "stream": "stdout",
       "text": [
        "\n",
        "Now fetching ProblemID: 2937, Title: Guard"
       ]
      },
      {
       "output_type": "stream",
       "stream": "stdout",
       "text": [
        "\n",
        "Now fetching ProblemID: 2938, Title: Rock Skipping"
       ]
      },
      {
       "output_type": "stream",
       "stream": "stdout",
       "text": [
        "\n",
        "Now fetching ProblemID: 2939, Title: CIVIC DILL MIX"
       ]
      },
      {
       "output_type": "stream",
       "stream": "stdout",
       "text": [
        "\n",
        "Now fetching ProblemID: 2940, Title: A Foldy but a Goody"
       ]
      },
      {
       "output_type": "stream",
       "stream": "stdout",
       "text": [
        "\n",
        "Now fetching ProblemID: 2941, Title: Give Me an E"
       ]
      },
      {
       "output_type": "stream",
       "stream": "stdout",
       "text": [
        "\n",
        "Now fetching ProblemID: 2942, Title: Lemmings, Lemmings Everywhere. But Not For Long."
       ]
      },
      {
       "output_type": "stream",
       "stream": "stdout",
       "text": [
        "\n",
        "Now fetching ProblemID: 2943, Title: Once Around the Lock"
       ]
      },
      {
       "output_type": "stream",
       "stream": "stdout",
       "text": [
        "\n",
        "Now fetching ProblemID: 2944, Title: A Puzzling Problem"
       ]
      },
      {
       "output_type": "stream",
       "stream": "stdout",
       "text": [
        "\n",
        "Now fetching ProblemID: 2945, Title: And Now, a Remainder from Our Sponsor"
       ]
      },
      {
       "output_type": "stream",
       "stream": "stdout",
       "text": [
        "\n",
        "Now fetching ProblemID: 2946, Title: Target Practice"
       ]
      },
      {
       "output_type": "stream",
       "stream": "stdout",
       "text": [
        "\n",
        "Now fetching ProblemID: 2947, Title: Abbreviation"
       ]
      },
      {
       "output_type": "stream",
       "stream": "stdout",
       "text": [
        "\n",
        "Now fetching ProblemID: 2948, Title: Beautiful Meadow"
       ]
      },
      {
       "output_type": "stream",
       "stream": "stdout",
       "text": [
        "\n",
        "Now fetching ProblemID: 2949, Title: Coins of Luck"
       ]
      },
      {
       "output_type": "stream",
       "stream": "stdout",
       "text": [
        "\n",
        "Now fetching ProblemID: 2950, Title: Dice Matrix"
       ]
      },
      {
       "output_type": "stream",
       "stream": "stdout",
       "text": [
        "\n",
        "Now fetching ProblemID: 2951, Title: Eccentric Warehouses"
       ]
      },
      {
       "output_type": "stream",
       "stream": "stdout",
       "text": [
        "\n",
        "Now fetching ProblemID: 2952, Title: Find All M^N Please"
       ]
      },
      {
       "output_type": "stream",
       "stream": "stdout",
       "text": [
        "\n",
        "Now fetching ProblemID: 2953, Title: Golf Rank"
       ]
      },
      {
       "output_type": "stream",
       "stream": "stdout",
       "text": [
        "\n",
        "Now fetching ProblemID: 2954, Title: Hanoi Tower"
       ]
      },
      {
       "output_type": "stream",
       "stream": "stdout",
       "text": [
        "\n",
        "Now fetching ProblemID: 2955, Title: Interesting Dart Game"
       ]
      },
      {
       "output_type": "stream",
       "stream": "stdout",
       "text": [
        "\n",
        "Now fetching ProblemID: 2956, Title: Another Horizontally Visible Segments"
       ]
      },
      {
       "output_type": "stream",
       "stream": "stdout",
       "text": [
        "\n",
        "Now fetching ProblemID: 2957, Title: Concise mathematics problem"
       ]
      },
      {
       "output_type": "stream",
       "stream": "stdout",
       "text": [
        "\n",
        "Now fetching ProblemID: 2958, Title: Correct the digit"
       ]
      },
      {
       "output_type": "stream",
       "stream": "stdout",
       "text": [
        "\n",
        "Now fetching ProblemID: 2959, Title: Obstacles"
       ]
      },
      {
       "output_type": "stream",
       "stream": "stdout",
       "text": [
        "\n",
        "Now fetching ProblemID: 2960, Title: Re-rejudge"
       ]
      },
      {
       "output_type": "stream",
       "stream": "stdout",
       "text": [
        "\n",
        "Now fetching ProblemID: 2961, Title: Spinlock"
       ]
      },
      {
       "output_type": "stream",
       "stream": "stdout",
       "text": [
        "\n",
        "Now fetching ProblemID: 2962, Title: Stack By Stack"
       ]
      },
      {
       "output_type": "stream",
       "stream": "stdout",
       "text": [
        "\n",
        "Now fetching ProblemID: 2963, Title: Treasure Hunter"
       ]
      },
      {
       "output_type": "stream",
       "stream": "stdout",
       "text": [
        "\n",
        "Now fetching ProblemID: 2964, Title: Triangle"
       ]
      },
      {
       "output_type": "stream",
       "stream": "stdout",
       "text": [
        "\n",
        "Now fetching ProblemID: 2965, Title: Accurately Say \"CocaCola\"!"
       ]
      },
      {
       "output_type": "stream",
       "stream": "stdout",
       "text": [
        "\n",
        "Now fetching ProblemID: 2966, Title: Build The Electric System"
       ]
      },
      {
       "output_type": "stream",
       "stream": "stdout",
       "text": [
        "\n",
        "Now fetching ProblemID: 2967, Title: Colorful Rainbows"
       ]
      },
      {
       "output_type": "stream",
       "stream": "stdout",
       "text": [
        "\n",
        "Now fetching ProblemID: 2968, Title: Difference Game"
       ]
      },
      {
       "output_type": "stream",
       "stream": "stdout",
       "text": [
        "\n",
        "Now fetching ProblemID: 2969, Title: Easy Task"
       ]
      },
      {
       "output_type": "stream",
       "stream": "stdout",
       "text": [
        "\n",
        "Now fetching ProblemID: 2970, Title: Faster, Higher, Stronger"
       ]
      },
      {
       "output_type": "stream",
       "stream": "stdout",
       "text": [
        "\n",
        "Now fetching ProblemID: 2971, Title: Give Me the Number"
       ]
      },
      {
       "output_type": "stream",
       "stream": "stdout",
       "text": [
        "\n",
        "Now fetching ProblemID: 2972, Title: Hurdles of 110m"
       ]
      },
      {
       "output_type": "stream",
       "stream": "stdout",
       "text": [
        "\n",
        "Now fetching ProblemID: 2973, Title: Intelligent Pouring Robot"
       ]
      },
      {
       "output_type": "stream",
       "stream": "stdout",
       "text": [
        "\n",
        "Now fetching ProblemID: 2974, Title: Just Pour the Water"
       ]
      },
      {
       "output_type": "stream",
       "stream": "stdout",
       "text": [
        "\n",
        "Now fetching ProblemID: 2975, Title: Kinds of Fuwas"
       ]
      },
      {
       "output_type": "stream",
       "stream": "stdout",
       "text": [
        "\n",
        "Now fetching ProblemID: 2976, Title: Light Bulbs"
       ]
      },
      {
       "output_type": "stream",
       "stream": "stdout",
       "text": [
        "\n",
        "Now fetching ProblemID: 2977, Title: Strange Billboard"
       ]
      },
      {
       "output_type": "stream",
       "stream": "stdout",
       "text": [
        "\n",
        "Now fetching ProblemID: 2978, Title: Phone Cell"
       ]
      },
      {
       "output_type": "stream",
       "stream": "stdout",
       "text": [
        "\n",
        "Now fetching ProblemID: 2979, Title: Hexagon"
       ]
      },
      {
       "output_type": "stream",
       "stream": "stdout",
       "text": [
        "\n",
        "Now fetching ProblemID: 2980, Title: Key Task"
       ]
      },
      {
       "output_type": "stream",
       "stream": "stdout",
       "text": [
        "\n",
        "Now fetching ProblemID: 2981, Title: Logic"
       ]
      },
      {
       "output_type": "stream",
       "stream": "stdout",
       "text": [
        "\n",
        "Now fetching ProblemID: 2982, Title: Weird Numbers"
       ]
      },
      {
       "output_type": "stream",
       "stream": "stdout",
       "text": [
        "\n",
        "Now fetching ProblemID: 2983, Title: Rectangular Polygons"
       ]
      },
      {
       "output_type": "stream",
       "stream": "stdout",
       "text": [
        "\n",
        "Now fetching ProblemID: 2984, Title: Reaux! Sham! Beaux!"
       ]
      },
      {
       "output_type": "stream",
       "stream": "stdout",
       "text": [
        "\n",
        "Now fetching ProblemID: 2985, Title: Robotic Sort"
       ]
      },
      {
       "output_type": "stream",
       "stream": "stdout",
       "text": [
        "\n",
        "Now fetching ProblemID: 2986, Title: Water"
       ]
      },
      {
       "output_type": "stream",
       "stream": "stdout",
       "text": [
        "\n",
        "Now fetching ProblemID: 2987, Title: Misspelling"
       ]
      },
      {
       "output_type": "stream",
       "stream": "stdout",
       "text": [
        "\n",
        "Now fetching ProblemID: 2988, Title: Conversions"
       ]
      },
      {
       "output_type": "stream",
       "stream": "stdout",
       "text": [
        "\n",
        "Now fetching ProblemID: 2989, Title: Encoding"
       ]
      },
      {
       "output_type": "stream",
       "stream": "stdout",
       "text": [
        "\n",
        "Now fetching ProblemID: 2990, Title: Decoding"
       ]
      },
      {
       "output_type": "stream",
       "stream": "stdout",
       "text": [
        "\n",
        "Now fetching ProblemID: 2991, Title: Flipping Burned Pancakes"
       ]
      },
      {
       "output_type": "stream",
       "stream": "stdout",
       "text": [
        "\n",
        "Now fetching ProblemID: 2992, Title: Monkey Vines"
       ]
      },
      {
       "output_type": "stream",
       "stream": "stdout",
       "text": [
        "\n",
        "Now fetching ProblemID: 2993, Title: Model Rocket Height"
       ]
      },
      {
       "output_type": "stream",
       "stream": "stdout",
       "text": [
        "\n",
        "Now fetching ProblemID: 2994, Title: Tiling a Grid With Dominoes"
       ]
      },
      {
       "output_type": "stream",
       "stream": "stdout",
       "text": [
        "\n",
        "Now fetching ProblemID: 2995, Title: Spatial Concepts Test"
       ]
      },
      {
       "output_type": "stream",
       "stream": "stdout",
       "text": [
        "\n",
        "Now fetching ProblemID: 2996, Title: (1+x)^n"
       ]
      },
      {
       "output_type": "stream",
       "stream": "stdout",
       "text": [
        "\n",
        "Now fetching ProblemID: 2997, Title: Black and White"
       ]
      },
      {
       "output_type": "stream",
       "stream": "stdout",
       "text": [
        "\n",
        "Now fetching ProblemID: 2998, Title: Decorate"
       ]
      },
      {
       "output_type": "stream",
       "stream": "stdout",
       "text": [
        "\n",
        "Now fetching ProblemID: 2999, Title: Inheritance"
       ]
      },
      {
       "output_type": "stream",
       "stream": "stdout",
       "text": [
        "\n",
        "Now fetching ProblemID: 3000, Title: "
       ]
      },
      {
       "output_type": "stream",
       "stream": "stdout",
       "text": [
        "\n",
        "Now fetching ProblemID: 3001, Title: Password"
       ]
      },
      {
       "output_type": "stream",
       "stream": "stdout",
       "text": [
        "\n",
        "Now fetching ProblemID: 3002, Title: Software Installer"
       ]
      },
      {
       "output_type": "stream",
       "stream": "stdout",
       "text": [
        "\n",
        "Now fetching ProblemID: 3003, Title: Technology Research"
       ]
      },
      {
       "output_type": "stream",
       "stream": "stdout",
       "text": [
        "\n",
        "Now fetching ProblemID: 3004, Title: Transportation"
       ]
      },
      {
       "output_type": "stream",
       "stream": "stdout",
       "text": [
        "\n",
        "Now fetching ProblemID: 3005, Title: Bacteria Colony"
       ]
      },
      {
       "output_type": "stream",
       "stream": "stdout",
       "text": [
        "\n",
        "Now fetching ProblemID: 3006, Title: Directory Tree"
       ]
      },
      {
       "output_type": "stream",
       "stream": "stdout",
       "text": [
        "\n",
        "Now fetching ProblemID: 3007, Title: Final Treasure"
       ]
      },
      {
       "output_type": "stream",
       "stream": "stdout",
       "text": [
        "\n",
        "Now fetching ProblemID: 3008, Title: Gold Coins"
       ]
      },
      {
       "output_type": "stream",
       "stream": "stdout",
       "text": [
        "\n",
        "Now fetching ProblemID: 3009, Title: Spread Sheet"
       ]
      },
      {
       "output_type": "stream",
       "stream": "stdout",
       "text": [
        "\n",
        "Now fetching ProblemID: 3010, Title: The Lamp Game"
       ]
      },
      {
       "output_type": "stream",
       "stream": "stdout",
       "text": [
        "\n",
        "Now fetching ProblemID: 3011, Title: Tree Format Converter"
       ]
      },
      {
       "output_type": "stream",
       "stream": "stdout",
       "text": [
        "\n",
        "Now fetching ProblemID: 3012, Title: Tower"
       ]
      },
      {
       "output_type": "stream",
       "stream": "stdout",
       "text": [
        "\n",
        "Now fetching ProblemID: 3013, Title: Word Segmenting"
       ]
      },
      {
       "output_type": "stream",
       "stream": "stdout",
       "text": [
        "\n",
        "Now fetching ProblemID: 3014, Title: 9875321"
       ]
      },
      {
       "output_type": "stream",
       "stream": "stdout",
       "text": [
        "\n",
        "Now fetching ProblemID: 3015, Title: Collision Ball Game"
       ]
      },
      {
       "output_type": "stream",
       "stream": "stdout",
       "text": [
        "\n",
        "Now fetching ProblemID: 3016, Title: Cut"
       ]
      },
      {
       "output_type": "stream",
       "stream": "stdout",
       "text": [
        "\n",
        "Now fetching ProblemID: 3017, Title: Extreme Gameplay"
       ]
      },
      {
       "output_type": "stream",
       "stream": "stdout",
       "text": [
        "\n",
        "Now fetching ProblemID: 3018, Title: Population"
       ]
      },
      {
       "output_type": "stream",
       "stream": "stdout",
       "text": [
        "\n",
        "Now fetching ProblemID: 3019, Title: Puzzle"
       ]
      },
      {
       "output_type": "stream",
       "stream": "stdout",
       "text": [
        "\n",
        "Now fetching ProblemID: 3020, Title: Puzzle Quest"
       ]
      },
      {
       "output_type": "stream",
       "stream": "stdout",
       "text": [
        "\n",
        "Now fetching ProblemID: 3021, Title: Satan. Go Away"
       ]
      },
      {
       "output_type": "stream",
       "stream": "stdout",
       "text": [
        "\n",
        "Now fetching ProblemID: 3022, Title: Watashi and Kimi"
       ]
      },
      {
       "output_type": "stream",
       "stream": "stdout",
       "text": [
        "\n",
        "Now fetching ProblemID: 3023, Title: Equal Total Scores"
       ]
      },
      {
       "output_type": "stream",
       "stream": "stdout",
       "text": [
        "\n",
        "Now fetching ProblemID: 3024, Title: Monday-Saturday Prime Factors"
       ]
      },
      {
       "output_type": "stream",
       "stream": "stdout",
       "text": [
        "\n",
        "Now fetching ProblemID: 3025, Title: How can I satisfy thee? Let me count the ways..."
       ]
      },
      {
       "output_type": "stream",
       "stream": "stdout",
       "text": [
        "\n",
        "Now fetching ProblemID: 3026, Title: Twirling Robot"
       ]
      },
      {
       "output_type": "stream",
       "stream": "stdout",
       "text": [
        "\n",
        "Now fetching ProblemID: 3027, Title: Roll-A-Big-Ball"
       ]
      },
      {
       "output_type": "stream",
       "stream": "stdout",
       "text": [
        "\n",
        "Now fetching ProblemID: 3028, Title: ICPC: Intelligent Congruent Partition of Chocolate"
       ]
      },
      {
       "output_type": "stream",
       "stream": "stdout",
       "text": [
        "\n",
        "Now fetching ProblemID: 3029, Title: BEATBIT"
       ]
      },
      {
       "output_type": "stream",
       "stream": "stdout",
       "text": [
        "\n",
        "Now fetching ProblemID: 3030, Title: Prester John"
       ]
      },
      {
       "output_type": "stream",
       "stream": "stdout",
       "text": [
        "\n",
        "Now fetching ProblemID: 3031, Title: Robotruck"
       ]
      },
      {
       "output_type": "stream",
       "stream": "stdout",
       "text": [
        "\n",
        "Now fetching ProblemID: 3032, Title: Jumping Hero"
       ]
      },
      {
       "output_type": "stream",
       "stream": "stdout",
       "text": [
        "\n",
        "Now fetching ProblemID: 3033, Title: Board Games"
       ]
      },
      {
       "output_type": "stream",
       "stream": "stdout",
       "text": [
        "\n",
        "Now fetching ProblemID: 3034, Title: The Bridges of Kolsberg"
       ]
      },
      {
       "output_type": "stream",
       "stream": "stdout",
       "text": [
        "\n",
        "Now fetching ProblemID: 3035, Title: The Finest Chef"
       ]
      },
      {
       "output_type": "stream",
       "stream": "stdout",
       "text": [
        "\n",
        "Now fetching ProblemID: 3036, Title: IP-TV"
       ]
      },
      {
       "output_type": "stream",
       "stream": "stdout",
       "text": [
        "\n",
        "Now fetching ProblemID: 3037, Title: Ladies' Choice"
       ]
      },
      {
       "output_type": "stream",
       "stream": "stdout",
       "text": [
        "\n",
        "Now fetching ProblemID: 3038, Title: Triangle War II"
       ]
      },
      {
       "output_type": "stream",
       "stream": "stdout",
       "text": [
        "\n",
        "Now fetching ProblemID: 3039, Title: BS Wrong Sample"
       ]
      },
      {
       "output_type": "stream",
       "stream": "stdout",
       "text": [
        "\n",
        "Now fetching ProblemID: 3040, Title: BS Wrong Sample II"
       ]
      },
      {
       "output_type": "stream",
       "stream": "stdout",
       "text": [
        "\n",
        "Now fetching ProblemID: 3041, Title: City Selection"
       ]
      },
      {
       "output_type": "stream",
       "stream": "stdout",
       "text": [
        "\n",
        "Now fetching ProblemID: 3042, Title: City Selection II"
       ]
      },
      {
       "output_type": "stream",
       "stream": "stdout",
       "text": [
        "\n",
        "Now fetching ProblemID: 3043, Title: Gongzhu"
       ]
      },
      {
       "output_type": "stream",
       "stream": "stdout",
       "text": [
        "\n",
        "Now fetching ProblemID: 3044, Title: Gongzhu II"
       ]
      },
      {
       "output_type": "stream",
       "stream": "stdout",
       "text": [
        "\n",
        "Now fetching ProblemID: 3045, Title: Random or Shuffle"
       ]
      },
      {
       "output_type": "stream",
       "stream": "stdout",
       "text": [
        "\n",
        "Now fetching ProblemID: 3046, Title: Random or Shuffle II"
       ]
      },
      {
       "output_type": "stream",
       "stream": "stdout",
       "text": [
        "\n",
        "Now fetching ProblemID: 3047, Title: Connect Four"
       ]
      },
      {
       "output_type": "stream",
       "stream": "stdout",
       "text": [
        "\n",
        "Now fetching ProblemID: 3048, Title: Continuous Same Game"
       ]
      },
      {
       "output_type": "stream",
       "stream": "stdout",
       "text": [
        "\n",
        "Now fetching ProblemID: 3049, Title: Diablo II Items"
       ]
      },
      {
       "output_type": "stream",
       "stream": "stdout",
       "text": [
        "\n",
        "Now fetching ProblemID: 3050, Title: Painting"
       ]
      },
      {
       "output_type": "stream",
       "stream": "stdout",
       "text": [
        "\n",
        "Now fetching ProblemID: 3051, Title: Playing Poker"
       ]
      },
      {
       "output_type": "stream",
       "stream": "stdout",
       "text": [
        "\n",
        "Now fetching ProblemID: 3052, Title: Unix Robots"
       ]
      },
      {
       "output_type": "stream",
       "stream": "stdout",
       "text": [
        "\n",
        "Now fetching ProblemID: 3053, Title: Super Snake"
       ]
      },
      {
       "output_type": "stream",
       "stream": "stdout",
       "text": [
        "\n",
        "Now fetching ProblemID: 3054, Title: Whirlwind"
       ]
      },
      {
       "output_type": "stream",
       "stream": "stdout",
       "text": [
        "\n",
        "Now fetching ProblemID: 3055, Title: WW's game"
       ]
      },
      {
       "output_type": "stream",
       "stream": "stdout",
       "text": [
        "\n",
        "Now fetching ProblemID: 3056, Title: As A Wlohe"
       ]
      },
      {
       "output_type": "stream",
       "stream": "stdout",
       "text": [
        "\n",
        "Now fetching ProblemID: 3057, Title: Beans Game"
       ]
      },
      {
       "output_type": "stream",
       "stream": "stdout",
       "text": [
        "\n",
        "Now fetching ProblemID: 3058, Title: Circle and Ring"
       ]
      },
      {
       "output_type": "stream",
       "stream": "stdout",
       "text": [
        "\n",
        "Now fetching ProblemID: 3059, Title: Die Board Game"
       ]
      },
      {
       "output_type": "stream",
       "stream": "stdout",
       "text": [
        "\n",
        "Now fetching ProblemID: 3060, Title: Evil Game"
       ]
      },
      {
       "output_type": "stream",
       "stream": "stdout",
       "text": [
        "\n",
        "Now fetching ProblemID: 3061, Title: Function"
       ]
      },
      {
       "output_type": "stream",
       "stream": "stdout",
       "text": [
        "\n",
        "Now fetching ProblemID: 3062, Title: Golf Match"
       ]
      },
      {
       "output_type": "stream",
       "stream": "stdout",
       "text": [
        "\n",
        "Now fetching ProblemID: 3063, Title: Hunt"
       ]
      },
      {
       "output_type": "stream",
       "stream": "stdout",
       "text": [
        "\n",
        "Now fetching ProblemID: 3064, Title: Ihsataw's BG"
       ]
      },
      {
       "output_type": "stream",
       "stream": "stdout",
       "text": [
        "\n",
        "Now fetching ProblemID: 3065, Title: Scrabble"
       ]
      },
      {
       "output_type": "stream",
       "stream": "stdout",
       "text": [
        "\n",
        "Now fetching ProblemID: 3066, Title: Convex area"
       ]
      },
      {
       "output_type": "stream",
       "stream": "stdout",
       "text": [
        "\n",
        "Now fetching ProblemID: 3067, Title: Nim"
       ]
      },
      {
       "output_type": "stream",
       "stream": "stdout",
       "text": [
        "\n",
        "Now fetching ProblemID: 3068, Title: Dropping tests"
       ]
      },
      {
       "output_type": "stream",
       "stream": "stdout",
       "text": [
        "\n",
        "Now fetching ProblemID: 3069, Title: Box walking"
       ]
      },
      {
       "output_type": "stream",
       "stream": "stdout",
       "text": [
        "\n",
        "Now fetching ProblemID: 3070, Title: Colored stones"
       ]
      },
      {
       "output_type": "stream",
       "stream": "stdout",
       "text": [
        "\n",
        "Now fetching ProblemID: 3071, Title: RSI"
       ]
      },
      {
       "output_type": "stream",
       "stream": "stdout",
       "text": [
        "\n",
        "Now fetching ProblemID: 3072, Title: Do it!"
       ]
      },
      {
       "output_type": "stream",
       "stream": "stdout",
       "text": [
        "\n",
        "Now fetching ProblemID: 3073, Title: Bernstein Polynomial"
       ]
      },
      {
       "output_type": "stream",
       "stream": "stdout",
       "text": [
        "\n",
        "Now fetching ProblemID: 3074, Title: Pyraminx"
       ]
      },
      {
       "output_type": "stream",
       "stream": "stdout",
       "text": [
        "\n",
        "Now fetching ProblemID: 3075, Title: Ticket"
       ]
      },
      {
       "output_type": "stream",
       "stream": "stdout",
       "text": [
        "\n",
        "Now fetching ProblemID: 3076, Title: Team Forming"
       ]
      },
      {
       "output_type": "stream",
       "stream": "stdout",
       "text": [
        "\n",
        "Now fetching ProblemID: 3077, Title: Move to Baggage Office"
       ]
      },
      {
       "output_type": "stream",
       "stream": "stdout",
       "text": [
        "\n",
        "Now fetching ProblemID: 3078, Title: Greedy"
       ]
      },
      {
       "output_type": "stream",
       "stream": "stdout",
       "text": [
        "\n",
        "Now fetching ProblemID: 3079, Title: Text"
       ]
      },
      {
       "output_type": "stream",
       "stream": "stdout",
       "text": [
        "\n",
        "Now fetching ProblemID: 3080, Title: ChiBi"
       ]
      },
      {
       "output_type": "stream",
       "stream": "stdout",
       "text": [
        "\n",
        "Now fetching ProblemID: 3081, Title: The Grid"
       ]
      },
      {
       "output_type": "stream",
       "stream": "stdout",
       "text": [
        "\n",
        "Now fetching ProblemID: 3082, Title: Pizza Delivery"
       ]
      },
      {
       "output_type": "stream",
       "stream": "stdout",
       "text": [
        "\n",
        "Now fetching ProblemID: 3083, Title: Ball Bearings"
       ]
      },
      {
       "output_type": "stream",
       "stream": "stdout",
       "text": [
        "\n",
        "Now fetching ProblemID: 3084, Title: S-Nim"
       ]
      },
      {
       "output_type": "stream",
       "stream": "stdout",
       "text": [
        "\n",
        "Now fetching ProblemID: 3085, Title: Sylvester Construction"
       ]
      },
      {
       "output_type": "stream",
       "stream": "stdout",
       "text": [
        "\n",
        "Now fetching ProblemID: 3086, Title: Who owns the Amiga?"
       ]
      },
      {
       "output_type": "stream",
       "stream": "stdout",
       "text": [
        "\n",
        "Now fetching ProblemID: 3087, Title: Lazy Evaluation"
       ]
      },
      {
       "output_type": "stream",
       "stream": "stdout",
       "text": [
        "\n",
        "Now fetching ProblemID: 3088, Title: Easter Holidays"
       ]
      },
      {
       "output_type": "stream",
       "stream": "stdout",
       "text": [
        "\n",
        "Now fetching ProblemID: 3089, Title: Tourist"
       ]
      },
      {
       "output_type": "stream",
       "stream": "stdout",
       "text": [
        "\n",
        "Now fetching ProblemID: 3090, Title: Assemble"
       ]
      },
      {
       "output_type": "stream",
       "stream": "stdout",
       "text": [
        "\n",
        "Now fetching ProblemID: 3091, Title: March of the Penguins"
       ]
      },
      {
       "output_type": "stream",
       "stream": "stdout",
       "text": [
        "\n",
        "Now fetching ProblemID: 3092, Title: Containers"
       ]
      },
      {
       "output_type": "stream",
       "stream": "stdout",
       "text": [
        "\n",
        "Now fetching ProblemID: 3093, Title: Youth Hostel Dorm"
       ]
      },
      {
       "output_type": "stream",
       "stream": "stdout",
       "text": [
        "\n",
        "Now fetching ProblemID: 3094, Title: Escape from Enemy Territory"
       ]
      },
      {
       "output_type": "stream",
       "stream": "stdout",
       "text": [
        "\n",
        "Now fetching ProblemID: 3095, Title: Flight Safety"
       ]
      },
      {
       "output_type": "stream",
       "stream": "stdout",
       "text": [
        "\n",
        "Now fetching ProblemID: 3096, Title: Summits"
       ]
      },
      {
       "output_type": "stream",
       "stream": "stdout",
       "text": [
        "\n",
        "Now fetching ProblemID: 3097, Title: Obfuscation"
       ]
      },
      {
       "output_type": "stream",
       "stream": "stdout",
       "text": [
        "\n",
        "Now fetching ProblemID: 3098, Title: Tower Parking"
       ]
      },
      {
       "output_type": "stream",
       "stream": "stdout",
       "text": [
        "\n",
        "Now fetching ProblemID: 3099, Title: Walk"
       ]
      },
      {
       "output_type": "stream",
       "stream": "stdout",
       "text": [
        "\n",
        "Now fetching ProblemID: 3100, Title: ICPC Score Totalizer Software"
       ]
      },
      {
       "output_type": "stream",
       "stream": "stdout",
       "text": [
        "\n",
        "Now fetching ProblemID: 3101, Title: Analyzing Login/Logout Records"
       ]
      },
      {
       "output_type": "stream",
       "stream": "stdout",
       "text": [
        "\n",
        "Now fetching ProblemID: 3102, Title: Cut the Cake"
       ]
      },
      {
       "output_type": "stream",
       "stream": "stdout",
       "text": [
        "\n",
        "Now fetching ProblemID: 3103, Title: Cliff Climbing"
       ]
      },
      {
       "output_type": "stream",
       "stream": "stdout",
       "text": [
        "\n",
        "Now fetching ProblemID: 3104, Title: Twirl Around"
       ]
      },
      {
       "output_type": "stream",
       "stream": "stdout",
       "text": [
        "\n",
        "Now fetching ProblemID: 3105, Title: Dr. Podboq or: How We Became Asymmetric"
       ]
      },
      {
       "output_type": "stream",
       "stream": "stdout",
       "text": [
        "\n",
        "Now fetching ProblemID: 3106, Title: Remedial Forecast"
       ]
      },
      {
       "output_type": "stream",
       "stream": "stdout",
       "text": [
        "\n",
        "Now fetching ProblemID: 3107, Title: Counting Squares"
       ]
      },
      {
       "output_type": "stream",
       "stream": "stdout",
       "text": [
        "\n",
        "Now fetching ProblemID: 3108, Title: Last Digit"
       ]
      },
      {
       "output_type": "stream",
       "stream": "stdout",
       "text": [
        "\n",
        "Now fetching ProblemID: 3109, Title: Decode Message"
       ]
      },
      {
       "output_type": "stream",
       "stream": "stdout",
       "text": [
        "\n",
        "Now fetching ProblemID: 3110, Title: Geophysics Prospection"
       ]
      },
      {
       "output_type": "stream",
       "stream": "stdout",
       "text": [
        "\n",
        "Now fetching ProblemID: 3111, Title: Domino Art"
       ]
      },
      {
       "output_type": "stream",
       "stream": "stdout",
       "text": [
        "\n",
        "Now fetching ProblemID: 3112, Title: Friend Number"
       ]
      },
      {
       "output_type": "stream",
       "stream": "stdout",
       "text": [
        "\n",
        "Now fetching ProblemID: 3113, Title: John"
       ]
      },
      {
       "output_type": "stream",
       "stream": "stdout",
       "text": [
        "\n",
        "Now fetching ProblemID: 3114, Title: Double Queue"
       ]
      },
      {
       "output_type": "stream",
       "stream": "stdout",
       "text": [
        "\n",
        "Now fetching ProblemID: 3115, Title: 'JBC'"
       ]
      },
      {
       "output_type": "stream",
       "stream": "stdout",
       "text": [
        "\n",
        "Now fetching ProblemID: 3116, Title: Loan Scheduling"
       ]
      },
      {
       "output_type": "stream",
       "stream": "stdout",
       "text": [
        "\n",
        "Now fetching ProblemID: 3117, Title: Showstopper"
       ]
      },
      {
       "output_type": "stream",
       "stream": "stdout",
       "text": [
        "\n",
        "Now fetching ProblemID: 3118, Title: Highway"
       ]
      },
      {
       "output_type": "stream",
       "stream": "stdout",
       "text": [
        "\n",
        "Now fetching ProblemID: 3119, Title: Computers"
       ]
      },
      {
       "output_type": "stream",
       "stream": "stdout",
       "text": [
        "\n",
        "Now fetching ProblemID: 3120, Title: The Stable Marriage Problem"
       ]
      },
      {
       "output_type": "stream",
       "stream": "stdout",
       "text": [
        "\n",
        "Now fetching ProblemID: 3121, Title: Arne Saknussemm"
       ]
      },
      {
       "output_type": "stream",
       "stream": "stdout",
       "text": [
        "\n",
        "Now fetching ProblemID: 3122, Title: Sudoku"
       ]
      },
      {
       "output_type": "stream",
       "stream": "stdout",
       "text": [
        "\n",
        "Now fetching ProblemID: 3123, Title: Subsequence"
       ]
      },
      {
       "output_type": "stream",
       "stream": "stdout",
       "text": [
        "\n",
        "Now fetching ProblemID: 3124, Title: Celebrity jeopardy"
       ]
      },
      {
       "output_type": "stream",
       "stream": "stdout",
       "text": [
        "\n",
        "Now fetching ProblemID: 3125, Title: Sherlock Holmes"
       ]
      },
      {
       "output_type": "stream",
       "stream": "stdout",
       "text": [
        "\n",
        "Now fetching ProblemID: 3126, Title: Payment System"
       ]
      },
      {
       "output_type": "stream",
       "stream": "stdout",
       "text": [
        "\n",
        "Now fetching ProblemID: 3127, Title: Stargates"
       ]
      },
      {
       "output_type": "stream",
       "stream": "stdout",
       "text": [
        "\n",
        "Now fetching ProblemID: 3128, Title: Maximum"
       ]
      },
      {
       "output_type": "stream",
       "stream": "stdout",
       "text": [
        "\n",
        "Now fetching ProblemID: 3129, Title: Japan"
       ]
      },
      {
       "output_type": "stream",
       "stream": "stdout",
       "text": [
        "\n",
        "Now fetching ProblemID: 3130, Title: Shortest pair of paths"
       ]
      },
      {
       "output_type": "stream",
       "stream": "stdout",
       "text": [
        "\n",
        "Now fetching ProblemID: 3131, Title: Digital Clock"
       ]
      },
      {
       "output_type": "stream",
       "stream": "stdout",
       "text": [
        "\n",
        "Now fetching ProblemID: 3132, Title: DNA Consensus String"
       ]
      },
      {
       "output_type": "stream",
       "stream": "stdout",
       "text": [
        "\n",
        "Now fetching ProblemID: 3133, Title: Grid Panel"
       ]
      },
      {
       "output_type": "stream",
       "stream": "stdout",
       "text": [
        "\n",
        "Now fetching ProblemID: 3134, Title: Travel"
       ]
      },
      {
       "output_type": "stream",
       "stream": "stdout",
       "text": [
        "\n",
        "Now fetching ProblemID: 3135, Title: Roommate"
       ]
      },
      {
       "output_type": "stream",
       "stream": "stdout",
       "text": [
        "\n",
        "Now fetching ProblemID: 3136, Title: Gas"
       ]
      },
      {
       "output_type": "stream",
       "stream": "stdout",
       "text": [
        "\n",
        "Now fetching ProblemID: 3137, Title: Tree"
       ]
      },
      {
       "output_type": "stream",
       "stream": "stdout",
       "text": [
        "\n",
        "Now fetching ProblemID: 3138, Title: Period"
       ]
      },
      {
       "output_type": "stream",
       "stream": "stdout",
       "text": [
        "\n",
        "Now fetching ProblemID: 3139, Title: Fire Tower"
       ]
      },
      {
       "output_type": "stream",
       "stream": "stdout",
       "text": [
        "\n",
        "Now fetching ProblemID: 3140, Title: Log Jumping"
       ]
      },
      {
       "output_type": "stream",
       "stream": "stdout",
       "text": [
        "\n",
        "Now fetching ProblemID: 3141, Title: Arnie's Dog Biscuits"
       ]
      },
      {
       "output_type": "stream",
       "stream": "stdout",
       "text": [
        "\n",
        "Now fetching ProblemID: 3142, Title: Bustered Plaque"
       ]
      },
      {
       "output_type": "stream",
       "stream": "stdout",
       "text": [
        "\n",
        "Now fetching ProblemID: 3143, Title: Svetlozar's Sequences"
       ]
      },
      {
       "output_type": "stream",
       "stream": "stdout",
       "text": [
        "\n",
        "Now fetching ProblemID: 3144, Title: Al's Artful Alliterations"
       ]
      },
      {
       "output_type": "stream",
       "stream": "stdout",
       "text": [
        "\n",
        "Now fetching ProblemID: 3145, Title: Hitori"
       ]
      },
      {
       "output_type": "stream",
       "stream": "stdout",
       "text": [
        "\n",
        "Now fetching ProblemID: 3146, Title: Babes in the Woods"
       ]
      },
      {
       "output_type": "stream",
       "stream": "stdout",
       "text": [
        "\n",
        "Now fetching ProblemID: 3147, Title: Dezider's Coverup"
       ]
      },
      {
       "output_type": "stream",
       "stream": "stdout",
       "text": [
        "\n",
        "Now fetching ProblemID: 3148, Title: Memory Lane"
       ]
      },
      {
       "output_type": "stream",
       "stream": "stdout",
       "text": [
        "\n",
        "Now fetching ProblemID: 3149, Title: Breadtree"
       ]
      },
      {
       "output_type": "stream",
       "stream": "stdout",
       "text": [
        "\n",
        "Now fetching ProblemID: 3150, Title: Dareda?"
       ]
      },
      {
       "output_type": "stream",
       "stream": "stdout",
       "text": [
        "\n",
        "Now fetching ProblemID: 3151, Title: Dice Compare"
       ]
      },
      {
       "output_type": "stream",
       "stream": "stdout",
       "text": [
        "\n",
        "Now fetching ProblemID: 3152, Title: Food Competition"
       ]
      },
      {
       "output_type": "stream",
       "stream": "stdout",
       "text": [
        "\n",
        "Now fetching ProblemID: 3153, Title: Lottery"
       ]
      },
      {
       "output_type": "stream",
       "stream": "stdout",
       "text": [
        "\n",
        "Now fetching ProblemID: 3154, Title: Mixed Juice"
       ]
      },
      {
       "output_type": "stream",
       "stream": "stdout",
       "text": [
        "\n",
        "Now fetching ProblemID: 3155, Title: Street Lamp"
       ]
      },
      {
       "output_type": "stream",
       "stream": "stdout",
       "text": [
        "\n",
        "Now fetching ProblemID: 3156, Title: Taxi"
       ]
      },
      {
       "output_type": "stream",
       "stream": "stdout",
       "text": [
        "\n",
        "Now fetching ProblemID: 3157, Title: Weapon"
       ]
      },
      {
       "output_type": "stream",
       "stream": "stdout",
       "text": [
        "\n",
        "Now fetching ProblemID: 3158, Title: Cut The Cake"
       ]
      },
      {
       "output_type": "stream",
       "stream": "stdout",
       "text": [
        "\n",
        "Now fetching ProblemID: 3159, Title: Pie Bridge"
       ]
      },
      {
       "output_type": "stream",
       "stream": "stdout",
       "text": [
        "\n",
        "Now fetching ProblemID: 3160, Title: Couples"
       ]
      },
      {
       "output_type": "stream",
       "stream": "stdout",
       "text": [
        "\n",
        "Now fetching ProblemID: 3161, Title: Damn Couples"
       ]
      },
      {
       "output_type": "stream",
       "stream": "stdout",
       "text": [
        "\n",
        "Now fetching ProblemID: 3162, Title: To Go or Not to Go"
       ]
      },
      {
       "output_type": "stream",
       "stream": "stdout",
       "text": [
        "\n",
        "Now fetching ProblemID: 3163, Title: Apple Pile"
       ]
      },
      {
       "output_type": "stream",
       "stream": "stdout",
       "text": [
        "\n",
        "Now fetching ProblemID: 3164, Title: Cookie Choice"
       ]
      },
      {
       "output_type": "stream",
       "stream": "stdout",
       "text": [
        "\n",
        "Now fetching ProblemID: 3165, Title: Party of 8g"
       ]
      },
      {
       "output_type": "stream",
       "stream": "stdout",
       "text": [
        "\n",
        "Now fetching ProblemID: 3166, Title: Lazy Tourist"
       ]
      },
      {
       "output_type": "stream",
       "stream": "stdout",
       "text": [
        "\n",
        "Now fetching ProblemID: 3167, Title: Find 7 Faster Than John Von Neumann"
       ]
      },
      {
       "output_type": "stream",
       "stream": "stdout",
       "text": [
        "\n",
        "Now fetching ProblemID: 3168, Title: Sort ZOJ7"
       ]
      },
      {
       "output_type": "stream",
       "stream": "stdout",
       "text": [
        "\n",
        "Now fetching ProblemID: 3169, Title: Shift By 7"
       ]
      },
      {
       "output_type": "stream",
       "stream": "stdout",
       "text": [
        "\n",
        "Now fetching ProblemID: 3170, Title: 7 Levels of Binary Search Tree"
       ]
      },
      {
       "output_type": "stream",
       "stream": "stdout",
       "text": [
        "\n",
        "Now fetching ProblemID: 3171, Title: The Hidden 7's"
       ]
      },
      {
       "output_type": "stream",
       "stream": "stdout",
       "text": [
        "\n",
        "Now fetching ProblemID: 3172, Title: Extend 7-day Vacation"
       ]
      },
      {
       "output_type": "stream",
       "stream": "stdout",
       "text": [
        "\n",
        "Now fetching ProblemID: 3173, Title: 7 Days of Review"
       ]
      },
      {
       "output_type": "stream",
       "stream": "stdout",
       "text": [
        "\n",
        "Now fetching ProblemID: 3174, Title: Square Root Day"
       ]
      },
      {
       "output_type": "stream",
       "stream": "stdout",
       "text": [
        "\n",
        "Now fetching ProblemID: 3175, Title: Number of Containers"
       ]
      },
      {
       "output_type": "stream",
       "stream": "stdout",
       "text": [
        "\n",
        "Now fetching ProblemID: 3176, Title: Rounding or Truncation"
       ]
      },
      {
       "output_type": "stream",
       "stream": "stdout",
       "text": [
        "\n",
        "Now fetching ProblemID: 3177, Title: Elune's Arrow"
       ]
      },
      {
       "output_type": "stream",
       "stream": "stdout",
       "text": [
        "\n",
        "Now fetching ProblemID: 3178, Title: Beverages for Sale"
       ]
      },
      {
       "output_type": "stream",
       "stream": "stdout",
       "text": [
        "\n",
        "Now fetching ProblemID: 3179, Title: Calculate With Abacus"
       ]
      },
      {
       "output_type": "stream",
       "stream": "stdout",
       "text": [
        "\n",
        "Now fetching ProblemID: 3180, Title: Number Game"
       ]
      },
      {
       "output_type": "stream",
       "stream": "stdout",
       "text": [
        "\n",
        "Now fetching ProblemID: 3181, Title: Cover the String"
       ]
      },
      {
       "output_type": "stream",
       "stream": "stdout",
       "text": [
        "\n",
        "Now fetching ProblemID: 3182, Title: Nine Interlinks"
       ]
      },
      {
       "output_type": "stream",
       "stream": "stdout",
       "text": [
        "\n",
        "Now fetching ProblemID: 3183, Title: Counting Binary Trees"
       ]
      },
      {
       "output_type": "stream",
       "stream": "stdout",
       "text": [
        "\n",
        "Now fetching ProblemID: 3184, Title: Guess the Pattern"
       ]
      },
      {
       "output_type": "stream",
       "stream": "stdout",
       "text": [
        "\n",
        "Now fetching ProblemID: 3185, Title: List Operations"
       ]
      },
      {
       "output_type": "stream",
       "stream": "stdout",
       "text": [
        "\n",
        "Now fetching ProblemID: 3186, Title: Windows"
       ]
      },
      {
       "output_type": "stream",
       "stream": "stdout",
       "text": [
        "\n",
        "Now fetching ProblemID: 3187, Title: Inviting Friends"
       ]
      },
      {
       "output_type": "stream",
       "stream": "stdout",
       "text": [
        "\n",
        "Now fetching ProblemID: 3188, Title: Treeland Exhibition"
       ]
      },
      {
       "output_type": "stream",
       "stream": "stdout",
       "text": [
        "\n",
        "Now fetching ProblemID: 3189, Title: Special Flow"
       ]
      },
      {
       "output_type": "stream",
       "stream": "stdout",
       "text": [
        "\n",
        "Now fetching ProblemID: 3190, Title: Resource Archiver"
       ]
      },
      {
       "output_type": "stream",
       "stream": "stdout",
       "text": [
        "\n",
        "Now fetching ProblemID: 3191, Title: Strange Clock"
       ]
      },
      {
       "output_type": "stream",
       "stream": "stdout",
       "text": [
        "\n",
        "Now fetching ProblemID: 3192, Title: Selecting Frames"
       ]
      },
      {
       "output_type": "stream",
       "stream": "stdout",
       "text": [
        "\n",
        "Now fetching ProblemID: 3193, Title: Accurately Say \"CocaCola\"! Again"
       ]
      },
      {
       "output_type": "stream",
       "stream": "stdout",
       "text": [
        "\n",
        "Now fetching ProblemID: 3194, Title: Coverage"
       ]
      },
      {
       "output_type": "stream",
       "stream": "stdout",
       "text": [
        "\n",
        "Now fetching ProblemID: 3195, Title: Design the city"
       ]
      },
      {
       "output_type": "stream",
       "stream": "stdout",
       "text": [
        "\n",
        "Now fetching ProblemID: 3196, Title: Give me the result"
       ]
      },
      {
       "output_type": "stream",
       "stream": "stdout",
       "text": [
        "\n",
        "Now fetching ProblemID: 3197, Title: Google Book"
       ]
      },
      {
       "output_type": "stream",
       "stream": "stdout",
       "text": [
        "\n",
        "Now fetching ProblemID: 3198, Title: Intersection of Two Sets"
       ]
      },
      {
       "output_type": "stream",
       "stream": "stdout",
       "text": [
        "\n",
        "Now fetching ProblemID: 3199, Title: Longest Repeated Substring"
       ]
      },
      {
       "output_type": "stream",
       "stream": "stdout",
       "text": [
        "\n",
        "Now fetching ProblemID: 3200, Title: Police and Thief"
       ]
      },
      {
       "output_type": "stream",
       "stream": "stdout",
       "text": [
        "\n",
        "Now fetching ProblemID: 3201, Title: Tree of Tree"
       ]
      },
      {
       "output_type": "stream",
       "stream": "stdout",
       "text": [
        "\n",
        "Now fetching ProblemID: 3202, Title: Second-price Auction"
       ]
      },
      {
       "output_type": "stream",
       "stream": "stdout",
       "text": [
        "\n",
        "Now fetching ProblemID: 3203, Title: Light Bulb"
       ]
      },
      {
       "output_type": "stream",
       "stream": "stdout",
       "text": [
        "\n",
        "Now fetching ProblemID: 3204, Title: Connect them"
       ]
      },
      {
       "output_type": "stream",
       "stream": "stdout",
       "text": [
        "\n",
        "Now fetching ProblemID: 3205, Title: Derivative"
       ]
      },
      {
       "output_type": "stream",
       "stream": "stdout",
       "text": [
        "\n",
        "Now fetching ProblemID: 3206, Title: Disaster Area Reconstruction"
       ]
      },
      {
       "output_type": "stream",
       "stream": "stdout",
       "text": [
        "\n",
        "Now fetching ProblemID: 3207, Title: 80ers' Memory"
       ]
      },
      {
       "output_type": "stream",
       "stream": "stdout",
       "text": [
        "\n",
        "Now fetching ProblemID: 3208, Title: Reforestation"
       ]
      },
      {
       "output_type": "stream",
       "stream": "stdout",
       "text": [
        "\n",
        "Now fetching ProblemID: 3209, Title: Treasure Map"
       ]
      },
      {
       "output_type": "stream",
       "stream": "stdout",
       "text": [
        "\n",
        "Now fetching ProblemID: 3210, Title: A Stack or A Queue?"
       ]
      },
      {
       "output_type": "stream",
       "stream": "stdout",
       "text": [
        "\n",
        "Now fetching ProblemID: 3211, Title: Dream City"
       ]
      },
      {
       "output_type": "stream",
       "stream": "stdout",
       "text": [
        "\n",
        "Now fetching ProblemID: 3212, Title: K-Nice"
       ]
      },
      {
       "output_type": "stream",
       "stream": "stdout",
       "text": [
        "\n",
        "Now fetching ProblemID: 3213, Title: Beautiful Meadow"
       ]
      },
      {
       "output_type": "stream",
       "stream": "stdout",
       "text": [
        "\n",
        "Now fetching ProblemID: 3214, Title: Bussiness Rules Management System"
       ]
      },
      {
       "output_type": "stream",
       "stream": "stdout",
       "text": [
        "\n",
        "Now fetching ProblemID: 3215, Title: Cartoon"
       ]
      },
      {
       "output_type": "stream",
       "stream": "stdout",
       "text": [
        "\n",
        "Now fetching ProblemID: 3216, Title: Compositions"
       ]
      },
      {
       "output_type": "stream",
       "stream": "stdout",
       "text": [
        "\n",
        "Now fetching ProblemID: 3217, Title: Count the Derivations"
       ]
      },
      {
       "output_type": "stream",
       "stream": "stdout",
       "text": [
        "\n",
        "Now fetching ProblemID: 3218, Title: DFA"
       ]
      },
      {
       "output_type": "stream",
       "stream": "stdout",
       "text": [
        "\n",
        "Now fetching ProblemID: 3219, Title: Interesting Game"
       ]
      },
      {
       "output_type": "stream",
       "stream": "stdout",
       "text": [
        "\n",
        "Now fetching ProblemID: 3220, Title: Killing Streak"
       ]
      },
      {
       "output_type": "stream",
       "stream": "stdout",
       "text": [
        "\n",
        "Now fetching ProblemID: 3221, Title: Lich"
       ]
      },
      {
       "output_type": "stream",
       "stream": "stdout",
       "text": [
        "\n",
        "Now fetching ProblemID: 3222, Title: Coverage"
       ]
      },
      {
       "output_type": "stream",
       "stream": "stdout",
       "text": [
        "\n",
        "Now fetching ProblemID: 3223, Title: Journey to the Center of the Earth"
       ]
      },
      {
       "output_type": "stream",
       "stream": "stdout",
       "text": [
        "\n",
        "Now fetching ProblemID: 3224, Title: Mathematics"
       ]
      },
      {
       "output_type": "stream",
       "stream": "stdout",
       "text": [
        "\n",
        "Now fetching ProblemID: 3225, Title: Maze"
       ]
      },
      {
       "output_type": "stream",
       "stream": "stdout",
       "text": [
        "\n",
        "Now fetching ProblemID: 3226, Title: Mobile Positioning"
       ]
      },
      {
       "output_type": "stream",
       "stream": "stdout",
       "text": [
        "\n",
        "Now fetching ProblemID: 3227, Title: Perfect Cherry Blossom"
       ]
      },
      {
       "output_type": "stream",
       "stream": "stdout",
       "text": [
        "\n",
        "Now fetching ProblemID: 3228, Title: Searching the String"
       ]
      },
      {
       "output_type": "stream",
       "stream": "stdout",
       "text": [
        "\n",
        "Now fetching ProblemID: 3229, Title: Shoot the Bullet"
       ]
      },
      {
       "output_type": "stream",
       "stream": "stdout",
       "text": [
        "\n",
        "Now fetching ProblemID: 3230, Title: Solving the Problems"
       ]
      },
      {
       "output_type": "stream",
       "stream": "stdout",
       "text": [
        "\n",
        "Now fetching ProblemID: 3231, Title: Apple Transportation"
       ]
      },
      {
       "output_type": "stream",
       "stream": "stdout",
       "text": [
        "\n",
        "Now fetching ProblemID: 3232, Title: It's not Floyd Algorithm"
       ]
      },
      {
       "output_type": "stream",
       "stream": "stdout",
       "text": [
        "\n",
        "Now fetching ProblemID: 3233, Title: Lucky Number"
       ]
      },
      {
       "output_type": "stream",
       "stream": "stdout",
       "text": [
        "\n",
        "Now fetching ProblemID: 3234, Title: Protect the King"
       ]
      },
      {
       "output_type": "stream",
       "stream": "stdout",
       "text": [
        "\n",
        "Now fetching ProblemID: 3235, Title: Prototype"
       ]
      },
      {
       "output_type": "stream",
       "stream": "stdout",
       "text": [
        "\n",
        "Now fetching ProblemID: 3236, Title: Pyraminx II"
       ]
      },
      {
       "output_type": "stream",
       "stream": "stdout",
       "text": [
        "\n",
        "Now fetching ProblemID: 3237, Title: Signals and Systems"
       ]
      },
      {
       "output_type": "stream",
       "stream": "stdout",
       "text": [
        "\n",
        "Now fetching ProblemID: 3238, Title: Water Ring"
       ]
      },
      {
       "output_type": "stream",
       "stream": "stdout",
       "text": [
        "\n",
        "Now fetching ProblemID: 3239, Title: Z Shell Completion"
       ]
      },
      {
       "output_type": "stream",
       "stream": "stdout",
       "text": [
        "\n",
        "Now fetching ProblemID: 3240, Title: Automatic Tetris Player"
       ]
      },
      {
       "output_type": "stream",
       "stream": "stdout",
       "text": [
        "\n",
        "Now fetching ProblemID: 3241, Title: Being a Hero"
       ]
      },
      {
       "output_type": "stream",
       "stream": "stdout",
       "text": [
        "\n",
        "Now fetching ProblemID: 3242, Title: Code Merging"
       ]
      },
      {
       "output_type": "stream",
       "stream": "stdout",
       "text": [
        "\n",
        "Now fetching ProblemID: 3243, Title: Diamonds"
       ]
      },
      {
       "output_type": "stream",
       "stream": "stdout",
       "text": [
        "\n",
        "Now fetching ProblemID: 3244, Title: Extraordinary Tug of War"
       ]
      },
      {
       "output_type": "stream",
       "stream": "stdout",
       "text": [
        "\n",
        "Now fetching ProblemID: 3245, Title: Farming"
       ]
      },
      {
       "output_type": "stream",
       "stream": "stdout",
       "text": [
        "\n",
        "Now fetching ProblemID: 3246, Title: Grid Point Counting"
       ]
      },
      {
       "output_type": "stream",
       "stream": "stdout",
       "text": [
        "\n",
        "Now fetching ProblemID: 3247, Title: Hello World!"
       ]
      },
      {
       "output_type": "stream",
       "stream": "stdout",
       "text": [
        "\n",
        "Now fetching ProblemID: 3248, Title: Intricate to death?"
       ]
      },
      {
       "output_type": "stream",
       "stream": "stdout",
       "text": [
        "\n",
        "Now fetching ProblemID: 3249, Title: Just Another String Matching Problem"
       ]
      },
      {
       "output_type": "stream",
       "stream": "stdout",
       "text": [
        "\n",
        "Now fetching ProblemID: 3250, Title: Chain Factor"
       ]
      },
      {
       "output_type": "stream",
       "stream": "stdout",
       "text": [
        "\n",
        "Now fetching ProblemID: 3251, Title: Copy Triangle"
       ]
      },
      {
       "output_type": "stream",
       "stream": "stdout",
       "text": [
        "\n",
        "Now fetching ProblemID: 3252, Title: It's Never Too Late"
       ]
      },
      {
       "output_type": "stream",
       "stream": "stdout",
       "text": [
        "\n",
        "Now fetching ProblemID: 3253, Title: Let's Party"
       ]
      },
      {
       "output_type": "stream",
       "stream": "stdout",
       "text": [
        "\n",
        "Now fetching ProblemID: 3254, Title: Secret Code"
       ]
      },
      {
       "output_type": "stream",
       "stream": "stdout",
       "text": [
        "\n",
        "Now fetching ProblemID: 3255, Title: The Scylla"
       ]
      },
      {
       "output_type": "stream",
       "stream": "stdout",
       "text": [
        "\n",
        "Now fetching ProblemID: 3256, Title: Tour in the Castle"
       ]
      },
      {
       "output_type": "stream",
       "stream": "stdout",
       "text": [
        "\n",
        "Now fetching ProblemID: 3257, Title: Tower II"
       ]
      },
      {
       "output_type": "stream",
       "stream": "stdout",
       "text": [
        "\n",
        "Now fetching ProblemID: 3258, Title: Wistone and Owenwater"
       ]
      },
      {
       "output_type": "stream",
       "stream": "stdout",
       "text": [
        "\n",
        "Now fetching ProblemID: 3259, Title: Boring Game Between DD and Lanrete"
       ]
      },
      {
       "output_type": "stream",
       "stream": "stdout",
       "text": [
        "\n",
        "Now fetching ProblemID: 3260, Title: Boring Sequence Operations"
       ]
      },
      {
       "output_type": "stream",
       "stream": "stdout",
       "text": [
        "\n",
        "Now fetching ProblemID: 3261, Title: Connections in Galaxy War"
       ]
      },
      {
       "output_type": "stream",
       "stream": "stdout",
       "text": [
        "\n",
        "Now fetching ProblemID: 3262, Title: Game of Pawns"
       ]
      },
      {
       "output_type": "stream",
       "stream": "stdout",
       "text": [
        "\n",
        "Now fetching ProblemID: 3263, Title: Immaterial and Missing Power"
       ]
      },
      {
       "output_type": "stream",
       "stream": "stdout",
       "text": [
        "\n",
        "Now fetching ProblemID: 3264, Title: Present for MM"
       ]
      },
      {
       "output_type": "stream",
       "stream": "stdout",
       "text": [
        "\n",
        "Now fetching ProblemID: 3265, Title: Strange Game"
       ]
      },
      {
       "output_type": "stream",
       "stream": "stdout",
       "text": [
        "\n",
        "Now fetching ProblemID: 3266, Title: Strange PingPong Game"
       ]
      },
      {
       "output_type": "stream",
       "stream": "stdout",
       "text": [
        "\n",
        "Now fetching ProblemID: 3267, Title: Total Solar Eclipse"
       ]
      },
      {
       "output_type": "stream",
       "stream": "stdout",
       "text": [
        "\n",
        "Now fetching ProblemID: 3268, Title: Facer is learning to swim"
       ]
      },
      {
       "output_type": "stream",
       "stream": "stdout",
       "text": [
        "\n",
        "Now fetching ProblemID: 3269, Title: Zombies VS Plants"
       ]
      },
      {
       "output_type": "stream",
       "stream": "stdout",
       "text": [
        "\n",
        "Now fetching ProblemID: 3270, Title: Seat taking up is tough"
       ]
      },
      {
       "output_type": "stream",
       "stream": "stdout",
       "text": [
        "\n",
        "Now fetching ProblemID: 3271, Title: Ancient vending machine"
       ]
      },
      {
       "output_type": "stream",
       "stream": "stdout",
       "text": [
        "\n",
        "Now fetching ProblemID: 3272, Title: Open-air shopping malls"
       ]
      },
      {
       "output_type": "stream",
       "stream": "stdout",
       "text": [
        "\n",
        "Now fetching ProblemID: 3273, Title: Posters"
       ]
      },
      {
       "output_type": "stream",
       "stream": "stdout",
       "text": [
        "\n",
        "Now fetching ProblemID: 3274, Title: Hamlet's gambling"
       ]
      },
      {
       "output_type": "stream",
       "stream": "stdout",
       "text": [
        "\n",
        "Now fetching ProblemID: 3275, Title: Graph Game"
       ]
      },
      {
       "output_type": "stream",
       "stream": "stdout",
       "text": [
        "\n",
        "Now fetching ProblemID: 3276, Title: Columbus's bargain"
       ]
      },
      {
       "output_type": "stream",
       "stream": "stdout",
       "text": [
        "\n",
        "Now fetching ProblemID: 3277, Title: P2P File Sharing System"
       ]
      },
      {
       "output_type": "stream",
       "stream": "stdout",
       "text": [
        "\n",
        "Now fetching ProblemID: 3278, Title: 8G Island"
       ]
      },
      {
       "output_type": "stream",
       "stream": "stdout",
       "text": [
        "\n",
        "Now fetching ProblemID: 3279, Title: Ants"
       ]
      },
      {
       "output_type": "stream",
       "stream": "stdout",
       "text": [
        "\n",
        "Now fetching ProblemID: 3280, Title: Choose The Best"
       ]
      },
      {
       "output_type": "stream",
       "stream": "stdout",
       "text": [
        "\n",
        "Now fetching ProblemID: 3281, Title: File System Travel"
       ]
      },
      {
       "output_type": "stream",
       "stream": "stdout",
       "text": [
        "\n",
        "Now fetching ProblemID: 3282, Title: Go Downstairs"
       ]
      },
      {
       "output_type": "stream",
       "stream": "stdout",
       "text": [
        "\n",
        "Now fetching ProblemID: 3283, Title: Mathematics II"
       ]
      },
      {
       "output_type": "stream",
       "stream": "stdout",
       "text": [
        "\n",
        "Now fetching ProblemID: 3284, Title: Matrix Processing"
       ]
      },
      {
       "output_type": "stream",
       "stream": "stdout",
       "text": [
        "\n",
        "Now fetching ProblemID: 3285, Title: Tower III"
       ]
      },
      {
       "output_type": "stream",
       "stream": "stdout",
       "text": [
        "\n",
        "Now fetching ProblemID: 3286, Title: Very Simple Counting"
       ]
      },
      {
       "output_type": "stream",
       "stream": "stdout",
       "text": [
        "\n",
        "Now fetching ProblemID: 3287, Title: Apple or Doughnut"
       ]
      },
      {
       "output_type": "stream",
       "stream": "stdout",
       "text": [
        "\n",
        "Now fetching ProblemID: 3288, Title: Attack!"
       ]
      },
      {
       "output_type": "stream",
       "stream": "stdout",
       "text": [
        "\n",
        "Now fetching ProblemID: 3289, Title: Escape from the Pyramid"
       ]
      },
      {
       "output_type": "stream",
       "stream": "stdout",
       "text": [
        "\n",
        "Now fetching ProblemID: 3290, Title: Longest Subtrahend Sequence"
       ]
      },
      {
       "output_type": "stream",
       "stream": "stdout",
       "text": [
        "\n",
        "Now fetching ProblemID: 3291, Title: Never End"
       ]
      },
      {
       "output_type": "stream",
       "stream": "stdout",
       "text": [
        "\n",
        "Now fetching ProblemID: 3292, Title: Shuffle"
       ]
      },
      {
       "output_type": "stream",
       "stream": "stdout",
       "text": [
        "\n",
        "Now fetching ProblemID: 3293, Title: Simple Sequence"
       ]
      },
      {
       "output_type": "stream",
       "stream": "stdout",
       "text": [
        "\n",
        "Now fetching ProblemID: 3294, Title: Utawarerumono"
       ]
      },
      {
       "output_type": "stream",
       "stream": "stdout",
       "text": [
        "\n",
        "Now fetching ProblemID: 3295, Title: War of 218"
       ]
      },
      {
       "output_type": "stream",
       "stream": "stdout",
       "text": [
        "\n",
        "Now fetching ProblemID: 3296, Title: Connecting the Segments"
       ]
      },
      {
       "output_type": "stream",
       "stream": "stdout",
       "text": [
        "\n",
        "Now fetching ProblemID: 3297, Title: Cookie Choice II"
       ]
      },
      {
       "output_type": "stream",
       "stream": "stdout",
       "text": [
        "\n",
        "Now fetching ProblemID: 3298, Title: Crack"
       ]
      },
      {
       "output_type": "stream",
       "stream": "stdout",
       "text": [
        "\n",
        "Now fetching ProblemID: 3299, Title: Fall the Brick"
       ]
      },
      {
       "output_type": "stream",
       "stream": "stdout",
       "text": [
        "\n",
        "Now fetching ProblemID: 3300, Title: Mahjong"
       ]
      },
      {
       "output_type": "stream",
       "stream": "stdout",
       "text": [
        "\n",
        "Now fetching ProblemID: 3301, Title: Make Pair"
       ]
      },
      {
       "output_type": "stream",
       "stream": "stdout",
       "text": [
        "\n",
        "Now fetching ProblemID: 3302, Title: More Sweets!"
       ]
      },
      {
       "output_type": "stream",
       "stream": "stdout",
       "text": [
        "\n",
        "Now fetching ProblemID: 3303, Title: Pachinko"
       ]
      },
      {
       "output_type": "stream",
       "stream": "stdout",
       "text": [
        "\n",
        "Now fetching ProblemID: 3304, Title: Prison Break"
       ]
      },
      {
       "output_type": "stream",
       "stream": "stdout",
       "text": [
        "\n",
        "Now fetching ProblemID: 3305, Title: Get Sauce"
       ]
      },
      {
       "output_type": "stream",
       "stream": "stdout",
       "text": [
        "\n",
        "Now fetching ProblemID: 3306, Title: Kill the Monsters"
       ]
      },
      {
       "output_type": "stream",
       "stream": "stdout",
       "text": [
        "\n",
        "Now fetching ProblemID: 3307, Title: Magic Machine"
       ]
      },
      {
       "output_type": "stream",
       "stream": "stdout",
       "text": [
        "\n",
        "Now fetching ProblemID: 3308, Title: Move the Knights"
       ]
      },
      {
       "output_type": "stream",
       "stream": "stdout",
       "text": [
        "\n",
        "Now fetching ProblemID: 3309, Title: Search New Posts"
       ]
      },
      {
       "output_type": "stream",
       "stream": "stdout",
       "text": [
        "\n",
        "Now fetching ProblemID: 3310, Title: Unrequited Love"
       ]
      },
      {
       "output_type": "stream",
       "stream": "stdout",
       "text": [
        "\n",
        "Now fetching ProblemID: 3311, Title: ZOJ Special AC String"
       ]
      },
      {
       "output_type": "stream",
       "stream": "stdout",
       "text": [
        "\n",
        "Now fetching ProblemID: 3312, Title: 8*8"
       ]
      },
      {
       "output_type": "stream",
       "stream": "stdout",
       "text": [
        "\n",
        "Now fetching ProblemID: 3313, Title: Clock"
       ]
      },
      {
       "output_type": "stream",
       "stream": "stdout",
       "text": [
        "\n",
        "Now fetching ProblemID: 3314, Title: CAPTCHA"
       ]
      },
      {
       "output_type": "stream",
       "stream": "stdout",
       "text": [
        "\n",
        "Now fetching ProblemID: 3315, Title: Runaway Robot"
       ]
      },
      {
       "output_type": "stream",
       "stream": "stdout",
       "text": [
        "\n",
        "Now fetching ProblemID: 3316, Title: Game"
       ]
      },
      {
       "output_type": "stream",
       "stream": "stdout",
       "text": [
        "\n",
        "Now fetching ProblemID: 3317, Title: Murder in Restaurant"
       ]
      },
      {
       "output_type": "stream",
       "stream": "stdout",
       "text": [
        "\n",
        "Now fetching ProblemID: 3318, Title: Strange Country"
       ]
      },
      {
       "output_type": "stream",
       "stream": "stdout",
       "text": [
        "\n",
        "Now fetching ProblemID: 3319, Title: Islands"
       ]
      },
      {
       "output_type": "stream",
       "stream": "stdout",
       "text": [
        "\n",
        "Now fetching ProblemID: 3320, Title: Break Out"
       ]
      },
      {
       "output_type": "stream",
       "stream": "stdout",
       "text": [
        "\n",
        "Now fetching ProblemID: 3321, Title: Circle"
       ]
      },
      {
       "output_type": "stream",
       "stream": "stdout",
       "text": [
        "\n",
        "Now fetching ProblemID: 3322, Title: Who is Older?"
       ]
      },
      {
       "output_type": "stream",
       "stream": "stdout",
       "text": [
        "\n",
        "Now fetching ProblemID: 3323, Title: Somali Pirates"
       ]
      },
      {
       "output_type": "stream",
       "stream": "stdout",
       "text": [
        "\n",
        "Now fetching ProblemID: 3324, Title: Machine"
       ]
      },
      {
       "output_type": "stream",
       "stream": "stdout",
       "text": [
        "\n",
        "Now fetching ProblemID: 3325, Title: Next Expression"
       ]
      },
      {
       "output_type": "stream",
       "stream": "stdout",
       "text": [
        "\n",
        "Now fetching ProblemID: 3326, Title: An Awful Problem"
       ]
      },
      {
       "output_type": "stream",
       "stream": "stdout",
       "text": [
        "\n",
        "Now fetching ProblemID: 3327, Title: Friend Number"
       ]
      },
      {
       "output_type": "stream",
       "stream": "stdout",
       "text": [
        "\n",
        "Now fetching ProblemID: 3328, Title: Wu Xing"
       ]
      },
      {
       "output_type": "stream",
       "stream": "stdout",
       "text": [
        "\n",
        "Now fetching ProblemID: 3329, Title: One Person Game"
       ]
      },
      {
       "output_type": "stream",
       "stream": "stdout",
       "text": [
        "\n",
        "Now fetching ProblemID: 3330, Title: Country F"
       ]
      },
      {
       "output_type": "stream",
       "stream": "stdout",
       "text": [
        "\n",
        "Now fetching ProblemID: 3331, Title: Process the Tasks"
       ]
      },
      {
       "output_type": "stream",
       "stream": "stdout",
       "text": [
        "\n",
        "Now fetching ProblemID: 3332, Title: Strange Country II"
       ]
      },
      {
       "output_type": "stream",
       "stream": "stdout",
       "text": [
        "\n",
        "Now fetching ProblemID: 3333, Title: Guess the Price"
       ]
      },
      {
       "output_type": "stream",
       "stream": "stdout",
       "text": [
        "\n",
        "Now fetching ProblemID: 3334, Title: Body Check"
       ]
      },
      {
       "output_type": "stream",
       "stream": "stdout",
       "text": [
        "\n",
        "Now fetching ProblemID: 3335, Title: Filtering"
       ]
      },
      {
       "output_type": "stream",
       "stream": "stdout",
       "text": [
        "\n",
        "Now fetching ProblemID: 3336, Title: Friend Number II"
       ]
      },
      {
       "output_type": "stream",
       "stream": "stdout",
       "text": [
        "\n",
        "Now fetching ProblemID: 3337, Title: Light Bulbs 2"
       ]
      },
      {
       "output_type": "stream",
       "stream": "stdout",
       "text": [
        "\n",
        "Now fetching ProblemID: 3338, Title: Map"
       ]
      },
      {
       "output_type": "stream",
       "stream": "stdout",
       "text": [
        "\n",
        "Now fetching ProblemID: 3339, Title: Palindrom"
       ]
      },
      {
       "output_type": "stream",
       "stream": "stdout",
       "text": [
        "\n",
        "Now fetching ProblemID: 3340, Title: The Stars My Destination"
       ]
      },
      {
       "output_type": "stream",
       "stream": "stdout",
       "text": [
        "\n",
        "Now fetching ProblemID: 3341, Title: Voyager 1"
       ]
      },
      {
       "output_type": "stream",
       "stream": "stdout",
       "text": [
        "\n",
        "Now fetching ProblemID: 3342, Title: War of Association"
       ]
      },
      {
       "output_type": "stream",
       "stream": "stdout",
       "text": [
        "\n",
        "Now fetching ProblemID: 3343, Title: Accident Tree"
       ]
      },
      {
       "output_type": "stream",
       "stream": "stdout",
       "text": [
        "\n",
        "Now fetching ProblemID: 3344, Title: Card Game"
       ]
      },
      {
       "output_type": "stream",
       "stream": "stdout",
       "text": [
        "\n",
        "Now fetching ProblemID: 3345, Title: Language"
       ]
      },
      {
       "output_type": "stream",
       "stream": "stdout",
       "text": [
        "\n",
        "Now fetching ProblemID: 3346, Title: Number Game"
       ]
      },
      {
       "output_type": "stream",
       "stream": "stdout",
       "text": [
        "\n",
        "Now fetching ProblemID: 3347, Title: Picture Handling"
       ]
      },
      {
       "output_type": "stream",
       "stream": "stdout",
       "text": [
        "\n",
        "Now fetching ProblemID: 3348, Title: Schedule"
       ]
      },
      {
       "output_type": "stream",
       "stream": "stdout",
       "text": [
        "\n",
        "Now fetching ProblemID: 3349, Title: Special Subsequence"
       ]
      },
      {
       "output_type": "stream",
       "stream": "stdout",
       "text": [
        "\n",
        "Now fetching ProblemID: 3350, Title: Strange Calender"
       ]
      },
      {
       "output_type": "stream",
       "stream": "stdout",
       "text": [
        "\n",
        "Now fetching ProblemID: 3351, Title: Washing Clothes"
       ]
      },
      {
       "output_type": "stream",
       "stream": "stdout",
       "text": [
        "\n",
        "Now fetching ProblemID: 3352, Title: Boring Board Game"
       ]
      },
      {
       "output_type": "stream",
       "stream": "stdout",
       "text": [
        "\n",
        "Now fetching ProblemID: 3353, Title: Chess Board"
       ]
      },
      {
       "output_type": "stream",
       "stream": "stdout",
       "text": [
        "\n",
        "Now fetching ProblemID: 3354, Title: DoIt is Being Flooded"
       ]
      },
      {
       "output_type": "stream",
       "stream": "stdout",
       "text": [
        "\n",
        "Now fetching ProblemID: 3355, Title: Football Gambling I"
       ]
      },
      {
       "output_type": "stream",
       "stream": "stdout",
       "text": [
        "\n",
        "Now fetching ProblemID: 3356, Title: Football Gambling II"
       ]
      },
      {
       "output_type": "stream",
       "stream": "stdout",
       "text": [
        "\n",
        "Now fetching ProblemID: 3357, Title: Football Gambling III"
       ]
      },
      {
       "output_type": "stream",
       "stream": "stdout",
       "text": [
        "\n",
        "Now fetching ProblemID: 3358, Title: Green Dam Girl"
       ]
      },
      {
       "output_type": "stream",
       "stream": "stdout",
       "text": [
        "\n",
        "Now fetching ProblemID: 3359, Title: Penalties Kick"
       ]
      },
      {
       "output_type": "stream",
       "stream": "stdout",
       "text": [
        "\n",
        "Now fetching ProblemID: 3360, Title: Stranger Calendar II"
       ]
      },
      {
       "output_type": "stream",
       "stream": "stdout",
       "text": [
        "\n",
        "Now fetching ProblemID: 3361, Title: Yellow Card and Red Card"
       ]
      },
      {
       "output_type": "stream",
       "stream": "stdout",
       "text": [
        "\n",
        "Now fetching ProblemID: 3362, Title: Beer Problem"
       ]
      },
      {
       "output_type": "stream",
       "stream": "stdout",
       "text": [
        "\n",
        "Now fetching ProblemID: 3363, Title: Another Brick in the Wall"
       ]
      },
      {
       "output_type": "stream",
       "stream": "stdout",
       "text": [
        "\n",
        "Now fetching ProblemID: 3364, Title: Black and White"
       ]
      },
      {
       "output_type": "stream",
       "stream": "stdout",
       "text": [
        "\n",
        "Now fetching ProblemID: 3365, Title: Integer Numbers"
       ]
      },
      {
       "output_type": "stream",
       "stream": "stdout",
       "text": [
        "\n",
        "Now fetching ProblemID: 3366, Title: Islands"
       ]
      },
      {
       "output_type": "stream",
       "stream": "stdout",
       "text": [
        "\n",
        "Now fetching ProblemID: 3367, Title: Counterfeit Money"
       ]
      },
      {
       "output_type": "stream",
       "stream": "stdout",
       "text": [
        "\n",
        "Now fetching ProblemID: 3368, Title: Chinese New Year"
       ]
      },
      {
       "output_type": "stream",
       "stream": "stdout",
       "text": [
        "\n",
        "Now fetching ProblemID: 3369, Title: Saving Princess"
       ]
      },
      {
       "output_type": "stream",
       "stream": "stdout",
       "text": [
        "\n",
        "Now fetching ProblemID: 3370, Title: Radio Waves"
       ]
      },
      {
       "output_type": "stream",
       "stream": "stdout",
       "text": [
        "\n",
        "Now fetching ProblemID: 3371, Title: Cheater's Shuffle"
       ]
      },
      {
       "output_type": "stream",
       "stream": "stdout",
       "text": [
        "\n",
        "Now fetching ProblemID: 3372, Title: Gone Swimming"
       ]
      },
      {
       "output_type": "stream",
       "stream": "stdout",
       "text": [
        "\n",
        "Now fetching ProblemID: 3373, Title: Gensokyo Forbidden Words"
       ]
      },
      {
       "output_type": "stream",
       "stream": "stdout",
       "text": [
        "\n",
        "Now fetching ProblemID: 3374, Title: \u2468 Adjacent Numbers"
       ]
      },
      {
       "output_type": "stream",
       "stream": "stdout",
       "text": [
        "\n",
        "Now fetching ProblemID: 3375, Title: Imperishable Night"
       ]
      },
      {
       "output_type": "stream",
       "stream": "stdout",
       "text": [
        "\n",
        "Now fetching ProblemID: 3376, Title: Safest Points"
       ]
      },
      {
       "output_type": "stream",
       "stream": "stdout",
       "text": [
        "\n",
        "Now fetching ProblemID: 3377, Title: Ancient Duper"
       ]
      },
      {
       "output_type": "stream",
       "stream": "stdout",
       "text": [
        "\n",
        "Now fetching ProblemID: 3378, Title: Attack the NEET Princess"
       ]
      },
      {
       "output_type": "stream",
       "stream": "stdout",
       "text": [
        "\n",
        "Now fetching ProblemID: 3379, Title: Master Spark"
       ]
      },
      {
       "output_type": "stream",
       "stream": "stdout",
       "text": [
        "\n",
        "Now fetching ProblemID: 3380, Title: Patchouli's Spell Cards"
       ]
      },
      {
       "output_type": "stream",
       "stream": "stdout",
       "text": [
        "\n",
        "Now fetching ProblemID: 3381, Title: Osaisen Choudai!"
       ]
      },
      {
       "output_type": "stream",
       "stream": "stdout",
       "text": [
        "\n",
        "Now fetching ProblemID: 3382, Title: Luna Dial"
       ]
      },
      {
       "output_type": "stream",
       "stream": "stdout",
       "text": [
        "\n",
        "Now fetching ProblemID: 3383, Title: Shiro? Kuro?"
       ]
      },
      {
       "output_type": "stream",
       "stream": "stdout",
       "text": [
        "\n",
        "Now fetching ProblemID: 3384, Title: Yuyuko and Youmu"
       ]
      },
      {
       "output_type": "stream",
       "stream": "stdout",
       "text": [
        "\n",
        "Now fetching ProblemID: 3385, Title: Hanami Party"
       ]
      },
      {
       "output_type": "stream",
       "stream": "stdout",
       "text": [
        "\n",
        "Now fetching ProblemID: 3386, Title: Trick or Treat"
       ]
      },
      {
       "output_type": "stream",
       "stream": "stdout",
       "text": [
        "\n",
        "Now fetching ProblemID: 3387, Title: Working at the Restaurant"
       ]
      },
      {
       "output_type": "stream",
       "stream": "stdout",
       "text": [
        "\n",
        "Now fetching ProblemID: 3388, Title: Lights"
       ]
      },
      {
       "output_type": "stream",
       "stream": "stdout",
       "text": [
        "\n",
        "Now fetching ProblemID: 3389, Title: Darts"
       ]
      },
      {
       "output_type": "stream",
       "stream": "stdout",
       "text": [
        "\n",
        "Now fetching ProblemID: 3390, Title: Genetics"
       ]
      },
      {
       "output_type": "stream",
       "stream": "stdout",
       "text": [
        "\n",
        "Now fetching ProblemID: 3391, Title: Haunted Graveyard"
       ]
      },
      {
       "output_type": "stream",
       "stream": "stdout",
       "text": [
        "\n",
        "Now fetching ProblemID: 3392, Title: Slalom"
       ]
      },
      {
       "output_type": "stream",
       "stream": "stdout",
       "text": [
        "\n",
        "Now fetching ProblemID: 3393, Title: Routing"
       ]
      },
      {
       "output_type": "stream",
       "stream": "stdout",
       "text": [
        "\n",
        "Now fetching ProblemID: 3394, Title: Happy Telephones"
       ]
      },
      {
       "output_type": "stream",
       "stream": "stdout",
       "text": [
        "\n",
        "Now fetching ProblemID: 3395, Title: Stammering Aliens"
       ]
      },
      {
       "output_type": "stream",
       "stream": "stdout",
       "text": [
        "\n",
        "Now fetching ProblemID: 3396, Title: Conference Call"
       ]
      },
      {
       "output_type": "stream",
       "stream": "stdout",
       "text": [
        "\n",
        "Now fetching ProblemID: 3397, Title: Change the Major"
       ]
      },
      {
       "output_type": "stream",
       "stream": "stdout",
       "text": [
        "\n",
        "Now fetching ProblemID: 3398, Title: Warden"
       ]
      },
      {
       "output_type": "stream",
       "stream": "stdout",
       "text": [
        "\n",
        "Now fetching ProblemID: 3399, Title: Classes Division"
       ]
      },
      {
       "output_type": "stream",
       "stream": "stdout",
       "text": [
        "\n",
        "Now fetching ProblemID: 3400, Title: Treasure Hunting"
       ]
      },
      {
       "output_type": "stream",
       "stream": "stdout",
       "text": [
        "\n",
        "Now fetching ProblemID: 3401, Title: Guitar"
       ]
      },
      {
       "output_type": "stream",
       "stream": "stdout",
       "text": [
        "\n",
        "Now fetching ProblemID: 3402, Title: Marble"
       ]
      },
      {
       "output_type": "stream",
       "stream": "stdout",
       "text": [
        "\n",
        "Now fetching ProblemID: 3403, Title: Strange Calendar III"
       ]
      },
      {
       "output_type": "stream",
       "stream": "stdout",
       "text": [
        "\n",
        "Now fetching ProblemID: 3404, Title: Sticker"
       ]
      },
      {
       "output_type": "stream",
       "stream": "stdout",
       "text": [
        "\n",
        "Now fetching ProblemID: 3405, Title: Counting Factor Trees"
       ]
      },
      {
       "output_type": "stream",
       "stream": "stdout",
       "text": [
        "\n",
        "Now fetching ProblemID: 3406, Title: Another Very Easy Task"
       ]
      },
      {
       "output_type": "stream",
       "stream": "stdout",
       "text": [
        "\n",
        "Now fetching ProblemID: 3407, Title: Doraemon's Cake Machine"
       ]
      },
      {
       "output_type": "stream",
       "stream": "stdout",
       "text": [
        "\n",
        "Now fetching ProblemID: 3408, Title: Gao"
       ]
      },
      {
       "output_type": "stream",
       "stream": "stdout",
       "text": [
        "\n",
        "Now fetching ProblemID: 3409, Title: KKV"
       ]
      },
      {
       "output_type": "stream",
       "stream": "stdout",
       "text": [
        "\n",
        "Now fetching ProblemID: 3410, Title: Layton's Escape"
       ]
      },
      {
       "output_type": "stream",
       "stream": "stdout",
       "text": [
        "\n",
        "Now fetching ProblemID: 3411, Title: Special Special Judge"
       ]
      },
      {
       "output_type": "stream",
       "stream": "stdout",
       "text": [
        "\n",
        "Now fetching ProblemID: 3412, Title: Special Special Judge II"
       ]
      },
      {
       "output_type": "stream",
       "stream": "stdout",
       "text": [
        "\n",
        "Now fetching ProblemID: 3413, Title: Special Special Judge III"
       ]
      },
      {
       "output_type": "stream",
       "stream": "stdout",
       "text": [
        "\n",
        "Now fetching ProblemID: 3414, Title: Trail Walk"
       ]
      },
      {
       "output_type": "stream",
       "stream": "stdout",
       "text": [
        "\n",
        "Now fetching ProblemID: 3415, Title: Zhou Yu"
       ]
      },
      {
       "output_type": "stream",
       "stream": "stdout",
       "text": [
        "\n",
        "Now fetching ProblemID: 3416, Title: Balanced Number"
       ]
      },
      {
       "output_type": "stream",
       "stream": "stdout",
       "text": [
        "\n",
        "Now fetching ProblemID: 3417, Title: Battle over Cities"
       ]
      },
      {
       "output_type": "stream",
       "stream": "stdout",
       "text": [
        "\n",
        "Now fetching ProblemID: 3418, Title: Binary Number"
       ]
      },
      {
       "output_type": "stream",
       "stream": "stdout",
       "text": [
        "\n",
        "Now fetching ProblemID: 3419, Title: Detector Placement"
       ]
      },
      {
       "output_type": "stream",
       "stream": "stdout",
       "text": [
        "\n",
        "Now fetching ProblemID: 3420, Title: Double Maze"
       ]
      },
      {
       "output_type": "stream",
       "stream": "stdout",
       "text": [
        "\n",
        "Now fetching ProblemID: 3421, Title: Error Curves"
       ]
      },
      {
       "output_type": "stream",
       "stream": "stdout",
       "text": [
        "\n",
        "Now fetching ProblemID: 3422, Title: Go Deeper"
       ]
      },
      {
       "output_type": "stream",
       "stream": "stdout",
       "text": [
        "\n",
        "Now fetching ProblemID: 3423, Title: Jenga"
       ]
      },
      {
       "output_type": "stream",
       "stream": "stdout",
       "text": [
        "\n",
        "Now fetching ProblemID: 3424, Title: Rescue"
       ]
      },
      {
       "output_type": "stream",
       "stream": "stdout",
       "text": [
        "\n",
        "Now fetching ProblemID: 3425, Title: Similarity"
       ]
      },
      {
       "output_type": "stream",
       "stream": "stdout",
       "text": [
        "\n",
        "Now fetching ProblemID: 3426, Title: Snooker Referee"
       ]
      },
      {
       "output_type": "stream",
       "stream": "stdout",
       "text": [
        "\n",
        "Now fetching ProblemID: 3427, Title: Array Slicing"
       ]
      },
      {
       "output_type": "stream",
       "stream": "stdout",
       "text": [
        "\n",
        "Now fetching ProblemID: 3428, Title: Bug Races"
       ]
      },
      {
       "output_type": "stream",
       "stream": "stdout",
       "text": [
        "\n",
        "Now fetching ProblemID: 3429, Title: Cube Simulation"
       ]
      },
      {
       "output_type": "stream",
       "stream": "stdout",
       "text": [
        "\n",
        "Now fetching ProblemID: 3430, Title: Detect the Virus"
       ]
      },
      {
       "output_type": "stream",
       "stream": "stdout",
       "text": [
        "\n",
        "Now fetching ProblemID: 3431, Title: Escape!"
       ]
      },
      {
       "output_type": "stream",
       "stream": "stdout",
       "text": [
        "\n",
        "Now fetching ProblemID: 3432, Title: Find the Lost Sock"
       ]
      },
      {
       "output_type": "stream",
       "stream": "stdout",
       "text": [
        "\n",
        "Now fetching ProblemID: 3433, Title: Gu Jian Qi Tan"
       ]
      },
      {
       "output_type": "stream",
       "stream": "stdout",
       "text": [
        "\n",
        "Now fetching ProblemID: 3434, Title: Hiiragi's Sticks"
       ]
      },
      {
       "output_type": "stream",
       "stream": "stdout",
       "text": [
        "\n",
        "Now fetching ProblemID: 3435, Title: Ideal Puzzle Bobble"
       ]
      },
      {
       "output_type": "stream",
       "stream": "stdout",
       "text": [
        "\n",
        "Now fetching ProblemID: 3436, Title: July Number"
       ]
      },
      {
       "output_type": "stream",
       "stream": "stdout",
       "text": [
        "\n",
        "Now fetching ProblemID: 3437, Title: Very Hard Problem"
       ]
      },
      {
       "output_type": "stream",
       "stream": "stdout",
       "text": [
        "\n",
        "Now fetching ProblemID: 3438, Title: Tripartite Graph"
       ]
      },
      {
       "output_type": "stream",
       "stream": "stdout",
       "text": [
        "\n",
        "Now fetching ProblemID: 3439, Title: Substitution Cipher"
       ]
      },
      {
       "output_type": "stream",
       "stream": "stdout",
       "text": [
        "\n",
        "Now fetching ProblemID: 3440, Title: Detect the Virus II"
       ]
      },
      {
       "output_type": "stream",
       "stream": "stdout",
       "text": [
        "\n",
        "Now fetching ProblemID: 3441, Title: Crack Me II"
       ]
      },
      {
       "output_type": "stream",
       "stream": "stdout",
       "text": [
        "\n",
        "Now fetching ProblemID: 3442, Title: Complex Calculator"
       ]
      },
      {
       "output_type": "stream",
       "stream": "stdout",
       "text": [
        "\n",
        "Now fetching ProblemID: 3443, Title: Bessel Function II"
       ]
      },
      {
       "output_type": "stream",
       "stream": "stdout",
       "text": [
        "\n",
        "Now fetching ProblemID: 3444, Title: An Unusual Problem"
       ]
      },
      {
       "output_type": "stream",
       "stream": "stdout",
       "text": [
        "\n",
        "Now fetching ProblemID: 3445, Title: 1KB"
       ]
      },
      {
       "output_type": "stream",
       "stream": "stdout",
       "text": [
        "\n",
        "Now fetching ProblemID: 3446, Title: Doraemon's Battle"
       ]
      },
      {
       "output_type": "stream",
       "stream": "stdout",
       "text": [
        "\n",
        "Now fetching ProblemID: 3447, Title: Doraemon's Number Game"
       ]
      },
      {
       "output_type": "stream",
       "stream": "stdout",
       "text": [
        "\n",
        "Now fetching ProblemID: 3448, Title: Doraemon's Number Game II"
       ]
      },
      {
       "output_type": "stream",
       "stream": "stdout",
       "text": [
        "\n",
        "Now fetching ProblemID: 3449, Title: Doraemon's Number Game III"
       ]
      },
      {
       "output_type": "stream",
       "stream": "stdout",
       "text": [
        "\n",
        "Now fetching ProblemID: 3450, Title: Doraemon's Railgun"
       ]
      },
      {
       "output_type": "stream",
       "stream": "stdout",
       "text": [
        "\n",
        "Now fetching ProblemID: 3451, Title: Doraemon's Shooting Practice"
       ]
      },
      {
       "output_type": "stream",
       "stream": "stdout",
       "text": [
        "\n",
        "Now fetching ProblemID: 3452, Title: Doraemon's Stone Game"
       ]
      },
      {
       "output_type": "stream",
       "stream": "stdout",
       "text": [
        "\n",
        "Now fetching ProblemID: 3453, Title: Doraemon's Sweet Bullet"
       ]
      },
      {
       "output_type": "stream",
       "stream": "stdout",
       "text": [
        "\n",
        "Now fetching ProblemID: 3454, Title: Nobita's Letter"
       ]
      },
      {
       "output_type": "stream",
       "stream": "stdout",
       "text": [
        "\n",
        "Now fetching ProblemID: 3455, Title: Shizuka's Letter"
       ]
      },
      {
       "output_type": "stream",
       "stream": "stdout",
       "text": [
        "\n",
        "Now fetching ProblemID: 3456, Title: Traveler Nobita"
       ]
      },
      {
       "output_type": "stream",
       "stream": "stdout",
       "text": [
        "\n",
        "Now fetching ProblemID: 3457, Title: Absence Number"
       ]
      },
      {
       "output_type": "stream",
       "stream": "stdout",
       "text": [
        "\n",
        "Now fetching ProblemID: 3458, Title: A Simple Math Problem"
       ]
      },
      {
       "output_type": "stream",
       "stream": "stdout",
       "text": [
        "\n",
        "Now fetching ProblemID: 3459, Title: Extraordinary 24-Point Game"
       ]
      },
      {
       "output_type": "stream",
       "stream": "stdout",
       "text": [
        "\n",
        "Now fetching ProblemID: 3460, Title: Missile"
       ]
      },
      {
       "output_type": "stream",
       "stream": "stdout",
       "text": [
        "\n",
        "Now fetching ProblemID: 3461, Title: Money Transfer"
       ]
      },
      {
       "output_type": "stream",
       "stream": "stdout",
       "text": [
        "\n",
        "Now fetching ProblemID: 3462, Title: Nobita's New Filesystem"
       ]
      },
      {
       "output_type": "stream",
       "stream": "stdout",
       "text": [
        "\n",
        "Now fetching ProblemID: 3463, Title: Piano"
       ]
      },
      {
       "output_type": "stream",
       "stream": "stdout",
       "text": [
        "\n",
        "Now fetching ProblemID: 3464, Title: Rugby Football"
       ]
      },
      {
       "output_type": "stream",
       "stream": "stdout",
       "text": [
        "\n",
        "Now fetching ProblemID: 3465, Title: The Hive"
       ]
      },
      {
       "output_type": "stream",
       "stream": "stdout",
       "text": [
        "\n",
        "Now fetching ProblemID: 3466, Title: The Hive II"
       ]
      },
      {
       "output_type": "stream",
       "stream": "stdout",
       "text": [
        "\n",
        "Now fetching ProblemID: 3467, Title: 3D Knight Moves"
       ]
      },
      {
       "output_type": "stream",
       "stream": "stdout",
       "text": [
        "\n",
        "Now fetching ProblemID: 3468, Title: Dice War"
       ]
      },
      {
       "output_type": "stream",
       "stream": "stdout",
       "text": [
        "\n",
        "Now fetching ProblemID: 3469, Title: Food Delivery"
       ]
      },
      {
       "output_type": "stream",
       "stream": "stdout",
       "text": [
        "\n",
        "Now fetching ProblemID: 3470, Title: Magic Squares"
       ]
      },
      {
       "output_type": "stream",
       "stream": "stdout",
       "text": [
        "\n",
        "Now fetching ProblemID: 3471, Title: Most Powerful"
       ]
      },
      {
       "output_type": "stream",
       "stream": "stdout",
       "text": [
        "\n",
        "Now fetching ProblemID: 3472, Title: Play Bridge"
       ]
      },
      {
       "output_type": "stream",
       "stream": "stdout",
       "text": [
        "\n",
        "Now fetching ProblemID: 3473, Title: Radio Matrix"
       ]
      },
      {
       "output_type": "stream",
       "stream": "stdout",
       "text": [
        "\n",
        "Now fetching ProblemID: 3474, Title: Taekwondo"
       ]
      },
      {
       "output_type": "stream",
       "stream": "stdout",
       "text": [
        "\n",
        "Now fetching ProblemID: 3475, Title: The Great Wall I"
       ]
      },
      {
       "output_type": "stream",
       "stream": "stdout",
       "text": [
        "\n",
        "Now fetching ProblemID: 3476, Title: The Great Wall II"
       ]
      },
      {
       "output_type": "stream",
       "stream": "stdout",
       "text": [
        "\n",
        "Now fetching ProblemID: 3477, Title: Akasim Matrix"
       ]
      },
      {
       "output_type": "stream",
       "stream": "stdout",
       "text": [
        "\n",
        "Now fetching ProblemID: 3478, Title: Binary Land"
       ]
      },
      {
       "output_type": "stream",
       "stream": "stdout",
       "text": [
        "\n",
        "Now fetching ProblemID: 3479, Title: Chinese Zodiac"
       ]
      },
      {
       "output_type": "stream",
       "stream": "stdout",
       "text": [
        "\n",
        "Now fetching ProblemID: 3480, Title: Duck Typing"
       ]
      },
      {
       "output_type": "stream",
       "stream": "stdout",
       "text": [
        "\n",
        "Now fetching ProblemID: 3481, Title: Expand Tab"
       ]
      },
      {
       "output_type": "stream",
       "stream": "stdout",
       "text": [
        "\n",
        "Now fetching ProblemID: 3482, Title: For Loop"
       ]
      },
      {
       "output_type": "stream",
       "stream": "stdout",
       "text": [
        "\n",
        "Now fetching ProblemID: 3483, Title: Gaussian Prime"
       ]
      },
      {
       "output_type": "stream",
       "stream": "stdout",
       "text": [
        "\n",
        "Now fetching ProblemID: 3484, Title: How Many Parallelograms on the Grids?"
       ]
      },
      {
       "output_type": "stream",
       "stream": "stdout",
       "text": [
        "\n",
        "Now fetching ProblemID: 3485, Title: Identification Number"
       ]
      },
      {
       "output_type": "stream",
       "stream": "stdout",
       "text": [
        "\n",
        "Now fetching ProblemID: 3486, Title: Judge Internal Error"
       ]
      },
      {
       "output_type": "stream",
       "stream": "stdout",
       "text": [
        "\n",
        "Now fetching ProblemID: 3487, Title: Ordinal Numbers"
       ]
      },
      {
       "output_type": "stream",
       "stream": "stdout",
       "text": [
        "\n",
        "Now fetching ProblemID: 3488, Title: Conic Section"
       ]
      },
      {
       "output_type": "stream",
       "stream": "stdout",
       "text": [
        "\n",
        "Now fetching ProblemID: 3489, Title: Old Labels"
       ]
      },
      {
       "output_type": "stream",
       "stream": "stdout",
       "text": [
        "\n",
        "Now fetching ProblemID: 3490, Title: String Successor"
       ]
      },
      {
       "output_type": "stream",
       "stream": "stdout",
       "text": [
        "\n",
        "Now fetching ProblemID: 3491, Title: Wall-nut Bowling"
       ]
      },
      {
       "output_type": "stream",
       "stream": "stdout",
       "text": [
        "\n",
        "Now fetching ProblemID: 3492, Title: Kagome Kagome"
       ]
      },
      {
       "output_type": "stream",
       "stream": "stdout",
       "text": [
        "\n",
        "Now fetching ProblemID: 3493, Title: Palm Up and Palm Down"
       ]
      },
      {
       "output_type": "stream",
       "stream": "stdout",
       "text": [
        "\n",
        "Now fetching ProblemID: 3494, Title: BCD Code"
       ]
      },
      {
       "output_type": "stream",
       "stream": "stdout",
       "text": [
        "\n",
        "Now fetching ProblemID: 3495, Title: Lego Bricks"
       ]
      },
      {
       "output_type": "stream",
       "stream": "stdout",
       "text": [
        "\n",
        "Now fetching ProblemID: 3496, Title: Assignment"
       ]
      },
      {
       "output_type": "stream",
       "stream": "stdout",
       "text": [
        "\n",
        "Now fetching ProblemID: 3497, Title: Mistwald"
       ]
      },
      {
       "output_type": "stream",
       "stream": "stdout",
       "text": [
        "\n",
        "Now fetching ProblemID: 3498, Title: Javabeans"
       ]
      },
      {
       "output_type": "stream",
       "stream": "stdout",
       "text": [
        "\n",
        "Now fetching ProblemID: 3499, Title: Median"
       ]
      },
      {
       "output_type": "stream",
       "stream": "stdout",
       "text": [
        "\n",
        "Now fetching ProblemID: 3500, Title: Electron Cloud"
       ]
      },
      {
       "output_type": "stream",
       "stream": "stdout",
       "text": [
        "\n",
        "Now fetching ProblemID: 3501, Title: Roman Order"
       ]
      },
      {
       "output_type": "stream",
       "stream": "stdout",
       "text": [
        "\n",
        "Now fetching ProblemID: 3502, Title: Contest"
       ]
      },
      {
       "output_type": "stream",
       "stream": "stdout",
       "text": [
        "\n",
        "Now fetching ProblemID: 3503, Title: Quadratic Surface"
       ]
      },
      {
       "output_type": "stream",
       "stream": "stdout",
       "text": [
        "\n",
        "Now fetching ProblemID: 3504, Title: P-norm"
       ]
      },
      {
       "output_type": "stream",
       "stream": "stdout",
       "text": [
        "\n",
        "Now fetching ProblemID: 3505, Title: Yet Another Set of Numbers"
       ]
      },
      {
       "output_type": "stream",
       "stream": "stdout",
       "text": [
        "\n",
        "Now fetching ProblemID: 3506, Title: Cut the Tree"
       ]
      },
      {
       "output_type": "stream",
       "stream": "stdout",
       "text": [
        "\n",
        "Now fetching ProblemID: 3507, Title: Fractal"
       ]
      },
      {
       "output_type": "stream",
       "stream": "stdout",
       "text": [
        "\n",
        "Now fetching ProblemID: 3508, Title: The War"
       ]
      },
      {
       "output_type": "stream",
       "stream": "stdout",
       "text": [
        "\n",
        "Now fetching ProblemID: 3509, Title: Island Communication"
       ]
      },
      {
       "output_type": "stream",
       "stream": "stdout",
       "text": [
        "\n",
        "Now fetching ProblemID: 3510, Title: Boring Assignment Expressions"
       ]
      },
      {
       "output_type": "stream",
       "stream": "stdout",
       "text": [
        "\n",
        "Now fetching ProblemID: 3511, Title: Cake Robbery"
       ]
      },
      {
       "output_type": "stream",
       "stream": "stdout",
       "text": [
        "\n",
        "Now fetching ProblemID: 3512, Title: Financial Fraud"
       ]
      },
      {
       "output_type": "stream",
       "stream": "stdout",
       "text": [
        "\n",
        "Now fetching ProblemID: 3513, Title: Human or Pig"
       ]
      },
      {
       "output_type": "stream",
       "stream": "stdout",
       "text": [
        "\n",
        "Now fetching ProblemID: 3514, Title: Palindromic Mighty String"
       ]
      },
      {
       "output_type": "stream",
       "stream": "stdout",
       "text": [
        "\n",
        "Now fetching ProblemID: 3515, Title: ToT"
       ]
      },
      {
       "output_type": "stream",
       "stream": "stdout",
       "text": [
        "\n",
        "Now fetching ProblemID: 3516, Title: Tree of Three"
       ]
      },
      {
       "output_type": "stream",
       "stream": "stdout",
       "text": [
        "\n",
        "Now fetching ProblemID: 3517, Title: Tower VII"
       ]
      },
      {
       "output_type": "stream",
       "stream": "stdout",
       "text": [
        "\n",
        "Now fetching ProblemID: 3518, Title: Unsafe Factor"
       ]
      },
      {
       "output_type": "stream",
       "stream": "stdout",
       "text": [
        "\n",
        "Now fetching ProblemID: 3519, Title: Who is the Smartest Man"
       ]
      },
      {
       "output_type": "stream",
       "stream": "stdout",
       "text": [
        "\n",
        "Now fetching ProblemID: 3520, Title: Hello, Gensokyo"
       ]
      },
      {
       "output_type": "stream",
       "stream": "stdout",
       "text": [
        "\n",
        "Now fetching ProblemID: 3521, Title: Fairy Wars"
       ]
      },
      {
       "output_type": "stream",
       "stream": "stdout",
       "text": [
        "\n",
        "Now fetching ProblemID: 3522, Title: Hide and seek"
       ]
      },
      {
       "output_type": "stream",
       "stream": "stdout",
       "text": [
        "\n",
        "Now fetching ProblemID: 3523, Title: Bookcase"
       ]
      },
      {
       "output_type": "stream",
       "stream": "stdout",
       "text": [
        "\n",
        "Now fetching ProblemID: 3524, Title: Crazy Shopping"
       ]
      },
      {
       "output_type": "stream",
       "stream": "stdout",
       "text": [
        "\n",
        "Now fetching ProblemID: 3525, Title: Disappearance"
       ]
      },
      {
       "output_type": "stream",
       "stream": "stdout",
       "text": [
        "\n",
        "Now fetching ProblemID: 3526, Title: Weekend Party"
       ]
      },
      {
       "output_type": "stream",
       "stream": "stdout",
       "text": [
        "\n",
        "Now fetching ProblemID: 3527, Title: Shinryaku! Kero Musume"
       ]
      },
      {
       "output_type": "stream",
       "stream": "stdout",
       "text": [
        "\n",
        "Now fetching ProblemID: 3528, Title: Parterre"
       ]
      },
      {
       "output_type": "stream",
       "stream": "stdout",
       "text": [
        "\n",
        "Now fetching ProblemID: 3529, Title: A Game Between Alice and Bob"
       ]
      },
      {
       "output_type": "stream",
       "stream": "stdout",
       "text": [
        "\n",
        "Now fetching ProblemID: 3530, Title: Legend TD"
       ]
      },
      {
       "output_type": "stream",
       "stream": "stdout",
       "text": [
        "\n",
        "Now fetching ProblemID: 3531, Title: Alice Madness Return"
       ]
      },
      {
       "output_type": "stream",
       "stream": "stdout",
       "text": [
        "\n",
        "Now fetching ProblemID: 3532, Title: Kevin Bacon"
       ]
      },
      {
       "output_type": "stream",
       "stream": "stdout",
       "text": [
        "\n",
        "Now fetching ProblemID: 3533, Title: Gao the String I"
       ]
      },
      {
       "output_type": "stream",
       "stream": "stdout",
       "text": [
        "\n",
        "Now fetching ProblemID: 3534, Title: Move the Mouse I"
       ]
      },
      {
       "output_type": "stream",
       "stream": "stdout",
       "text": [
        "\n",
        "Now fetching ProblemID: 3535, Title: Gao the String II"
       ]
      },
      {
       "output_type": "stream",
       "stream": "stdout",
       "text": [
        "\n",
        "Now fetching ProblemID: 3536, Title: Move the Mouse II"
       ]
      },
      {
       "output_type": "stream",
       "stream": "stdout",
       "text": [
        "\n",
        "Now fetching ProblemID: 3537, Title: Cake"
       ]
      },
      {
       "output_type": "stream",
       "stream": "stdout",
       "text": [
        "\n",
        "Now fetching ProblemID: 3538, Title: Arrange the Schedule"
       ]
      },
      {
       "output_type": "stream",
       "stream": "stdout",
       "text": [
        "\n",
        "Now fetching ProblemID: 3539, Title: Compress the String"
       ]
      },
      {
       "output_type": "stream",
       "stream": "stdout",
       "text": [
        "\n",
        "Now fetching ProblemID: 3540, Title: Adding New Machine"
       ]
      },
      {
       "output_type": "stream",
       "stream": "stdout",
       "text": [
        "\n",
        "Now fetching ProblemID: 3541, Title: The Last Puzzle"
       ]
      },
      {
       "output_type": "stream",
       "stream": "stdout",
       "text": [
        "\n",
        "Now fetching ProblemID: 3542, Title: Hexadecimal View"
       ]
      },
      {
       "output_type": "stream",
       "stream": "stdout",
       "text": [
        "\n",
        "Now fetching ProblemID: 3543, Title: Number String"
       ]
      },
      {
       "output_type": "stream",
       "stream": "stdout",
       "text": [
        "\n",
        "Now fetching ProblemID: 3544, Title: Draw a Mess"
       ]
      },
      {
       "output_type": "stream",
       "stream": "stdout",
       "text": [
        "\n",
        "Now fetching ProblemID: 3545, Title: Rescue the Rabbit"
       ]
      },
      {
       "output_type": "stream",
       "stream": "stdout",
       "text": [
        "\n",
        "Now fetching ProblemID: 3546, Title: Advanture of Xiaoxingxing"
       ]
      },
      {
       "output_type": "stream",
       "stream": "stdout",
       "text": [
        "\n",
        "Now fetching ProblemID: 3547, Title: The Boss on Mars"
       ]
      },
      {
       "output_type": "stream",
       "stream": "stdout",
       "text": [
        "\n",
        "Now fetching ProblemID: 3548, Title: Chess Board"
       ]
      },
      {
       "output_type": "stream",
       "stream": "stdout",
       "text": [
        "\n",
        "Now fetching ProblemID: 3549, Title: Little Keng"
       ]
      },
      {
       "output_type": "stream",
       "stream": "stdout",
       "text": [
        "\n",
        "Now fetching ProblemID: 3550, Title: Big Keng"
       ]
      },
      {
       "output_type": "stream",
       "stream": "stdout",
       "text": [
        "\n",
        "Now fetching ProblemID: 3551, Title: Bloodsucker"
       ]
      },
      {
       "output_type": "stream",
       "stream": "stdout",
       "text": [
        "\n",
        "Now fetching ProblemID: 3552, Title: Lift the Slate"
       ]
      },
      {
       "output_type": "stream",
       "stream": "stdout",
       "text": [
        "\n",
        "Now fetching ProblemID: 3553, Title: Hypercube"
       ]
      },
      {
       "output_type": "stream",
       "stream": "stdout",
       "text": [
        "\n",
        "Now fetching ProblemID: 3554, Title: A Miser Boss"
       ]
      },
      {
       "output_type": "stream",
       "stream": "stdout",
       "text": [
        "\n",
        "Now fetching ProblemID: 3555, Title: Ice Climber"
       ]
      },
      {
       "output_type": "stream",
       "stream": "stdout",
       "text": [
        "\n",
        "Now fetching ProblemID: 3556, Title: How Many Sets I"
       ]
      },
      {
       "output_type": "stream",
       "stream": "stdout",
       "text": [
        "\n",
        "Now fetching ProblemID: 3557, Title: How Many Sets II"
       ]
      },
      {
       "output_type": "stream",
       "stream": "stdout",
       "text": [
        "\n",
        "Now fetching ProblemID: 3558, Title: How Many Sets III"
       ]
      },
      {
       "output_type": "stream",
       "stream": "stdout",
       "text": [
        "\n",
        "Now fetching ProblemID: 3559, Title: Go across"
       ]
      },
      {
       "output_type": "stream",
       "stream": "stdout",
       "text": [
        "\n",
        "Now fetching ProblemID: 3560, Title: Re: the Princess"
       ]
      },
      {
       "output_type": "stream",
       "stream": "stdout",
       "text": [
        "\n",
        "Now fetching ProblemID: 3561, Title: Deliver Lunch"
       ]
      },
      {
       "output_type": "stream",
       "stream": "stdout",
       "text": [
        "\n",
        "Now fetching ProblemID: 3562, Title: Alice's Sequence I"
       ]
      },
      {
       "output_type": "stream",
       "stream": "stdout",
       "text": [
        "\n",
        "Now fetching ProblemID: 3563, Title: Alice's Sequence II"
       ]
      },
      {
       "output_type": "stream",
       "stream": "stdout",
       "text": [
        "\n",
        "Now fetching ProblemID: 3564, Title: Stock I"
       ]
      },
      {
       "output_type": "stream",
       "stream": "stdout",
       "text": [
        "\n",
        "Now fetching ProblemID: 3565, Title: Stock II"
       ]
      },
      {
       "output_type": "stream",
       "stream": "stdout",
       "text": [
        "\n",
        "Now fetching ProblemID: 3566, Title: Stock III"
       ]
      },
      {
       "output_type": "stream",
       "stream": "stdout",
       "text": [
        "\n",
        "Now fetching ProblemID: 3567, Title: Stock IV"
       ]
      },
      {
       "output_type": "stream",
       "stream": "stdout",
       "text": [
        "\n",
        "Now fetching ProblemID: 3568, Title: Exchange for Cola"
       ]
      },
      {
       "output_type": "stream",
       "stream": "stdout",
       "text": [
        "\n",
        "Now fetching ProblemID: 3569, Title: Dr. Zomboss's Revenge"
       ]
      },
      {
       "output_type": "stream",
       "stream": "stdout",
       "text": [
        "\n",
        "Now fetching ProblemID: 3570, Title: Lott's Seal"
       ]
      },
      {
       "output_type": "stream",
       "stream": "stdout",
       "text": [
        "\n",
        "Now fetching ProblemID: 3571, Title: Good Rectangle"
       ]
      },
      {
       "output_type": "stream",
       "stream": "stdout",
       "text": [
        "\n",
        "Now fetching ProblemID: 3572, Title: Getting Meal"
       ]
      },
      {
       "output_type": "stream",
       "stream": "stdout",
       "text": [
        "\n",
        "Now fetching ProblemID: 3573, Title: Under Attack"
       ]
      },
      {
       "output_type": "stream",
       "stream": "stdout",
       "text": [
        "\n",
        "Now fetching ProblemID: 3574, Title: Under Attack II"
       ]
      },
      {
       "output_type": "stream",
       "stream": "stdout",
       "text": [
        "\n",
        "Now fetching ProblemID: 3575, Title: Under Attack III"
       ]
      },
      {
       "output_type": "stream",
       "stream": "stdout",
       "text": [
        "\n",
        "Now fetching ProblemID: 3576, Title: Count the Length"
       ]
      },
      {
       "output_type": "stream",
       "stream": "stdout",
       "text": [
        "\n",
        "Now fetching ProblemID: 3577, Title: Max Damage Export"
       ]
      },
      {
       "output_type": "stream",
       "stream": "stdout",
       "text": [
        "\n",
        "Now fetching ProblemID: 3578, Title: Matrix"
       ]
      },
      {
       "output_type": "stream",
       "stream": "stdout",
       "text": [
        "\n",
        "Now fetching ProblemID: 3579, Title: Gao the variable"
       ]
      },
      {
       "output_type": "stream",
       "stream": "stdout",
       "text": [
        "\n",
        "Now fetching ProblemID: 3580, Title: Angry Birds"
       ]
      },
      {
       "output_type": "stream",
       "stream": "stdout",
       "text": [
        "\n",
        "Now fetching ProblemID: 3581, Title: A Simple Test"
       ]
      },
      {
       "output_type": "stream",
       "stream": "stdout",
       "text": [
        "\n",
        "Now fetching ProblemID: 3582, Title: Back to the Past"
       ]
      },
      {
       "output_type": "stream",
       "stream": "stdout",
       "text": [
        "\n",
        "Now fetching ProblemID: 3583, Title: Simple Path"
       ]
      },
      {
       "output_type": "stream",
       "stream": "stdout",
       "text": [
        "\n",
        "Now fetching ProblemID: 3584, Title: Distribution Network"
       ]
      },
      {
       "output_type": "stream",
       "stream": "stdout",
       "text": [
        "\n",
        "Now fetching ProblemID: 3585, Title: Equivalent Expression"
       ]
      },
      {
       "output_type": "stream",
       "stream": "stdout",
       "text": [
        "\n",
        "Now fetching ProblemID: 3586, Title: Press the Button"
       ]
      },
      {
       "output_type": "stream",
       "stream": "stdout",
       "text": [
        "\n",
        "Now fetching ProblemID: 3587, Title: Marlon's String"
       ]
      },
      {
       "output_type": "stream",
       "stream": "stdout",
       "text": [
        "\n",
        "Now fetching ProblemID: 3588, Title: MOD and MOD_IF"
       ]
      },
      {
       "output_type": "stream",
       "stream": "stdout",
       "text": [
        "\n",
        "Now fetching ProblemID: 3589, Title: A Song of Anniversary"
       ]
      },
      {
       "output_type": "stream",
       "stream": "stdout",
       "text": [
        "\n",
        "Now fetching ProblemID: 3590, Title: -3+1"
       ]
      },
      {
       "output_type": "stream",
       "stream": "stdout",
       "text": [
        "\n",
        "Now fetching ProblemID: 3591, Title: Nim"
       ]
      },
      {
       "output_type": "stream",
       "stream": "stdout",
       "text": [
        "\n",
        "Now fetching ProblemID: 3592, Title: Flipping the Board"
       ]
      },
      {
       "output_type": "stream",
       "stream": "stdout",
       "text": [
        "\n",
        "Now fetching ProblemID: 3593, Title: One Person Game"
       ]
      },
      {
       "output_type": "stream",
       "stream": "stdout",
       "text": [
        "\n",
        "Now fetching ProblemID: 3594, Title: Sexagenary Cycle"
       ]
      },
      {
       "output_type": "stream",
       "stream": "stdout",
       "text": [
        "\n",
        "Now fetching ProblemID: 3595, Title: Two Sequences"
       ]
      },
      {
       "output_type": "stream",
       "stream": "stdout",
       "text": [
        "\n",
        "Now fetching ProblemID: 3596, Title: Digit Number"
       ]
      },
      {
       "output_type": "stream",
       "stream": "stdout",
       "text": [
        "\n",
        "Now fetching ProblemID: 3597, Title: Hit the Target!"
       ]
      },
      {
       "output_type": "stream",
       "stream": "stdout",
       "text": [
        "\n",
        "Now fetching ProblemID: 3598, Title: Spherical Triangle"
       ]
      },
      {
       "output_type": "stream",
       "stream": "stdout",
       "text": [
        "\n",
        "Now fetching ProblemID: 3599, Title: Game"
       ]
      },
      {
       "output_type": "stream",
       "stream": "stdout",
       "text": [
        "\n",
        "Now fetching ProblemID: 3600, Title: Taxi Fare"
       ]
      },
      {
       "output_type": "stream",
       "stream": "stdout",
       "text": [
        "\n",
        "Now fetching ProblemID: 3601, Title: Unrequited Love"
       ]
      },
      {
       "output_type": "stream",
       "stream": "stdout",
       "text": [
        "\n",
        "Now fetching ProblemID: 3602, Title: Count the Trees"
       ]
      },
      {
       "output_type": "stream",
       "stream": "stdout",
       "text": [
        "\n",
        "Now fetching ProblemID: 3603, Title: Draw Something Cheat"
       ]
      },
      {
       "output_type": "stream",
       "stream": "stdout",
       "text": [
        "\n",
        "Now fetching ProblemID: 3604, Title: Tunnel Network"
       ]
      },
      {
       "output_type": "stream",
       "stream": "stdout",
       "text": [
        "\n",
        "Now fetching ProblemID: 3605, Title: Find the Marble"
       ]
      },
      {
       "output_type": "stream",
       "stream": "stdout",
       "text": [
        "\n",
        "Now fetching ProblemID: 3606, Title: Lazy Salesgirl"
       ]
      },
      {
       "output_type": "stream",
       "stream": "stdout",
       "text": [
        "\n",
        "Now fetching ProblemID: 3607, Title: Lazier Salesgirl"
       ]
      },
      {
       "output_type": "stream",
       "stream": "stdout",
       "text": [
        "\n",
        "Now fetching ProblemID: 3608, Title: Signal Detection"
       ]
      },
      {
       "output_type": "stream",
       "stream": "stdout",
       "text": [
        "\n",
        "Now fetching ProblemID: 3609, Title: Modular Inverse"
       ]
      },
      {
       "output_type": "stream",
       "stream": "stdout",
       "text": [
        "\n",
        "Now fetching ProblemID: 3610, Title: Yet Another Story of Rock-paper-scissors"
       ]
      },
      {
       "output_type": "stream",
       "stream": "stdout",
       "text": [
        "\n",
        "Now fetching ProblemID: 3611, Title: Ice Valley"
       ]
      },
      {
       "output_type": "stream",
       "stream": "stdout",
       "text": [
        "\n",
        "Now fetching ProblemID: 3612, Title: Median"
       ]
      },
      {
       "output_type": "stream",
       "stream": "stdout",
       "text": [
        "\n",
        "Now fetching ProblemID: 3613, Title: Wormhole Transport"
       ]
      },
      {
       "output_type": "stream",
       "stream": "stdout",
       "text": [
        "\n",
        "Now fetching ProblemID: 3614, Title: Choir"
       ]
      },
      {
       "output_type": "stream",
       "stream": "stdout",
       "text": [
        "\n",
        "Now fetching ProblemID: 3615, Title: Choir II"
       ]
      },
      {
       "output_type": "stream",
       "stream": "stdout",
       "text": [
        "\n",
        "Now fetching ProblemID: 3616, Title: Choir III"
       ]
      },
      {
       "output_type": "stream",
       "stream": "stdout",
       "text": [
        "\n",
        "Now fetching ProblemID: 3617, Title: Riding Alone for Thousands of Miles"
       ]
      },
      {
       "output_type": "stream",
       "stream": "stdout",
       "text": [
        "\n",
        "Now fetching ProblemID: 3618, Title: Hash Function"
       ]
      },
      {
       "output_type": "stream",
       "stream": "stdout",
       "text": [
        "\n",
        "Now fetching ProblemID: 3619, Title: Escape Time"
       ]
      },
      {
       "output_type": "stream",
       "stream": "stdout",
       "text": [
        "\n",
        "Now fetching ProblemID: 3620, Title: Escape Time II"
       ]
      },
      {
       "output_type": "stream",
       "stream": "stdout",
       "text": [
        "\n",
        "Now fetching ProblemID: 3621, Title: Factorial Problem in Base K"
       ]
      },
      {
       "output_type": "stream",
       "stream": "stdout",
       "text": [
        "\n",
        "Now fetching ProblemID: 3622, Title: Magic Number"
       ]
      },
      {
       "output_type": "stream",
       "stream": "stdout",
       "text": [
        "\n",
        "Now fetching ProblemID: 3623, Title: Battle Ships"
       ]
      },
      {
       "output_type": "stream",
       "stream": "stdout",
       "text": [
        "\n",
        "Now fetching ProblemID: 3624, Title: Count Path Pair"
       ]
      },
      {
       "output_type": "stream",
       "stream": "stdout",
       "text": [
        "\n",
        "Now fetching ProblemID: 3625, Title: Geek's Collection"
       ]
      },
      {
       "output_type": "stream",
       "stream": "stdout",
       "text": [
        "\n",
        "Now fetching ProblemID: 3626, Title: Treasure Hunt I"
       ]
      },
      {
       "output_type": "stream",
       "stream": "stdout",
       "text": [
        "\n",
        "Now fetching ProblemID: 3627, Title: Treasure Hunt II"
       ]
      },
      {
       "output_type": "stream",
       "stream": "stdout",
       "text": [
        "\n",
        "Now fetching ProblemID: 3628, Title: Treasure Hunt III"
       ]
      },
      {
       "output_type": "stream",
       "stream": "stdout",
       "text": [
        "\n",
        "Now fetching ProblemID: 3629, Title: Treasure Hunt IV"
       ]
      },
      {
       "output_type": "stream",
       "stream": "stdout",
       "text": [
        "\n",
        "Now fetching ProblemID: 3630, Title: Information"
       ]
      },
      {
       "output_type": "stream",
       "stream": "stdout",
       "text": [
        "\n",
        "Now fetching ProblemID: 3631, Title: Watashi's BG"
       ]
      },
      {
       "output_type": "stream",
       "stream": "stdout",
       "text": [
        "\n",
        "Now fetching ProblemID: 3632, Title: Watermelon Full of Water"
       ]
      },
      {
       "output_type": "stream",
       "stream": "stdout",
       "text": [
        "\n",
        "Now fetching ProblemID: 3633, Title: Alice's present"
       ]
      },
      {
       "output_type": "stream",
       "stream": "stdout",
       "text": [
        "\n",
        "Now fetching ProblemID: 3634, Title: Bounty hunter"
       ]
      },
      {
       "output_type": "stream",
       "stream": "stdout",
       "text": [
        "\n",
        "Now fetching ProblemID: 3635, Title: Cinema in Akiba"
       ]
      },
      {
       "output_type": "stream",
       "stream": "stdout",
       "text": [
        "\n",
        "Now fetching ProblemID: 3636, Title: Decode"
       ]
      },
      {
       "output_type": "stream",
       "stream": "stdout",
       "text": [
        "\n",
        "Now fetching ProblemID: 3637, Title: Education Manage System"
       ]
      },
      {
       "output_type": "stream",
       "stream": "stdout",
       "text": [
        "\n",
        "Now fetching ProblemID: 3638, Title: Fruit Ninja"
       ]
      },
      {
       "output_type": "stream",
       "stream": "stdout",
       "text": [
        "\n",
        "Now fetching ProblemID: 3639, Title: Guess a Function"
       ]
      },
      {
       "output_type": "stream",
       "stream": "stdout",
       "text": [
        "\n",
        "Now fetching ProblemID: 3640, Title: Help Me Escape"
       ]
      },
      {
       "output_type": "stream",
       "stream": "stdout",
       "text": [
        "\n",
        "Now fetching ProblemID: 3641, Title: Information Sharing"
       ]
      },
      {
       "output_type": "stream",
       "stream": "stdout",
       "text": [
        "\n",
        "Now fetching ProblemID: 3642, Title: Just Another Information Sharing Problem"
       ]
      },
      {
       "output_type": "stream",
       "stream": "stdout",
       "text": [
        "\n",
        "Now fetching ProblemID: 3643, Title: Keep Deleting"
       ]
      },
      {
       "output_type": "stream",
       "stream": "stdout",
       "text": [
        "\n",
        "Now fetching ProblemID: 3644, Title: Kitty's Game"
       ]
      },
      {
       "output_type": "stream",
       "stream": "stdout",
       "text": [
        "\n",
        "Now fetching ProblemID: 3645, Title: BiliBili"
       ]
      },
      {
       "output_type": "stream",
       "stream": "stdout",
       "text": [
        "\n",
        "Now fetching ProblemID: 3646, Title: Matrix Transformer"
       ]
      },
      {
       "output_type": "stream",
       "stream": "stdout",
       "text": [
        "\n",
        "Now fetching ProblemID: 3647, Title: Gao the Grid"
       ]
      },
      {
       "output_type": "stream",
       "stream": "stdout",
       "text": [
        "\n",
        "Now fetching ProblemID: 3648, Title: Gao the Grid II"
       ]
      },
      {
       "output_type": "stream",
       "stream": "stdout",
       "text": [
        "\n",
        "Now fetching ProblemID: 3649, Title: Social Net"
       ]
      },
      {
       "output_type": "stream",
       "stream": "stdout",
       "text": [
        "\n",
        "Now fetching ProblemID: 3650, Title: Toy Blocks"
       ]
      },
      {
       "output_type": "stream",
       "stream": "stdout",
       "text": [
        "\n",
        "Now fetching ProblemID: 3651, Title: Cipher Lock"
       ]
      },
      {
       "output_type": "stream",
       "stream": "stdout",
       "text": [
        "\n",
        "Now fetching ProblemID: 3652, Title: Maze"
       ]
      },
      {
       "output_type": "stream",
       "stream": "stdout",
       "text": [
        "\n",
        "Now fetching ProblemID: 3653, Title: Sleeper's Schedule"
       ]
      },
      {
       "output_type": "stream",
       "stream": "stdout",
       "text": [
        "\n",
        "Now fetching ProblemID: 3654, Title: Letty's Math Class"
       ]
      },
      {
       "output_type": "stream",
       "stream": "stdout",
       "text": [
        "\n",
        "Now fetching ProblemID: 3655, Title: Alice and Bob"
       ]
      },
      {
       "output_type": "stream",
       "stream": "stdout",
       "text": [
        "\n",
        "Now fetching ProblemID: 3656, Title: Bit Magic"
       ]
      },
      {
       "output_type": "stream",
       "stream": "stdout",
       "text": [
        "\n",
        "Now fetching ProblemID: 3657, Title: The Little Girl who Picks Mushrooms"
       ]
      },
      {
       "output_type": "stream",
       "stream": "stdout",
       "text": [
        "\n",
        "Now fetching ProblemID: 3658, Title: Simple Function"
       ]
      },
      {
       "output_type": "stream",
       "stream": "stdout",
       "text": [
        "\n",
        "Now fetching ProblemID: 3659, Title: Conquer a New Region"
       ]
      },
      {
       "output_type": "stream",
       "stream": "stdout",
       "text": [
        "\n",
        "Now fetching ProblemID: 3660, Title: Fantastic Necklace"
       ]
      },
      {
       "output_type": "stream",
       "stream": "stdout",
       "text": [
        "\n",
        "Now fetching ProblemID: 3661, Title: Palindromic Substring"
       ]
      },
      {
       "output_type": "stream",
       "stream": "stdout",
       "text": [
        "\n",
        "Now fetching ProblemID: 3662, Title: Math Magic"
       ]
      },
      {
       "output_type": "stream",
       "stream": "stdout",
       "text": [
        "\n",
        "Now fetching ProblemID: 3663, Title: Polaris of Pandora"
       ]
      },
      {
       "output_type": "stream",
       "stream": "stdout",
       "text": [
        "\n",
        "Now fetching ProblemID: 3664, Title: Split the Rectangle"
       ]
      },
      {
       "output_type": "stream",
       "stream": "stdout",
       "text": [
        "\n",
        "Now fetching ProblemID: 3665, Title: Yukari's Birthday"
       ]
      },
      {
       "output_type": "stream",
       "stream": "stdout",
       "text": [
        "\n",
        "Now fetching ProblemID: 3666, Title: Alice and Bob"
       ]
      },
      {
       "output_type": "stream",
       "stream": "stdout",
       "text": [
        "\n",
        "Now fetching ProblemID: 3667, Title: Alice, Bob and Magic Balls"
       ]
      },
      {
       "output_type": "stream",
       "stream": "stdout",
       "text": [
        "\n",
        "Now fetching ProblemID: 3668, Title: Launching the Spacecraft"
       ]
      },
      {
       "output_type": "stream",
       "stream": "stdout",
       "text": [
        "\n",
        "Now fetching ProblemID: 3669, Title: Japanese Mahjong I"
       ]
      },
      {
       "output_type": "stream",
       "stream": "stdout",
       "text": [
        "\n",
        "Now fetching ProblemID: 3670, Title: Japanese Mahjong II"
       ]
      },
      {
       "output_type": "stream",
       "stream": "stdout",
       "text": [
        "\n",
        "Now fetching ProblemID: 3671, Title: Japanese Mahjong III"
       ]
      },
      {
       "output_type": "stream",
       "stream": "stdout",
       "text": [
        "\n",
        "Now fetching ProblemID: 3672, Title: Gao The Sequence"
       ]
      },
      {
       "output_type": "stream",
       "stream": "stdout",
       "text": [
        "\n",
        "Now fetching ProblemID: 3673, Title: 1729"
       ]
      },
      {
       "output_type": "stream",
       "stream": "stdout",
       "text": [
        "\n",
        "Now fetching ProblemID: 3674, Title: Search in the Wiki"
       ]
      },
      {
       "output_type": "stream",
       "stream": "stdout",
       "text": [
        "\n",
        "Now fetching ProblemID: 3675, Title: Trim the Nails"
       ]
      },
      {
       "output_type": "stream",
       "stream": "stdout",
       "text": [
        "\n",
        "Now fetching ProblemID: 3676, Title: Edward's Cola Plan"
       ]
      },
      {
       "output_type": "stream",
       "stream": "stdout",
       "text": [
        "\n",
        "Now fetching ProblemID: 3677, Title: Paint Erased"
       ]
      },
      {
       "output_type": "stream",
       "stream": "stdout",
       "text": [
        "\n",
        "Now fetching ProblemID: 3678, Title: The Toy of Flandre Scarlet"
       ]
      },
      {
       "output_type": "stream",
       "stream": "stdout",
       "text": [
        "\n",
        "Now fetching ProblemID: 3679, Title: One Touch Drawing"
       ]
      },
      {
       "output_type": "stream",
       "stream": "stdout",
       "text": [
        "\n",
        "Now fetching ProblemID: 3680, Title: E - Cup 1"
       ]
      },
      {
       "output_type": "stream",
       "stream": "stdout",
       "text": [
        "\n",
        "Now fetching ProblemID: 3681, Title: E - Cup 2"
       ]
      },
      {
       "output_type": "stream",
       "stream": "stdout",
       "text": [
        "\n",
        "Now fetching ProblemID: 3682, Title: E - Cup 3"
       ]
      },
      {
       "output_type": "stream",
       "stream": "stdout",
       "text": [
        "\n",
        "Now fetching ProblemID: 3683, Title: Simple Language"
       ]
      },
      {
       "output_type": "stream",
       "stream": "stdout",
       "text": [
        "\n",
        "Now fetching ProblemID: 3684, Title: Destroy"
       ]
      },
      {
       "output_type": "stream",
       "stream": "stdout",
       "text": [
        "\n",
        "Now fetching ProblemID: 3685, Title: Cube"
       ]
      },
      {
       "output_type": "stream",
       "stream": "stdout",
       "text": [
        "\n",
        "Now fetching ProblemID: 3686, Title: A Simple Tree Problem"
       ]
      },
      {
       "output_type": "stream",
       "stream": "stdout",
       "text": [
        "\n",
        "Now fetching ProblemID: 3687, Title: The Review Plan I"
       ]
      },
      {
       "output_type": "stream",
       "stream": "stdout",
       "text": [
        "\n",
        "Now fetching ProblemID: 3688, Title: The Review Plan II"
       ]
      },
      {
       "output_type": "stream",
       "stream": "stdout",
       "text": [
        "\n",
        "Now fetching ProblemID: 3689, Title: Digging"
       ]
      },
      {
       "output_type": "stream",
       "stream": "stdout",
       "text": [
        "\n",
        "Now fetching ProblemID: 3690, Title: Choosing number"
       ]
      },
      {
       "output_type": "stream",
       "stream": "stdout",
       "text": [
        "\n",
        "Now fetching ProblemID: 3691, Title: Flower"
       ]
      },
      {
       "output_type": "stream",
       "stream": "stdout",
       "text": [
        "\n",
        "Now fetching ProblemID: 3692, Title: GF And RP"
       ]
      },
      {
       "output_type": "stream",
       "stream": "stdout",
       "text": [
        "\n",
        "Now fetching ProblemID: 3693, Title: Happy Great BG"
       ]
      },
      {
       "output_type": "stream",
       "stream": "stdout",
       "text": [
        "\n",
        "Now fetching ProblemID: 3694, Title: Arrangement"
       ]
      },
      {
       "output_type": "stream",
       "stream": "stdout",
       "text": [
        "\n",
        "Now fetching ProblemID: 3695, Title: Plants vs Fat Sheeps"
       ]
      },
      {
       "output_type": "stream",
       "stream": "stdout",
       "text": [
        "\n",
        "Now fetching ProblemID: 3696, Title: Alien's Organ"
       ]
      },
      {
       "output_type": "stream",
       "stream": "stdout",
       "text": [
        "\n",
        "Now fetching ProblemID: 3697, Title: Bad-written Number"
       ]
      },
      {
       "output_type": "stream",
       "stream": "stdout",
       "text": [
        "\n",
        "Now fetching ProblemID: 3698, Title: Carrot Fantasy"
       ]
      },
      {
       "output_type": "stream",
       "stream": "stdout",
       "text": [
        "\n",
        "Now fetching ProblemID: 3699, Title: Dakar Rally"
       ]
      },
      {
       "output_type": "stream",
       "stream": "stdout",
       "text": [
        "\n",
        "Now fetching ProblemID: 3700, Title: Ever Dream"
       ]
      },
      {
       "output_type": "stream",
       "stream": "stdout",
       "text": [
        "\n",
        "Now fetching ProblemID: 3701, Title: Fawful's Revenge"
       ]
      },
      {
       "output_type": "stream",
       "stream": "stdout",
       "text": [
        "\n",
        "Now fetching ProblemID: 3702, Title: Gibonacci number"
       ]
      },
      {
       "output_type": "stream",
       "stream": "stdout",
       "text": [
        "\n",
        "Now fetching ProblemID: 3703, Title: Happy Programming Contest"
       ]
      },
      {
       "output_type": "stream",
       "stream": "stdout",
       "text": [
        "\n",
        "Now fetching ProblemID: 3704, Title: I am Nexus Master!"
       ]
      },
      {
       "output_type": "stream",
       "stream": "stdout",
       "text": [
        "\n",
        "Now fetching ProblemID: 3705, Title: Applications"
       ]
      },
      {
       "output_type": "stream",
       "stream": "stdout",
       "text": [
        "\n",
        "Now fetching ProblemID: 3706, Title: Break Standard Weight"
       ]
      },
      {
       "output_type": "stream",
       "stream": "stdout",
       "text": [
        "\n",
        "Now fetching ProblemID: 3707, Title: Calculate Prime S"
       ]
      },
      {
       "output_type": "stream",
       "stream": "stdout",
       "text": [
        "\n",
        "Now fetching ProblemID: 3708, Title: Density of Power Network"
       ]
      },
      {
       "output_type": "stream",
       "stream": "stdout",
       "text": [
        "\n",
        "Now fetching ProblemID: 3709, Title: Egg Painting"
       ]
      },
      {
       "output_type": "stream",
       "stream": "stdout",
       "text": [
        "\n",
        "Now fetching ProblemID: 3710, Title: Friends"
       ]
      },
      {
       "output_type": "stream",
       "stream": "stdout",
       "text": [
        "\n",
        "Now fetching ProblemID: 3711, Title: Give Me Your Hand"
       ]
      },
      {
       "output_type": "stream",
       "stream": "stdout",
       "text": [
        "\n",
        "Now fetching ProblemID: 3712, Title: Hard to Play"
       ]
      },
      {
       "output_type": "stream",
       "stream": "stdout",
       "text": [
        "\n",
        "Now fetching ProblemID: 3713, Title: In 7-bit"
       ]
      },
      {
       "output_type": "stream",
       "stream": "stdout",
       "text": [
        "\n",
        "Now fetching ProblemID: 3714, Title: Java Beans"
       ]
      },
      {
       "output_type": "stream",
       "stream": "stdout",
       "text": [
        "\n",
        "Now fetching ProblemID: 3715, Title: Kindergarten Election"
       ]
      },
      {
       "output_type": "stream",
       "stream": "stdout",
       "text": [
        "\n",
        "Now fetching ProblemID: 3716, Title: Ribbon Gymnastics"
       ]
      },
      {
       "output_type": "stream",
       "stream": "stdout",
       "text": [
        "\n",
        "Now fetching ProblemID: 3717, Title: Balloon"
       ]
      },
      {
       "output_type": "stream",
       "stream": "stdout",
       "text": [
        "\n",
        "Now fetching ProblemID: 3718, Title: Diablo II"
       ]
      },
      {
       "output_type": "stream",
       "stream": "stdout",
       "text": [
        "\n",
        "Now fetching ProblemID: 3719, Title: Diablo III"
       ]
      },
      {
       "output_type": "stream",
       "stream": "stdout",
       "text": [
        "\n",
        "Now fetching ProblemID: 3720, Title: Magnet Darts"
       ]
      },
      {
       "output_type": "stream",
       "stream": "stdout",
       "text": [
        "\n",
        "Now fetching ProblemID: 3721, Title: Final Exam Arrangement"
       ]
      },
      {
       "output_type": "stream",
       "stream": "stdout",
       "text": [
        "\n",
        "Now fetching ProblemID: 3722, Title: Sid Meier's Civilization"
       ]
      },
      {
       "output_type": "stream",
       "stream": "stdout",
       "text": [
        "\n",
        "Now fetching ProblemID: 3723, Title: Starfruit"
       ]
      },
      {
       "output_type": "stream",
       "stream": "stdout",
       "text": [
        "\n",
        "Now fetching ProblemID: 3724, Title: Delivery"
       ]
      },
      {
       "output_type": "stream",
       "stream": "stdout",
       "text": [
        "\n",
        "Now fetching ProblemID: 3725, Title: Painting Storages"
       ]
      },
      {
       "output_type": "stream",
       "stream": "stdout",
       "text": [
        "\n",
        "Now fetching ProblemID: 3726, Title: Alice's Print Service"
       ]
      },
      {
       "output_type": "stream",
       "stream": "stdout",
       "text": [
        "\n",
        "Now fetching ProblemID: 3727, Title: Bob's new toy"
       ]
      },
      {
       "output_type": "stream",
       "stream": "stdout",
       "text": [
        "\n",
        "Now fetching ProblemID: 3728, Title: Collision"
       ]
      },
      {
       "output_type": "stream",
       "stream": "stdout",
       "text": [
        "\n",
        "Now fetching ProblemID: 3729, Title: Arnold"
       ]
      },
      {
       "output_type": "stream",
       "stream": "stdout",
       "text": [
        "\n",
        "Now fetching ProblemID: 3730, Title: Easy Problem Once More"
       ]
      },
      {
       "output_type": "stream",
       "stream": "stdout",
       "text": [
        "\n",
        "Now fetching ProblemID: 3731, Title: Winter's Coming"
       ]
      },
      {
       "output_type": "stream",
       "stream": "stdout",
       "text": [
        "\n",
        "Now fetching ProblemID: 3732, Title: Graph Reconstruction"
       ]
      },
      {
       "output_type": "stream",
       "stream": "stdout",
       "text": [
        "\n",
        "Now fetching ProblemID: 3733, Title: Skycity"
       ]
      },
      {
       "output_type": "stream",
       "stream": "stdout",
       "text": [
        "\n",
        "Now fetching ProblemID: 3734, Title: LIKE vs CANDLE"
       ]
      },
      {
       "output_type": "stream",
       "stream": "stdout",
       "text": [
        "\n",
        "Now fetching ProblemID: 3735, Title: Josephina and RPG"
       ]
      },
      {
       "output_type": "stream",
       "stream": "stdout",
       "text": [
        "\n",
        "Now fetching ProblemID: 3736, Title: Pocket Cube"
       ]
      },
      {
       "output_type": "stream",
       "stream": "stdout",
       "text": [
        "\n",
        "Now fetching ProblemID: 3737, Title: Build the Park I"
       ]
      },
      {
       "output_type": "stream",
       "stream": "stdout",
       "text": [
        "\n",
        "Now fetching ProblemID: 3738, Title: Buy the Pets"
       ]
      },
      {
       "output_type": "stream",
       "stream": "stdout",
       "text": [
        "\n",
        "Now fetching ProblemID: 3739, Title: Cut the Cake"
       ]
      },
      {
       "output_type": "stream",
       "stream": "stdout",
       "text": [
        "\n",
        "Now fetching ProblemID: 3740, Title: Water Level"
       ]
      },
      {
       "output_type": "stream",
       "stream": "stdout",
       "text": [
        "\n",
        "Now fetching ProblemID: 3741, Title: Eternal Reality"
       ]
      },
      {
       "output_type": "stream",
       "stream": "stdout",
       "text": [
        "\n",
        "Now fetching ProblemID: 3742, Title: Bellywhite's Algorithm Homework"
       ]
      },
      {
       "output_type": "stream",
       "stream": "stdout",
       "text": [
        "\n",
        "Now fetching ProblemID: 3743, Title: The Lambs"
       ]
      },
      {
       "output_type": "stream",
       "stream": "stdout",
       "text": [
        "\n",
        "Now fetching ProblemID: 3744, Title: Tragedy Organ"
       ]
      },
      {
       "output_type": "stream",
       "stream": "stdout",
       "text": [
        "\n",
        "Now fetching ProblemID: 3745, Title: Salary Increasing"
       ]
      },
      {
       "output_type": "stream",
       "stream": "stdout",
       "text": [
        "\n",
        "Now fetching ProblemID: 3746, Title: Spherical Surface"
       ]
      },
      {
       "output_type": "stream",
       "stream": "stdout",
       "text": [
        "\n",
        "Now fetching ProblemID: 3747, Title: Attack on Titans"
       ]
      },
      {
       "output_type": "stream",
       "stream": "stdout",
       "text": [
        "\n",
        "Now fetching ProblemID: 3748, Title: Code Geass -- Lelouch's Plan"
       ]
      },
      {
       "output_type": "stream",
       "stream": "stdout",
       "text": [
        "\n",
        "Now fetching ProblemID: 3749, Title: Chameleon"
       ]
      },
      {
       "output_type": "stream",
       "stream": "stdout",
       "text": [
        "\n",
        "Now fetching ProblemID: 3750, Title: Dot Dot Dot"
       ]
      },
      {
       "output_type": "stream",
       "stream": "stdout",
       "text": [
        "\n",
        "Now fetching ProblemID: 3751, Title: Diagonal"
       ]
      },
      {
       "output_type": "stream",
       "stream": "stdout",
       "text": [
        "\n",
        "Now fetching ProblemID: 3752, Title: The Three Guys"
       ]
      },
      {
       "output_type": "stream",
       "stream": "stdout",
       "text": [
        "\n",
        "Now fetching ProblemID: 3753, Title: Simple Equation"
       ]
      },
      {
       "output_type": "stream",
       "stream": "stdout",
       "text": [
        "\n",
        "Now fetching ProblemID: 3754, Title: Snowflake"
       ]
      },
      {
       "output_type": "stream",
       "stream": "stdout",
       "text": [
        "\n",
        "Now fetching ProblemID: 3755, Title: Mines"
       ]
      },
      {
       "output_type": "stream",
       "stream": "stdout",
       "text": [
        "\n",
        "Now fetching ProblemID: 3756, Title: Miko Miko Suika"
       ]
      },
      {
       "output_type": "stream",
       "stream": "stdout",
       "text": [
        "\n",
        "Now fetching ProblemID: 3757, Title: Alice and Bob and Cue Sports"
       ]
      },
      {
       "output_type": "stream",
       "stream": "stdout",
       "text": [
        "\n",
        "Now fetching ProblemID: 3758, Title: Singles' Day"
       ]
      },
      {
       "output_type": "stream",
       "stream": "stdout",
       "text": [
        "\n",
        "Now fetching ProblemID: 3759, Title: 3456"
       ]
      },
      {
       "output_type": "stream",
       "stream": "stdout",
       "text": [
        "\n",
        "Now fetching ProblemID: 3760, Title: Treasure Hunting"
       ]
      },
      {
       "output_type": "stream",
       "stream": "stdout",
       "text": [
        "\n",
        "Now fetching ProblemID: 3761, Title: Easy billiards"
       ]
      },
      {
       "output_type": "stream",
       "stream": "stdout",
       "text": [
        "\n",
        "Now fetching ProblemID: 3762, Title: Pan's Labyrinth"
       ]
      },
      {
       "output_type": "stream",
       "stream": "stdout",
       "text": [
        "\n",
        "Now fetching ProblemID: 3763, Title: Plasma Field"
       ]
      },
      {
       "output_type": "stream",
       "stream": "stdout",
       "text": [
        "\n",
        "Now fetching ProblemID: 3764, Title: New Governor's Problem"
       ]
      },
      {
       "output_type": "stream",
       "stream": "stdout",
       "text": [
        "\n",
        "Now fetching ProblemID: 3765, Title: Lights"
       ]
      },
      {
       "output_type": "stream",
       "stream": "stdout",
       "text": [
        "\n",
        "Now fetching ProblemID: 3766, Title: Gao the grid III"
       ]
      },
      {
       "output_type": "stream",
       "stream": "stdout",
       "text": [
        "\n",
        "Now fetching ProblemID: 3767, Title: Elevator"
       ]
      },
      {
       "output_type": "stream",
       "stream": "stdout",
       "text": [
        "\n",
        "Now fetching ProblemID: 3768, Title: Continuous Login"
       ]
      },
      {
       "output_type": "stream",
       "stream": "stdout",
       "text": [
        "\n",
        "Now fetching ProblemID: 3769, Title: Diablo III"
       ]
      },
      {
       "output_type": "stream",
       "stream": "stdout",
       "text": [
        "\n",
        "Now fetching ProblemID: 3770, Title: Ranking System"
       ]
      },
      {
       "output_type": "stream",
       "stream": "stdout",
       "text": [
        "\n",
        "Now fetching ProblemID: 3771, Title: Easy 2048"
       ]
      },
      {
       "output_type": "stream",
       "stream": "stdout",
       "text": [
        "\n",
        "Now fetching ProblemID: 3772, Title: Calculate the Function"
       ]
      },
      {
       "output_type": "stream",
       "stream": "stdout",
       "text": [
        "\n",
        "Now fetching ProblemID: 3773, Title: Paint the Grid"
       ]
      },
      {
       "output_type": "stream",
       "stream": "stdout",
       "text": [
        "\n",
        "Now fetching ProblemID: 3774, Title: Power of Fibonacci"
       ]
      },
      {
       "output_type": "stream",
       "stream": "stdout",
       "text": [
        "\n",
        "Now fetching ProblemID: 3775, Title: ?(>_o)!"
       ]
      },
      {
       "output_type": "stream",
       "stream": "stdout",
       "text": [
        "\n",
        "Now fetching ProblemID: 3776, Title: Pokemon Master"
       ]
      },
      {
       "output_type": "stream",
       "stream": "stdout",
       "text": [
        "\n",
        "Now fetching ProblemID: 3777, Title: Problem Arrangement"
       ]
      },
      {
       "output_type": "stream",
       "stream": "stdout",
       "text": [
        "\n",
        "Now fetching ProblemID: 3778, Title: Talented Chef"
       ]
      },
      {
       "output_type": "stream",
       "stream": "stdout",
       "text": [
        "\n",
        "Now fetching ProblemID: 3779, Title: Chessboard and Flowers"
       ]
      },
      {
       "output_type": "stream",
       "stream": "stdout",
       "text": [
        "\n",
        "Now fetching ProblemID: 3780, Title: Paint the Grid Again"
       ]
      },
      {
       "output_type": "stream",
       "stream": "stdout",
       "text": [
        "\n",
        "Now fetching ProblemID: 3781, Title: Paint the Grid Reloaded"
       ]
      },
      {
       "output_type": "stream",
       "stream": "stdout",
       "text": [
        "\n",
        "Now fetching ProblemID: 3782, Title: Ternary Calculation"
       ]
      },
      {
       "output_type": "stream",
       "stream": "stdout",
       "text": [
        "\n",
        "Now fetching ProblemID: 3783, Title: Coins Game"
       ]
      },
      {
       "output_type": "stream",
       "stream": "stdout",
       "text": [
        "\n",
        "Now fetching ProblemID: 3784, Title: String of Infinity"
       ]
      },
      {
       "output_type": "stream",
       "stream": "stdout",
       "text": [
        "\n",
        "Now fetching ProblemID: 3785, Title: What day is that day?"
       ]
      },
      {
       "output_type": "stream",
       "stream": "stdout",
       "text": [
        "\n",
        "Now fetching ProblemID: 3786, Title: Unreachable Statement"
       ]
      },
      {
       "output_type": "stream",
       "stream": "stdout",
       "text": [
        "\n",
        "Now fetching ProblemID: 3787, Title: Access System"
       ]
      },
      {
       "output_type": "stream",
       "stream": "stdout",
       "text": [
        "\n",
        "Now fetching ProblemID: 3788, Title: Another Recurrence Sequence"
       ]
      },
      {
       "output_type": "stream",
       "stream": "stdout",
       "text": [
        "\n",
        "Now fetching ProblemID: 3789, Title: Gears"
       ]
      },
      {
       "output_type": "stream",
       "stream": "stdout",
       "text": [
        "\n",
        "Now fetching ProblemID: 3790, Title: Consecutive Blocks"
       ]
      },
      {
       "output_type": "stream",
       "stream": "stdout",
       "text": [
        "\n",
        "Now fetching ProblemID: 3791, Title: An Easy Game"
       ]
      },
      {
       "output_type": "stream",
       "stream": "stdout",
       "text": [
        "\n",
        "Now fetching ProblemID: 3792, Title: Romantic Value"
       ]
      },
      {
       "output_type": "stream",
       "stream": "stdout",
       "text": [
        "\n",
        "Now fetching ProblemID: 3793, Title: First Digit"
       ]
      },
      {
       "output_type": "stream",
       "stream": "stdout",
       "text": [
        "\n",
        "Now fetching ProblemID: 3794, Title: Greedy Driver"
       ]
      },
      {
       "output_type": "stream",
       "stream": "stdout",
       "text": [
        "\n",
        "Now fetching ProblemID: 3795, Title: Grouping"
       ]
      },
      {
       "output_type": "stream",
       "stream": "stdout",
       "text": [
        "\n",
        "Now fetching ProblemID: 3796, Title: Left 4 Dead"
       ]
      },
      {
       "output_type": "stream",
       "stream": "stdout",
       "text": [
        "\n",
        "Now fetching ProblemID: 3797, Title: Sister's Noise"
       ]
      },
      {
       "output_type": "stream",
       "stream": "stdout",
       "text": [
        "\n",
        "Now fetching ProblemID: 3798, Title: Abs Problem"
       ]
      },
      {
       "output_type": "stream",
       "stream": "stdout",
       "text": [
        "\n",
        "Now fetching ProblemID: 3799, Title: Bike in ZJU"
       ]
      },
      {
       "output_type": "stream",
       "stream": "stdout",
       "text": [
        "\n",
        "Now fetching ProblemID: 3800, Title: Calculation"
       ]
      },
      {
       "output_type": "stream",
       "stream": "stdout",
       "text": [
        "\n",
        "Now fetching ProblemID: 3801, Title: Determinant and Matrix"
       ]
      },
      {
       "output_type": "stream",
       "stream": "stdout",
       "text": [
        "\n",
        "Now fetching ProblemID: 3802, Title: Easy 2048 Again"
       ]
      },
      {
       "output_type": "stream",
       "stream": "stdout",
       "text": [
        "\n",
        "Now fetching ProblemID: 3803, Title: Function"
       ]
      },
      {
       "output_type": "stream",
       "stream": "stdout",
       "text": [
        "\n",
        "Now fetching ProblemID: 3804, Title: YY's Minions"
       ]
      },
      {
       "output_type": "stream",
       "stream": "stdout",
       "text": [
        "\n",
        "Now fetching ProblemID: 3805, Title: Machine"
       ]
      },
      {
       "output_type": "stream",
       "stream": "stdout",
       "text": [
        "\n",
        "Now fetching ProblemID: 3806, Title: Incircle and Circumcircle"
       ]
      },
      {
       "output_type": "stream",
       "stream": "stdout",
       "text": [
        "\n",
        "Now fetching ProblemID: 3807, Title: Just a Palindrome"
       ]
      },
      {
       "output_type": "stream",
       "stream": "stdout",
       "text": [
        "\n",
        "Now fetching ProblemID: 3808, Title: The Sum of Unitary Totient"
       ]
      },
      {
       "output_type": "stream",
       "stream": "stdout",
       "text": [
        "\n",
        "\n",
        "Usage:"
       ]
      },
      {
       "output_type": "stream",
       "stream": "stdout",
       "text": [
        "\n",
        "[1] update the local database(need a long time)\n",
        "[2] search problems about Matrix\n",
        "[3] search generic problems\n"
       ]
      },
      {
       "name": "stdout",
       "output_type": "stream",
       "stream": "stdout",
       "text": [
        "2\n"
       ]
      },
      {
       "output_type": "stream",
       "stream": "stdout",
       "text": [
        "ProblemID: 1027, Title: Human Gene Functions, Link: http://acm.zju.edu.cn/onlinejudge/showProblem.do?problemCode=1027\n",
        "ProblemID: 1053, Title: FDNY to the Rescue!, Link: http://acm.zju.edu.cn/onlinejudge/showProblem.do?problemCode=1053\n",
        "ProblemID: 1066, Title: Square Ice, Link: http://acm.zju.edu.cn/onlinejudge/showProblem.do?problemCode=1066\n",
        "ProblemID: 1080, Title: Direct Subtraction, Link: http://acm.zju.edu.cn/onlinejudge/showProblem.do?problemCode=1080\n",
        "ProblemID: 1094, Title: Matrix Chain Multiplication, Link: http://acm.zju.edu.cn/onlinejudge/showProblem.do?problemCode=1094\n",
        "ProblemID: 1103, Title: Hike on a Graph, Link: http://acm.zju.edu.cn/onlinejudge/showProblem.do?problemCode=1103\n",
        "ProblemID: 1129, Title: Erdos Numbers, Link: http://acm.zju.edu.cn/onlinejudge/showProblem.do?problemCode=1129\n",
        "ProblemID: 1255, Title: The Path, Link: http://acm.zju.edu.cn/onlinejudge/showProblem.do?problemCode=1255\n",
        "ProblemID: 1276, Title: Optimal Array Multiplication Sequence, Link: http://acm.zju.edu.cn/onlinejudge/showProblem.do?problemCode=1276\n",
        "ProblemID: 1290, Title: Word-Search Wonder, Link: http://acm.zju.edu.cn/onlinejudge/showProblem.do?problemCode=1290\n",
        "ProblemID: 1291, Title: MPI Maelstrom, Link: http://acm.zju.edu.cn/onlinejudge/showProblem.do?problemCode=1291\n",
        "ProblemID: 1308, Title: Crosswords, Link: http://acm.zju.edu.cn/onlinejudge/showProblem.do?problemCode=1308\n",
        "ProblemID: 1358, Title: Moving Object Recognition, Link: http://acm.zju.edu.cn/onlinejudge/showProblem.do?problemCode=1358\n",
        "ProblemID: 1432, Title: Manifest Destiny, Link: http://acm.zju.edu.cn/onlinejudge/showProblem.do?problemCode=1432\n",
        "ProblemID: 1436, Title: Get Out 'Da Way!, Link: http://acm.zju.edu.cn/onlinejudge/showProblem.do?problemCode=1436\n",
        "ProblemID: 1437, Title: Missing Piece 2001, Link: http://acm.zju.edu.cn/onlinejudge/showProblem.do?problemCode=1437\n",
        "ProblemID: 1438, Title: Asteroids!, Link: http://acm.zju.edu.cn/onlinejudge/showProblem.do?problemCode=1438\n",
        "ProblemID: 1467, Title: Statistical Trouble, Link: http://acm.zju.edu.cn/onlinejudge/showProblem.do?problemCode=1467\n",
        "ProblemID: 1485, Title: Messy Matrix, Link: http://acm.zju.edu.cn/onlinejudge/showProblem.do?problemCode=1485\n",
        "ProblemID: 1583, Title: Binomial Filter, Link: http://acm.zju.edu.cn/onlinejudge/showProblem.do?problemCode=1583\n",
        "ProblemID: 1586, Title: QS Network, Link: http://acm.zju.edu.cn/onlinejudge/showProblem.do?problemCode=1586\n",
        "ProblemID: 1626, Title: Save These Poor Trees, Link: http://acm.zju.edu.cn/onlinejudge/showProblem.do?problemCode=1626\n",
        "ProblemID: 1636, Title: Evaluate Matrix Sum, Link: http://acm.zju.edu.cn/onlinejudge/showProblem.do?problemCode=1636\n",
        "ProblemID: 1637, Title: Fast Image Match, Link: http://acm.zju.edu.cn/onlinejudge/showProblem.do?problemCode=1637\n",
        "ProblemID: 1646, Title: What Is the Time Now, Link: http://acm.zju.edu.cn/onlinejudge/showProblem.do?problemCode=1646\n",
        "ProblemID: 1649, Title: Rescue, Link: http://acm.zju.edu.cn/onlinejudge/showProblem.do?problemCode=1649\n",
        "ProblemID: 1717, Title: The Secret Number, Link: http://acm.zju.edu.cn/onlinejudge/showProblem.do?problemCode=1717\n",
        "ProblemID: 1779, Title: Dominatrix, Link: http://acm.zju.edu.cn/onlinejudge/showProblem.do?problemCode=1779\n",
        "ProblemID: 1782, Title: Housing Complexes, Link: http://acm.zju.edu.cn/onlinejudge/showProblem.do?problemCode=1782\n",
        "ProblemID: 1949, Title: Error Correction, Link: http://acm.zju.edu.cn/onlinejudge/showProblem.do?problemCode=1949\n",
        "ProblemID: 1950, Title: France '98, Link: http://acm.zju.edu.cn/onlinejudge/showProblem.do?problemCode=1950\n",
        "ProblemID: 1994, Title: Budget, Link: http://acm.zju.edu.cn/onlinejudge/showProblem.do?problemCode=1994\n",
        "ProblemID: 2080, Title: Chess War, Link: http://acm.zju.edu.cn/onlinejudge/showProblem.do?problemCode=2080\n",
        "ProblemID: 2093, Title: Volcano, Link: http://acm.zju.edu.cn/onlinejudge/showProblem.do?problemCode=2093\n",
        "ProblemID: 2134, Title: Network Saboteur, Link: http://acm.zju.edu.cn/onlinejudge/showProblem.do?problemCode=2134\n",
        "ProblemID: 2140, Title: Ball, Link: http://acm.zju.edu.cn/onlinejudge/showProblem.do?problemCode=2140\n",
        "ProblemID: 2148, Title: Caleidoscope, Link: http://acm.zju.edu.cn/onlinejudge/showProblem.do?problemCode=2148\n",
        "ProblemID: 2193, Title: Window Pains, Link: http://acm.zju.edu.cn/onlinejudge/showProblem.do?problemCode=2193\n",
        "ProblemID: 2231, Title: The Treasure, Link: http://acm.zju.edu.cn/onlinejudge/showProblem.do?problemCode=2231\n",
        "ProblemID: 2316, Title: Matrix Multiplication, Link: http://acm.zju.edu.cn/onlinejudge/showProblem.do?problemCode=2316\n",
        "ProblemID: 2333, Title: MatScan, Link: http://acm.zju.edu.cn/onlinejudge/showProblem.do?problemCode=2333\n",
        "ProblemID: 2415, Title: Ropes, Link: http://acm.zju.edu.cn/onlinejudge/showProblem.do?problemCode=2415\n",
        "ProblemID: 2418, Title: Matrix, Link: http://acm.zju.edu.cn/onlinejudge/showProblem.do?problemCode=2418\n",
        "ProblemID: 2437, Title: Nearest number, Link: http://acm.zju.edu.cn/onlinejudge/showProblem.do?problemCode=2437\n",
        "ProblemID: 2438, Title: Advanced ASCII Cubes, Link: http://acm.zju.edu.cn/onlinejudge/showProblem.do?problemCode=2438\n",
        "ProblemID: 2440, Title: One is good, but two is better, Link: http://acm.zju.edu.cn/onlinejudge/showProblem.do?problemCode=2440\n",
        "ProblemID: 2528, Title: Weather Forecast, Link: http://acm.zju.edu.cn/onlinejudge/showProblem.do?problemCode=2528\n",
        "ProblemID: 2555, Title: Magic Bitstrings, Link: http://acm.zju.edu.cn/onlinejudge/showProblem.do?problemCode=2555\n",
        "ProblemID: 2590, Title: Linear Programming Dual, Link: http://acm.zju.edu.cn/onlinejudge/showProblem.do?problemCode=2590\n",
        "ProblemID: 2652, Title: Clever's Problem, Link: http://acm.zju.edu.cn/onlinejudge/showProblem.do?problemCode=2652\n",
        "ProblemID: 2670, Title: Nonoptimal Assignments, Link: http://acm.zju.edu.cn/onlinejudge/showProblem.do?problemCode=2670\n",
        "ProblemID: 2671, Title: Cryptography, Link: http://acm.zju.edu.cn/onlinejudge/showProblem.do?problemCode=2671\n",
        "ProblemID: 2742, Title: Toy Bricks, Link: http://acm.zju.edu.cn/onlinejudge/showProblem.do?problemCode=2742\n",
        "ProblemID: 2831, Title: Decorated A+B, Link: http://acm.zju.edu.cn/onlinejudge/showProblem.do?problemCode=2831\n",
        "ProblemID: 2849, Title: Attack of Panda Virus, Link: http://acm.zju.edu.cn/onlinejudge/showProblem.do?problemCode=2849\n",
        "ProblemID: 2856, Title: Happy Life, Link: http://acm.zju.edu.cn/onlinejudge/showProblem.do?problemCode=2856\n",
        "ProblemID: 2857, Title: Image Transformation, Link: http://acm.zju.edu.cn/onlinejudge/showProblem.do?problemCode=2857\n",
        "ProblemID: 2859, Title: Matrix Searching, Link: http://acm.zju.edu.cn/onlinejudge/showProblem.do?problemCode=2859\n",
        "ProblemID: 2899, Title: Hangzhou Tour, Link: http://acm.zju.edu.cn/onlinejudge/showProblem.do?problemCode=2899\n",
        "ProblemID: 2950, Title: Dice Matrix, Link: http://acm.zju.edu.cn/onlinejudge/showProblem.do?problemCode=2950\n",
        "ProblemID: 2975, Title: Kinds of Fuwas, Link: http://acm.zju.edu.cn/onlinejudge/showProblem.do?problemCode=2975\n",
        "ProblemID: 2989, Title: Encoding, Link: http://acm.zju.edu.cn/onlinejudge/showProblem.do?problemCode=2989\n",
        "ProblemID: 2990, Title: Decoding, Link: http://acm.zju.edu.cn/onlinejudge/showProblem.do?problemCode=2990\n",
        "ProblemID: 3085, Title: Sylvester Construction, Link: http://acm.zju.edu.cn/onlinejudge/showProblem.do?problemCode=3085\n",
        "ProblemID: 3103, Title: Cliff Climbing, Link: http://acm.zju.edu.cn/onlinejudge/showProblem.do?problemCode=3103\n",
        "ProblemID: 3109, Title: Decode Message, Link: http://acm.zju.edu.cn/onlinejudge/showProblem.do?problemCode=3109\n",
        "ProblemID: 3110, Title: Geophysics Prospection, Link: http://acm.zju.edu.cn/onlinejudge/showProblem.do?problemCode=3110\n",
        "ProblemID: 3184, Title: Guess the Pattern, Link: http://acm.zju.edu.cn/onlinejudge/showProblem.do?problemCode=3184\n",
        "ProblemID: 3212, Title: K-Nice, Link: http://acm.zju.edu.cn/onlinejudge/showProblem.do?problemCode=3212\n",
        "ProblemID: 3222, Title: Coverage, Link: http://acm.zju.edu.cn/onlinejudge/showProblem.do?problemCode=3222\n",
        "ProblemID: 3232, Title: It's not Floyd Algorithm, Link: http://acm.zju.edu.cn/onlinejudge/showProblem.do?problemCode=3232\n",
        "ProblemID: 3240, Title: Automatic Tetris Player, Link: http://acm.zju.edu.cn/onlinejudge/showProblem.do?problemCode=3240\n",
        "ProblemID: 3277, Title: P2P File Sharing System, Link: http://acm.zju.edu.cn/onlinejudge/showProblem.do?problemCode=3277\n",
        "ProblemID: 3284, Title: Matrix Processing, Link: http://acm.zju.edu.cn/onlinejudge/showProblem.do?problemCode=3284\n",
        "ProblemID: 3287, Title: Apple or Doughnut, Link: http://acm.zju.edu.cn/onlinejudge/showProblem.do?problemCode=3287\n",
        "ProblemID: 3314, Title: CAPTCHA, Link: http://acm.zju.edu.cn/onlinejudge/showProblem.do?problemCode=3314\n",
        "ProblemID: 3315, Title: Runaway Robot, Link: http://acm.zju.edu.cn/onlinejudge/showProblem.do?problemCode=3315\n",
        "ProblemID: 3335, Title: Filtering, Link: http://acm.zju.edu.cn/onlinejudge/showProblem.do?problemCode=3335\n",
        "ProblemID: 3359, Title: Penalties Kick, Link: http://acm.zju.edu.cn/onlinejudge/showProblem.do?problemCode=3359\n",
        "ProblemID: 3420, Title: Double Maze, Link: http://acm.zju.edu.cn/onlinejudge/showProblem.do?problemCode=3420\n",
        "ProblemID: 3428, Title: Bug Races, Link: http://acm.zju.edu.cn/onlinejudge/showProblem.do?problemCode=3428\n",
        "ProblemID: 3473, Title: Radio Matrix, Link: http://acm.zju.edu.cn/onlinejudge/showProblem.do?problemCode=3473\n",
        "ProblemID: 3477, Title: Akasim Matrix, Link: http://acm.zju.edu.cn/onlinejudge/showProblem.do?problemCode=3477\n",
        "ProblemID: 3502, Title: Contest, Link: http://acm.zju.edu.cn/onlinejudge/showProblem.do?problemCode=3502\n",
        "ProblemID: 3513, Title: Human or Pig, Link: http://acm.zju.edu.cn/onlinejudge/showProblem.do?problemCode=3513\n",
        "ProblemID: 3578, Title: Matrix, Link: http://acm.zju.edu.cn/onlinejudge/showProblem.do?problemCode=3578\n",
        "ProblemID: 3646, Title: Matrix Transformer, Link: http://acm.zju.edu.cn/onlinejudge/showProblem.do?problemCode=3646\n",
        "ProblemID: 3656, Title: Bit Magic, Link: http://acm.zju.edu.cn/onlinejudge/showProblem.do?problemCode=3656\n",
        "ProblemID: 3730, Title: Easy Problem Once More, Link: http://acm.zju.edu.cn/onlinejudge/showProblem.do?problemCode=3730\n",
        "ProblemID: 3735, Title: Josephina and RPG, Link: http://acm.zju.edu.cn/onlinejudge/showProblem.do?problemCode=3735\n",
        "ProblemID: 3755, Title: Mines, Link: http://acm.zju.edu.cn/onlinejudge/showProblem.do?problemCode=3755\n",
        "ProblemID: 3801, Title: Determinant and Matrix, Link: http://acm.zju.edu.cn/onlinejudge/showProblem.do?problemCode=3801\n",
        "ProblemID: 3804, Title: YY's Minions, Link: http://acm.zju.edu.cn/onlinejudge/showProblem.do?problemCode=3804\n",
        "93 problems match your keyword\n",
        "\n",
        "Usage:\n",
        "[1] update the local database(need a long time)\n",
        "[2] search problems about Matrix\n",
        "[3] search generic problems\n"
       ]
      },
      {
       "name": "stdout",
       "output_type": "stream",
       "stream": "stdout",
       "text": [
        "3\n"
       ]
      },
      {
       "name": "stdout",
       "output_type": "stream",
       "stream": "stdout",
       "text": [
        "Please enter the keyword: key\n"
       ]
      },
      {
       "output_type": "stream",
       "stream": "stdout",
       "text": [
        "ProblemID: 1006, Title: Do the Untwist, Link: http://acm.zju.edu.cn/onlinejudge/showProblem.do?problemCode=1006\n",
        "ProblemID: 1009, Title: Enigma, Link: http://acm.zju.edu.cn/onlinejudge/showProblem.do?problemCode=1009\n",
        "ProblemID: 1036, Title: Enigma 2, Link: http://acm.zju.edu.cn/onlinejudge/showProblem.do?problemCode=1036\n",
        "ProblemID: 1038, Title: T9, Link: http://acm.zju.edu.cn/onlinejudge/showProblem.do?problemCode=1038\n",
        "ProblemID: 1042, Title: W's Cipher, Link: http://acm.zju.edu.cn/onlinejudge/showProblem.do?problemCode=1042\n",
        "ProblemID: 1068, Title: P,MTHBGWB, Link: http://acm.zju.edu.cn/onlinejudge/showProblem.do?problemCode=1068\n",
        "ProblemID: 1087, Title: Cracking the Code, Link: http://acm.zju.edu.cn/onlinejudge/showProblem.do?problemCode=1087\n",
        "ProblemID: 1158, Title: Treasure Hunt, Link: http://acm.zju.edu.cn/onlinejudge/showProblem.do?problemCode=1158\n",
        "ProblemID: 1169, Title: Square Cipher, Link: http://acm.zju.edu.cn/onlinejudge/showProblem.do?problemCode=1169\n",
        "ProblemID: 1170, Title: String Matching, Link: http://acm.zju.edu.cn/onlinejudge/showProblem.do?problemCode=1170\n",
        "ProblemID: 1224, Title: Stats, Link: http://acm.zju.edu.cn/onlinejudge/showProblem.do?problemCode=1224\n",
        "ProblemID: 1274, Title: Getting Chorded, Link: http://acm.zju.edu.cn/onlinejudge/showProblem.do?problemCode=1274\n",
        "ProblemID: 1298, Title: Domino Effect, Link: http://acm.zju.edu.cn/onlinejudge/showProblem.do?problemCode=1298\n",
        "ProblemID: 1537, Title: Playing with a Calculator, Link: http://acm.zju.edu.cn/onlinejudge/showProblem.do?problemCode=1537\n",
        "ProblemID: 1552, Title: Decoding Task, Link: http://acm.zju.edu.cn/onlinejudge/showProblem.do?problemCode=1552\n",
        "ProblemID: 1582, Title: Careless Tony, Link: http://acm.zju.edu.cn/onlinejudge/showProblem.do?problemCode=1582\n",
        "ProblemID: 1584, Title: Crack Me, Link: http://acm.zju.edu.cn/onlinejudge/showProblem.do?problemCode=1584\n",
        "ProblemID: 1587, Title: UP 100, Link: http://acm.zju.edu.cn/onlinejudge/showProblem.do?problemCode=1587\n",
        "ProblemID: 1672, Title: Co-occurrence Search, Link: http://acm.zju.edu.cn/onlinejudge/showProblem.do?problemCode=1672\n",
        "ProblemID: 1803, Title: Polly Nomials, Link: http://acm.zju.edu.cn/onlinejudge/showProblem.do?problemCode=1803\n",
        "ProblemID: 1924, Title: Major Scales, Link: http://acm.zju.edu.cn/onlinejudge/showProblem.do?problemCode=1924\n",
        "ProblemID: 2012, Title: The Proper Key, Link: http://acm.zju.edu.cn/onlinejudge/showProblem.do?problemCode=2012\n",
        "ProblemID: 2025, Title: I-Keyboard, Link: http://acm.zju.edu.cn/onlinejudge/showProblem.do?problemCode=2025\n",
        "ProblemID: 2031, Title: Song List, Link: http://acm.zju.edu.cn/onlinejudge/showProblem.do?problemCode=2031\n",
        "ProblemID: 2096, Title: Door to Secret, Link: http://acm.zju.edu.cn/onlinejudge/showProblem.do?problemCode=2096\n",
        "ProblemID: 2116, Title: Christopher's Christmas Letter, Link: http://acm.zju.edu.cn/onlinejudge/showProblem.do?problemCode=2116\n",
        "ProblemID: 2117, Title: Christopher's Key Ring, Link: http://acm.zju.edu.cn/onlinejudge/showProblem.do?problemCode=2117\n",
        "ProblemID: 2118, Title: Christopher's Rainy Day, Link: http://acm.zju.edu.cn/onlinejudge/showProblem.do?problemCode=2118\n",
        "ProblemID: 2127, Title: Zuma, Link: http://acm.zju.edu.cn/onlinejudge/showProblem.do?problemCode=2127\n",
        "ProblemID: 2129, Title: Mummy Maze, Link: http://acm.zju.edu.cn/onlinejudge/showProblem.do?problemCode=2129\n",
        "ProblemID: 2174, Title: Permutation Code, Link: http://acm.zju.edu.cn/onlinejudge/showProblem.do?problemCode=2174\n",
        "ProblemID: 2188, Title: The Door/Key Problem, Link: http://acm.zju.edu.cn/onlinejudge/showProblem.do?problemCode=2188\n",
        "ProblemID: 2211, Title: Searching the Web, Link: http://acm.zju.edu.cn/onlinejudge/showProblem.do?problemCode=2211\n",
        "ProblemID: 2218, Title: The Lost House, Link: http://acm.zju.edu.cn/onlinejudge/showProblem.do?problemCode=2218\n",
        "ProblemID: 2238, Title: Code, Link: http://acm.zju.edu.cn/onlinejudge/showProblem.do?problemCode=2238\n",
        "ProblemID: 2262, Title: Leaky Cryptography, Link: http://acm.zju.edu.cn/onlinejudge/showProblem.do?problemCode=2262\n",
        "ProblemID: 2280, Title: Key to Freedom, Link: http://acm.zju.edu.cn/onlinejudge/showProblem.do?problemCode=2280\n",
        "ProblemID: 2291, Title: Maze, Link: http://acm.zju.edu.cn/onlinejudge/showProblem.do?problemCode=2291\n",
        "ProblemID: 2320, Title: Cracking' RSA, Link: http://acm.zju.edu.cn/onlinejudge/showProblem.do?problemCode=2320\n",
        "ProblemID: 2436, Title: Key Insertion, Link: http://acm.zju.edu.cn/onlinejudge/showProblem.do?problemCode=2436\n",
        "ProblemID: 2452, Title: Cartesian Tree, Link: http://acm.zju.edu.cn/onlinejudge/showProblem.do?problemCode=2452\n",
        "ProblemID: 2489, Title: Optimal Keypad, Link: http://acm.zju.edu.cn/onlinejudge/showProblem.do?problemCode=2489\n",
        "ProblemID: 2535, Title: Ancient Relics, Link: http://acm.zju.edu.cn/onlinejudge/showProblem.do?problemCode=2535\n",
        "ProblemID: 2574, Title: Elaborate Short Messages, Link: http://acm.zju.edu.cn/onlinejudge/showProblem.do?problemCode=2574\n",
        "ProblemID: 2611, Title: Quest, Link: http://acm.zju.edu.cn/onlinejudge/showProblem.do?problemCode=2611\n",
        "ProblemID: 2635, Title: Transposition Cipher, Link: http://acm.zju.edu.cn/onlinejudge/showProblem.do?problemCode=2635\n",
        "ProblemID: 2738, Title: The Kth BST, Link: http://acm.zju.edu.cn/onlinejudge/showProblem.do?problemCode=2738\n",
        "ProblemID: 2767, Title: 88's function, Link: http://acm.zju.edu.cn/onlinejudge/showProblem.do?problemCode=2767\n",
        "ProblemID: 2806, Title: The Embarrassed Cryptographer, Link: http://acm.zju.edu.cn/onlinejudge/showProblem.do?problemCode=2806\n",
        "ProblemID: 2825, Title: Polygons on the Grid, Link: http://acm.zju.edu.cn/onlinejudge/showProblem.do?problemCode=2825\n",
        "ProblemID: 2894, Title: Arrange the Problem Set, Link: http://acm.zju.edu.cn/onlinejudge/showProblem.do?problemCode=2894\n",
        "ProblemID: 2949, Title: Coins of Luck, Link: http://acm.zju.edu.cn/onlinejudge/showProblem.do?problemCode=2949\n",
        "ProblemID: 2980, Title: Key Task, Link: http://acm.zju.edu.cn/onlinejudge/showProblem.do?problemCode=2980\n",
        "ProblemID: 3006, Title: Directory Tree, Link: http://acm.zju.edu.cn/onlinejudge/showProblem.do?problemCode=3006\n",
        "ProblemID: 3013, Title: Word Segmenting, Link: http://acm.zju.edu.cn/onlinejudge/showProblem.do?problemCode=3013\n",
        "ProblemID: 3055, Title: WW's game, Link: http://acm.zju.edu.cn/onlinejudge/showProblem.do?problemCode=3055\n",
        "ProblemID: 3071, Title: RSI, Link: http://acm.zju.edu.cn/onlinejudge/showProblem.do?problemCode=3071\n",
        "ProblemID: 3095, Title: Flight Safety, Link: http://acm.zju.edu.cn/onlinejudge/showProblem.do?problemCode=3095\n",
        "ProblemID: 3109, Title: Decode Message, Link: http://acm.zju.edu.cn/onlinejudge/showProblem.do?problemCode=3109\n",
        "ProblemID: 3463, Title: Piano, Link: http://acm.zju.edu.cn/onlinejudge/showProblem.do?problemCode=3463\n",
        "ProblemID: 3481, Title: Expand Tab, Link: http://acm.zju.edu.cn/onlinejudge/showProblem.do?problemCode=3481\n",
        "ProblemID: 3564, Title: Stock I, Link: http://acm.zju.edu.cn/onlinejudge/showProblem.do?problemCode=3564\n",
        "ProblemID: 3618, Title: Hash Function, Link: http://acm.zju.edu.cn/onlinejudge/showProblem.do?problemCode=3618\n",
        "ProblemID: 3651, Title: Cipher Lock, Link: http://acm.zju.edu.cn/onlinejudge/showProblem.do?problemCode=3651\n",
        "ProblemID: 3656, Title: Bit Magic, Link: http://acm.zju.edu.cn/onlinejudge/showProblem.do?problemCode=3656\n",
        "ProblemID: 3674, Title: Search in the Wiki, Link: http://acm.zju.edu.cn/onlinejudge/showProblem.do?problemCode=3674\n",
        "ProblemID: 3700, Title: Ever Dream, Link: http://acm.zju.edu.cn/onlinejudge/showProblem.do?problemCode=3700\n",
        "ProblemID: 3708, Title: Density of Power Network, Link: http://acm.zju.edu.cn/onlinejudge/showProblem.do?problemCode=3708\n",
        "ProblemID: 3797, Title: Sister's Noise, Link: http://acm.zju.edu.cn/onlinejudge/showProblem.do?problemCode=3797\n",
        "69 problems match your keyword\n",
        "\n",
        "Usage:\n",
        "[1] update the local database(need a long time)\n",
        "[2] search problems about Matrix\n",
        "[3] search generic problems\n"
       ]
      },
      {
       "name": "stdout",
       "output_type": "stream",
       "stream": "stdout",
       "text": [
        "3\n"
       ]
      },
      {
       "name": "stdout",
       "output_type": "stream",
       "stream": "stdout",
       "text": [
        "Please enter the keyword: math\n"
       ]
      },
      {
       "output_type": "stream",
       "stream": "stdout",
       "text": [
        "ProblemID: 1279, Title: Cowculations, Link: http://acm.zju.edu.cn/onlinejudge/showProblem.do?problemCode=1279\n",
        "ProblemID: 1418, Title: Lazy Math Instructor, Link: http://acm.zju.edu.cn/onlinejudge/showProblem.do?problemCode=1418\n",
        "ProblemID: 1431, Title: Does This Make Me Look Fat?, Link: http://acm.zju.edu.cn/onlinejudge/showProblem.do?problemCode=1431\n",
        "ProblemID: 1436, Title: Get Out 'Da Way!, Link: http://acm.zju.edu.cn/onlinejudge/showProblem.do?problemCode=1436\n",
        "ProblemID: 1589, Title: Professor John, Link: http://acm.zju.edu.cn/onlinejudge/showProblem.do?problemCode=1589\n",
        "ProblemID: 1690, Title: Equals are Equals, Link: http://acm.zju.edu.cn/onlinejudge/showProblem.do?problemCode=1690\n",
        "ProblemID: 1739, Title: Area of Polygons, Link: http://acm.zju.edu.cn/onlinejudge/showProblem.do?problemCode=1739\n",
        "ProblemID: 1860, Title: Dog & Gopher, Link: http://acm.zju.edu.cn/onlinejudge/showProblem.do?problemCode=1860\n",
        "ProblemID: 1976, Title: Paths on a Grid, Link: http://acm.zju.edu.cn/onlinejudge/showProblem.do?problemCode=1976\n",
        "ProblemID: 2116, Title: Christopher's Christmas Letter, Link: http://acm.zju.edu.cn/onlinejudge/showProblem.do?problemCode=2116\n",
        "ProblemID: 2175, Title: Ink Blots, Link: http://acm.zju.edu.cn/onlinejudge/showProblem.do?problemCode=2175\n",
        "ProblemID: 2191, Title: Series Determination, Link: http://acm.zju.edu.cn/onlinejudge/showProblem.do?problemCode=2191\n",
        "ProblemID: 2328, Title: Balanced Budget Initiative, Link: http://acm.zju.edu.cn/onlinejudge/showProblem.do?problemCode=2328\n",
        "ProblemID: 2415, Title: Ropes, Link: http://acm.zju.edu.cn/onlinejudge/showProblem.do?problemCode=2415\n",
        "ProblemID: 2516, Title: General Simple Partial Fraction Decomposition, Link: http://acm.zju.edu.cn/onlinejudge/showProblem.do?problemCode=2516\n",
        "ProblemID: 2517, Title: Painting Ellipses, Link: http://acm.zju.edu.cn/onlinejudge/showProblem.do?problemCode=2517\n",
        "ProblemID: 2518, Title: Wrapping Pillar, Link: http://acm.zju.edu.cn/onlinejudge/showProblem.do?problemCode=2518\n",
        "ProblemID: 2519, Title: Cutting a Cake, Link: http://acm.zju.edu.cn/onlinejudge/showProblem.do?problemCode=2519\n",
        "ProblemID: 2520, Title: Amicable Pairs, Link: http://acm.zju.edu.cn/onlinejudge/showProblem.do?problemCode=2520\n",
        "ProblemID: 2529, Title: A+B in Hogwarts, Link: http://acm.zju.edu.cn/onlinejudge/showProblem.do?problemCode=2529\n",
        "ProblemID: 2652, Title: Clever's Problem, Link: http://acm.zju.edu.cn/onlinejudge/showProblem.do?problemCode=2652\n",
        "ProblemID: 2682, Title: People like People, Link: http://acm.zju.edu.cn/onlinejudge/showProblem.do?problemCode=2682\n",
        "ProblemID: 2747, Title: Paint the Wall, Link: http://acm.zju.edu.cn/onlinejudge/showProblem.do?problemCode=2747\n",
        "ProblemID: 2855, Title: Google Map, Link: http://acm.zju.edu.cn/onlinejudge/showProblem.do?problemCode=2855\n",
        "ProblemID: 2929, Title: Penalty Kick, Link: http://acm.zju.edu.cn/onlinejudge/showProblem.do?problemCode=2929\n",
        "ProblemID: 3076, Title: Team Forming, Link: http://acm.zju.edu.cn/onlinejudge/showProblem.do?problemCode=3076\n",
        "ProblemID: 3224, Title: Mathematics, Link: http://acm.zju.edu.cn/onlinejudge/showProblem.do?problemCode=3224\n",
        "ProblemID: 3326, Title: An Awful Problem, Link: http://acm.zju.edu.cn/onlinejudge/showProblem.do?problemCode=3326\n",
        "ProblemID: 3356, Title: Football Gambling II, Link: http://acm.zju.edu.cn/onlinejudge/showProblem.do?problemCode=3356\n",
        "ProblemID: 3405, Title: Counting Factor Trees, Link: http://acm.zju.edu.cn/onlinejudge/showProblem.do?problemCode=3405\n",
        "ProblemID: 3458, Title: A Simple Math Problem, Link: http://acm.zju.edu.cn/onlinejudge/showProblem.do?problemCode=3458\n",
        "ProblemID: 3563, Title: Alice's Sequence II, Link: http://acm.zju.edu.cn/onlinejudge/showProblem.do?problemCode=3563\n",
        "ProblemID: 3638, Title: Fruit Ninja, Link: http://acm.zju.edu.cn/onlinejudge/showProblem.do?problemCode=3638\n",
        "ProblemID: 3654, Title: Letty's Math Class, Link: http://acm.zju.edu.cn/onlinejudge/showProblem.do?problemCode=3654\n",
        "ProblemID: 3662, Title: Math Magic, Link: http://acm.zju.edu.cn/onlinejudge/showProblem.do?problemCode=3662\n",
        "ProblemID: 3739, Title: Cut the Cake, Link: http://acm.zju.edu.cn/onlinejudge/showProblem.do?problemCode=3739\n",
        "36 problems match your keyword\n",
        "\n",
        "Usage:\n",
        "[1] update the local database(need a long time)\n",
        "[2] search problems about Matrix\n",
        "[3] search generic problems\n"
       ]
      },
      {
       "name": "stdout",
       "output_type": "stream",
       "stream": "stdout",
       "text": [
        "q\n"
       ]
      },
      {
       "output_type": "stream",
       "stream": "stdout",
       "text": [
        ">_< You typed something silly, byebye\n"
       ]
      }
     ],
     "prompt_number": "*"
    },
    {
     "cell_type": "code",
     "collapsed": false,
     "input": [],
     "language": "python",
     "metadata": {},
     "outputs": []
    }
   ],
   "metadata": {}
  }
 ]
}