{
 "metadata": {
  "name": ""
 },
 "nbformat": 3,
 "nbformat_minor": 0,
 "worksheets": [
  {
   "cells": [
    {
     "cell_type": "code",
     "collapsed": false,
     "input": [
      "#!/usr/bin/python3\n",
      "\n",
      "# -*- Mode: Python; coding: utf-8; indent-tabs-mode: t; c-basic-offset: 4; tab-width: 4 -*- \n",
      "#\n",
      "# pi.py\n",
      "# Copyleft 2014 Yuzo(PillowSky) <Yuzo@pillowsky.org>\n",
      "# Compatible with python3 and pypy\n",
      "import time\n",
      "\n",
      "sum = 0.0\n",
      "denominator = 1.0\n",
      "numerator = 1.0\n",
      "\n",
      "exponent = int(input('Please enter the exponent of the cycles (10^x) : '))\n",
      "cycles = 10**exponent\n",
      "#calc the print point\n",
      "points = [10**i for i in range(exponent+1)]\n",
      "\n",
      "startTimeStamp = time.time()\n",
      "\n",
      "#since python3, range behave like xrange in python2\n",
      "for i in range(cycles+1) :\n",
      "\tsum += numerator / denominator\n",
      "\tnumerator = -numerator\n",
      "\tdenominator += 2\n",
      "\tif(i in points) :\n",
      "\t\tprint(\"Calc 10^%s times, Pi = %s, Elapsed: %ss\" % (points.index(i), sum*4, time.time() - startTimeStamp))"
     ],
     "language": "python",
     "metadata": {},
     "outputs": [
      {
       "name": "stdout",
       "output_type": "stream",
       "stream": "stdout",
       "text": [
        "Please enter the exponent of the cycles (10^x) : 8\n"
       ]
      },
      {
       "output_type": "stream",
       "stream": "stdout",
       "text": [
        "Calc 10^0 times, Pi = 2.666666666666667, Elapsed: 0.00041961669921875s\n",
        "Calc 10^1 times, Pi = 3.232315809405594, Elapsed: 0.0004687309265136719s\n",
        "Calc 10^2 times, Pi = 3.1514934010709914, Elapsed: 0.0005521774291992188s\n",
        "Calc 10^3 times, Pi = 3.1425916543395442, Elapsed: 0.0013418197631835938s\n",
        "Calc 10^4 times, Pi = 3.1416926435905346, Elapsed: 0.010753870010375977s\n",
        "Calc 10^5 times, Pi = 3.1416026534897203, Elapsed: 0.05903172492980957s"
       ]
      },
      {
       "output_type": "stream",
       "stream": "stdout",
       "text": [
        "\n",
        "Calc 10^6 times, Pi = 3.1415936535887745, Elapsed: 0.5370028018951416s"
       ]
      },
      {
       "output_type": "stream",
       "stream": "stdout",
       "text": [
        "\n",
        "Calc 10^7 times, Pi = 3.1415927535897814, Elapsed: 5.322192192077637s"
       ]
      },
      {
       "output_type": "stream",
       "stream": "stdout",
       "text": [
        "\n",
        "Calc 10^8 times, Pi = 3.141592663589326, Elapsed: 54.227429151535034s"
       ]
      },
      {
       "output_type": "stream",
       "stream": "stdout",
       "text": [
        "\n"
       ]
      }
     ],
     "prompt_number": 2
    },
    {
     "cell_type": "code",
     "collapsed": false,
     "input": [],
     "language": "python",
     "metadata": {},
     "outputs": []
    }
   ],
   "metadata": {}
  }
 ]
}